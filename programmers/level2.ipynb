{
 "cells": [
  {
   "cell_type": "code",
   "execution_count": 1,
   "metadata": {},
   "outputs": [
    {
     "data": {
      "text/plain": [
       "[0, 0, 2, 2, 4]"
      ]
     },
     "execution_count": 1,
     "metadata": {},
     "output_type": "execute_result"
    }
   ],
   "source": [
    "def solution(heights):\n",
    "    answer = []\n",
    "\n",
    "    for i in range(len(heights)-1, -1, -1):\n",
    "        num = -1\n",
    "        for j in range(i-1, -1, -1):\n",
    "            if heights[j] > heights[i]:\n",
    "                num = j\n",
    "                answer.append(num+1)\n",
    "                break\n",
    "        if num == -1:\n",
    "            answer.append(num+1)\n",
    "    return list(reversed(answer))\n",
    "\n",
    "solution([6,9,5,7,4])"
   ]
  },
  {
   "cell_type": "code",
   "execution_count": 2,
   "metadata": {},
   "outputs": [
    {
     "data": {
      "text/plain": [
       "[4, 3, 1, 1, 0]"
      ]
     },
     "execution_count": 2,
     "metadata": {},
     "output_type": "execute_result"
    }
   ],
   "source": [
    "def solution(d):\n",
    "    answer = [0] * len(d)\n",
    "\n",
    "    for i in range(len(d)-1):\n",
    "        for j in range(i, len(d)-1):\n",
    "            if d[i] <= d[j]:\n",
    "                answer[i] += 1\n",
    "            else:\n",
    "                break\n",
    "    return answer\n",
    "\n",
    "solution([1, 2, 3, 2, 3])"
   ]
  },
  {
   "cell_type": "code",
   "execution_count": 3,
   "metadata": {},
   "outputs": [
    {
     "data": {
      "text/plain": [
       "False"
      ]
     },
     "execution_count": 3,
     "metadata": {},
     "output_type": "execute_result"
    }
   ],
   "source": [
    "def solution(a):\n",
    "    a.sort()\n",
    "    for i in range(len(a)-1):\n",
    "        for j in range(i+1, len(a)):\n",
    "            if a[i] in a[j] and a[j].index(a[i]) == 0:\n",
    "                return False\n",
    "    return True\n",
    "\n",
    "solution([\"119\", \"97674223\", \"1195524421\"])"
   ]
  },
  {
   "cell_type": "code",
   "execution_count": 21,
   "metadata": {},
   "outputs": [
    {
     "data": {
      "text/plain": [
       "2"
      ]
     },
     "execution_count": 21,
     "metadata": {},
     "output_type": "execute_result"
    }
   ],
   "source": [
    "def solution(skill, skill_trees):\n",
    "    answer = len(skill_trees)\n",
    "\n",
    "    for sk in skill_trees:\n",
    "        check = True\n",
    "        cnt = -1\n",
    "        for s in sk:\n",
    "            if s not in skill:\n",
    "                continue\n",
    "            if skill.index(s) == cnt + 1:\n",
    "                cnt += 1\n",
    "            else:\n",
    "                check = False\n",
    "                break\n",
    "        if check == False:\n",
    "            answer -= 1\n",
    "            \n",
    "    return answer\n",
    "\n",
    "solution(\"CBD\", [\"BACDE\", \"CBADF\", \"AECB\", \"BDA\"])"
   ]
  },
  {
   "cell_type": "code",
   "execution_count": 2,
   "metadata": {},
   "outputs": [
    {
     "data": {
      "text/plain": [
       "[2, 1]"
      ]
     },
     "execution_count": 2,
     "metadata": {},
     "output_type": "execute_result"
    }
   ],
   "source": [
    "# 기능 개발\n",
    "def solution(progresses, speeds):\n",
    "    baepo = [0] * len(speeds)\n",
    "\n",
    "    for i in range(len(baepo)):\n",
    "        k = 0\n",
    "        while True:\n",
    "            if k >= (100 - progresses[i]) / speeds[i]:\n",
    "                baepo[i] = k\n",
    "                break\n",
    "            k += 1\n",
    "    \n",
    "    i = 0\n",
    "    answer = []\n",
    "    while True:\n",
    "        if i >= len(speeds):\n",
    "            break\n",
    "        start = baepo[i]\n",
    "        cnt = 0\n",
    "        for k in range(i, len(baepo)):\n",
    "            if baepo[k] <= start:\n",
    "                cnt += 1\n",
    "                i += 1\n",
    "            else:\n",
    "                break\n",
    "        answer.append(cnt)\n",
    "        \n",
    "    return answer\n",
    "\n",
    "solution([93,30,55], [1,30,5])"
   ]
  },
  {
   "cell_type": "code",
   "execution_count": 3,
   "metadata": {},
   "outputs": [
    {
     "data": {
      "text/plain": [
       "5"
      ]
     },
     "execution_count": 3,
     "metadata": {},
     "output_type": "execute_result"
    }
   ],
   "source": [
    "# 프린터\n",
    "\n",
    "def solution(prior, loc):\n",
    "    maxi = max(prior)\n",
    "    idx = loc\n",
    "    cnt = 1\n",
    "    answer = 0\n",
    "    \n",
    "    while True:\n",
    "        if prior[0] == maxi and idx == 0:\n",
    "            answer = cnt\n",
    "            break\n",
    "\n",
    "        elif prior[0] == maxi and idx != 0:\n",
    "            prior.pop(0)\n",
    "            maxi = max(prior)\n",
    "            idx -= 1\n",
    "            cnt += 1\n",
    "\n",
    "        elif prior[0] != maxi and idx == 0:\n",
    "            prior.append(prior.pop(0))\n",
    "            idx = len(prior)-1\n",
    "\n",
    "        elif prior[0] != max and idx != 0:\n",
    "            prior.append(prior.pop(0))\n",
    "            idx -= 1\n",
    "    \n",
    "    return answer\n",
    "\n",
    "solution([1, 1, 9, 1, 1, 1], 0)"
   ]
  },
  {
   "cell_type": "code",
   "execution_count": 4,
   "metadata": {},
   "outputs": [
    {
     "data": {
      "text/plain": [
       "17"
      ]
     },
     "execution_count": 4,
     "metadata": {},
     "output_type": "execute_result"
    }
   ],
   "source": [
    "def solution(arrange):\n",
    "    stack = []\n",
    "    ans = 0\n",
    "    i = 0\n",
    "    while i < len(arrange):\n",
    "        if arrange[i] == '(' and arrange[i+1] == ')':\n",
    "            ans += len(stack)\n",
    "            i += 2\n",
    "        elif arrange[i] == '(' and arrange[i+1] != ')':\n",
    "            stack.append(arrange[i])\n",
    "            i += 1\n",
    "        elif arrange[i] == ')':\n",
    "            ans += 1\n",
    "            stack.pop()\n",
    "            i += 1\n",
    "    \n",
    "    return ans\n",
    "\n",
    "solution(\"()(((()())(())()))(())\")"
   ]
  },
  {
   "cell_type": "code",
   "execution_count": 3,
   "metadata": {},
   "outputs": [
    {
     "data": {
      "text/plain": [
       "'9534330'"
      ]
     },
     "execution_count": 3,
     "metadata": {},
     "output_type": "execute_result"
    }
   ],
   "source": [
    "# 가장 큰 수\n",
    "\n",
    "def solution(a):\n",
    "    a = [str(i) for i in a]\n",
    "    a.sort(key = lambda x : x * 4, reverse=True)\n",
    "    answer = str(int(''.join(a)))\n",
    "    \n",
    "    return answer\n",
    "\n",
    "a = [30, 34, 3, 9, 5]\n",
    "\n",
    "solution(a)"
   ]
  },
  {
   "cell_type": "code",
   "execution_count": 4,
   "metadata": {},
   "outputs": [
    {
     "data": {
      "text/plain": [
       "8"
      ]
     },
     "execution_count": 4,
     "metadata": {},
     "output_type": "execute_result"
    }
   ],
   "source": [
    "# 다리를 지나는 트럭\n",
    "def solution(bl, w, tw):\n",
    "    stack = []\n",
    "    road = []\n",
    "    cnt = 0\n",
    "    length = len(tw)\n",
    "    time = 0\n",
    "\n",
    "    while cnt < length:\n",
    "        time += 1\n",
    "\n",
    "        for i in range(len(road)):\n",
    "            road[i] += 1\n",
    "\n",
    "        if len(road) != 0 and road[0] == bl:\n",
    "            road.pop(0)\n",
    "            stack.pop(0)\n",
    "            cnt += 1\n",
    "\n",
    "        if len(tw) != 0 and sum(stack) + tw[0] <= w:\n",
    "            stack.append(tw.pop(0))\n",
    "            road.append(0)\n",
    "\n",
    "    return time\n",
    "\n",
    "solution(2, 10, [7, 4, 5, 6])"
   ]
  },
  {
   "cell_type": "code",
   "execution_count": 1,
   "metadata": {},
   "outputs": [
    {
     "data": {
      "text/plain": [
       "'41'"
      ]
     },
     "execution_count": 1,
     "metadata": {},
     "output_type": "execute_result"
    }
   ],
   "source": [
    "# 124 나라의 숫자\n",
    "\n",
    "def solution(num):\n",
    "    nlist = ['4', '1', '2']\n",
    "    astr = ''\n",
    "\n",
    "    while num != 0:\n",
    "        namo = num % 3\n",
    "        astr += nlist[namo]\n",
    "        num //= 3\n",
    "        \n",
    "        if namo == 0:\n",
    "            num -= 1\n",
    "        \n",
    "    return ''.join(reversed(list(astr)))\n",
    "\n",
    "solution(10)"
   ]
  },
  {
   "cell_type": "code",
   "execution_count": 11,
   "metadata": {},
   "outputs": [
    {
     "data": {
      "text/plain": [
       "5"
      ]
     },
     "execution_count": 11,
     "metadata": {},
     "output_type": "execute_result"
    }
   ],
   "source": [
    "# 위장\n",
    "\n",
    "def solution(clothes):\n",
    "    bdict = {}\n",
    "    for name, gear in clothes:\n",
    "        if gear not in bdict:\n",
    "            bdict[gear] = 1\n",
    "        else:\n",
    "            bdict[gear] += 1\n",
    "\n",
    "        answer = 1\n",
    "\n",
    "        for num in list(bdict.values()):\n",
    "            answer *= (num+1)\n",
    "        \n",
    "    return answer-1\n",
    "\n",
    "clothes = [[\"yellow_hat\", \"headgear\"], [\"blue_sunglasses\", \"eyewear\"], [\"green_turban\", \"headgear\"]]\n",
    "solution(clothes)"
   ]
  },
  {
   "cell_type": "code",
   "execution_count": 50,
   "metadata": {},
   "outputs": [
    {
     "data": {
      "text/plain": [
       "3"
      ]
     },
     "execution_count": 50,
     "metadata": {},
     "output_type": "execute_result"
    }
   ],
   "source": [
    "# h-index\n",
    "\n",
    "def solution(c):\n",
    "    c.sort()\n",
    "    for num in range(len(c)):\n",
    "        if c[num] >= len(c) - num:\n",
    "            return len(c) - num\n",
    "        \n",
    "    return 0\n",
    "\n",
    "solution([3,1, 0, 5, 6])"
   ]
  },
  {
   "cell_type": "code",
   "execution_count": 7,
   "metadata": {},
   "outputs": [
    {
     "name": "stdout",
     "output_type": "stream",
     "text": [
      "1 4 ['4', '1']\n",
      "7 2 ['7']\n",
      "7 2 ['7', '7']\n",
      "2 2 ['7', '7', '2']\n",
      "5 1 ['7', '7', '5']\n",
      "2 1 ['7', '7', '5', '2']\n",
      "8 0 ['7', '7', '5', '8']\n",
      "4 0 ['7', '7', '5', '8', '4']\n",
      "1 0 ['7', '7', '5', '8', '4', '1']\n"
     ]
    },
    {
     "data": {
      "text/plain": [
       "'775841'"
      ]
     },
     "execution_count": 7,
     "metadata": {},
     "output_type": "execute_result"
    }
   ],
   "source": [
    "# 큰 수 만들기\n",
    "\n",
    "def solution(number, k):\n",
    "    alist = [number[0]]\n",
    "    \n",
    "    for num in number[1:]:\n",
    "        while len(alist) > 0 and alist[-1] < num and k > 0: \n",
    "            k -= 1\n",
    "            alist.pop()\n",
    "        alist.append(num) \n",
    "        \n",
    "    if k != 0: \n",
    "        alist = alist[:-k]\n",
    "    return ''.join(alist)\n",
    "\n",
    "\n",
    "number = '4177252841'\n",
    "k = 4\n",
    "\n",
    "solution(number, 4)"
   ]
  },
  {
   "cell_type": "code",
   "execution_count": 1,
   "metadata": {},
   "outputs": [
    {
     "data": {
      "text/plain": [
       "2"
      ]
     },
     "execution_count": 1,
     "metadata": {},
     "output_type": "execute_result"
    }
   ],
   "source": [
    "import heapq\n",
    "\n",
    "def solution(sc, k):\n",
    "    heapq.heapify(sc)\n",
    "    cnt = 0\n",
    "    \n",
    "    while sc:\n",
    "        if sc[0] >= k:\n",
    "            return cnt\n",
    "        \n",
    "        num1 = heapq.heappop(sc)\n",
    "        if sc:\n",
    "            num2 = heapq.heappop(sc)\n",
    "            heapq.heappush(sc, num1 + 2 * num2)\n",
    "        cnt += 1\n",
    "        \n",
    "    return -1\n",
    "\n",
    "solution([3, 1, 4, 6, 8, 11], 5)"
   ]
  },
  {
   "cell_type": "code",
   "execution_count": 1,
   "metadata": {},
   "outputs": [
    {
     "data": {
      "text/plain": [
       "3"
      ]
     },
     "execution_count": 1,
     "metadata": {},
     "output_type": "execute_result"
    }
   ],
   "source": [
    "# 소수 찾기\n",
    "from itertools import permutations\n",
    "\n",
    "def isPrime(number):\n",
    "    if number < 2:\n",
    "        return 0\n",
    "    for i in range(2, int(number ** 0.5)+1):\n",
    "        if number % i == 0:\n",
    "            return 0\n",
    "    return 1\n",
    "\n",
    "def solution(numbers):\n",
    "    \n",
    "    cnt = 0\n",
    "    nlist = []\n",
    "    \n",
    "    for i in range(1, len(numbers)+1):\n",
    "        for perm in permutations(numbers, i):\n",
    "            num = int(''.join(perm))\n",
    "            if num not in nlist:\n",
    "                nlist.append(num)\n",
    "                cnt += isPrime(num)\n",
    "    return cnt\n",
    "\n",
    "solution('17')"
   ]
  },
  {
   "cell_type": "code",
   "execution_count": null,
   "metadata": {},
   "outputs": [],
   "source": []
  }
 ],
 "metadata": {
  "kernelspec": {
   "display_name": "Python 3",
   "language": "python",
   "name": "python3"
  },
  "language_info": {
   "codemirror_mode": {
    "name": "ipython",
    "version": 3
   },
   "file_extension": ".py",
   "mimetype": "text/x-python",
   "name": "python",
   "nbconvert_exporter": "python",
   "pygments_lexer": "ipython3",
   "version": "3.7.6"
  }
 },
 "nbformat": 4,
 "nbformat_minor": 4
}
