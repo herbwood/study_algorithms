{
 "cells": [
  {
   "cell_type": "code",
   "execution_count": 5,
   "metadata": {},
   "outputs": [
    {
     "name": "stdout",
     "output_type": "stream",
     "text": [
      "4\n"
     ]
    }
   ],
   "source": [
    "def solution(board, moves):\n",
    "    stack = []\n",
    "    ans = 0\n",
    "\n",
    "    while moves:\n",
    "        num = 0\n",
    "        x = moves.pop(0) - 1\n",
    "        for y in range(len(board)):\n",
    "            if board[y][x] != 0:\n",
    "                num = board[y][x]\n",
    "                board[y][x] = 0\n",
    "                break\n",
    "        if num != 0:\n",
    "            if len(stack) == 0 or stack[-1] != num:\n",
    "                stack.append(num)\n",
    "            elif stack[-1] == num:\n",
    "                ans += 2\n",
    "                stack.pop()\n",
    "        \n",
    "    return ans\n",
    "\n",
    "a = [[0,0,0,0,0],[0,0,1,0,3],[0,2,5,0,1],[4,2,4,4,2],[3,5,1,3,1]]\n",
    "moves = [1,5,3,5,1,2,1,4]\n",
    "print(solution(a, moves))"
   ]
  },
  {
   "cell_type": "code",
   "execution_count": 4,
   "metadata": {},
   "outputs": [
    {
     "name": "stdout",
     "output_type": "stream",
     "text": [
      "vinko\n"
     ]
    }
   ],
   "source": [
    "# def solution(participant, completion):\n",
    "#     bdict = {}\n",
    "#     for i in range(len(participant)):\n",
    "#         if participant[i] in bdict:\n",
    "#             bdict[participant[i]] += 1\n",
    "#         else:\n",
    "#             bdict[participant[i]] = 1\n",
    "    \n",
    "#     for i in range(len(completion)):\n",
    "#         bdict[completion[i]] -= 1\n",
    "    \n",
    "#     for i in range(len(participant)):\n",
    "#         if bdict[participant[i]] != 0:\n",
    "#             answer = participant[i]\n",
    "    \n",
    "#     return answer\n",
    "\n",
    "# participant = [\"marina\", \"josipa\", \"nikola\", \"vinko\", \"filipa\"]\n",
    "# completion = [\"josipa\", \"filipa\", \"marina\", \"nikola\"]\n",
    "\n",
    "# print(solution(participant, completion))\n",
    "\n",
    "import collections\n",
    "\n",
    "participant = [\"marina\", \"josipa\", \"nikola\", \"vinko\", \"filipa\"]\n",
    "completion = [\"josipa\", \"filipa\", \"marina\", \"nikola\"]\n",
    "\n",
    "\n",
    "def solution(participant, completion):\n",
    "    answer = collections.Counter(participant) - collections.Counter(completion)\n",
    "    return list(answer.keys())[0]\n",
    "\n",
    "print(solution(participant, completion))"
   ]
  },
  {
   "cell_type": "code",
   "execution_count": 6,
   "metadata": {},
   "outputs": [
    {
     "name": "stdout",
     "output_type": "stream",
     "text": [
      "[5, 6, 3]\n"
     ]
    }
   ],
   "source": [
    "def solution(array, commands):\n",
    "    answer = []\n",
    "    for cl in commands:\n",
    "        ans = sorted(array[cl[0]-1 : cl[1]])\n",
    "        answer.append(ans[cl[2]-1])\n",
    "    \n",
    "    return answer\n",
    "\n",
    "array = [1, 5, 2, 6, 3, 7, 4]\n",
    "commands = [[2, 5, 3], [4, 4, 1], [1, 7, 3]]\n",
    "print(solution(array, commands))"
   ]
  },
  {
   "cell_type": "code",
   "execution_count": 7,
   "metadata": {},
   "outputs": [
    {
     "name": "stdout",
     "output_type": "stream",
     "text": [
      "TUE\n"
     ]
    }
   ],
   "source": [
    "def solution(a, b):\n",
    "    month = [i for i in range(1, 13)]\n",
    "    day = [31, 29, 31, 30, 31, 30, 31, 31, 30, 31, 30, 31]\n",
    "    date = [\"FRI\", \"SAT\", \"SUN\", \"MON\", \"TUE\", \"WED\", \"THU\"]\n",
    "    \n",
    "    days = sum(day[0:a-1]) + b\n",
    "    ans = date[days%7 - 1]\n",
    "    return ans\n",
    "\n",
    "print(solution(5, 24))"
   ]
  },
  {
   "cell_type": "code",
   "execution_count": 8,
   "metadata": {},
   "outputs": [
    {
     "name": "stdout",
     "output_type": "stream",
     "text": [
      "bc\n"
     ]
    }
   ],
   "source": [
    "def solution(s):\n",
    "    if len(s) % 2 != 0:\n",
    "        answer = s[int(len(s)//2)]\n",
    "    else:\n",
    "        answer = s[int(len(s)//2-1):int(len(s)//2+1)]\n",
    "    return answer\n",
    "\n",
    "print(solution('abcd'))"
   ]
  },
  {
   "cell_type": "code",
   "execution_count": 9,
   "metadata": {},
   "outputs": [
    {
     "name": "stdout",
     "output_type": "stream",
     "text": [
      "[4, 3]\n"
     ]
    }
   ],
   "source": [
    "def solution(arr):\n",
    "    ans = []\n",
    "    for i in range(len(arr)):\n",
    "        if len(ans) == 0 or ans[-1] != arr[i]:\n",
    "            ans.append(arr[i])\n",
    "            \n",
    "    return ans\n",
    "\n",
    "print(solution([4, 4, 4, 3, 3]))"
   ]
  },
  {
   "cell_type": "code",
   "execution_count": 11,
   "metadata": {},
   "outputs": [
    {
     "data": {
      "text/plain": [
       "[2, 3, 6]"
      ]
     },
     "execution_count": 11,
     "metadata": {},
     "output_type": "execute_result"
    }
   ],
   "source": [
    "arr = [3,2,6]\n",
    "divisor = 1\n",
    "\n",
    "def solution(arr, divisor):\n",
    "    ans = []\n",
    "    for i in range(len(arr)):\n",
    "        if arr[i] >= divisor and arr[i] % divisor == 0:\n",
    "            ans.append(arr[i])\n",
    "    ans.sort()\n",
    "    if len(ans) == 0: \n",
    "        return [-1]\n",
    "    else: \n",
    "        return ans\n",
    "    \n",
    "print(solution(arr, divisor))"
   ]
  },
  {
   "cell_type": "code",
   "execution_count": 12,
   "metadata": {},
   "outputs": [
    {
     "name": "stdout",
     "output_type": "stream",
     "text": [
      "12\n"
     ]
    }
   ],
   "source": [
    "def solution(a, b):\n",
    "    b,a = max(a, b), min(a, b)\n",
    "    answer = 0\n",
    "    for i in range(a, b+1):\n",
    "        answer += i\n",
    "    \n",
    "    return answer\n",
    "\n",
    "print(solution(5, 3))"
   ]
  },
  {
   "cell_type": "code",
   "execution_count": 13,
   "metadata": {},
   "outputs": [
    {
     "name": "stdout",
     "output_type": "stream",
     "text": [
      "True\n"
     ]
    }
   ],
   "source": [
    "def solution(s):\n",
    "    answer = True\n",
    "    s = s.lower()\n",
    "    pcnt = s.count('p')\n",
    "    ycnt = s.count('y')\n",
    "    \n",
    "    if pcnt != ycnt:\n",
    "        answer = False\n",
    "\n",
    "    return answer\n",
    "\n",
    "print(solution('ASdseppYDEWQYDSE'))"
   ]
  },
  {
   "cell_type": "code",
   "execution_count": 14,
   "metadata": {},
   "outputs": [
    {
     "data": {
      "text/plain": [
       "False"
      ]
     },
     "execution_count": 14,
     "metadata": {},
     "output_type": "execute_result"
    }
   ],
   "source": [
    "# def alpha_string46(s):\n",
    "#     return s.isdigit() and len(s) in (4, 6)\n",
    "\n",
    "\n",
    "# print( alpha_string46(\"a234\") )\n",
    "# print( alpha_string46(\"1234\") )\n",
    "\n",
    "def solution(s):\n",
    "    answer = False\n",
    "    \n",
    "    if len(s) == 4 or len(s) == 6:\n",
    "        if s.isdigit() == True:\n",
    "            answer = True\n",
    "    return answer\n",
    "\n",
    "solution('a1234')"
   ]
  },
  {
   "cell_type": "code",
   "execution_count": 16,
   "metadata": {},
   "outputs": [
    {
     "name": "stdout",
     "output_type": "stream",
     "text": [
      "김서방은 1에 있다\n"
     ]
    }
   ],
   "source": [
    "def findKim(seoul):\n",
    "    return \"김서방은 {}에 있다\".format(seoul.index('Kim'))\n",
    "\n",
    "# def solution(seoul):\n",
    "#     for i in range(len(seoul)):\n",
    "#         if seoul[i] == 'Kim':\n",
    "#             answer = i\n",
    "#     return \"김서방은 \" + str(answer) + \"에 있다\"\n",
    "\n",
    "seoul = [\"Jane\", \"Kim\"]\n",
    "print(findKim(seoul))"
   ]
  },
  {
   "cell_type": "code",
   "execution_count": 18,
   "metadata": {},
   "outputs": [
    {
     "name": "stdout",
     "output_type": "stream",
     "text": [
      "수박수\n"
     ]
    }
   ],
   "source": [
    "def solution(n):\n",
    "    ans = ['수', '박']\n",
    "    answer = ''\n",
    "    \n",
    "    for i in range(n):\n",
    "        answer +=  ans[i%2]\n",
    "    return answer\n",
    "\n",
    "print(solution(3))"
   ]
  },
  {
   "cell_type": "code",
   "execution_count": 17,
   "metadata": {},
   "outputs": [
    {
     "data": {
      "text/plain": [
       "-1234"
      ]
     },
     "execution_count": 17,
     "metadata": {},
     "output_type": "execute_result"
    }
   ],
   "source": [
    "def solution(s):\n",
    "    answer = int(s)\n",
    "    return answer\n",
    "\n",
    "print(solution('-1234'))"
   ]
  },
  {
   "cell_type": "code",
   "execution_count": 20,
   "metadata": {},
   "outputs": [
    {
     "name": "stdout",
     "output_type": "stream",
     "text": [
      "28\n"
     ]
    }
   ],
   "source": [
    "def solution(n):\n",
    "    answer = 0\n",
    "    for i in range(1, n+1):\n",
    "        if n % i == 0:\n",
    "            answer += i\n",
    "    return answer\n",
    "\n",
    "print(solution(12))"
   ]
  },
  {
   "cell_type": "code",
   "execution_count": 1,
   "metadata": {},
   "outputs": [
    {
     "name": "stdout",
     "output_type": "stream",
     "text": [
      "[1]\n"
     ]
    }
   ],
   "source": [
    "def solution(answers):\n",
    "    n = len(answers)\n",
    "    ans1 = ([i for i in range(1, 6)] * n)[:n] \n",
    "    ans2 = ([2,1,2,3,2,4,2,5] * n)[:n]\n",
    "    ans3 = ([3,3,1,1,2,2,4,4,5,5] * n)[:n] \n",
    "    \n",
    "    cnt1, cnt2, cnt3 = 0, 0, 0\n",
    "    \n",
    "    for i in range(len(answers)):\n",
    "        if answers[i] == ans1[i]:\n",
    "            cnt1 += 1\n",
    "        if answers[i] == ans2[i]:\n",
    "            cnt2 += 1\n",
    "        if answers[i] == ans3[i]:\n",
    "            cnt3 += 1\n",
    "    \n",
    "    maxi = max(cnt1, cnt2, cnt3)\n",
    "    \n",
    "    if cnt1 == maxi and cnt1 == cnt2 and cnt1 == cnt3:\n",
    "        return [1, 2, 3]\n",
    "    elif cnt1 == maxi and cnt1 == cnt2:\n",
    "        return [1, 2]\n",
    "    elif cnt1 == maxi and cnt1 == cnt3:\n",
    "        return [1, 3]\n",
    "    elif cnt1 == maxi:\n",
    "        return [1]\n",
    "    elif cnt2 == maxi and cnt2 == cnt3:\n",
    "        return [2, 3]\n",
    "    elif cnt2 == maxi:\n",
    "        return [2]\n",
    "    elif cnt3 == maxi and cnt3 == cnt1:\n",
    "        return [1, 3]\n",
    "    else:\n",
    "        return [3]\n",
    "\n",
    "print(solution([1, 3, 5, 2, 3, 4, 2, 3]))"
   ]
  },
  {
   "cell_type": "code",
   "execution_count": 2,
   "metadata": {},
   "outputs": [
    {
     "data": {
      "text/plain": [
       "'zztshffeeddaEDBA'"
      ]
     },
     "execution_count": 2,
     "metadata": {},
     "output_type": "execute_result"
    }
   ],
   "source": [
    "# def solution(s):\n",
    "#     ul, ll = [], []\n",
    "\n",
    "#     for st in s:\n",
    "#         if st.isupper():\n",
    "#             ul.append(st)\n",
    "#         else:\n",
    "#             ll.append(st)\n",
    "#     ul.sort(reverse=True)\n",
    "#     ll.sort(reverse=True)\n",
    "#     ans = ''.join(ll) + ''.join(ul)\n",
    "\n",
    "def solution(s):\n",
    "    return ''.join(sorted(s, reverse=True))\n",
    "\n",
    "solution('adsfEDBAdfezzeth')"
   ]
  },
  {
   "cell_type": "code",
   "execution_count": 10,
   "metadata": {},
   "outputs": [
    {
     "data": {
      "text/plain": [
       "3"
      ]
     },
     "execution_count": 10,
     "metadata": {},
     "output_type": "execute_result"
    }
   ],
   "source": [
    "def solution(n):\n",
    "    sieve = [True] * (n+1)\n",
    "    sieve[0] = False\n",
    "    sieve[1] = False\n",
    "    for i in range(2, n+1):\n",
    "        for j in range(i * i, n+1, i):\n",
    "            sieve[j] = False\n",
    "\n",
    "    return sieve.count(True)\n",
    "\n",
    "solution(5)"
   ]
  },
  {
   "cell_type": "code",
   "execution_count": 12,
   "metadata": {},
   "outputs": [
    {
     "name": "stdout",
     "output_type": "stream",
     "text": [
      "e F d\n"
     ]
    }
   ],
   "source": [
    "def solution(s, n):\n",
    "    ans = ''\n",
    "    s = list(s)\n",
    "    for i in range(len(s)):\n",
    "        if s[i] == ' ':\n",
    "            continue\n",
    "\n",
    "        if s[i].islower() and ord(s[i]) + n > 122:\n",
    "            s[i] = chr(ord('a')-1 + (ord(s[i])+n-122))\n",
    "\n",
    "        elif s[i].isupper() and ord(s[i]) + n > 90:\n",
    "            s[i] = chr(ord('A')-1 + (ord(s[i])+n-90))\n",
    "\n",
    "        else:\n",
    "            s[i] = chr(ord(s[i])+n)\n",
    "\n",
    "    return ''.join(s)\n",
    "\n",
    "print(solution('a B z', 4))"
   ]
  },
  {
   "cell_type": "code",
   "execution_count": 13,
   "metadata": {},
   "outputs": [
    {
     "data": {
      "text/plain": [
       "'Odd'"
      ]
     },
     "execution_count": 13,
     "metadata": {},
     "output_type": "execute_result"
    }
   ],
   "source": [
    "def solution(num):\n",
    "    return \"Odd\" if num % 2 != 0 else \"Even\"\n",
    "\n",
    "print(solution(3))"
   ]
  },
  {
   "cell_type": "code",
   "execution_count": 14,
   "metadata": {},
   "outputs": [
    {
     "data": {
      "text/plain": [
       "2.5"
      ]
     },
     "execution_count": 14,
     "metadata": {},
     "output_type": "execute_result"
    }
   ],
   "source": [
    "def solution(arr):\n",
    "    hap = sum(arr)\n",
    "    answer = hap / len(arr)\n",
    "    return answer\n",
    "\n",
    "solution([1,2,3,4])"
   ]
  },
  {
   "cell_type": "code",
   "execution_count": 15,
   "metadata": {},
   "outputs": [
    {
     "data": {
      "text/plain": [
       "'*******3413'"
      ]
     },
     "execution_count": 15,
     "metadata": {},
     "output_type": "execute_result"
    }
   ],
   "source": [
    "def solution(phone_number):\n",
    "    answer = '*' * (len(phone_number)-4) + phone_number[len(phone_number)-4:]\n",
    "    return answer\n",
    "\n",
    "solution(\"01038333413\")"
   ]
  },
  {
   "cell_type": "code",
   "execution_count": 16,
   "metadata": {},
   "outputs": [
    {
     "data": {
      "text/plain": [
       "True"
      ]
     },
     "execution_count": 16,
     "metadata": {},
     "output_type": "execute_result"
    }
   ],
   "source": [
    "def solution(x):\n",
    "    a = [int(i) for i in str(x)]\n",
    "    hap = sum(a)\n",
    "\n",
    "    if x % hap == 0:\n",
    "        return True\n",
    "    return False\n",
    "\n",
    "solution(18)"
   ]
  },
  {
   "cell_type": "code",
   "execution_count": 1,
   "metadata": {},
   "outputs": [
    {
     "data": {
      "text/plain": [
       "['abcd', 'abce', 'cdx']"
      ]
     },
     "execution_count": 1,
     "metadata": {},
     "output_type": "execute_result"
    }
   ],
   "source": [
    "def solution(strings, n):\n",
    "    answer = sorted(strings, key = lambda x : tuple([x[n]] + [x[i] for i in range(0, len(x))]))\n",
    "    return answer\n",
    "\n",
    "solution([\"cdx\", \"abce\", \"abcd\"], 2)"
   ]
  },
  {
   "cell_type": "code",
   "execution_count": 29,
   "metadata": {},
   "outputs": [
    {
     "data": {
      "text/plain": [
       "2"
      ]
     },
     "execution_count": 29,
     "metadata": {},
     "output_type": "execute_result"
    }
   ],
   "source": [
    "def solution(n, lost, reserve):\n",
    "    \n",
    "    set_reserve = list(set(reserve) - set(lost))\n",
    "    set_lost = list(set(lost) - set(reserve))\n",
    "    \n",
    "    \n",
    "    for i in set_reserve:\n",
    "        if i-1 in set_lost:\n",
    "            set_lost.remove(i-1)\n",
    "            \n",
    "        elif i+1 in set_lost:\n",
    "            set_lost.remove(i+1)\n",
    "            \n",
    "    return n - len(set_lost)\n",
    "\n",
    "solution(3, [3], [1])"
   ]
  },
  {
   "cell_type": "code",
   "execution_count": null,
   "metadata": {},
   "outputs": [],
   "source": []
  }
 ],
 "metadata": {
  "kernelspec": {
   "display_name": "Python 3",
   "language": "python",
   "name": "python3"
  },
  "language_info": {
   "codemirror_mode": {
    "name": "ipython",
    "version": 3
   },
   "file_extension": ".py",
   "mimetype": "text/x-python",
   "name": "python",
   "nbconvert_exporter": "python",
   "pygments_lexer": "ipython3",
   "version": "3.7.6"
  }
 },
 "nbformat": 4,
 "nbformat_minor": 4
}
