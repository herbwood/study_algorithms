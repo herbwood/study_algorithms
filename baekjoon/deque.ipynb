{
 "cells": [
  {
   "cell_type": "code",
   "execution_count": 7,
   "metadata": {},
   "outputs": [
    {
     "name": "stdout",
     "output_type": "stream",
     "text": [
      "15\n",
      "push_back 1\n",
      "push_front 2\n",
      "front\n",
      "2\n",
      "back\n",
      "1\n",
      "size\n",
      "2\n",
      "empty\n",
      "0\n",
      "pop_front\n",
      "2\n",
      "pop_back\n",
      "1\n",
      "pop_front\n",
      "-1\n",
      "size\n",
      "0\n",
      "empty\n",
      "1\n",
      "pop_back\n",
      "-1\n",
      "push_front 3\n",
      "empty\n",
      "0\n",
      "front\n",
      "3\n"
     ]
    }
   ],
   "source": [
    "# 10866\n",
    "from collections import deque\n",
    "\n",
    "def deq(n):\n",
    "    deq = deque()\n",
    "    for i in range(n):\n",
    "        cd = input()\n",
    "        if 'push_front' in cd:\n",
    "            cd, num = cd.split()\n",
    "            deq.appendleft(num)\n",
    "        elif 'push_back' in cd:\n",
    "            cd, num = cd.split()\n",
    "            deq.append(num)\n",
    "        elif cd == 'pop_front':\n",
    "            if len(deq) == 0:\n",
    "                print(-1)\n",
    "            else:\n",
    "                print(deq.popleft())\n",
    "        elif cd == 'pop_back':\n",
    "            if len(deq) == 0:\n",
    "                print(-1)\n",
    "            else:\n",
    "                print(deq.pop())\n",
    "        elif cd == 'size':\n",
    "            print(len(deq))\n",
    "        elif cd == 'empty':\n",
    "            if len(deq) == 0:\n",
    "                print(1)\n",
    "            else:\n",
    "                print(0)\n",
    "        elif cd == 'front':\n",
    "            if len(deq) == 0:\n",
    "                print(-1)\n",
    "            else:\n",
    "                print(deq[0])\n",
    "        elif cd == 'back':\n",
    "            if len(deq) == 0:\n",
    "                print(-1)\n",
    "            else:\n",
    "                print(deq[-1])\n",
    "\n",
    "n = int(input())\n",
    "deq(n)"
   ]
  },
  {
   "cell_type": "code",
   "execution_count": null,
   "metadata": {},
   "outputs": [],
   "source": []
  }
 ],
 "metadata": {
  "kernelspec": {
   "display_name": "Python 3",
   "language": "python",
   "name": "python3"
  },
  "language_info": {
   "codemirror_mode": {
    "name": "ipython",
    "version": 3
   },
   "file_extension": ".py",
   "mimetype": "text/x-python",
   "name": "python",
   "nbconvert_exporter": "python",
   "pygments_lexer": "ipython3",
   "version": "3.6.5"
  }
 },
 "nbformat": 4,
 "nbformat_minor": 2
}
