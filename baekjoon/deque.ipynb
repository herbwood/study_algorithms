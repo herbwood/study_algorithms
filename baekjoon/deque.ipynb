{
 "cells": [
  {
   "cell_type": "code",
   "execution_count": 35,
   "metadata": {},
   "outputs": [
    {
     "name": "stdin",
     "output_type": "stream",
     "text": [
      " 7 3\n"
     ]
    },
    {
     "name": "stdout",
     "output_type": "stream",
     "text": [
      "<3, 6, 2, 7, 5, 1, 4>"
     ]
    }
   ],
   "source": [
    "# 11866\n",
    "\n",
    "n, k = map(int, input().split())\n",
    "\n",
    "stack = [i for i in range(1, n+1)]\n",
    "\n",
    "print('<', end = '')\n",
    "\n",
    "for i in range(n):\n",
    "    for j in range(k-1):\n",
    "        stack.append(stack.pop(0))\n",
    "    \n",
    "    if i == n-1:\n",
    "        end = '>'\n",
    "    else:\n",
    "        end = ', '\n",
    "        \n",
    "    print(stack.pop(0), end=end)"
   ]
  },
  {
   "cell_type": "code",
   "execution_count": 38,
   "metadata": {},
   "outputs": [
    {
     "name": "stdin",
     "output_type": "stream",
     "text": [
      " <   space   >space space space<    spa   c e>\n"
     ]
    },
    {
     "name": "stdout",
     "output_type": "stream",
     "text": [
      "<   space   >ecaps ecaps ecaps<    spa   c e>"
     ]
    }
   ],
   "source": [
    "# 17413\n",
    "\n",
    "word = input()\n",
    "\n",
    "stack = []\n",
    "i = 0\n",
    "\n",
    "while i < len(word):\n",
    "    if word[i] == '<':\n",
    "        while word[i] != '>':\n",
    "            print(word[i], end='')\n",
    "            i += 1\n",
    "        print(word[i], end='')\n",
    "        i += 1\n",
    "        \n",
    "    elif word[i] == ' ':\n",
    "        print(word[i], end = '')\n",
    "        i += 1\n",
    "        \n",
    "    else:\n",
    "        while i < len(word):\n",
    "            if word[i] == '<' or word[i] == ' ':\n",
    "                break\n",
    "                \n",
    "            else:\n",
    "                stack.append(word[i])\n",
    "            i += 1\n",
    "                \n",
    "        print(''.join(stack[::-1]), end = '')\n",
    "        stack = []"
   ]
  },
  {
   "cell_type": "code",
   "execution_count": 66,
   "metadata": {},
   "outputs": [
    {
     "name": "stdin",
     "output_type": "stream",
     "text": [
      " (((()(()()))(())()))(()())\n"
     ]
    },
    {
     "name": "stdout",
     "output_type": "stream",
     "text": [
      "24\n"
     ]
    }
   ],
   "source": [
    "# 10799(unsolved)\n",
    "\n",
    "br = input()\n",
    "\n",
    "stack = []\n",
    "i = 0\n",
    "cnt = 0\n",
    "\n",
    "while i <= len(br)-1:\n",
    "    \n",
    "    if br[i] == '(':\n",
    "        if br[i+1] == ')':\n",
    "            stack = [i+1 for i in stack]\n",
    "            i += 2\n",
    "        else:\n",
    "            stack.append(1)\n",
    "            i += 1\n",
    "        \n",
    "    else:\n",
    "        cnt += stack.pop()\n",
    "        i += 1\n",
    "        \n",
    "print(cnt)"
   ]
  },
  {
   "cell_type": "code",
   "execution_count": null,
   "metadata": {},
   "outputs": [],
   "source": []
  },
  {
   "cell_type": "code",
   "execution_count": null,
   "metadata": {},
   "outputs": [],
   "source": []
  }
 ],
 "metadata": {
  "kernelspec": {
   "display_name": "Python 3",
   "language": "python",
   "name": "python3"
  },
  "language_info": {
   "codemirror_mode": {
    "name": "ipython",
    "version": 3
   },
   "file_extension": ".py",
   "mimetype": "text/x-python",
   "name": "python",
   "nbconvert_exporter": "python",
   "pygments_lexer": "ipython3",
   "version": "3.7.3"
  }
 },
 "nbformat": 4,
 "nbformat_minor": 4
}
