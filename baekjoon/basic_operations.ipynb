{
 "cells": [
  {
   "cell_type": "code",
   "execution_count": 2,
   "metadata": {},
   "outputs": [
    {
     "name": "stdout",
     "output_type": "stream",
     "text": [
      "3 5\n",
      "15\n"
     ]
    }
   ],
   "source": [
    "# 10998\n",
    "a, b = map(int, input().split())\n",
    "print(a * b)"
   ]
  },
  {
   "cell_type": "code",
   "execution_count": 6,
   "metadata": {},
   "outputs": [
    {
     "name": "stdout",
     "output_type": "stream",
     "text": [
      "1 3\n",
      "0.333333333\n"
     ]
    }
   ],
   "source": [
    "# 1008\n",
    "a, b = map(int, input().split())\n",
    "print(round(a / b, 9))"
   ]
  },
  {
   "cell_type": "code",
   "execution_count": 2,
   "metadata": {},
   "outputs": [
    {
     "name": "stdout",
     "output_type": "stream",
     "text": [
      "7 3\n",
      "10\n",
      "4\n",
      "21\n",
      "2\n",
      "1\n"
     ]
    }
   ],
   "source": [
    "# 10869\n",
    "a, b = map(int, input().split())\n",
    "print(a + b); print(a - b); print(a * b); print(a // b); print(a % b)"
   ]
  },
  {
   "cell_type": "code",
   "execution_count": 1,
   "metadata": {},
   "outputs": [
    {
     "name": "stdout",
     "output_type": "stream",
     "text": [
      "5 8 4\n",
      "1\n",
      "1\n",
      "0\n",
      "0\n"
     ]
    }
   ],
   "source": [
    "# 10430\n",
    "a, b, c = map(int, input().split())\n",
    "print((a + b) % c); print((a % c + b % c) % c); print((a * b) % c); print((a % c * b % c) % c)"
   ]
  },
  {
   "cell_type": "code",
   "execution_count": 2,
   "metadata": {},
   "outputs": [
    {
     "name": "stdout",
     "output_type": "stream",
     "text": [
      "1\n",
      "2\n",
      "3\n"
     ]
    }
   ],
   "source": [
    "# 2558\n",
    "a = int(input())\n",
    "b = int(input())\n",
    "print(a + b)"
   ]
  },
  {
   "cell_type": "code",
   "execution_count": 1,
   "metadata": {},
   "outputs": [
    {
     "name": "stdout",
     "output_type": "stream",
     "text": [
      "18\n",
      "4\n"
     ]
    }
   ],
   "source": [
    "# 2839\n",
    "n = int(input())\n",
    "\n",
    "if n == 4 or n == 7:\n",
    "    print(-1)\n",
    "elif n % 5 == 0:\n",
    "    print(n // 5)\n",
    "elif n % 5 == 1:\n",
    "    print(n // 5 + 1)\n",
    "elif n % 5 == 2:\n",
    "    print(n // 5 + 2)\n",
    "elif n % 5 == 3:\n",
    "    print(n // 5 + 1)\n",
    "elif n % 5 == 4:\n",
    "    print(n // 5 + 2)"
   ]
  },
  {
   "cell_type": "code",
   "execution_count": 2,
   "metadata": {},
   "outputs": [
    {
     "name": "stdout",
     "output_type": "stream",
     "text": [
      "18\n",
      "4\n"
     ]
    }
   ],
   "source": [
    "# 2839 Better way to solve\n",
    "n = int(input())\n",
    "F = n//5\n",
    "n%=5\n",
    "T = 0\n",
    "while F>=0:\n",
    "    if n%3 == 0:\n",
    "        T = n//3\n",
    "        n = n%3\n",
    "        break\n",
    "    F-=1\n",
    "    n+=5\n",
    "print((n==0) and (F+T) or -1)"
   ]
  }
 ],
 "metadata": {
  "kernelspec": {
   "display_name": "Python 3",
   "language": "python",
   "name": "python3"
  },
  "language_info": {
   "codemirror_mode": {
    "name": "ipython",
    "version": 3
   },
   "file_extension": ".py",
   "mimetype": "text/x-python",
   "name": "python",
   "nbconvert_exporter": "python",
   "pygments_lexer": "ipython3",
   "version": "3.6.5"
  }
 },
 "nbformat": 4,
 "nbformat_minor": 2
}
