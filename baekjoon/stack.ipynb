{
 "cells": [
  {
   "cell_type": "code",
   "execution_count": 6,
   "metadata": {},
   "outputs": [
    {
     "name": "stdout",
     "output_type": "stream",
     "text": [
      "7\n",
      "pop\n",
      "-1\n",
      "top\n",
      "-1\n",
      "push 123\n",
      "top\n",
      "123\n",
      "pop\n",
      "123\n",
      "top\n",
      "-1\n",
      "pop\n",
      "-1\n"
     ]
    }
   ],
   "source": [
    "# 10828\n",
    "def stack(n):\n",
    "    blist = []\n",
    "    for i in range(n):\n",
    "        cd = input()\n",
    "        if 'push' in cd:\n",
    "            cd, num = cd.split()\n",
    "            blist.append(num)\n",
    "        elif cd == 'pop':\n",
    "            if len(blist) == 0:\n",
    "                print(-1)\n",
    "            else:\n",
    "                print(blist.pop())\n",
    "        elif cd == 'size':\n",
    "            print(len(blist))\n",
    "        elif cd == 'empty':\n",
    "            if len(blist) == 0:\n",
    "                print(1)\n",
    "            else:\n",
    "                print(0)\n",
    "        elif cd == 'top':\n",
    "            if len(blist) == 0:\n",
    "                print(-1)\n",
    "            else:\n",
    "                print(blist[-1])\n",
    "    \n",
    "n = int(input())\n",
    "stack(n)"
   ]
  },
  {
   "cell_type": "code",
   "execution_count": 5,
   "metadata": {},
   "outputs": [
    {
     "name": "stdin",
     "output_type": "stream",
     "text": [
      " 7\n",
      " pop\n"
     ]
    },
    {
     "name": "stdout",
     "output_type": "stream",
     "text": [
      "-1\n"
     ]
    },
    {
     "name": "stdin",
     "output_type": "stream",
     "text": [
      " top\n"
     ]
    },
    {
     "name": "stdout",
     "output_type": "stream",
     "text": [
      "-1\n"
     ]
    },
    {
     "name": "stdin",
     "output_type": "stream",
     "text": [
      " push 123\n",
      " top\n"
     ]
    },
    {
     "name": "stdout",
     "output_type": "stream",
     "text": [
      "123\n"
     ]
    },
    {
     "name": "stdin",
     "output_type": "stream",
     "text": [
      " pop\n"
     ]
    },
    {
     "name": "stdout",
     "output_type": "stream",
     "text": [
      "123\n"
     ]
    },
    {
     "name": "stdin",
     "output_type": "stream",
     "text": [
      " top\n"
     ]
    },
    {
     "name": "stdout",
     "output_type": "stream",
     "text": [
      "-1\n"
     ]
    },
    {
     "name": "stdin",
     "output_type": "stream",
     "text": [
      " pop\n"
     ]
    },
    {
     "name": "stdout",
     "output_type": "stream",
     "text": [
      "-1\n"
     ]
    }
   ],
   "source": [
    "T = int(input())\n",
    "stack = []\n",
    "\n",
    "for t in range(T):\n",
    "    cmd = input()\n",
    "    \n",
    "    if 'push' in cmd:\n",
    "        stack.append(int(cmd.split()[-1]))\n",
    "    elif cmd == 'top':\n",
    "        if len(stack) != 0:\n",
    "            print(stack[-1])\n",
    "        else:\n",
    "            print(-1)\n",
    "    elif cmd == 'size':\n",
    "        print(len(stack))\n",
    "    elif cmd == 'empty':\n",
    "        if len(stack) == 0:\n",
    "            print(1)\n",
    "        else:\n",
    "            print(0)\n",
    "    elif cmd == 'pop':\n",
    "        if len(stack) != 0:\n",
    "            print(stack.pop())\n",
    "        else:\n",
    "            print(-1)"
   ]
  },
  {
   "cell_type": "code",
   "execution_count": 3,
   "metadata": {},
   "outputs": [
    {
     "name": "stdin",
     "output_type": "stream",
     "text": [
      " 10\n",
      " 1\n",
      " 3\n",
      " 5\n",
      " 4\n",
      " 0\n",
      " 0\n",
      " 7\n",
      " 0\n",
      " 0\n",
      " 6\n"
     ]
    },
    {
     "name": "stdout",
     "output_type": "stream",
     "text": [
      "7\n"
     ]
    }
   ],
   "source": [
    "# 10773\n",
    "T = int(input())\n",
    "stack = []\n",
    "\n",
    "for t in range(T):\n",
    "    num = int(input())\n",
    "    if num != 0:\n",
    "        stack.append(num)\n",
    "    else:\n",
    "        stack.pop()\n",
    "        \n",
    "print(sum(stack))"
   ]
  },
  {
   "cell_type": "code",
   "execution_count": 1,
   "metadata": {},
   "outputs": [
    {
     "data": {
      "text/plain": [
       "10"
      ]
     },
     "execution_count": 1,
     "metadata": {},
     "output_type": "execute_result"
    }
   ],
   "source": [
    "sum([1,2,3,4])"
   ]
  },
  {
   "cell_type": "code",
   "execution_count": null,
   "metadata": {},
   "outputs": [],
   "source": []
  }
 ],
 "metadata": {
  "kernelspec": {
   "display_name": "Python 3",
   "language": "python",
   "name": "python3"
  },
  "language_info": {
   "codemirror_mode": {
    "name": "ipython",
    "version": 3
   },
   "file_extension": ".py",
   "mimetype": "text/x-python",
   "name": "python",
   "nbconvert_exporter": "python",
   "pygments_lexer": "ipython3",
   "version": "3.7.3"
  }
 },
 "nbformat": 4,
 "nbformat_minor": 4
}
