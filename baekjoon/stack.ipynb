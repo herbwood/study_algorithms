{
 "cells": [
  {
   "cell_type": "code",
   "execution_count": 6,
   "metadata": {},
   "outputs": [
    {
     "name": "stdout",
     "output_type": "stream",
     "text": [
      "7\n",
      "pop\n",
      "-1\n",
      "top\n",
      "-1\n",
      "push 123\n",
      "top\n",
      "123\n",
      "pop\n",
      "123\n",
      "top\n",
      "-1\n",
      "pop\n",
      "-1\n"
     ]
    }
   ],
   "source": [
    "# 10828\n",
    "def stack(n):\n",
    "    blist = []\n",
    "    for i in range(n):\n",
    "        cd = input()\n",
    "        if 'push' in cd:\n",
    "            cd, num = cd.split()\n",
    "            blist.append(num)\n",
    "        elif cd == 'pop':\n",
    "            if len(blist) == 0:\n",
    "                print(-1)\n",
    "            else:\n",
    "                print(blist.pop())\n",
    "        elif cd == 'size':\n",
    "            print(len(blist))\n",
    "        elif cd == 'empty':\n",
    "            if len(blist) == 0:\n",
    "                print(1)\n",
    "            else:\n",
    "                print(0)\n",
    "        elif cd == 'top':\n",
    "            if len(blist) == 0:\n",
    "                print(-1)\n",
    "            else:\n",
    "                print(blist[-1])\n",
    "    \n",
    "n = int(input())\n",
    "stack(n)"
   ]
  },
  {
   "cell_type": "code",
   "execution_count": 3,
   "metadata": {},
   "outputs": [
    {
     "name": "stdin",
     "output_type": "stream",
     "text": [
      " 10\n",
      " 1\n",
      " 3\n",
      " 5\n",
      " 4\n",
      " 0\n",
      " 0\n",
      " 7\n",
      " 0\n",
      " 0\n",
      " 6\n"
     ]
    },
    {
     "name": "stdout",
     "output_type": "stream",
     "text": [
      "7\n"
     ]
    }
   ],
   "source": [
    "# 10773\n",
    "T = int(input())\n",
    "stack = []\n",
    "\n",
    "for t in range(T):\n",
    "    num = int(input())\n",
    "    if num != 0:\n",
    "        stack.append(num)\n",
    "    else:\n",
    "        stack.pop()\n",
    "        \n",
    "print(sum(stack))"
   ]
  },
  {
   "cell_type": "code",
   "execution_count": 5,
   "metadata": {},
   "outputs": [
    {
     "name": "stdin",
     "output_type": "stream",
     "text": [
      " 2\n",
      " i am happy today\n"
     ]
    },
    {
     "name": "stdout",
     "output_type": "stream",
     "text": [
      "i ma yppah yadot "
     ]
    },
    {
     "name": "stdin",
     "output_type": "stream",
     "text": [
      " We want to win the first prize\n"
     ]
    },
    {
     "name": "stdout",
     "output_type": "stream",
     "text": [
      "eW tnaw ot niw eht tsrif ezirp "
     ]
    }
   ],
   "source": [
    "# 9093\n",
    "\n",
    "T = int(input())\n",
    "\n",
    "for i in range(T):\n",
    "    for word in list(input().split()):\n",
    "        print(word[::-1], end = ' ')"
   ]
  },
  {
   "cell_type": "code",
   "execution_count": 20,
   "metadata": {},
   "outputs": [
    {
     "name": "stdin",
     "output_type": "stream",
     "text": [
      " 6\n",
      " (())())\n"
     ]
    },
    {
     "name": "stdout",
     "output_type": "stream",
     "text": [
      "NO\n"
     ]
    },
    {
     "name": "stdin",
     "output_type": "stream",
     "text": [
      " (((()())()\n"
     ]
    },
    {
     "name": "stdout",
     "output_type": "stream",
     "text": [
      "NO\n"
     ]
    },
    {
     "name": "stdin",
     "output_type": "stream",
     "text": [
      " (()())((()))\n"
     ]
    },
    {
     "name": "stdout",
     "output_type": "stream",
     "text": [
      "YES\n"
     ]
    },
    {
     "name": "stdin",
     "output_type": "stream",
     "text": [
      " ((()()(()))(((())))()\n"
     ]
    },
    {
     "name": "stdout",
     "output_type": "stream",
     "text": [
      "NO\n"
     ]
    },
    {
     "name": "stdin",
     "output_type": "stream",
     "text": [
      " ()()()()(()()())()\n"
     ]
    },
    {
     "name": "stdout",
     "output_type": "stream",
     "text": [
      "YES\n"
     ]
    },
    {
     "name": "stdin",
     "output_type": "stream",
     "text": [
      " (()((())()(\n"
     ]
    },
    {
     "name": "stdout",
     "output_type": "stream",
     "text": [
      "NO\n"
     ]
    }
   ],
   "source": [
    "# 9012\n",
    "\n",
    "T = int(input())\n",
    "\n",
    "for i in range(T):\n",
    "    word = input()\n",
    "    stack = []\n",
    "    try:\n",
    "        for br in word:\n",
    "            if br == '(':\n",
    "                stack.append(br)\n",
    "            else:\n",
    "                stack.pop()\n",
    "        if len(stack) == 0:\n",
    "            print('YES')\n",
    "        else:\n",
    "            print('NO')\n",
    "    except:\n",
    "        print('NO')"
   ]
  },
  {
   "cell_type": "code",
   "execution_count": null,
   "metadata": {},
   "outputs": [],
   "source": []
  },
  {
   "cell_type": "code",
   "execution_count": null,
   "metadata": {},
   "outputs": [],
   "source": []
  }
 ],
 "metadata": {
  "kernelspec": {
   "display_name": "Python 3",
   "language": "python",
   "name": "python3"
  },
  "language_info": {
   "codemirror_mode": {
    "name": "ipython",
    "version": 3
   },
   "file_extension": ".py",
   "mimetype": "text/x-python",
   "name": "python",
   "nbconvert_exporter": "python",
   "pygments_lexer": "ipython3",
   "version": "3.7.3"
  }
 },
 "nbformat": 4,
 "nbformat_minor": 4
}
