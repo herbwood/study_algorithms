{
 "cells": [
  {
   "cell_type": "code",
   "execution_count": 43,
   "metadata": {},
   "outputs": [
    {
     "name": "stdin",
     "output_type": "stream",
     "text": [
      " 7\n",
      " pop\n"
     ]
    },
    {
     "name": "stdout",
     "output_type": "stream",
     "text": [
      "-1\n"
     ]
    },
    {
     "name": "stdin",
     "output_type": "stream",
     "text": [
      " top\n"
     ]
    },
    {
     "name": "stdout",
     "output_type": "stream",
     "text": [
      "-1\n"
     ]
    },
    {
     "name": "stdin",
     "output_type": "stream",
     "text": [
      " push 123\n",
      " top\n"
     ]
    },
    {
     "name": "stdout",
     "output_type": "stream",
     "text": [
      "123\n"
     ]
    },
    {
     "name": "stdin",
     "output_type": "stream",
     "text": [
      " pop\n"
     ]
    },
    {
     "name": "stdout",
     "output_type": "stream",
     "text": [
      "123\n"
     ]
    },
    {
     "name": "stdin",
     "output_type": "stream",
     "text": [
      " top\n"
     ]
    },
    {
     "name": "stdout",
     "output_type": "stream",
     "text": [
      "-1\n"
     ]
    },
    {
     "name": "stdin",
     "output_type": "stream",
     "text": [
      " pop\n"
     ]
    },
    {
     "name": "stdout",
     "output_type": "stream",
     "text": [
      "-1\n"
     ]
    }
   ],
   "source": [
    "# 10828\n",
    "import sys \n",
    "\n",
    "cmd = sys.stdin.read().splitlines()\n",
    "cmd = cmd[1:]\n",
    "\n",
    "stack = []\n",
    "    \n",
    "def size(stack):\n",
    "    print(len(stack))\n",
    "\n",
    "def empty(stack):\n",
    "    r = 0 if stack else 1\n",
    "    print(r)\n",
    "    \n",
    "def top(stack):\n",
    "    r = stack[-1] if stack else -1\n",
    "    print(r)\n",
    "    \n",
    "for c in cmd : \n",
    "    if c.find('push') != -1 : \n",
    "        stack.append(int(c[4:]))\n",
    "        \n",
    "    elif c == 'pop':\n",
    "        r = stack.pop() if stack else -1\n",
    "        print(r)\n",
    "    \n",
    "    else:\n",
    "        eval(c + \"(stack)\")"
   ]
  },
  {
   "cell_type": "code",
   "execution_count": 3,
   "metadata": {},
   "outputs": [
    {
     "name": "stdin",
     "output_type": "stream",
     "text": [
      " 10\n",
      " 1\n",
      " 3\n",
      " 5\n",
      " 4\n",
      " 0\n",
      " 0\n",
      " 7\n",
      " 0\n",
      " 0\n",
      " 6\n"
     ]
    },
    {
     "name": "stdout",
     "output_type": "stream",
     "text": [
      "7\n"
     ]
    }
   ],
   "source": [
    "# 10773\n",
    "T = int(input())\n",
    "stack = []\n",
    "\n",
    "for t in range(T):\n",
    "    num = int(input())\n",
    "    if num != 0:\n",
    "        stack.append(num)\n",
    "    else:\n",
    "        stack.pop()\n",
    "        \n",
    "print(sum(stack))"
   ]
  },
  {
   "cell_type": "code",
   "execution_count": 5,
   "metadata": {},
   "outputs": [
    {
     "name": "stdin",
     "output_type": "stream",
     "text": [
      " 2\n",
      " i am happy today\n"
     ]
    },
    {
     "name": "stdout",
     "output_type": "stream",
     "text": [
      "i ma yppah yadot "
     ]
    },
    {
     "name": "stdin",
     "output_type": "stream",
     "text": [
      " We want to win the first prize\n"
     ]
    },
    {
     "name": "stdout",
     "output_type": "stream",
     "text": [
      "eW tnaw ot niw eht tsrif ezirp "
     ]
    }
   ],
   "source": [
    "# 9093\n",
    "\n",
    "T = int(input())\n",
    "\n",
    "for i in range(T):\n",
    "    for word in list(input().split()):\n",
    "        print(word[::-1], end = ' ')"
   ]
  },
  {
   "cell_type": "code",
   "execution_count": 20,
   "metadata": {},
   "outputs": [
    {
     "name": "stdin",
     "output_type": "stream",
     "text": [
      " 6\n",
      " (())())\n"
     ]
    },
    {
     "name": "stdout",
     "output_type": "stream",
     "text": [
      "NO\n"
     ]
    },
    {
     "name": "stdin",
     "output_type": "stream",
     "text": [
      " (((()())()\n"
     ]
    },
    {
     "name": "stdout",
     "output_type": "stream",
     "text": [
      "NO\n"
     ]
    },
    {
     "name": "stdin",
     "output_type": "stream",
     "text": [
      " (()())((()))\n"
     ]
    },
    {
     "name": "stdout",
     "output_type": "stream",
     "text": [
      "YES\n"
     ]
    },
    {
     "name": "stdin",
     "output_type": "stream",
     "text": [
      " ((()()(()))(((())))()\n"
     ]
    },
    {
     "name": "stdout",
     "output_type": "stream",
     "text": [
      "NO\n"
     ]
    },
    {
     "name": "stdin",
     "output_type": "stream",
     "text": [
      " ()()()()(()()())()\n"
     ]
    },
    {
     "name": "stdout",
     "output_type": "stream",
     "text": [
      "YES\n"
     ]
    },
    {
     "name": "stdin",
     "output_type": "stream",
     "text": [
      " (()((())()(\n"
     ]
    },
    {
     "name": "stdout",
     "output_type": "stream",
     "text": [
      "NO\n"
     ]
    }
   ],
   "source": [
    "# 9012\n",
    "\n",
    "T = int(input())\n",
    "\n",
    "for i in range(T):\n",
    "    word = input()\n",
    "    stack = []\n",
    "    try:\n",
    "        for br in word:\n",
    "            if br == '(':\n",
    "                stack.append(br)\n",
    "            else:\n",
    "                stack.pop()\n",
    "        if len(stack) == 0:\n",
    "            print('YES')\n",
    "        else:\n",
    "            print('NO')\n",
    "    except:\n",
    "        print('NO')"
   ]
  },
  {
   "cell_type": "code",
   "execution_count": 39,
   "metadata": {},
   "outputs": [
    {
     "name": "stdin",
     "output_type": "stream",
     "text": [
      " So when I die (the [first] I will see in (heaven) is a score list).\n"
     ]
    },
    {
     "name": "stdout",
     "output_type": "stream",
     "text": [
      "yes\n"
     ]
    },
    {
     "name": "stdin",
     "output_type": "stream",
     "text": [
      " [ first in ] ( first out ).\n"
     ]
    },
    {
     "name": "stdout",
     "output_type": "stream",
     "text": [
      "yes\n"
     ]
    },
    {
     "name": "stdin",
     "output_type": "stream",
     "text": [
      " Half Moon tonight (At least it is better than no Moon at all].\n"
     ]
    },
    {
     "name": "stdout",
     "output_type": "stream",
     "text": [
      "no\n"
     ]
    },
    {
     "name": "stdin",
     "output_type": "stream",
     "text": [
      " A rope may form )( a trail in a maze.\n"
     ]
    },
    {
     "name": "stdout",
     "output_type": "stream",
     "text": [
      "no\n"
     ]
    },
    {
     "name": "stdin",
     "output_type": "stream",
     "text": [
      " Help( I[m being held prisoner in a fortune cookie factory)].\n"
     ]
    },
    {
     "name": "stdout",
     "output_type": "stream",
     "text": [
      "no\n"
     ]
    },
    {
     "name": "stdin",
     "output_type": "stream",
     "text": [
      " ([ (([( [ ] ) ( ) (( ))] )) ]).\n"
     ]
    },
    {
     "name": "stdout",
     "output_type": "stream",
     "text": [
      "yes\n"
     ]
    },
    {
     "name": "stdin",
     "output_type": "stream",
     "text": [
      "  .\n"
     ]
    },
    {
     "name": "stdout",
     "output_type": "stream",
     "text": [
      "yes\n"
     ]
    },
    {
     "name": "stdin",
     "output_type": "stream",
     "text": [
      " .\n"
     ]
    }
   ],
   "source": [
    "# 4949\n",
    "\n",
    "obr = ['(', '[']\n",
    "cbr = [')', ']']\n",
    "\n",
    "while True:\n",
    "    word = input()\n",
    "    \n",
    "    if word == '.':\n",
    "        break\n",
    "    else:\n",
    "        stack = []\n",
    "\n",
    "        for w in word:\n",
    "            if w in obr:\n",
    "                stack.append(w)\n",
    "                \n",
    "            elif w in cbr:\n",
    "                if len(stack) == 0:\n",
    "                    stack.append(w)\n",
    "                    break\n",
    "                if obr.index(stack[-1]) == cbr.index(w):\n",
    "                    stack.pop()\n",
    "                else:\n",
    "                    stack.append(w)\n",
    "                    break\n",
    "                    \n",
    "        if len(stack) == 0:\n",
    "            print('yes')\n",
    "        else:\n",
    "            print('no')"
   ]
  },
  {
   "cell_type": "code",
   "execution_count": 20,
   "metadata": {},
   "outputs": [
    {
     "name": "stdin",
     "output_type": "stream",
     "text": [
      " 5\n",
      " 1\n"
     ]
    },
    {
     "name": "stdout",
     "output_type": "stream",
     "text": [
      "[]\n",
      "1\n"
     ]
    },
    {
     "name": "stdin",
     "output_type": "stream",
     "text": [
      " 2\n"
     ]
    },
    {
     "name": "stdout",
     "output_type": "stream",
     "text": [
      "[]\n",
      "2\n"
     ]
    },
    {
     "name": "stdin",
     "output_type": "stream",
     "text": [
      " 5\n"
     ]
    },
    {
     "name": "stdout",
     "output_type": "stream",
     "text": [
      "[3, 4]\n",
      "5\n"
     ]
    },
    {
     "name": "stdin",
     "output_type": "stream",
     "text": [
      " 3\n"
     ]
    },
    {
     "name": "stdout",
     "output_type": "stream",
     "text": [
      "[]\n",
      "5\n"
     ]
    },
    {
     "name": "stdin",
     "output_type": "stream",
     "text": [
      " 4\n"
     ]
    },
    {
     "name": "stdout",
     "output_type": "stream",
     "text": [
      "[]\n",
      "5\n",
      "NO\n"
     ]
    }
   ],
   "source": [
    "## 1874\n",
    "\n",
    "T = int(input())\n",
    "\n",
    "stack = []\n",
    "result = []\n",
    "cnt = 0\n",
    "\n",
    "for i in range(T):\n",
    "\n",
    "    num = int(input())\n",
    "    try:\n",
    "        if num in stack:\n",
    "            if num == stack[-1]:\n",
    "                stack.pop()\n",
    "                result.append('-')\n",
    "            else:\n",
    "                while stack.pop() != num:\n",
    "                    stack.pop()\n",
    "                    result.append('-')\n",
    "\n",
    "        else:\n",
    "            for i in range(cnt+1, num+1):\n",
    "                stack.append(i)\n",
    "                result.append('+')\n",
    "            stack.pop()\n",
    "            result.append('-')\n",
    "    except:\n",
    "        result.append('NO')\n",
    "    if num > cnt:\n",
    "        cnt = num\n",
    "\n",
    "if 'NO' in result:\n",
    "    print('NO')\n",
    "else:\n",
    "    for r in result:\n",
    "        print(r)"
   ]
  },
  {
   "cell_type": "code",
   "execution_count": 21,
   "metadata": {},
   "outputs": [
    {
     "name": "stdin",
     "output_type": "stream",
     "text": [
      " 8\n",
      " 4\n",
      " 3\n",
      " 6\n",
      " 8\n",
      " 7\n",
      " 5\n",
      " 2\n",
      " 1\n"
     ]
    },
    {
     "name": "stdout",
     "output_type": "stream",
     "text": [
      "+\n",
      "+\n",
      "+\n",
      "+\n",
      "-\n",
      "-\n",
      "+\n",
      "+\n",
      "-\n",
      "+\n",
      "+\n",
      "-\n",
      "-\n",
      "-\n",
      "-\n",
      "-\n"
     ]
    }
   ],
   "source": [
    "# 1874(better solution)\n",
    "\n",
    "stack = []\n",
    "result = []\n",
    "cnt = 1\n",
    "pos = True\n",
    "\n",
    "for i in range(int(input())):\n",
    "    \n",
    "    num = int(input())\n",
    "    \n",
    "    while cnt <= num:\n",
    "        stack.append(cnt)\n",
    "        result.append('+')\n",
    "        cnt += 1\n",
    "        \n",
    "    if stack[-1] == num:\n",
    "        stack.pop()\n",
    "        result.append('-')\n",
    "    else:\n",
    "        pos = False\n",
    "        \n",
    "if pos == False:\n",
    "    print('NO')\n",
    "else:\n",
    "    for j in result:\n",
    "        print(j)"
   ]
  },
  {
   "cell_type": "code",
   "execution_count": null,
   "metadata": {},
   "outputs": [],
   "source": []
  }
 ],
 "metadata": {
  "kernelspec": {
   "display_name": "Python 3",
   "language": "python",
   "name": "python3"
  },
  "language_info": {
   "codemirror_mode": {
    "name": "ipython",
    "version": 3
   },
   "file_extension": ".py",
   "mimetype": "text/x-python",
   "name": "python",
   "nbconvert_exporter": "python",
   "pygments_lexer": "ipython3",
   "version": "3.7.3"
  }
 },
 "nbformat": 4,
 "nbformat_minor": 4
}
