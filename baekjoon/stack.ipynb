{
 "cells": [
  {
   "cell_type": "code",
   "execution_count": 6,
   "metadata": {},
   "outputs": [
    {
     "name": "stdout",
     "output_type": "stream",
     "text": [
      "7\n",
      "pop\n",
      "-1\n",
      "top\n",
      "-1\n",
      "push 123\n",
      "top\n",
      "123\n",
      "pop\n",
      "123\n",
      "top\n",
      "-1\n",
      "pop\n",
      "-1\n"
     ]
    }
   ],
   "source": [
    "# 10828\n",
    "def stack(n):\n",
    "    blist = []\n",
    "    for i in range(n):\n",
    "        cd = input()\n",
    "        if 'push' in cd:\n",
    "            cd, num = cd.split()\n",
    "            blist.append(num)\n",
    "        elif cd == 'pop':\n",
    "            if len(blist) == 0:\n",
    "                print(-1)\n",
    "            else:\n",
    "                print(blist.pop())\n",
    "        elif cd == 'size':\n",
    "            print(len(blist))\n",
    "        elif cd == 'empty':\n",
    "            if len(blist) == 0:\n",
    "                print(1)\n",
    "            else:\n",
    "                print(0)\n",
    "        elif cd == 'top':\n",
    "            if len(blist) == 0:\n",
    "                print(-1)\n",
    "            else:\n",
    "                print(blist[-1])\n",
    "    \n",
    "n = int(input())\n",
    "stack(n)"
   ]
  },
  {
   "cell_type": "code",
   "execution_count": null,
   "metadata": {},
   "outputs": [],
   "source": []
  }
 ],
 "metadata": {
  "kernelspec": {
   "display_name": "Python 3",
   "language": "python",
   "name": "python3"
  },
  "language_info": {
   "codemirror_mode": {
    "name": "ipython",
    "version": 3
   },
   "file_extension": ".py",
   "mimetype": "text/x-python",
   "name": "python",
   "nbconvert_exporter": "python",
   "pygments_lexer": "ipython3",
   "version": "3.6.5"
  }
 },
 "nbformat": 4,
 "nbformat_minor": 2
}
