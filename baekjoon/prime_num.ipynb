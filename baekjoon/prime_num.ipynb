{
 "cells": [
  {
   "cell_type": "code",
   "execution_count": 45,
   "metadata": {},
   "outputs": [
    {
     "name": "stdout",
     "output_type": "stream",
     "text": [
      "10\n",
      "1 2 3 4 5 6 7 8 9 10\n",
      "4\n"
     ]
    }
   ],
   "source": [
    "# 1978\n",
    "\n",
    "def getPrime(number):\n",
    "    if number == 2:\n",
    "        return True\n",
    "    for x in range(2, number):\n",
    "        if number % x == 0:\n",
    "            return False\n",
    "        elif x == number - 1:\n",
    "            return True\n",
    "            \n",
    "n = int(input())\n",
    "num_list = list(map(int, input().split()))\n",
    "count = 0\n",
    "for i in range(n):\n",
    "    if getPrime(num_list[i]) == True:\n",
    "        count += 1\n",
    "print(count)"
   ]
  },
  {
   "cell_type": "code",
   "execution_count": 50,
   "metadata": {},
   "outputs": [
    {
     "name": "stdout",
     "output_type": "stream",
     "text": [
      "64\n",
      "65\n",
      "-1\n"
     ]
    }
   ],
   "source": [
    "# 2581\n",
    "from math import sqrt\n",
    "\n",
    "def getPrime(number):\n",
    "    if number == 2:\n",
    "        return True\n",
    "    for x in range(2, number):\n",
    "        if number % x == 0:\n",
    "            return False\n",
    "        elif (x > sqrt(number)):\n",
    "            return True\n",
    "        \n",
    "m = int(input())\n",
    "n = int(input())\n",
    "prime_num_list = []\n",
    "for num in range(m, n + 1):\n",
    "    if getPrime(num) == True:\n",
    "        prime_num_list.append(num)\n",
    "        \n",
    "if len(prime_num_list) == 0:\n",
    "    print(-1)\n",
    "else:\n",
    "    print(sum(prime_num_list))\n",
    "    print(min(prime_num_list))"
   ]
  },
  {
   "cell_type": "code",
   "execution_count": 111,
   "metadata": {},
   "outputs": [
    {
     "name": "stdout",
     "output_type": "stream",
     "text": [
      "3 17\n",
      "3\n",
      "5\n",
      "7\n",
      "11\n",
      "13\n",
      "17\n"
     ]
    }
   ],
   "source": [
    "# 1929\n",
    "def getPrime(number):\n",
    "    if number == 2:\n",
    "        return True\n",
    "    for x in range(2, number):\n",
    "        if number % x == 0:\n",
    "            return False\n",
    "        elif x == number - 1:\n",
    "            return True\n",
    "\n",
    "\n",
    "def prime_list(a, n):\n",
    "    if getPrime(n) == True:\n",
    "        n += 1\n",
    "    # 에라토스테네스의 체 초기화: n개 요소에 True 설정(소수로 간주)\n",
    "    sieve = [True] * n\n",
    "\n",
    "    # n의 최대 약수가 sqrt(n) 이하이므로 i=sqrt(n)까지 검사\n",
    "    m = int(n ** 0.5)\n",
    "    for i in range(2, m + 1):\n",
    "        if sieve[i] == True:           # i가 소수인 경우 \n",
    "            for j in range(i+i, n, i): # i이후 i의 배수들을 False 판정\n",
    "                sieve[j] = False\n",
    "\n",
    "    # 소수 목록 산출\n",
    "    result =  [i for i in range(2, n) if sieve[i] == True]\n",
    "    return [x for x in result if x >= a]\n",
    "    \n",
    "a, b = map(int, input().split())\n",
    "for num in prime_list(a, b):\n",
    "    print(num)"
   ]
  },
  {
   "cell_type": "code",
   "execution_count": 36,
   "metadata": {},
   "outputs": [
    {
     "name": "stdin",
     "output_type": "stream",
     "text": [
      " 1\n"
     ]
    },
    {
     "name": "stdout",
     "output_type": "stream",
     "text": [
      "1\n"
     ]
    },
    {
     "name": "stdin",
     "output_type": "stream",
     "text": [
      " 10\n"
     ]
    },
    {
     "name": "stdout",
     "output_type": "stream",
     "text": [
      "4\n"
     ]
    },
    {
     "name": "stdin",
     "output_type": "stream",
     "text": [
      " 13\n"
     ]
    },
    {
     "name": "stdout",
     "output_type": "stream",
     "text": [
      "3\n"
     ]
    },
    {
     "name": "stdin",
     "output_type": "stream",
     "text": [
      " 100\n"
     ]
    },
    {
     "name": "stdout",
     "output_type": "stream",
     "text": [
      "21\n"
     ]
    },
    {
     "name": "stdin",
     "output_type": "stream",
     "text": [
      " 1000\n"
     ]
    },
    {
     "name": "stdout",
     "output_type": "stream",
     "text": [
      "135\n"
     ]
    },
    {
     "name": "stdin",
     "output_type": "stream",
     "text": [
      " 10000\n"
     ]
    },
    {
     "name": "stdout",
     "output_type": "stream",
     "text": [
      "1033\n"
     ]
    },
    {
     "name": "stdin",
     "output_type": "stream",
     "text": [
      " 100000\n"
     ]
    },
    {
     "name": "stdout",
     "output_type": "stream",
     "text": [
      "8392\n"
     ]
    },
    {
     "name": "stdin",
     "output_type": "stream",
     "text": [
      " 0\n"
     ]
    }
   ],
   "source": [
    "# 4948\n",
    "\n",
    "def prime_list(n):\n",
    "    sieve = [True] * n\n",
    "\n",
    "    m = int(n ** 0.5)\n",
    "    for i in range(2, m + 1):\n",
    "        if sieve[i] == True:           \n",
    "            for j in range(i+i, n, i): \n",
    "                sieve[j] = False\n",
    "                \n",
    "    return [i for i in range(2, n) if sieve[i] == True]\n",
    "\n",
    "while True:\n",
    "    num = int(input())\n",
    "    if num == 0:\n",
    "        break\n",
    "    blist = prime_list(2 * num + 1)\n",
    "    print(len([i for i in blist if i > num]))"
   ]
  },
  {
   "cell_type": "code",
   "execution_count": 23,
   "metadata": {},
   "outputs": [
    {
     "name": "stdin",
     "output_type": "stream",
     "text": [
      " 6 8 10\n"
     ]
    },
    {
     "name": "stdout",
     "output_type": "stream",
     "text": [
      "right\n"
     ]
    },
    {
     "name": "stdin",
     "output_type": "stream",
     "text": [
      " 1 2 3\n"
     ]
    },
    {
     "name": "stdout",
     "output_type": "stream",
     "text": [
      "wrong\n"
     ]
    },
    {
     "name": "stdin",
     "output_type": "stream",
     "text": [
      " 5 12 13\n"
     ]
    },
    {
     "name": "stdout",
     "output_type": "stream",
     "text": [
      "right\n"
     ]
    },
    {
     "name": "stdin",
     "output_type": "stream",
     "text": [
      " 0 0 0\n"
     ]
    }
   ],
   "source": [
    "# 4153\n",
    "\n",
    "while True:\n",
    "    blist = sorted(list(map(int, input().split())))\n",
    "    a, b, c = blist[0], blist[1], blist[2]\n",
    "    if (a == 0) and (b == 0) and (c == 0):\n",
    "        break\n",
    "    elif a**2 + b**2 == c**2:\n",
    "        print('right')\n",
    "    elif a**2 + b**2 != c**2:\n",
    "        print('wrong')"
   ]
  },
  {
   "cell_type": "code",
   "execution_count": 37,
   "metadata": {},
   "outputs": [
    {
     "name": "stdin",
     "output_type": "stream",
     "text": [
      " 6 2 10 3\n"
     ]
    },
    {
     "name": "stdout",
     "output_type": "stream",
     "text": [
      "1\n"
     ]
    }
   ],
   "source": [
    "# 1085\n",
    "\n",
    "x, y, w, h = map(int, input().split())\n",
    "\n",
    "blist = [w-x, h-y, x, y]\n",
    "print(min(blist))"
   ]
  },
  {
   "cell_type": "code",
   "execution_count": 39,
   "metadata": {},
   "outputs": [
    {
     "name": "stdin",
     "output_type": "stream",
     "text": [
      " 30 20\n",
      " 10 10\n",
      " 10 20\n"
     ]
    },
    {
     "name": "stdout",
     "output_type": "stream",
     "text": [
      "30 10\n"
     ]
    }
   ],
   "source": [
    "# 3009\n",
    "\n",
    "xlist, ylist = [], []\n",
    "\n",
    "def count(blist):\n",
    "    for b in blist:\n",
    "        if blist.count(b) == 1:\n",
    "            return b\n",
    "\n",
    "for i in range(3):\n",
    "    x, y = map(int, input().split())\n",
    "    xlist.append(x)\n",
    "    ylist.append(y)\n",
    "\n",
    "x, y = count(xlist), count(ylist)\n",
    "print(x, y)"
   ]
  },
  {
   "cell_type": "code",
   "execution_count": 8,
   "metadata": {},
   "outputs": [
    {
     "name": "stdin",
     "output_type": "stream",
     "text": [
      " 3\n",
      " 0 0 13 40 0 37\n"
     ]
    },
    {
     "name": "stdout",
     "output_type": "stream",
     "text": [
      "2\n"
     ]
    },
    {
     "name": "stdin",
     "output_type": "stream",
     "text": [
      " 0 0 3 0 7 4\n"
     ]
    },
    {
     "name": "stdout",
     "output_type": "stream",
     "text": [
      "1\n"
     ]
    },
    {
     "name": "stdin",
     "output_type": "stream",
     "text": [
      " 1 1 1 1 1 5\n"
     ]
    },
    {
     "name": "stdout",
     "output_type": "stream",
     "text": [
      "0\n"
     ]
    }
   ],
   "source": [
    "# 1002\n",
    "\n",
    "from math import sqrt\n",
    "\n",
    "def turret(T):\n",
    "    for i in range(T):\n",
    "        x1, y1, r1, x2, y2, r2 = map(int, input().split())\n",
    "\n",
    "        d = sqrt((x2-x1)**2 + (y1-y2)**2)\n",
    "\n",
    "        l, s = max(r1, r2), min(r1, r2)\n",
    "\n",
    "        if d == 0:\n",
    "            if l == s:\n",
    "                print(-1)\n",
    "            else:\n",
    "                print(0)\n",
    "                \n",
    "        else:\n",
    "            if d > l + s:\n",
    "                print(0)\n",
    "            elif d == l + s:\n",
    "                print(1)\n",
    "                \n",
    "            elif d < l + s:\n",
    "                if d + s == l:\n",
    "                    print(1)\n",
    "                elif d + s < l:\n",
    "                    print(0)\n",
    "                else:\n",
    "                    print(2)\n",
    "\n",
    "T = int(input())\n",
    "turret(T)"
   ]
  },
  {
   "cell_type": "code",
   "execution_count": 34,
   "metadata": {},
   "outputs": [
    {
     "name": "stdin",
     "output_type": "stream",
     "text": [
      " 3\n",
      " 8\n"
     ]
    },
    {
     "name": "stdout",
     "output_type": "stream",
     "text": [
      "3 5\n"
     ]
    },
    {
     "name": "stdin",
     "output_type": "stream",
     "text": [
      " 10\n"
     ]
    },
    {
     "name": "stdout",
     "output_type": "stream",
     "text": [
      "5 5\n"
     ]
    },
    {
     "name": "stdin",
     "output_type": "stream",
     "text": [
      " 16\n"
     ]
    },
    {
     "name": "stdout",
     "output_type": "stream",
     "text": [
      "5 11\n"
     ]
    }
   ],
   "source": [
    "# 9020\n",
    "\n",
    "def prime_list(n):\n",
    "    sieve = [True] * n\n",
    "\n",
    "    m = int(n ** 0.5)\n",
    "    for i in range(2, m + 1):\n",
    "        if sieve[i] == True:           \n",
    "            for j in range(i+i, n, i): \n",
    "                sieve[j] = False\n",
    "                \n",
    "    return [i for i in range(2, n) if sieve[i] == True]\n",
    "\n",
    "def goldbach(T):\n",
    "    for i in range(T):\n",
    "        n = int(input())\n",
    "        \n",
    "        pl = prime_list(n)\n",
    "        \n",
    "        dif = 10**10\n",
    "        for i in range(len(pl)-1):\n",
    "            for j in range(i, len(pl)):\n",
    "                if pl[i] + pl[j] == n and pl[j] - pl[i] < dif:\n",
    "                    dif = pl[j] - pl[i]\n",
    "                    p1, p2 = pl[i], pl[j]\n",
    "                    \n",
    "        print(p1, p2)\n",
    "\n",
    "T = int(input())\n",
    "goldbach(T)"
   ]
  },
  {
   "cell_type": "code",
   "execution_count": null,
   "metadata": {},
   "outputs": [],
   "source": []
  }
 ],
 "metadata": {
  "kernelspec": {
   "display_name": "Python 3",
   "language": "python",
   "name": "python3"
  },
  "language_info": {
   "codemirror_mode": {
    "name": "ipython",
    "version": 3
   },
   "file_extension": ".py",
   "mimetype": "text/x-python",
   "name": "python",
   "nbconvert_exporter": "python",
   "pygments_lexer": "ipython3",
   "version": "3.7.3"
  }
 },
 "nbformat": 4,
 "nbformat_minor": 4
}
