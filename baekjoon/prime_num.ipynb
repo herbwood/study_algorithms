{
 "cells": [
  {
   "cell_type": "code",
   "execution_count": 45,
   "metadata": {},
   "outputs": [
    {
     "name": "stdout",
     "output_type": "stream",
     "text": [
      "10\n",
      "1 2 3 4 5 6 7 8 9 10\n",
      "4\n"
     ]
    }
   ],
   "source": [
    "# 1978\n",
    "\n",
    "def getPrime(number):\n",
    "    if number == 2:\n",
    "        return True\n",
    "    for x in range(2, number):\n",
    "        if number % x == 0:\n",
    "            return False\n",
    "        elif x == number - 1:\n",
    "            return True\n",
    "            \n",
    "n = int(input())\n",
    "num_list = list(map(int, input().split()))\n",
    "count = 0\n",
    "for i in range(n):\n",
    "    if getPrime(num_list[i]) == True:\n",
    "        count += 1\n",
    "print(count)"
   ]
  },
  {
   "cell_type": "code",
   "execution_count": 47,
   "metadata": {},
   "outputs": [
    {
     "name": "stdout",
     "output_type": "stream",
     "text": [
      "60\n",
      "100\n",
      "12\n"
     ]
    }
   ],
   "source": [
    "from math import sqrt\n",
    "\n",
    "def getPrime(number):\n",
    "    if number == 2:\n",
    "        return True\n",
    "    for x in range(2, number):\n",
    "        if number % x == 0:\n",
    "            return False\n",
    "        elif (x > sqrt(number)):\n",
    "            return True\n",
    "        \n",
    "m = int(input())\n",
    "n = int(input())\n",
    "prime_num_list = []\n",
    "for num in range(m, n + 1):\n",
    "    if getPrime(num) == True:\n",
    "        prime_num_list.append(num)\n",
    "        \n",
    "if len(prime_num_list) == 0:\n",
    "    print(-1)\n",
    "else:\n",
    "    print()"
   ]
  },
  {
   "cell_type": "code",
   "execution_count": null,
   "metadata": {},
   "outputs": [],
   "source": []
  }
 ],
 "metadata": {
  "kernelspec": {
   "display_name": "Python 3",
   "language": "python",
   "name": "python3"
  },
  "language_info": {
   "codemirror_mode": {
    "name": "ipython",
    "version": 3
   },
   "file_extension": ".py",
   "mimetype": "text/x-python",
   "name": "python",
   "nbconvert_exporter": "python",
   "pygments_lexer": "ipython3",
   "version": "3.6.5"
  }
 },
 "nbformat": 4,
 "nbformat_minor": 2
}
