{
 "cells": [
  {
   "cell_type": "code",
   "execution_count": 1,
   "metadata": {},
   "outputs": [
    {
     "name": "stdout",
     "output_type": "stream",
     "text": [
      "the curious case of benjamin button\n",
      "6\n"
     ]
    }
   ],
   "source": [
    "# 1152\n",
    "string = input()\n",
    "print(len(string.split()))"
   ]
  },
  {
   "cell_type": "code",
   "execution_count": 4,
   "metadata": {},
   "outputs": [
    {
     "name": "stdout",
     "output_type": "stream",
     "text": [
      "150\n",
      "266\n",
      "427\n",
      "3\n",
      "1\n",
      "0\n",
      "2\n",
      "0\n",
      "0\n",
      "0\n",
      "2\n",
      "0\n",
      "0\n"
     ]
    }
   ],
   "source": [
    "# 2577\n",
    "a = int(input())\n",
    "b = int(input())\n",
    "c = int(input())\n",
    "\n",
    "result = str(a * b * c)\n",
    "for i in range(0, 10):\n",
    "    count = 0\n",
    "    for j in range(0, len(result)):\n",
    "        if result[j] == str(i):\n",
    "            count += 1\n",
    "    print(count)"
   ]
  },
  {
   "cell_type": "code",
   "execution_count": 4,
   "metadata": {},
   "outputs": [
    {
     "name": "stdout",
     "output_type": "stream",
     "text": [
      "5\n",
      "OOXXOXXOOO\n",
      "OOXXOOXXOO\n",
      "OXOXOXOXOXOXOX\n",
      "OOOOOOOOOO\n",
      "OOOOXOOOOXOOOOX\n",
      "10\n",
      "9\n",
      "7\n",
      "55\n",
      "30\n"
     ]
    }
   ],
   "source": [
    "# 8958\n",
    "n = int(input())\n",
    "blist = []\n",
    "for i in range(n):\n",
    "    q = input()\n",
    "    quiz = 'X' + q\n",
    "    count = 0\n",
    "    ocount = 0\n",
    "    for i in range(1, len(quiz)):\n",
    "        if quiz[i] == 'O':\n",
    "            count += 1\n",
    "            ocount += 1\n",
    "            if quiz[i - 1] == 'O':\n",
    "                count += ocount - 1\n",
    "        else:\n",
    "            ocount = 0\n",
    "    blist.append(count)\n",
    "for b in blist:\n",
    "    print(b)"
   ]
  },
  {
   "cell_type": "code",
   "execution_count": 15,
   "metadata": {},
   "outputs": [
    {
     "name": "stdout",
     "output_type": "stream",
     "text": [
      "1 3 2 4 5 7 6 8\n",
      "mixed\n"
     ]
    }
   ],
   "source": [
    "# 2920\n",
    "music = list(map(int, input().split()))\n",
    "if music == sorted(music):\n",
    "    print('ascending')\n",
    "elif music == sorted(music, reverse = True):\n",
    "    print('descending')\n",
    "else:\n",
    "    print('mixed')"
   ]
  },
  {
   "cell_type": "code",
   "execution_count": 17,
   "metadata": {},
   "outputs": [
    {
     "name": "stdout",
     "output_type": "stream",
     "text": [
      "10\n",
      "65\n",
      "100\n",
      "30\n",
      "95\n",
      "68\n"
     ]
    }
   ],
   "source": [
    "# 10039\n",
    "nlist = []\n",
    "for i in range(5):\n",
    "    glist = list(map(int ,input().split()))\n",
    "    for g in glist:\n",
    "        if g >= 40:\n",
    "            nlist.append(g)\n",
    "        else:\n",
    "            g = 40\n",
    "            nlist.append(g)\n",
    "            \n",
    "print(int(sum(nlist) / 5))"
   ]
  }
 ],
 "metadata": {
  "kernelspec": {
   "display_name": "Python 3",
   "language": "python",
   "name": "python3"
  },
  "language_info": {
   "codemirror_mode": {
    "name": "ipython",
    "version": 3
   },
   "file_extension": ".py",
   "mimetype": "text/x-python",
   "name": "python",
   "nbconvert_exporter": "python",
   "pygments_lexer": "ipython3",
   "version": "3.6.5"
  }
 },
 "nbformat": 4,
 "nbformat_minor": 2
}
