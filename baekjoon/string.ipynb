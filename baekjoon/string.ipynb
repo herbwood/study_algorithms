{
 "cells": [
  {
   "cell_type": "code",
   "execution_count": 3,
   "metadata": {},
   "outputs": [
    {
     "name": "stdout",
     "output_type": "stream",
     "text": [
      "0\n",
      "48\n"
     ]
    }
   ],
   "source": [
    "# 11654\n",
    "n = input()\n",
    "print(ord(n))"
   ]
  },
  {
   "cell_type": "code",
   "execution_count": 1,
   "metadata": {},
   "outputs": [
    {
     "name": "stdout",
     "output_type": "stream",
     "text": [
      "baekjoon\n",
      "1 0 -1 -1 2 -1 -1 -1 -1 4 3 -1 -1 7 5 -1 -1 -1 -1 -1 -1 -1 -1 -1 -1 -1 "
     ]
    }
   ],
   "source": [
    "# 10809\n",
    "import string\n",
    "s = input()\n",
    "for alpha in list(string.ascii_lowercase):\n",
    "    result = s.find(alpha)\n",
    "    print(result, end = ' ')"
   ]
  },
  {
   "cell_type": "code",
   "execution_count": 5,
   "metadata": {},
   "outputs": [
    {
     "name": "stdout",
     "output_type": "stream",
     "text": [
      "2\n",
      "3 ABC\n",
      "5 /HTP\n",
      "AAABBBCCC\n",
      "/////HHHHHTTTTTPPPPP\n"
     ]
    }
   ],
   "source": [
    "# 2675\n",
    "n = int(input())\n",
    "result_list = []\n",
    "for i in range(n):\n",
    "    num, abc = input().split()\n",
    "    result = ''\n",
    "    for j in range(len(abc)):\n",
    "        result = result + int(num) * abc[j]\n",
    "    result_list.append(result)\n",
    "for result in result_list:\n",
    "    print(result)"
   ]
  },
  {
   "cell_type": "code",
   "execution_count": 15,
   "metadata": {},
   "outputs": [
    {
     "name": "stdout",
     "output_type": "stream",
     "text": [
      "Mississipi\n",
      "?\n"
     ]
    }
   ],
   "source": [
    "# 1157\n",
    "import string\n",
    "word = list(input().upper())\n",
    "blist = []\n",
    "abc = string.ascii_uppercase\n",
    "\n",
    "for i in range(0, len(abc)):\n",
    "    if abc[i] in word:\n",
    "        blist.append(word.count(abc[i]))\n",
    "    else:\n",
    "        blist.append(0)\n",
    "        \n",
    "if blist.count(max(blist)) > 1:\n",
    "    print('?')\n",
    "else:\n",
    "    print(abc[blist.index(max(blist))])"
   ]
  },
  {
   "cell_type": "code",
   "execution_count": 4,
   "metadata": {},
   "outputs": [
    {
     "name": "stdout",
     "output_type": "stream",
     "text": [
      "1\n",
      "aabbaa\n",
      "{0}\n",
      "0\n"
     ]
    }
   ],
   "source": [
    "# 1316(unsolved)\n",
    "def group_word_checker():\n",
    "    n = int(input())\n",
    "    bset = set()\n",
    "    for k in range(n):\n",
    "        abc = input()\n",
    "        l = len(abc)\n",
    "        if l > 2:\n",
    "            for i in range(0, l - 1):\n",
    "                for j in range(i + 2, l):\n",
    "                    if abc[i] == abc[j]:\n",
    "                        bset.add(k)\n",
    "    print(bset)\n",
    "    return n - len(bset)\n",
    "\n",
    "print(group_word_checker())"
   ]
  },
  {
   "cell_type": "code",
   "execution_count": 29,
   "metadata": {},
   "outputs": [
    {
     "name": "stdout",
     "output_type": "stream",
     "text": [
      "734 893\n",
      "437\n"
     ]
    }
   ],
   "source": [
    "# 2908\n",
    "a, b = input().split()\n",
    "na, nb = a[::-1], b[::-1]\n",
    "if int(na) > int(nb):\n",
    "    print(na)\n",
    "else:\n",
    "    print(nb)"
   ]
  },
  {
   "cell_type": "code",
   "execution_count": 1,
   "metadata": {},
   "outputs": [
    {
     "name": "stdout",
     "output_type": "stream",
     "text": [
      "UNUCIC\n",
      "36\n"
     ]
    }
   ],
   "source": [
    "# 5622\n",
    "abc = input()\n",
    "nums = []\n",
    "for a in abc:\n",
    "    if a in ['A', 'B', 'C']:\n",
    "       nums.append(3)\n",
    "    elif a in ['D', 'E', 'F']:\n",
    "        nums.append(4)\n",
    "    elif a in ['G', 'H', 'I']:\n",
    "        nums.append(5)\n",
    "    elif a in ['J', 'K', 'L']:\n",
    "        nums.append(6)\n",
    "    elif a in ['M', 'N', 'O']:\n",
    "        nums.append(7)\n",
    "    elif a in ['P', 'Q', 'R', 'S']:\n",
    "        nums.append(8)\n",
    "    elif a in ['T', 'U', 'V']:\n",
    "        nums.append(9)\n",
    "    elif a in ['W', 'X', 'Y', 'Z']:\n",
    "        nums.append(10)\n",
    "    else:\n",
    "        nums.append(11)\n",
    "        \n",
    "print(sum(nums))"
   ]
  },
  {
   "cell_type": "code",
   "execution_count": 60,
   "metadata": {},
   "outputs": [
    {
     "name": "stdout",
     "output_type": "stream",
     "text": [
      "c=c=\n",
      "2\n"
     ]
    }
   ],
   "source": [
    "# 2941\n",
    "abc = input()\n",
    "bdict = {}\n",
    "calpha = ['c=', 'c-', 'dz=', 'd-', 'lj', 'nj', 's=', 'z=']\n",
    "for c in calpha:\n",
    "    bdict[c] = 0\n",
    "    if c in abc:\n",
    "        bdict[c] += abc.count(c)\n",
    "ccount = sum(list(bdict.values()))\n",
    "print(len(abc) - ccount)"
   ]
  }
 ],
 "metadata": {
  "kernelspec": {
   "display_name": "Python 3",
   "language": "python",
   "name": "python3"
  },
  "language_info": {
   "codemirror_mode": {
    "name": "ipython",
    "version": 3
   },
   "file_extension": ".py",
   "mimetype": "text/x-python",
   "name": "python",
   "nbconvert_exporter": "python",
   "pygments_lexer": "ipython3",
   "version": "3.6.5"
  }
 },
 "nbformat": 4,
 "nbformat_minor": 2
}
