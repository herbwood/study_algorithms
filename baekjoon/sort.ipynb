{
 "cells": [
  {
   "cell_type": "code",
   "execution_count": 4,
   "metadata": {},
   "outputs": [
    {
     "name": "stdout",
     "output_type": "stream",
     "text": [
      "5\n",
      "5\n",
      "2\n",
      "3\n",
      "4\n",
      "1\n",
      "1\n",
      "2\n",
      "3\n",
      "4\n",
      "5\n"
     ]
    }
   ],
   "source": [
    "# 2750\n",
    "def find_ins_idx(r, v):\n",
    "    for i in range(0, len(r)):\n",
    "        if v < r[i]:\n",
    "            return i\n",
    "    return len(r)\n",
    "\n",
    "def ins_sort(a):\n",
    "    result = [] \n",
    "    while a:\n",
    "        value = a.pop(0)\n",
    "        ins_idx = find_ins_idx(result, value) \n",
    "        result.insert(ins_idx, value) \n",
    "    return result\n",
    "\n",
    "n = int(input())\n",
    "blist = []\n",
    "for i in range(n):\n",
    "    a = int(input())\n",
    "    blist.append(a)\n",
    "    \n",
    "for b in ins_sort(blist):\n",
    "    print(b)"
   ]
  },
  {
   "cell_type": "code",
   "execution_count": 21,
   "metadata": {},
   "outputs": [],
   "source": [
    "# 2108\n",
    "from collections import Counter\n",
    "import sys\n",
    "n = int(sys.stdin.readline())\n",
    "blist = []\n",
    "for i in range(n):\n",
    "    a = int(sys.stdin.readline())\n",
    "    blist.append(a)\n",
    "\n",
    "blist.sort()\n",
    "\n",
    "average = int(round(sum(blist) / n, 0))\n",
    "\n",
    "if n % 2 == 0:\n",
    "    median = (blist[n // 2] + blist[n // 2 + 1]) / 2\n",
    "else:\n",
    "    median = blist[n // 2]\n",
    "\n",
    "def find_mode(blist):\n",
    "    cnt = Counter(blist)\n",
    "    order = cnt.most_common()\n",
    "    if len(blist) >= 2:\n",
    "        if order[0][1] == order[1][1]:\n",
    "            return order[1][0]\n",
    "        else:\n",
    "            return order[0][0]\n",
    "    else:\n",
    "        return order[0][0]\n",
    "    \n",
    "mode = find_mode(blist)\n",
    "    \n",
    "extent = max(blist) - min(blist)\n",
    "\n",
    "print(average)\n",
    "print(median)\n",
    "print(mode)\n",
    "print(extent)"
   ]
  },
  {
   "cell_type": "code",
   "execution_count": 1,
   "metadata": {},
   "outputs": [
    {
     "name": "stdout",
     "output_type": "stream",
     "text": [
      "2143\n",
      "4321\n"
     ]
    }
   ],
   "source": [
    "# 1427\n",
    "a = list(input())\n",
    "result = \"\".join(sorted(a, reverse = True))\n",
    "print(result)"
   ]
  },
  {
   "cell_type": "code",
   "execution_count": 8,
   "metadata": {},
   "outputs": [
    {
     "name": "stdout",
     "output_type": "stream",
     "text": [
      "13\n",
      "but\n",
      "i\n",
      "wont\n",
      "hesitate\n",
      "no\n",
      "more\n",
      "no\n",
      "more\n",
      "it\n",
      "cannot\n",
      "wait\n",
      "im\n",
      "yours\n",
      "i\n",
      "im\n",
      "no\n",
      "no\n",
      "it\n",
      "but\n",
      "more\n",
      "more\n",
      "wait\n",
      "wont\n",
      "yours\n",
      "cannot\n",
      "hesitate\n"
     ]
    }
   ],
   "source": [
    "# 1181\n",
    "n = int(input())\n",
    "blist = list(set([input() for i in range(n)]))\n",
    "blist.sort()\n",
    "blist.sort (key = lambda x : len (x))\n",
    "for b in blist:\n",
    "    print(b)"
   ]
  },
  {
   "cell_type": "code",
   "execution_count": 4,
   "metadata": {},
   "outputs": [
    {
     "name": "stdin",
     "output_type": "stream",
     "text": [
      " 3\n",
      " 1324234\n",
      " 2221\n",
      " 12341234234234\n"
     ]
    },
    {
     "name": "stdout",
     "output_type": "stream",
     "text": [
      "2221\n",
      "1324234\n",
      "12341234234234\n"
     ]
    }
   ],
   "source": [
    "# 2751\n",
    "\n",
    "n = int(input())\n",
    "blist = sorted([int(input()) for _ in range(n)])\n",
    "for i in blist:\n",
    "    print(i)"
   ]
  },
  {
   "cell_type": "code",
   "execution_count": null,
   "metadata": {},
   "outputs": [],
   "source": []
  },
  {
   "cell_type": "code",
   "execution_count": null,
   "metadata": {},
   "outputs": [],
   "source": []
  },
  {
   "cell_type": "code",
   "execution_count": null,
   "metadata": {},
   "outputs": [],
   "source": []
  }
 ],
 "metadata": {
  "kernelspec": {
   "display_name": "Python 3",
   "language": "python",
   "name": "python3"
  },
  "language_info": {
   "codemirror_mode": {
    "name": "ipython",
    "version": 3
   },
   "file_extension": ".py",
   "mimetype": "text/x-python",
   "name": "python",
   "nbconvert_exporter": "python",
   "pygments_lexer": "ipython3",
   "version": "3.7.3"
  }
 },
 "nbformat": 4,
 "nbformat_minor": 4
}
