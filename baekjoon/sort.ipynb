{
 "cells": [
  {
   "cell_type": "code",
   "execution_count": 4,
   "metadata": {},
   "outputs": [
    {
     "name": "stdout",
     "output_type": "stream",
     "text": [
      "5\n",
      "5\n",
      "2\n",
      "3\n",
      "4\n",
      "1\n",
      "1\n",
      "2\n",
      "3\n",
      "4\n",
      "5\n"
     ]
    }
   ],
   "source": [
    "# 2750\n",
    "def find_ins_idx(r, v):\n",
    "    for i in range(0, len(r)):\n",
    "        if v < r[i]:\n",
    "            return i\n",
    "    return len(r)\n",
    "\n",
    "def ins_sort(a):\n",
    "    result = [] \n",
    "    while a:\n",
    "        value = a.pop(0)\n",
    "        ins_idx = find_ins_idx(result, value) \n",
    "        result.insert(ins_idx, value) \n",
    "    return result\n",
    "\n",
    "n = int(input())\n",
    "blist = []\n",
    "for i in range(n):\n",
    "    a = int(input())\n",
    "    blist.append(a)\n",
    "    \n",
    "for b in ins_sort(blist):\n",
    "    print(b)"
   ]
  },
  {
   "cell_type": "code",
   "execution_count": 1,
   "metadata": {
    "scrolled": true
   },
   "outputs": [
    {
     "name": "stdout",
     "output_type": "stream",
     "text": [
      "5\n",
      "5\n",
      "4\n",
      "3\n",
      "2\n",
      "1\n",
      "1\n",
      "2\n",
      "3\n",
      "4\n",
      "5\n"
     ]
    }
   ],
   "source": [
    "# 2751(unsolved)\n",
    "n = int(input())\n",
    "blist = []\n",
    "for i in range(n):\n",
    "    a = int(input())\n",
    "    blist.append(a)\n",
    "\n",
    "blist.sort()\n",
    "for b in blist:\n",
    "    print(b)"
   ]
  },
  {
   "cell_type": "code",
   "execution_count": null,
   "metadata": {},
   "outputs": [],
   "source": []
  },
  {
   "cell_type": "code",
   "execution_count": 16,
   "metadata": {},
   "outputs": [
    {
     "name": "stdout",
     "output_type": "stream",
     "text": [
      "5\n",
      "-1\n",
      "-2\n",
      "-3\n",
      "-1\n",
      "-2\n",
      "[-3, -2, -2, -1, -1]\n",
      "-2\n",
      "-2\n",
      "-2\n",
      "2\n"
     ]
    }
   ],
   "source": [
    "# 2108\n",
    "n = int(input())\n",
    "blist = []\n",
    "for i in range(n):\n",
    "    a = int(input())\n",
    "    blist.append(a)\n",
    "\n",
    "blist.sort()\n",
    "\n",
    "average = int(round(sum(blist) / n, 0))\n",
    "\n",
    "if n % 2 == 0:\n",
    "    median = (blist[n // 2] + blist[n // 2 + 1]) / 2\n",
    "else:\n",
    "    median = blist[n // 2]\n",
    "\n",
    "idx_list = []\n",
    "for j in range(n):\n",
    "    idx_list.append(blist.count(blist[j]))\n",
    "mode = blist[max(idx_list)]\n",
    "\n",
    "extent = max(blist) - min(blist)\n",
    "\n",
    "print(blist)\n",
    "print(average)\n",
    "print(median)\n",
    "print(mode)\n",
    "print(extent)"
   ]
  },
  {
   "cell_type": "code",
   "execution_count": 1,
   "metadata": {},
   "outputs": [
    {
     "name": "stdout",
     "output_type": "stream",
     "text": [
      "2143\n",
      "4321\n"
     ]
    }
   ],
   "source": [
    "# 1427\n",
    "a = list(input())\n",
    "result = \"\".join(sorted(a, reverse = True))\n",
    "print(result)"
   ]
  },
  {
   "cell_type": "code",
   "execution_count": 8,
   "metadata": {},
   "outputs": [
    {
     "name": "stdout",
     "output_type": "stream",
     "text": [
      "13\n",
      "but\n",
      "i\n",
      "wont\n",
      "hesitate\n",
      "no\n",
      "more\n",
      "no\n",
      "more\n",
      "it\n",
      "cannot\n",
      "wait\n",
      "im\n",
      "yours\n",
      "i\n",
      "im\n",
      "no\n",
      "no\n",
      "it\n",
      "but\n",
      "more\n",
      "more\n",
      "wait\n",
      "wont\n",
      "yours\n",
      "cannot\n",
      "hesitate\n"
     ]
    }
   ],
   "source": [
    "# 1181\n",
    "n = int(input())\n",
    "blist = list(set([input() for i in range(n)]))\n",
    "blist.sort()\n",
    "blist.sort (key = lambda x : len (x))\n",
    "for b in blist:\n",
    "    print(b)"
   ]
  },
  {
   "cell_type": "code",
   "execution_count": null,
   "metadata": {},
   "outputs": [],
   "source": []
  },
  {
   "cell_type": "code",
   "execution_count": null,
   "metadata": {},
   "outputs": [],
   "source": []
  }
 ],
 "metadata": {
  "kernelspec": {
   "display_name": "Python 3",
   "language": "python",
   "name": "python3"
  },
  "language_info": {
   "codemirror_mode": {
    "name": "ipython",
    "version": 3
   },
   "file_extension": ".py",
   "mimetype": "text/x-python",
   "name": "python",
   "nbconvert_exporter": "python",
   "pygments_lexer": "ipython3",
   "version": "3.6.5"
  }
 },
 "nbformat": 4,
 "nbformat_minor": 2
}
