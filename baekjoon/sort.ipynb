{
 "cells": [
  {
   "cell_type": "code",
   "execution_count": 4,
   "metadata": {},
   "outputs": [
    {
     "name": "stdout",
     "output_type": "stream",
     "text": [
      "5\n",
      "5\n",
      "2\n",
      "3\n",
      "4\n",
      "1\n",
      "1\n",
      "2\n",
      "3\n",
      "4\n",
      "5\n"
     ]
    }
   ],
   "source": [
    "# 2750\n",
    "def find_ins_idx(r, v):\n",
    "    for i in range(0, len(r)):\n",
    "        if v < r[i]:\n",
    "            return i\n",
    "    return len(r)\n",
    "\n",
    "def ins_sort(a):\n",
    "    result = [] \n",
    "    while a:\n",
    "        value = a.pop(0)\n",
    "        ins_idx = find_ins_idx(result, value) \n",
    "        result.insert(ins_idx, value) \n",
    "    return result\n",
    "\n",
    "n = int(input())\n",
    "blist = []\n",
    "for i in range(n):\n",
    "    a = int(input())\n",
    "    blist.append(a)\n",
    "    \n",
    "for b in ins_sort(blist):\n",
    "    print(b)"
   ]
  },
  {
   "cell_type": "code",
   "execution_count": 21,
   "metadata": {},
   "outputs": [],
   "source": [
    "# 2108\n",
    "from collections import Counter\n",
    "import sys\n",
    "n = int(sys.stdin.readline())\n",
    "blist = []\n",
    "for i in range(n):\n",
    "    a = int(sys.stdin.readline())\n",
    "    blist.append(a)\n",
    "\n",
    "blist.sort()\n",
    "\n",
    "average = int(round(sum(blist) / n, 0))\n",
    "\n",
    "if n % 2 == 0:\n",
    "    median = (blist[n // 2] + blist[n // 2 + 1]) / 2\n",
    "else:\n",
    "    median = blist[n // 2]\n",
    "\n",
    "def find_mode(blist):\n",
    "    cnt = Counter(blist)\n",
    "    order = cnt.most_common()\n",
    "    if len(blist) >= 2:\n",
    "        if order[0][1] == order[1][1]:\n",
    "            return order[1][0]\n",
    "        else:\n",
    "            return order[0][0]\n",
    "    else:\n",
    "        return order[0][0]\n",
    "    \n",
    "mode = find_mode(blist)\n",
    "    \n",
    "extent = max(blist) - min(blist)\n",
    "\n",
    "print(average)\n",
    "print(median)\n",
    "print(mode)\n",
    "print(extent)"
   ]
  },
  {
   "cell_type": "code",
   "execution_count": 1,
   "metadata": {},
   "outputs": [
    {
     "name": "stdout",
     "output_type": "stream",
     "text": [
      "2143\n",
      "4321\n"
     ]
    }
   ],
   "source": [
    "# 1427\n",
    "a = list(input())\n",
    "result = \"\".join(sorted(a, reverse = True))\n",
    "print(result)"
   ]
  },
  {
   "cell_type": "code",
   "execution_count": 8,
   "metadata": {},
   "outputs": [
    {
     "name": "stdout",
     "output_type": "stream",
     "text": [
      "13\n",
      "but\n",
      "i\n",
      "wont\n",
      "hesitate\n",
      "no\n",
      "more\n",
      "no\n",
      "more\n",
      "it\n",
      "cannot\n",
      "wait\n",
      "im\n",
      "yours\n",
      "i\n",
      "im\n",
      "no\n",
      "no\n",
      "it\n",
      "but\n",
      "more\n",
      "more\n",
      "wait\n",
      "wont\n",
      "yours\n",
      "cannot\n",
      "hesitate\n"
     ]
    }
   ],
   "source": [
    "# 1181\n",
    "n = int(input())\n",
    "blist = list(set([input() for i in range(n)]))\n",
    "blist.sort()\n",
    "blist.sort (key = lambda x : len (x))\n",
    "for b in blist:\n",
    "    print(b)"
   ]
  },
  {
   "cell_type": "code",
   "execution_count": 4,
   "metadata": {},
   "outputs": [
    {
     "name": "stdin",
     "output_type": "stream",
     "text": [
      " 3\n",
      " 1324234\n",
      " 2221\n",
      " 12341234234234\n"
     ]
    },
    {
     "name": "stdout",
     "output_type": "stream",
     "text": [
      "2221\n",
      "1324234\n",
      "12341234234234\n"
     ]
    }
   ],
   "source": [
    "# 2751\n",
    "\n",
    "n = int(input())\n",
    "blist = sorted([int(input()) for _ in range(n)])\n",
    "for i in blist:\n",
    "    print(i)"
   ]
  },
  {
   "cell_type": "code",
   "execution_count": 3,
   "metadata": {},
   "outputs": [
    {
     "name": "stdin",
     "output_type": "stream",
     "text": [
      " 10\n",
      " 5\n",
      " 2\n",
      " 3\n",
      " 1\n",
      " 4\n",
      " 2\n",
      " 3\n",
      " 5\n",
      " 1\n",
      " 7\n"
     ]
    },
    {
     "name": "stdout",
     "output_type": "stream",
     "text": [
      "1\n",
      "1\n",
      "2\n",
      "2\n",
      "3\n",
      "3\n",
      "4\n",
      "5\n",
      "5\n",
      "7\n"
     ]
    }
   ],
   "source": [
    "# A: input array\n",
    "# k: maximum value of A\n",
    "def counting_sort(A, k):\n",
    "    \n",
    "    # B: output array\n",
    "    # init with -1\n",
    "    B = [-1] * len(A)\n",
    "    \n",
    "    # C: counting array\n",
    "    # init with zeros\n",
    "    C = [0] * (k + 1)\n",
    "    \n",
    "    # count occurences\n",
    "    for a in A:\n",
    "        C[a] += 1\n",
    "    \n",
    "    # update C\n",
    "    for i in range(k):\n",
    "        C[i+1] += C[i]\n",
    "    \n",
    "    # update B\n",
    "    for j in reversed(range(len(A))):\n",
    "    \tB[C[A[j]] - 1] = A[j]\n",
    "    \tC[A[j]] -= 1\n",
    "\n",
    "    return B\n",
    "\n",
    "n = int(input())\n",
    "A = [int(input()) for _ in range(n)]\n",
    "for i in counting_sort(A, 10001):\n",
    "    print(i)"
   ]
  },
  {
   "cell_type": "code",
   "execution_count": 4,
   "metadata": {},
   "outputs": [
    {
     "name": "stdin",
     "output_type": "stream",
     "text": [
      " 9\n",
      " 0\n"
     ]
    },
    {
     "name": "stdout",
     "output_type": "stream",
     "text": [
      "0\n"
     ]
    },
    {
     "name": "stdin",
     "output_type": "stream",
     "text": [
      " 1234567\n",
      " 1\n",
      " 2\n",
      " 0\n"
     ]
    },
    {
     "name": "stdout",
     "output_type": "stream",
     "text": [
      "1\n"
     ]
    },
    {
     "name": "stdin",
     "output_type": "stream",
     "text": [
      " 0\n"
     ]
    },
    {
     "name": "stdout",
     "output_type": "stream",
     "text": [
      "2\n"
     ]
    },
    {
     "name": "stdin",
     "output_type": "stream",
     "text": [
      " 0\n"
     ]
    },
    {
     "name": "stdout",
     "output_type": "stream",
     "text": [
      "1234567\n"
     ]
    },
    {
     "name": "stdin",
     "output_type": "stream",
     "text": [
      " 0\n"
     ]
    },
    {
     "name": "stdout",
     "output_type": "stream",
     "text": [
      "0\n"
     ]
    },
    {
     "name": "stdin",
     "output_type": "stream",
     "text": [
      " 32\n"
     ]
    }
   ],
   "source": [
    "# 1927\n",
    "\n",
    "import heapq\n",
    "\n",
    "numbers = int(input())\n",
    "heap = []\n",
    "\n",
    "for _ in range(numbers):\n",
    "    num = int(input())\n",
    "    if num != 0:\n",
    "        heapq.heappush(heap, num)\n",
    "    else:\n",
    "        try:\n",
    "            print(heapq.heappop(heap))\n",
    "        except:\n",
    "            print(0)\n",
    "         \n",
    "\n",
    "# my solution\n",
    "# blist = [10, 26, 5, 37, 1, 61, 11, 59, 15, 48, 19]\n",
    "# n = len(blist)\n",
    "\n",
    "# def heapify(blist):\n",
    "    \n",
    "#     for _ in range(len(blist)):\n",
    "#         try:\n",
    "#             for i in range(0, len(blist)):\n",
    "#                 if blist[2*i+1] < blist[i]:\n",
    "#                     temp = blist[i] \n",
    "#                     blist[i] = blist[2*i+1]\n",
    "#                     blist[2*i+1] = temp\n",
    "\n",
    "#                 if blist[2*i+2] < blist[i]:\n",
    "#                     temp = blist[i]\n",
    "#                     blist[i] = blist[2*i+2]\n",
    "#                     blist[2*i+2] = temp\n",
    "#         except:\n",
    "#             pass\n",
    "\n",
    "# heapify(blist)\n",
    "# print(blist)"
   ]
  },
  {
   "cell_type": "code",
   "execution_count": 78,
   "metadata": {},
   "outputs": [
    {
     "data": {
      "text/plain": [
       "[1, 5, 10, 11, 15, 19, 26, 37, 48, 59, 61]"
      ]
     },
     "execution_count": 78,
     "metadata": {},
     "output_type": "execute_result"
    }
   ],
   "source": [
    "# heap sort\n",
    "\n",
    "blist = [10, 26, 5, 37, 1, 61, 11, 59, 15, 48, 19]\n",
    "\n",
    "def heapify(unsorted, index, heap_size):\n",
    "    largest = index\n",
    "    left_index = 2 * index + 1\n",
    "    right_index = 2 * index + 2\n",
    "    \n",
    "    if left_index < heap_size and unsorted[left_index] > unsorted[largest]:\n",
    "        largest = left_index\n",
    "    \n",
    "    if right_index < heap_size and unsorted[right_index] > unsorted[largest]:\n",
    "        largest = right_index\n",
    "    \n",
    "    if largest != index:\n",
    "        unsorted[largest], unsorted[index] = unsorted[index], unsorted[largest]\n",
    "        heapify(unsorted, largest, heap_size)\n",
    "        \n",
    "    return unsorted\n",
    "\n",
    "def heap_sort(unsorted):\n",
    "    n = len(unsorted)\n",
    "    \n",
    "    for i in range(n//2 - 1, -1, -1):\n",
    "        heapify(unsorted, i, n)\n",
    "        \n",
    "    for i in range(n-1, 0, -1):\n",
    "        unsorted[0], unsorted[i] = unsorted[i], unsorted[0]\n",
    "        heapify(unsorted, 0, i)\n",
    "    \n",
    "    return unsorted\n",
    "\n",
    "heap_sort(blist)"
   ]
  },
  {
   "cell_type": "code",
   "execution_count": 5,
   "metadata": {},
   "outputs": [
    {
     "name": "stdin",
     "output_type": "stream",
     "text": [
      " 5\n",
      " 3 4\n",
      " 1 1\n",
      " 1 -1\n",
      " 2 2\n",
      " 3 3\n"
     ]
    },
    {
     "name": "stdout",
     "output_type": "stream",
     "text": [
      "1 -1\n",
      "1 1\n",
      "2 2\n",
      "3 3\n",
      "3 4\n"
     ]
    }
   ],
   "source": [
    "# 11650\n",
    "\n",
    "n = int(input())\n",
    "a = [tuple(map(int, input().split())) for _ in range(n)]\n",
    "a.sort(key=lambda x : (x[0], x[1]))\n",
    "for (x, y) in a:\n",
    "    print(x, y)"
   ]
  },
  {
   "cell_type": "code",
   "execution_count": 1,
   "metadata": {},
   "outputs": [
    {
     "name": "stdin",
     "output_type": "stream",
     "text": [
      " 10\n",
      " 5\n",
      " 2\n",
      " 3\n",
      " 1\n",
      " 4\n",
      " 2\n",
      " 3\n",
      " 5\n",
      " 1\n",
      " 7\n"
     ]
    },
    {
     "name": "stdout",
     "output_type": "stream",
     "text": [
      "1\n",
      "1\n",
      "2\n",
      "2\n",
      "3\n",
      "3\n",
      "4\n",
      "5\n",
      "5\n",
      "7\n"
     ]
    }
   ],
   "source": [
    "# 10989\n",
    "\n",
    "import sys\n",
    "\n",
    "n = int(input())\n",
    "d = [0] * 10001\n",
    "\n",
    "for i in range(n):\n",
    "    num = int(sys.stdin.readline())\n",
    "    d[num] += 1\n",
    "    \n",
    "for j in range(len(d)):\n",
    "    if d[j] != 0:\n",
    "        for k in range(d[j]):\n",
    "            print(j)"
   ]
  },
  {
   "cell_type": "code",
   "execution_count": null,
   "metadata": {},
   "outputs": [],
   "source": []
  }
 ],
 "metadata": {
  "kernelspec": {
   "display_name": "Python 3",
   "language": "python",
   "name": "python3"
  },
  "language_info": {
   "codemirror_mode": {
    "name": "ipython",
    "version": 3
   },
   "file_extension": ".py",
   "mimetype": "text/x-python",
   "name": "python",
   "nbconvert_exporter": "python",
   "pygments_lexer": "ipython3",
   "version": "3.7.6"
  }
 },
 "nbformat": 4,
 "nbformat_minor": 4
}
