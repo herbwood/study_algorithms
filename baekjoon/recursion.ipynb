{
 "cells": [
  {
   "cell_type": "code",
   "execution_count": 7,
   "metadata": {},
   "outputs": [
    {
     "name": "stdin",
     "output_type": "stream",
     "text": [
      " 10\n"
     ]
    },
    {
     "name": "stdout",
     "output_type": "stream",
     "text": [
      "3628800\n"
     ]
    }
   ],
   "source": [
    "# 10872\n",
    "\n",
    "def factorial(n):\n",
    "    if n <= 1:\n",
    "        return 1\n",
    "    return n * factorial(n-1)\n",
    "\n",
    "    \n",
    "n = int(input())\n",
    "print(factorial(n))"
   ]
  },
  {
   "cell_type": "code",
   "execution_count": 9,
   "metadata": {},
   "outputs": [
    {
     "name": "stdin",
     "output_type": "stream",
     "text": [
      " 10\n"
     ]
    },
    {
     "name": "stdout",
     "output_type": "stream",
     "text": [
      "55\n"
     ]
    }
   ],
   "source": [
    "# 10870\n",
    "\n",
    "def fibo(n):\n",
    "    if n == 0:\n",
    "        return 0\n",
    "    elif n == 1:\n",
    "        return 1\n",
    "    return fibo(n-1) + fibo(n-2)\n",
    "    \n",
    "n = int(input())\n",
    "print(fibo(n))"
   ]
  },
  {
   "cell_type": "code",
   "execution_count": 27,
   "metadata": {},
   "outputs": [
    {
     "name": "stdin",
     "output_type": "stream",
     "text": [
      " 27\n"
     ]
    },
    {
     "name": "stdout",
     "output_type": "stream",
     "text": [
      "***************************\n",
      "* ** ** ** ** ** ** ** ** *\n",
      "***************************\n",
      "***   ******   ******   ***\n",
      "* *   * ** *   * ** *   * *\n",
      "***   ******   ******   ***\n",
      "***************************\n",
      "* ** ** ** ** ** ** ** ** *\n",
      "***************************\n",
      "*********         *********\n",
      "* ** ** *         * ** ** *\n",
      "*********         *********\n",
      "***   ***         ***   ***\n",
      "* *   * *         * *   * *\n",
      "***   ***         ***   ***\n",
      "*********         *********\n",
      "* ** ** *         * ** ** *\n",
      "*********         *********\n",
      "***************************\n",
      "* ** ** ** ** ** ** ** ** *\n",
      "***************************\n",
      "***   ******   ******   ***\n",
      "* *   * ** *   * ** *   * *\n",
      "***   ******   ******   ***\n",
      "***************************\n",
      "* ** ** ** ** ** ** ** ** *\n",
      "***************************\n"
     ]
    }
   ],
   "source": [
    "# 2447\n",
    "\n",
    "from numpy import array\n",
    "\n",
    "def star(num, n, arr):\n",
    "    if n == 1:\n",
    "        return arr\n",
    "    \n",
    "    for a in range(1, num, n):\n",
    "        for i in range(int(1/3 * n)+a, int(2/3 * n)+ a):\n",
    "            for b in range(1, num, n):\n",
    "                for j in range(int(1/3 * n)+b, int(2/3 * n)+b):\n",
    "                    try:\n",
    "                        arr[i-1][j-1] = ' '\n",
    "                    except:\n",
    "                        pass\n",
    "            \n",
    "    return star(num, int(1/3 * n), arr)\n",
    "\n",
    "n = int(input())\n",
    "arr = array([['*']*n] * n)\n",
    "num = n\n",
    "\n",
    "arr = star(num, n, arr)\n",
    "\n",
    "for ar in arr:\n",
    "    for a in ar:\n",
    "        print(a, end = '')\n",
    "    print()"
   ]
  },
  {
   "cell_type": "code",
   "execution_count": 33,
   "metadata": {},
   "outputs": [
    {
     "name": "stdin",
     "output_type": "stream",
     "text": [
      " 27\n"
     ]
    },
    {
     "name": "stdout",
     "output_type": "stream",
     "text": [
      "***************************\n",
      "* ** ** ** ** ** ** ** ** *\n",
      "***************************\n",
      "***   ******   ******   ***\n",
      "* *   * ** *   * ** *   * *\n",
      "***   ******   ******   ***\n",
      "***************************\n",
      "* ** ** ** ** ** ** ** ** *\n",
      "***************************\n",
      "*********         *********\n",
      "* ** ** *         * ** ** *\n",
      "*********         *********\n",
      "***   ***         ***   ***\n",
      "* *   * *         * *   * *\n",
      "***   ***         ***   ***\n",
      "*********         *********\n",
      "* ** ** *         * ** ** *\n",
      "*********         *********\n",
      "***************************\n",
      "* ** ** ** ** ** ** ** ** *\n",
      "***************************\n",
      "***   ******   ******   ***\n",
      "* *   * ** *   * ** *   * *\n",
      "***   ******   ******   ***\n",
      "***************************\n",
      "* ** ** ** ** ** ** ** ** *\n",
      "***************************\n"
     ]
    }
   ],
   "source": [
    "# 2447\n",
    "\n",
    "def star(i):\n",
    "    global arr \n",
    "    idx = [i for i in range(n) if (i // 3 ** cnt_) % 3 == 1]\n",
    "    for i in idx:\n",
    "        for j in idx:\n",
    "            arr[i][j] = \" \"\n",
    "\n",
    "n = int(input())\n",
    "v = n\n",
    "cnt = 0\n",
    "\n",
    "while v! = 1:\n",
    "    v /= 3\n",
    "    cnt += 1\n",
    "\n",
    "arr = [[\"*\"]*n for _ in range(n)]\n",
    "for cnt_ in range(cnt):\n",
    "    star(cnt_)\n",
    "\n",
    "print('\\n'.join([''.join([str(i) for i in row]) for row in arr]))"
   ]
  },
  {
   "cell_type": "code",
   "execution_count": 52,
   "metadata": {},
   "outputs": [
    {
     "name": "stdin",
     "output_type": "stream",
     "text": [
      " 3\n"
     ]
    },
    {
     "name": "stdout",
     "output_type": "stream",
     "text": [
      "7\n",
      "1 3\n",
      "1 2\n",
      "3 2\n",
      "1 3\n",
      "2 1\n",
      "2 3\n",
      "1 3\n"
     ]
    }
   ],
   "source": [
    "blist = []\n",
    "\n",
    "def hanoi(n, from_pos, to_pos, aux_pos):\n",
    "    if n == 1:                         \n",
    "        blist.append((from_pos, to_pos))\n",
    "        return \n",
    "    \n",
    "    hanoi(n - 1, from_pos, aux_pos, to_pos)\n",
    "    \n",
    "    blist.append((from_pos, to_pos))\n",
    "    \n",
    "    hanoi(n - 1, aux_pos, to_pos, from_pos)\n",
    "\n",
    "n = int(input())\n",
    "hanoi(n, 1, 3, 2)\n",
    "print(len(blist))\n",
    "for (a, b) in blist:\n",
    "    print(a, b)"
   ]
  },
  {
   "cell_type": "code",
   "execution_count": null,
   "metadata": {},
   "outputs": [],
   "source": [
    " "
   ]
  }
 ],
 "metadata": {
  "kernelspec": {
   "display_name": "Python 3",
   "language": "python",
   "name": "python3"
  },
  "language_info": {
   "codemirror_mode": {
    "name": "ipython",
    "version": 3
   },
   "file_extension": ".py",
   "mimetype": "text/x-python",
   "name": "python",
   "nbconvert_exporter": "python",
   "pygments_lexer": "ipython3",
   "version": "3.7.3"
  }
 },
 "nbformat": 4,
 "nbformat_minor": 4
}
