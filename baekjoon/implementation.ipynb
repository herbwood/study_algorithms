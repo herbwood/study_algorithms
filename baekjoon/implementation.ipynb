{
 "cells": [
  {
   "cell_type": "code",
   "execution_count": 1,
   "metadata": {},
   "outputs": [
    {
     "name": "stdout",
     "output_type": "stream",
     "text": [
      "0 1 0 1\n",
      "B\n",
      "1 0 0 0 \n",
      "C\n",
      "1 1 1 1\n",
      "E\n"
     ]
    }
   ],
   "source": [
    "# 2490\n",
    "def yut():\n",
    "    for i in range(3):\n",
    "        yut = list(map(int, input().split()))\n",
    "        result = yut.count(1)\n",
    "        if result == 1:\n",
    "            yield 'C'\n",
    "        elif result == 2:\n",
    "            yield 'B'\n",
    "        elif result == 3:\n",
    "            yield 'A'\n",
    "        elif result == 0:\n",
    "            yield 'D'\n",
    "        elif result == 4:\n",
    "            yield 'E'\n",
    "            \n",
    "for a in yut():\n",
    "    print(a)"
   ]
  },
  {
   "cell_type": "code",
   "execution_count": null,
   "metadata": {},
   "outputs": [],
   "source": []
  }
 ],
 "metadata": {
  "kernelspec": {
   "display_name": "Python 3",
   "language": "python",
   "name": "python3"
  },
  "language_info": {
   "codemirror_mode": {
    "name": "ipython",
    "version": 3
   },
   "file_extension": ".py",
   "mimetype": "text/x-python",
   "name": "python",
   "nbconvert_exporter": "python",
   "pygments_lexer": "ipython3",
   "version": "3.6.5"
  }
 },
 "nbformat": 4,
 "nbformat_minor": 2
}
