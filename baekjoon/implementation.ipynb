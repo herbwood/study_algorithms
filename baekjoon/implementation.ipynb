{
 "cells": [
  {
   "cell_type": "code",
   "execution_count": 1,
   "metadata": {},
   "outputs": [
    {
     "name": "stdout",
     "output_type": "stream",
     "text": [
      "0 1 0 1\n",
      "B\n",
      "1 0 0 0 \n",
      "C\n",
      "1 1 1 1\n",
      "E\n"
     ]
    }
   ],
   "source": [
    "# 2490\n",
    "def yut():\n",
    "    for i in range(3):\n",
    "        yut = list(map(int, input().split()))\n",
    "        result = yut.count(1)\n",
    "        if result == 1:\n",
    "            yield 'C'\n",
    "        elif result == 2:\n",
    "            yield 'B'\n",
    "        elif result == 3:\n",
    "            yield 'A'\n",
    "        elif result == 0:\n",
    "            yield 'D'\n",
    "        elif result == 4:\n",
    "            yield 'E'\n",
    "            \n",
    "for a in yut():\n",
    "    print(a)"
   ]
  },
  {
   "cell_type": "code",
   "execution_count": 4,
   "metadata": {},
   "outputs": [
    {
     "name": "stdout",
     "output_type": "stream",
     "text": [
      "1\n",
      "3.141593\n",
      "2.000000\n"
     ]
    }
   ],
   "source": [
    "# 3053\n",
    "import math\n",
    "r = int(input())\n",
    "\n",
    "print(\"{0:0.6f}\".format(math.pi * pow(r, 2)))\n",
    "print(\"{0:0.6f}\".format(2 * pow(r, 2)))"
   ]
  },
  {
   "cell_type": "code",
   "execution_count": 1,
   "metadata": {},
   "outputs": [],
   "source": [
    "# 5597\n",
    "\n",
    "import sys\n",
    "\n",
    "a = [False] * 30\n",
    "\n",
    "for _ in range(28):\n",
    "    n = int(sys.stdin.readline())\n",
    "    a[n-1] = True\n",
    "\n",
    "for i in range(30):\n",
    "    if a[i] == False:\n",
    "        print(i+1)"
   ]
  },
  {
   "cell_type": "code",
   "execution_count": 2,
   "metadata": {},
   "outputs": [],
   "source": [
    "# 10797\n",
    "\n",
    "import sys\n",
    "\n",
    "n = int(sys.stdin.readline())\n",
    "a = list(map(int, sys.stdin.readline().split()))\n",
    "\n",
    "cnt = 0\n",
    "for i in range(len(a)):\n",
    "    if n == a[i]:\n",
    "        cnt += 1\n",
    "        \n",
    "print(cnt)"
   ]
  },
  {
   "cell_type": "code",
   "execution_count": 3,
   "metadata": {},
   "outputs": [
    {
     "name": "stdin",
     "output_type": "stream",
     "text": [
      " 9850\n",
      " 1050\n",
      " 800\n",
      " 420\n",
      " 380\n",
      " 600\n",
      " 820\n",
      " 2400\n",
      " 1800\n",
      " 980\n"
     ]
    },
    {
     "name": "stdout",
     "output_type": "stream",
     "text": [
      "600\n"
     ]
    }
   ],
   "source": [
    "# 5565\n",
    "\n",
    "t = int(input())\n",
    "\n",
    "p = 0\n",
    "for _ in range(9):\n",
    "    book = int(input())\n",
    "    p += book\n",
    "    \n",
    "print(t-p)"
   ]
  },
  {
   "cell_type": "code",
   "execution_count": 4,
   "metadata": {},
   "outputs": [
    {
     "name": "stdin",
     "output_type": "stream",
     "text": [
      " 3\n",
      " 1\n",
      " 0\n",
      " 0\n"
     ]
    },
    {
     "name": "stdout",
     "output_type": "stream",
     "text": [
      "Junhee is not cute!\n"
     ]
    }
   ],
   "source": [
    "# 10886\n",
    "\n",
    "n = int(input())\n",
    "\n",
    "cnt0 = 0\n",
    "for _ in range(n):\n",
    "    ans = int(input())\n",
    "    if ans == 0:\n",
    "        cnt0 += 1\n",
    "\n",
    "if cnt0 > n - cnt0:\n",
    "    print(\"Junhee is not cute!\")\n",
    "else:\n",
    "    print(\"Junhee is cute!\")"
   ]
  },
  {
   "cell_type": "code",
   "execution_count": 4,
   "metadata": {},
   "outputs": [
    {
     "name": "stdin",
     "output_type": "stream",
     "text": [
      " 380\n"
     ]
    },
    {
     "name": "stdout",
     "output_type": "stream",
     "text": [
      "4\n"
     ]
    }
   ],
   "source": [
    "# 5585\n",
    "\n",
    "money = int(input())\n",
    "change = [500, 100, 50, 10, 5, 1]\n",
    "cnt = 0\n",
    "\n",
    "num = 1000 - money\n",
    "\n",
    "for i in range(len(change)):\n",
    "    if num == 0:\n",
    "        break\n",
    "    if num >= change[i]:\n",
    "        while num >= change[i]:\n",
    "            num -= change[i]\n",
    "            cnt += 1\n",
    "\n",
    "print(cnt)\n"
   ]
  },
  {
   "cell_type": "code",
   "execution_count": 22,
   "metadata": {},
   "outputs": [
    {
     "name": "stdin",
     "output_type": "stream",
     "text": [
      " 10 7\n"
     ]
    },
    {
     "name": "stdout",
     "output_type": "stream",
     "text": [
      "9\n"
     ]
    }
   ],
   "source": [
    "# 2960\n",
    "\n",
    "n, k = map(int, input().split())\n",
    "a = [False for _ in range(n+1)]\n",
    "num = 1\n",
    "\n",
    "for i in range(2, n+1):\n",
    "    if a[i] == False:\n",
    "        for j in range(i, n+1, i):\n",
    "            if a[j] == True:\n",
    "                continue\n",
    "            \n",
    "            if num == k:\n",
    "                print(j)\n",
    "                \n",
    "            a[j] = True\n",
    "            num += 1"
   ]
  },
  {
   "cell_type": "code",
   "execution_count": 26,
   "metadata": {},
   "outputs": [
    {
     "name": "stdin",
     "output_type": "stream",
     "text": [
      " 3\n",
      " 3 7\n",
      " 15 7\n",
      " 5 2\n"
     ]
    },
    {
     "name": "stdout",
     "output_type": "stream",
     "text": [
      "260\n"
     ]
    }
   ],
   "source": [
    "# 2563\n",
    "\n",
    "from functools import reduce\n",
    "\n",
    "n = int(input())\n",
    "a = [[0] * 100 for _ in range(100)]\n",
    "for _ in range(n):\n",
    "    x, y = map(int, input().split())\n",
    "    x -= 1\n",
    "    y -= 1\n",
    "    for i in range(10):\n",
    "        for j in range(10):\n",
    "            if a[y+i][x+j] == 0:\n",
    "                a[y+i][x+j] = 1\n",
    "                \n",
    "ans = reduce(lambda x,y:x+y, a)\n",
    "print(ans.count(1))"
   ]
  },
  {
   "cell_type": "code",
   "execution_count": 40,
   "metadata": {},
   "outputs": [
    {
     "name": "stdin",
     "output_type": "stream",
     "text": [
      " 20\n",
      " 25\n",
      " 30\n",
      " 6\n",
      " 8\n"
     ]
    },
    {
     "name": "stdout",
     "output_type": "stream",
     "text": [
      "15\n"
     ]
    }
   ],
   "source": [
    "# 5532\n",
    "\n",
    "l,a,b,c,d = [int(input()) for _ in range(5)]\n",
    "lang = (a // c) + (1 if bool(a % c) else 0)\n",
    "math = (b // d) + (1 if bool(b % d) else 0)\n",
    "print(l - max(lang, math))"
   ]
  },
  {
   "cell_type": "code",
   "execution_count": 1,
   "metadata": {},
   "outputs": [
    {
     "name": "stdin",
     "output_type": "stream",
     "text": [
      " 3\n",
      " 0 100 70\n"
     ]
    },
    {
     "name": "stdout",
     "output_type": "stream",
     "text": [
      "advertise\n"
     ]
    },
    {
     "name": "stdin",
     "output_type": "stream",
     "text": [
      " 100 130 30\n"
     ]
    },
    {
     "name": "stdout",
     "output_type": "stream",
     "text": [
      "does not matter\n"
     ]
    },
    {
     "name": "stdin",
     "output_type": "stream",
     "text": [
      " -100 -70 40\n"
     ]
    },
    {
     "name": "stdout",
     "output_type": "stream",
     "text": [
      "do not advertise\n"
     ]
    }
   ],
   "source": [
    "# 5063\n",
    "\n",
    "n = int(input())\n",
    "\n",
    "for _ in range(n):\n",
    "    r, e, c = map(int, input().split())\n",
    "    \n",
    "    if e - c == r:\n",
    "        print('does not matter')\n",
    "    \n",
    "    elif e - c > r:\n",
    "        print('advertise')\n",
    "    \n",
    "    else:\n",
    "        print('do not advertise')"
   ]
  },
  {
   "cell_type": "code",
   "execution_count": 7,
   "metadata": {},
   "outputs": [
    {
     "name": "stdin",
     "output_type": "stream",
     "text": [
      " 20\n",
      " 30\n",
      " 50\n",
      " 48\n",
      " 33\n",
      " 66\n",
      " 0\n",
      " 64\n"
     ]
    },
    {
     "name": "stdout",
     "output_type": "stream",
     "text": [
      "261\n",
      "2 3 4 5 7\n"
     ]
    }
   ],
   "source": [
    "# 1789\n",
    "\n",
    "a = [(int(input()), i) for i in range(8)]\n",
    "a.sort(reverse=True)\n",
    "\n",
    "ans = 0\n",
    "alist = []\n",
    "for j in range(5):\n",
    "    ans += a[j][0]\n",
    "    alist.append(a[j][1]+1)\n",
    "alist.sort()\n",
    "print(ans)\n",
    "print(*alist)"
   ]
  },
  {
   "cell_type": "code",
   "execution_count": 8,
   "metadata": {},
   "outputs": [],
   "source": [
    "# 1159\n",
    "\n",
    "import sys\n",
    "\n",
    "n = int(sys.stdin.readline())\n",
    "bdict = {}\n",
    "\n",
    "for _ in range(n):\n",
    "    w = input()[0]\n",
    "    if w not in bdict:\n",
    "        bdict[w] = 1\n",
    "    else:\n",
    "        bdict[w] += 1\n",
    "\n",
    "ans = ''\n",
    "for key in bdict:\n",
    "    if bdict[key] >= 5:\n",
    "            ans += key\n",
    "\n",
    "if ans == '':\n",
    "    print(\"PREDAJA\")\n",
    "else:\n",
    "    print(''.join(sorted(ans)))"
   ]
  },
  {
   "cell_type": "code",
   "execution_count": 10,
   "metadata": {},
   "outputs": [
    {
     "name": "stdin",
     "output_type": "stream",
     "text": [
      " 8\n",
      " 300\n",
      " 100\n",
      " 10\n",
      " 250\n"
     ]
    },
    {
     "name": "stdout",
     "output_type": "stream",
     "text": [
      "1800\n"
     ]
    }
   ],
   "source": [
    "# 10707\n",
    "\n",
    "a, b, c, d, p = [int(input()) for _ in range(5)]\n",
    "\n",
    "x = a * p\n",
    "y = b\n",
    "\n",
    "if p > c:\n",
    "    y = b + (p-c) * d\n",
    "    \n",
    "print(min(x, y))"
   ]
  },
  {
   "cell_type": "code",
   "execution_count": 49,
   "metadata": {},
   "outputs": [
    {
     "name": "stdin",
     "output_type": "stream",
     "text": [
      " 31\n",
      " 34\n",
      " 7\n",
      " 151\n"
     ]
    },
    {
     "name": "stdout",
     "output_type": "stream",
     "text": [
      "3\n",
      "43\n"
     ]
    }
   ],
   "source": [
    "# 5554\n",
    "\n",
    "a, b, c, d = [int(input()) for _ in range(4)]\n",
    "t = a + b + c + d\n",
    "print(t // 60)\n",
    "print(t % 60)"
   ]
  },
  {
   "cell_type": "code",
   "execution_count": 50,
   "metadata": {},
   "outputs": [
    {
     "name": "stdin",
     "output_type": "stream",
     "text": [
      " 100 80 70 60\n",
      " 80 70 80 90\n"
     ]
    },
    {
     "name": "stdout",
     "output_type": "stream",
     "text": [
      "320\n"
     ]
    }
   ],
   "source": [
    "# 5596\n",
    "\n",
    "a, b, c, d = map(int, input().split())\n",
    "s = a + b + c + d\n",
    "e, f, g, h = map(int, input().split())\n",
    "t = e + f + g + h\n",
    "print(max(s, t))"
   ]
  },
  {
   "cell_type": "code",
   "execution_count": 61,
   "metadata": {},
   "outputs": [
    {
     "name": "stdin",
     "output_type": "stream",
     "text": [
      " 2\n",
      " 4\n",
      " 3 4.3\n",
      " 2 2.0\n",
      " 4 0.0\n",
      " 2 4.0\n"
     ]
    },
    {
     "name": "stdout",
     "output_type": "stream",
     "text": [
      "11 2.3\n"
     ]
    },
    {
     "name": "stdin",
     "output_type": "stream",
     "text": [
      " 3\n",
      " 4 0.0\n",
      " 4 0.0\n",
      " 3 0.0\n"
     ]
    },
    {
     "name": "stdout",
     "output_type": "stream",
     "text": [
      "11 0.0\n"
     ]
    }
   ],
   "source": [
    "## 10984\n",
    "\n",
    "t = int(input())\n",
    "\n",
    "for _ in range(t):\n",
    "    a = int(input())\n",
    "    total, hak = 0, 0\n",
    "    for _ in range(a):\n",
    "        b, c = map(float, input().split())\n",
    "        total += b\n",
    "        hak += b * c\n",
    "    g = hak / total\n",
    "    print(int(total), '%.1f'%(g))"
   ]
  },
  {
   "cell_type": "code",
   "execution_count": 77,
   "metadata": {},
   "outputs": [
    {
     "name": "stdin",
     "output_type": "stream",
     "text": [
      " 5\n",
      " 1 2 2 3 4\n"
     ]
    },
    {
     "name": "stdout",
     "output_type": "stream",
     "text": [
      "1 3 2 6 8\n"
     ]
    }
   ],
   "source": [
    "# 10539\n",
    "\n",
    "n = int(input())\n",
    "b = list(map(int, input().split()))\n",
    "a = [0] * n\n",
    "\n",
    "a[0] = b[0]\n",
    "hap = a[0]\n",
    "\n",
    "for i in range(1, n):\n",
    "    a[i] = (i+1) * b[i] - hap\n",
    "    hap += a[i]\n",
    "    \n",
    "print(*a)"
   ]
  },
  {
   "cell_type": "code",
   "execution_count": 4,
   "metadata": {},
   "outputs": [
    {
     "name": "stdin",
     "output_type": "stream",
     "text": [
      " 3 4\n",
      " a\n",
      " b\n",
      " c\n",
      " d\n",
      " c\n",
      " a\n",
      " e\n"
     ]
    },
    {
     "name": "stdout",
     "output_type": "stream",
     "text": [
      "2\n",
      "a\n",
      "c\n"
     ]
    }
   ],
   "source": [
    "# 1764\n",
    "\n",
    "n, m = map(int, input().split())\n",
    "bdict = {}\n",
    "cnt = 0\n",
    "ans = []\n",
    "\n",
    "for _ in range(n+m):\n",
    "    word = input()\n",
    "    \n",
    "    if word in bdict:\n",
    "        cnt += 1\n",
    "        ans.append(word)\n",
    "    else:\n",
    "        bdict[word] = 1\n",
    "        \n",
    "print(cnt)\n",
    "ans.sort()\n",
    "for a in ans:\n",
    "    print(a)"
   ]
  },
  {
   "cell_type": "code",
   "execution_count": 9,
   "metadata": {},
   "outputs": [
    {
     "name": "stdin",
     "output_type": "stream",
     "text": [
      " AABCDD\n",
      " afzz\n",
      " 09121\n",
      " 18EWG6\n",
      " P5h3kx\n"
     ]
    },
    {
     "name": "stdout",
     "output_type": "stream",
     "text": [
      "Aa01PAf985Bz1EhCz2W3D1GkD6x"
     ]
    }
   ],
   "source": [
    "# 10798\n",
    "\n",
    "a = [list(input()) for _ in range(5)]\n",
    "\n",
    "m = 0\n",
    "for al in a:\n",
    "    if len(al) > m:\n",
    "        m = len(al)\n",
    "\n",
    "for al in a:\n",
    "    if len(al) == m:\n",
    "        continue\n",
    "    else:\n",
    "        for _ in range(m-len(al)):\n",
    "            al.append('')\n",
    "            \n",
    "for i in range(m):\n",
    "    for j in range(5):\n",
    "        print(a[j][i], end='')"
   ]
  },
  {
   "cell_type": "code",
   "execution_count": 23,
   "metadata": {},
   "outputs": [
    {
     "name": "stdin",
     "output_type": "stream",
     "text": [
      " 200\n"
     ]
    },
    {
     "name": "stdout",
     "output_type": "stream",
     "text": [
      "19\n"
     ]
    }
   ],
   "source": [
    "# 1789\n",
    "\n",
    "s = int(input())\n",
    "n = 0\n",
    "\n",
    "while True:\n",
    "    if (n * (n+1)) //2 == s:\n",
    "        print(n)\n",
    "        break\n",
    "    elif (n * (n+1) //2) > s:\n",
    "        print(n-1)\n",
    "        break\n",
    "    n += 1"
   ]
  },
  {
   "cell_type": "code",
   "execution_count": 39,
   "metadata": {},
   "outputs": [
    {
     "name": "stdin",
     "output_type": "stream",
     "text": [
      " 6\n",
      " 5\n",
      " 1 2\n",
      " 1 3\n",
      " 3 4\n",
      " 2 3\n",
      " 4 5\n"
     ]
    },
    {
     "name": "stdout",
     "output_type": "stream",
     "text": [
      "3\n"
     ]
    }
   ],
   "source": [
    "# 5567\n",
    "\n",
    "n = int(input())\n",
    "m = int(input())\n",
    "a = [[] for _ in range(n+1)]\n",
    "for _ in range(m):\n",
    "    u, v = map(int, input().split())\n",
    "    a[u].append(v)\n",
    "    a[v].append(u)\n",
    "\n",
    "d = []\n",
    "for x in a[1]:\n",
    "    d.append(x)\n",
    "    for y in a[x]:\n",
    "        if y != 1:\n",
    "            d.append(y)\n",
    "            \n",
    "print(len(list(set(d))))"
   ]
  },
  {
   "cell_type": "code",
   "execution_count": 56,
   "metadata": {},
   "outputs": [
    {
     "name": "stdin",
     "output_type": "stream",
     "text": [
      " 4 3\n",
      " 1 1 2 0\n",
      " 2 0 1 0\n",
      " 3 0 1 0\n",
      " 4 0 0 1\n"
     ]
    },
    {
     "name": "stdout",
     "output_type": "stream",
     "text": [
      "2\n"
     ]
    }
   ],
   "source": [
    "# 8979\n",
    "\n",
    "n, m = map(int, input().split())\n",
    "a = [list(map(int, input().split())) for _ in range(n)]\n",
    "\n",
    "a.sort(key=lambda x: (-x[1], -x[2], -x[3]))\n",
    "\n",
    "idx = [a[i][0] for i in range(n)].index(m)\n",
    "while a[idx-1][1:] == a[idx][1:]:\n",
    "    idx -= 1\n",
    "print(idx+1)"
   ]
  },
  {
   "cell_type": "code",
   "execution_count": 58,
   "metadata": {},
   "outputs": [
    {
     "name": "stdin",
     "output_type": "stream",
     "text": [
      " 3 4\n"
     ]
    },
    {
     "name": "stdout",
     "output_type": "stream",
     "text": [
      "1 2 3 4 \n",
      "5 6 7 8 \n",
      "9 10 11 12 \n"
     ]
    }
   ],
   "source": [
    "# 18883\n",
    "\n",
    "n, m = map(int, input().split())\n",
    "\n",
    "num = 1\n",
    "for i in range(n):\n",
    "    for j in range(m):\n",
    "        if num % m == 0:\n",
    "            print(num, end='\\n')\n",
    "        else:\n",
    "            print(num, end=' ')\n",
    "        num += 1"
   ]
  },
  {
   "cell_type": "code",
   "execution_count": 50,
   "metadata": {},
   "outputs": [
    {
     "name": "stdin",
     "output_type": "stream",
     "text": [
      " 10\n",
      " 20\n",
      " 30\n",
      " 40\n",
      " 50\n",
      " 60\n",
      " 70\n",
      " 80\n",
      " 90\n",
      " 100\n"
     ]
    },
    {
     "name": "stdout",
     "output_type": "stream",
     "text": [
      "100\n"
     ]
    }
   ],
   "source": [
    "# 2851\n",
    "\n",
    "a = [int(input()) for _ in range(10)]\n",
    "d = []\n",
    "\n",
    "def go(idx, hap):\n",
    "    global ans\n",
    "    if idx >= 10:\n",
    "        d.append(hap)\n",
    "        return\n",
    "    go(idx+1, hap+a[idx])\n",
    "    go(10, hap)\n",
    "\n",
    "go(0, 0)\n",
    "\n",
    "ans = 1000\n",
    "for i in range(10):\n",
    "    if abs(d[i]-100) < ans:\n",
    "        num = d[i]\n",
    "        ans = d[i]-100\n",
    "        \n",
    "print(num)"
   ]
  },
  {
   "cell_type": "code",
   "execution_count": 5,
   "metadata": {},
   "outputs": [
    {
     "name": "stdin",
     "output_type": "stream",
     "text": [
      " 5 3 4\n",
      " 3\n"
     ]
    },
    {
     "name": "stdout",
     "output_type": "stream",
     "text": [
      "DA\n"
     ]
    },
    {
     "name": "stdin",
     "output_type": "stream",
     "text": [
      " 4\n"
     ]
    },
    {
     "name": "stdout",
     "output_type": "stream",
     "text": [
      "DA\n"
     ]
    },
    {
     "name": "stdin",
     "output_type": "stream",
     "text": [
      " 5\n"
     ]
    },
    {
     "name": "stdout",
     "output_type": "stream",
     "text": [
      "DA\n"
     ]
    },
    {
     "name": "stdin",
     "output_type": "stream",
     "text": [
      " 6\n"
     ]
    },
    {
     "name": "stdout",
     "output_type": "stream",
     "text": [
      "NE\n"
     ]
    },
    {
     "name": "stdin",
     "output_type": "stream",
     "text": [
      " 7\n"
     ]
    },
    {
     "name": "stdout",
     "output_type": "stream",
     "text": [
      "NE\n"
     ]
    }
   ],
   "source": [
    "# 3034\n",
    "\n",
    "from math import sqrt\n",
    "\n",
    "n, w, h = map(int, input().split())\n",
    "\n",
    "for _ in range(n):\n",
    "    x = int(input())\n",
    "    if x <= w or x <= h or x <= sqrt(w**2 + h**2):\n",
    "        print('DA')\n",
    "    else:\n",
    "        print('NE')"
   ]
  },
  {
   "cell_type": "code",
   "execution_count": 1,
   "metadata": {},
   "outputs": [
    {
     "name": "stdin",
     "output_type": "stream",
     "text": [
      " baekjoon\n"
     ]
    },
    {
     "name": "stdout",
     "output_type": "stream",
     "text": [
      "aekjoon\n",
      "baekjoon\n",
      "ekjoon\n",
      "joon\n",
      "kjoon\n",
      "n\n",
      "on\n",
      "oon\n"
     ]
    }
   ],
   "source": [
    "# 11656\n",
    "\n",
    "a = input()\n",
    "b = sorted([a[i:] for i in range(len(a))])\n",
    "for j in b:\n",
    "    print(j)"
   ]
  },
  {
   "cell_type": "code",
   "execution_count": 2,
   "metadata": {},
   "outputs": [
    {
     "name": "stdin",
     "output_type": "stream",
     "text": [
      " 9 0 3\n"
     ]
    },
    {
     "name": "stdout",
     "output_type": "stream",
     "text": [
      "4\n"
     ]
    }
   ],
   "source": [
    "# 5032\n",
    "\n",
    "e, f, c = map(int, input().split())\n",
    "\n",
    "hap = e + f\n",
    "cnt = 0\n",
    "\n",
    "while hap >= c:\n",
    "    hap -= c\n",
    "    cnt += 1\n",
    "    hap += 1\n",
    "\n",
    "print(cnt)"
   ]
  },
  {
   "cell_type": "code",
   "execution_count": 46,
   "metadata": {},
   "outputs": [
    {
     "name": "stdin",
     "output_type": "stream",
     "text": [
      " 184 1\n"
     ]
    },
    {
     "name": "stdout",
     "output_type": "stream",
     "text": [
      "180\n"
     ]
    }
   ],
   "source": [
    "# 2909\n",
    "# https://to-the-universe.tistory.com/11\n",
    "\n",
    "c, k = map(int, input().split())\n",
    "print(int(round(c+0.1, -k)))"
   ]
  },
  {
   "cell_type": "code",
   "execution_count": 7,
   "metadata": {},
   "outputs": [
    {
     "name": "stdin",
     "output_type": "stream",
     "text": [
      " 3\n",
      " 1973 1973\n"
     ]
    },
    {
     "name": "stdout",
     "output_type": "stream",
     "text": [
      "2\n",
      "1973 AladdinSane\n",
      "1973 PinUps\n"
     ]
    },
    {
     "name": "stdin",
     "output_type": "stream",
     "text": [
      " 1977 1979\n"
     ]
    },
    {
     "name": "stdout",
     "output_type": "stream",
     "text": [
      "3\n",
      "1977 Low\n",
      "1977 Heroes\n",
      "1979 Lodger\n"
     ]
    },
    {
     "name": "stdin",
     "output_type": "stream",
     "text": [
      " 2014 2015\n"
     ]
    },
    {
     "name": "stdout",
     "output_type": "stream",
     "text": [
      "0\n"
     ]
    }
   ],
   "source": [
    "# 12791\n",
    "\n",
    "album = [(1967, \"DavidBowie\"),\n",
    "(1969, \"SpaceOddity\"),\n",
    "(1970, \"TheManWhoSoldTheWorld\"),\n",
    "(1971, \"HunkyDory\"),\n",
    "(1972, \"TheRiseAndFallOfZiggyStardustAndTheSpidersFromMars\"),\n",
    "(1973, \"AladdinSane\"),\n",
    "(1973, \"PinUps\"),\n",
    "(1974, \"DiamondDogs\"),\n",
    "(1975, \"YoungAmericans\"),\n",
    "(1976, \"StationToStation\"),\n",
    "(1977, \"Low\"),\n",
    "(1977, \"Heroes\"),\n",
    "(1979, \"Lodger\"),\n",
    "(1980, \"ScaryMonstersAndSuperCreeps\"),\n",
    "(1983, \"LetsDance\"),\n",
    "(1984, \"Tonight\"),\n",
    "(1987, \"NeverLetMeDown\"),\n",
    "(1993, \"BlackTieWhiteNoise\"),\n",
    "(1995, \"1.Outside\"),\n",
    "(1997, \"Earthling\"),\n",
    "(1999, \"Hours\"),\n",
    "(2002, \"Heathen\"),\n",
    "(2003, \"Reality\"),\n",
    "(2013, \"TheNextDay\"),\n",
    "(2016, \"BlackStar\")]\n",
    "\n",
    "n = int(input())\n",
    "\n",
    "for _ in range(n):\n",
    "    s, e = map(int, input().split())\n",
    "    alist = []\n",
    "    for year, title in album:\n",
    "        if s <= year <= e:\n",
    "            alist.append((year, title))\n",
    "    print(len(alist))\n",
    "    for year, title in alist:\n",
    "        print(year, title)"
   ]
  },
  {
   "cell_type": "code",
   "execution_count": null,
   "metadata": {},
   "outputs": [],
   "source": []
  }
 ],
 "metadata": {
  "kernelspec": {
   "display_name": "Python 3",
   "language": "python",
   "name": "python3"
  },
  "language_info": {
   "codemirror_mode": {
    "name": "ipython",
    "version": 3
   },
   "file_extension": ".py",
   "mimetype": "text/x-python",
   "name": "python",
   "nbconvert_exporter": "python",
   "pygments_lexer": "ipython3",
   "version": "3.8.3"
  }
 },
 "nbformat": 4,
 "nbformat_minor": 4
}
