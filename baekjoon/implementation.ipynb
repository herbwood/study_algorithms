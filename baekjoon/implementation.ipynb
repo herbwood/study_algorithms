{
 "cells": [
  {
   "cell_type": "code",
   "execution_count": 1,
   "metadata": {},
   "outputs": [
    {
     "name": "stdout",
     "output_type": "stream",
     "text": [
      "0 1 0 1\n",
      "B\n",
      "1 0 0 0 \n",
      "C\n",
      "1 1 1 1\n",
      "E\n"
     ]
    }
   ],
   "source": [
    "# 2490\n",
    "def yut():\n",
    "    for i in range(3):\n",
    "        yut = list(map(int, input().split()))\n",
    "        result = yut.count(1)\n",
    "        if result == 1:\n",
    "            yield 'C'\n",
    "        elif result == 2:\n",
    "            yield 'B'\n",
    "        elif result == 3:\n",
    "            yield 'A'\n",
    "        elif result == 0:\n",
    "            yield 'D'\n",
    "        elif result == 4:\n",
    "            yield 'E'\n",
    "            \n",
    "for a in yut():\n",
    "    print(a)"
   ]
  },
  {
   "cell_type": "code",
   "execution_count": 4,
   "metadata": {},
   "outputs": [
    {
     "name": "stdout",
     "output_type": "stream",
     "text": [
      "1\n",
      "3.141593\n",
      "2.000000\n"
     ]
    }
   ],
   "source": [
    "# 3053\n",
    "import math\n",
    "r = int(input())\n",
    "\n",
    "print(\"{0:0.6f}\".format(math.pi * pow(r, 2)))\n",
    "print(\"{0:0.6f}\".format(2 * pow(r, 2)))"
   ]
  },
  {
   "cell_type": "code",
   "execution_count": null,
   "metadata": {},
   "outputs": [],
   "source": [
    "# # 5597\n",
    "\n",
    "# import sys\n",
    "\n",
    "# a = [False] * 30\n",
    "\n",
    "# for _ in range(28):\n",
    "#     n = int(sys.stdin.readline())\n",
    "#     a[n-1] = True\n",
    "\n",
    "# for i in range(30):\n",
    "#     if a[i] == False:\n",
    "#         print(i+1)"
   ]
  },
  {
   "cell_type": "code",
   "execution_count": null,
   "metadata": {},
   "outputs": [],
   "source": [
    "# 10797\n",
    "\n",
    "import sys\n",
    "\n",
    "n = int(sys.stdin.readline())\n",
    "a = list(map(int, sys.stdin.readline().split()))\n",
    "\n",
    "cnt = 0\n",
    "for i in range(len(a)):\n",
    "    if n == a[i]:\n",
    "        cnt += 1\n",
    "        \n",
    "print(cnt)"
   ]
  }
 ],
 "metadata": {
  "kernelspec": {
   "display_name": "Python 3",
   "language": "python",
   "name": "python3"
  },
  "language_info": {
   "codemirror_mode": {
    "name": "ipython",
    "version": 3
   },
   "file_extension": ".py",
   "mimetype": "text/x-python",
   "name": "python",
   "nbconvert_exporter": "python",
   "pygments_lexer": "ipython3",
   "version": "3.7.3"
  }
 },
 "nbformat": 4,
 "nbformat_minor": 4
}
