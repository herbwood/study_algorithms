{
 "cells": [
  {
   "cell_type": "code",
   "execution_count": 1,
   "metadata": {},
   "outputs": [
    {
     "name": "stdout",
     "output_type": "stream",
     "text": [
      "0 1 0 1\n",
      "B\n",
      "1 0 0 0 \n",
      "C\n",
      "1 1 1 1\n",
      "E\n"
     ]
    }
   ],
   "source": [
    "# 2490\n",
    "def yut():\n",
    "    for i in range(3):\n",
    "        yut = list(map(int, input().split()))\n",
    "        result = yut.count(1)\n",
    "        if result == 1:\n",
    "            yield 'C'\n",
    "        elif result == 2:\n",
    "            yield 'B'\n",
    "        elif result == 3:\n",
    "            yield 'A'\n",
    "        elif result == 0:\n",
    "            yield 'D'\n",
    "        elif result == 4:\n",
    "            yield 'E'\n",
    "            \n",
    "for a in yut():\n",
    "    print(a)"
   ]
  },
  {
   "cell_type": "code",
   "execution_count": 4,
   "metadata": {},
   "outputs": [
    {
     "name": "stdout",
     "output_type": "stream",
     "text": [
      "1\n",
      "3.141593\n",
      "2.000000\n"
     ]
    }
   ],
   "source": [
    "# 3053\n",
    "import math\n",
    "r = int(input())\n",
    "\n",
    "print(\"{0:0.6f}\".format(math.pi * pow(r, 2)))\n",
    "print(\"{0:0.6f}\".format(2 * pow(r, 2)))"
   ]
  },
  {
   "cell_type": "code",
   "execution_count": 1,
   "metadata": {},
   "outputs": [],
   "source": [
    "# 5597\n",
    "\n",
    "import sys\n",
    "\n",
    "a = [False] * 30\n",
    "\n",
    "for _ in range(28):\n",
    "    n = int(sys.stdin.readline())\n",
    "    a[n-1] = True\n",
    "\n",
    "for i in range(30):\n",
    "    if a[i] == False:\n",
    "        print(i+1)"
   ]
  },
  {
   "cell_type": "code",
   "execution_count": 2,
   "metadata": {},
   "outputs": [],
   "source": [
    "# 10797\n",
    "\n",
    "import sys\n",
    "\n",
    "n = int(sys.stdin.readline())\n",
    "a = list(map(int, sys.stdin.readline().split()))\n",
    "\n",
    "cnt = 0\n",
    "for i in range(len(a)):\n",
    "    if n == a[i]:\n",
    "        cnt += 1\n",
    "        \n",
    "print(cnt)"
   ]
  },
  {
   "cell_type": "code",
   "execution_count": 3,
   "metadata": {},
   "outputs": [
    {
     "name": "stdin",
     "output_type": "stream",
     "text": [
      " 9850\n",
      " 1050\n",
      " 800\n",
      " 420\n",
      " 380\n",
      " 600\n",
      " 820\n",
      " 2400\n",
      " 1800\n",
      " 980\n"
     ]
    },
    {
     "name": "stdout",
     "output_type": "stream",
     "text": [
      "600\n"
     ]
    }
   ],
   "source": [
    "# 5565\n",
    "\n",
    "t = int(input())\n",
    "\n",
    "p = 0\n",
    "for _ in range(9):\n",
    "    book = int(input())\n",
    "    p += book\n",
    "    \n",
    "print(t-p)"
   ]
  },
  {
   "cell_type": "code",
   "execution_count": 4,
   "metadata": {},
   "outputs": [
    {
     "name": "stdin",
     "output_type": "stream",
     "text": [
      " 3\n",
      " 1\n",
      " 0\n",
      " 0\n"
     ]
    },
    {
     "name": "stdout",
     "output_type": "stream",
     "text": [
      "Junhee is not cute!\n"
     ]
    }
   ],
   "source": [
    "# 10886\n",
    "\n",
    "n = int(input())\n",
    "\n",
    "cnt0 = 0\n",
    "for _ in range(n):\n",
    "    ans = int(input())\n",
    "    if ans == 0:\n",
    "        cnt0 += 1\n",
    "\n",
    "if cnt0 > n - cnt0:\n",
    "    print(\"Junhee is not cute!\")\n",
    "else:\n",
    "    print(\"Junhee is cute!\")"
   ]
  },
  {
   "cell_type": "code",
   "execution_count": 4,
   "metadata": {},
   "outputs": [
    {
     "name": "stdin",
     "output_type": "stream",
     "text": [
      " 380\n"
     ]
    },
    {
     "name": "stdout",
     "output_type": "stream",
     "text": [
      "4\n"
     ]
    }
   ],
   "source": [
    "# 5585\n",
    "\n",
    "money = int(input())\n",
    "change = [500, 100, 50, 10, 5, 1]\n",
    "cnt = 0\n",
    "\n",
    "num = 1000 - money\n",
    "\n",
    "for i in range(len(change)):\n",
    "    if num == 0:\n",
    "        break\n",
    "    if num >= change[i]:\n",
    "        while num >= change[i]:\n",
    "            num -= change[i]\n",
    "            cnt += 1\n",
    "\n",
    "print(cnt)\n"
   ]
  },
  {
   "cell_type": "code",
   "execution_count": 22,
   "metadata": {},
   "outputs": [
    {
     "name": "stdin",
     "output_type": "stream",
     "text": [
      " 10 7\n"
     ]
    },
    {
     "name": "stdout",
     "output_type": "stream",
     "text": [
      "9\n"
     ]
    }
   ],
   "source": [
    "# 2960\n",
    "\n",
    "n, k = map(int, input().split())\n",
    "a = [False for _ in range(n+1)]\n",
    "num = 1\n",
    "\n",
    "for i in range(2, n+1):\n",
    "    if a[i] == False:\n",
    "        for j in range(i, n+1, i):\n",
    "            if a[j] == True:\n",
    "                continue\n",
    "            \n",
    "            if num == k:\n",
    "                print(j)\n",
    "                \n",
    "            a[j] = True\n",
    "            num += 1"
   ]
  },
  {
   "cell_type": "code",
   "execution_count": 26,
   "metadata": {},
   "outputs": [
    {
     "name": "stdin",
     "output_type": "stream",
     "text": [
      " 3\n",
      " 3 7\n",
      " 15 7\n",
      " 5 2\n"
     ]
    },
    {
     "name": "stdout",
     "output_type": "stream",
     "text": [
      "260\n"
     ]
    }
   ],
   "source": [
    "# 2563\n",
    "\n",
    "from functools import reduce\n",
    "\n",
    "n = int(input())\n",
    "a = [[0] * 100 for _ in range(100)]\n",
    "for _ in range(n):\n",
    "    x, y = map(int, input().split())\n",
    "    x -= 1\n",
    "    y -= 1\n",
    "    for i in range(10):\n",
    "        for j in range(10):\n",
    "            if a[y+i][x+j] == 0:\n",
    "                a[y+i][x+j] = 1\n",
    "                \n",
    "ans = reduce(lambda x,y:x+y, a)\n",
    "print(ans.count(1))"
   ]
  },
  {
   "cell_type": "code",
   "execution_count": 40,
   "metadata": {},
   "outputs": [
    {
     "name": "stdin",
     "output_type": "stream",
     "text": [
      " 20\n",
      " 25\n",
      " 30\n",
      " 6\n",
      " 8\n"
     ]
    },
    {
     "name": "stdout",
     "output_type": "stream",
     "text": [
      "15\n"
     ]
    }
   ],
   "source": [
    "# 5532\n",
    "\n",
    "l,a,b,c,d = [int(input()) for _ in range(5)]\n",
    "lang = (a // c) + (1 if bool(a % c) else 0)\n",
    "math = (b // d) + (1 if bool(b % d) else 0)\n",
    "print(l - max(lang, math))"
   ]
  },
  {
   "cell_type": "code",
   "execution_count": 1,
   "metadata": {},
   "outputs": [
    {
     "name": "stdin",
     "output_type": "stream",
     "text": [
      " 3\n",
      " 0 100 70\n"
     ]
    },
    {
     "name": "stdout",
     "output_type": "stream",
     "text": [
      "advertise\n"
     ]
    },
    {
     "name": "stdin",
     "output_type": "stream",
     "text": [
      " 100 130 30\n"
     ]
    },
    {
     "name": "stdout",
     "output_type": "stream",
     "text": [
      "does not matter\n"
     ]
    },
    {
     "name": "stdin",
     "output_type": "stream",
     "text": [
      " -100 -70 40\n"
     ]
    },
    {
     "name": "stdout",
     "output_type": "stream",
     "text": [
      "do not advertise\n"
     ]
    }
   ],
   "source": [
    "# 5063\n",
    "\n",
    "n = int(input())\n",
    "\n",
    "for _ in range(n):\n",
    "    r, e, c = map(int, input().split())\n",
    "    \n",
    "    if e - c == r:\n",
    "        print('does not matter')\n",
    "    \n",
    "    elif e - c > r:\n",
    "        print('advertise')\n",
    "    \n",
    "    else:\n",
    "        print('do not advertise')"
   ]
  },
  {
   "cell_type": "code",
   "execution_count": 7,
   "metadata": {},
   "outputs": [
    {
     "name": "stdin",
     "output_type": "stream",
     "text": [
      " 20\n",
      " 30\n",
      " 50\n",
      " 48\n",
      " 33\n",
      " 66\n",
      " 0\n",
      " 64\n"
     ]
    },
    {
     "name": "stdout",
     "output_type": "stream",
     "text": [
      "261\n",
      "2 3 4 5 7\n"
     ]
    }
   ],
   "source": [
    "# 1789\n",
    "\n",
    "a = [(int(input()), i) for i in range(8)]\n",
    "a.sort(reverse=True)\n",
    "\n",
    "ans = 0\n",
    "alist = []\n",
    "for j in range(5):\n",
    "    ans += a[j][0]\n",
    "    alist.append(a[j][1]+1)\n",
    "alist.sort()\n",
    "print(ans)\n",
    "print(*alist)"
   ]
  },
  {
   "cell_type": "code",
   "execution_count": 8,
   "metadata": {},
   "outputs": [],
   "source": [
    "# 1159\n",
    "\n",
    "import sys\n",
    "\n",
    "n = int(sys.stdin.readline())\n",
    "bdict = {}\n",
    "\n",
    "for _ in range(n):\n",
    "    w = input()[0]\n",
    "    if w not in bdict:\n",
    "        bdict[w] = 1\n",
    "    else:\n",
    "        bdict[w] += 1\n",
    "\n",
    "ans = ''\n",
    "for key in bdict:\n",
    "    if bdict[key] >= 5:\n",
    "            ans += key\n",
    "\n",
    "if ans == '':\n",
    "    print(\"PREDAJA\")\n",
    "else:\n",
    "    print(''.join(sorted(ans)))"
   ]
  },
  {
   "cell_type": "code",
   "execution_count": 10,
   "metadata": {},
   "outputs": [
    {
     "name": "stdin",
     "output_type": "stream",
     "text": [
      " 8\n",
      " 300\n",
      " 100\n",
      " 10\n",
      " 250\n"
     ]
    },
    {
     "name": "stdout",
     "output_type": "stream",
     "text": [
      "1800\n"
     ]
    }
   ],
   "source": [
    "# 10707\n",
    "\n",
    "a, b, c, d, p = [int(input()) for _ in range(5)]\n",
    "\n",
    "x = a * p\n",
    "y = b\n",
    "\n",
    "if p > c:\n",
    "    y = b + (p-c) * d\n",
    "    \n",
    "print(min(x, y))"
   ]
  },
  {
   "cell_type": "code",
   "execution_count": 49,
   "metadata": {},
   "outputs": [
    {
     "name": "stdin",
     "output_type": "stream",
     "text": [
      " 31\n",
      " 34\n",
      " 7\n",
      " 151\n"
     ]
    },
    {
     "name": "stdout",
     "output_type": "stream",
     "text": [
      "3\n",
      "43\n"
     ]
    }
   ],
   "source": [
    "# 5554\n",
    "\n",
    "a, b, c, d = [int(input()) for _ in range(4)]\n",
    "t = a + b + c + d\n",
    "print(t // 60)\n",
    "print(t % 60)"
   ]
  },
  {
   "cell_type": "code",
   "execution_count": 50,
   "metadata": {},
   "outputs": [
    {
     "name": "stdin",
     "output_type": "stream",
     "text": [
      " 100 80 70 60\n",
      " 80 70 80 90\n"
     ]
    },
    {
     "name": "stdout",
     "output_type": "stream",
     "text": [
      "320\n"
     ]
    }
   ],
   "source": [
    "# 5596\n",
    "\n",
    "a, b, c, d = map(int, input().split())\n",
    "s = a + b + c + d\n",
    "e, f, g, h = map(int, input().split())\n",
    "t = e + f + g + h\n",
    "print(max(s, t))"
   ]
  },
  {
   "cell_type": "code",
   "execution_count": 61,
   "metadata": {},
   "outputs": [
    {
     "name": "stdin",
     "output_type": "stream",
     "text": [
      " 2\n",
      " 4\n",
      " 3 4.3\n",
      " 2 2.0\n",
      " 4 0.0\n",
      " 2 4.0\n"
     ]
    },
    {
     "name": "stdout",
     "output_type": "stream",
     "text": [
      "11 2.3\n"
     ]
    },
    {
     "name": "stdin",
     "output_type": "stream",
     "text": [
      " 3\n",
      " 4 0.0\n",
      " 4 0.0\n",
      " 3 0.0\n"
     ]
    },
    {
     "name": "stdout",
     "output_type": "stream",
     "text": [
      "11 0.0\n"
     ]
    }
   ],
   "source": [
    "## 10984\n",
    "\n",
    "t = int(input())\n",
    "\n",
    "for _ in range(t):\n",
    "    a = int(input())\n",
    "    total, hak = 0, 0\n",
    "    for _ in range(a):\n",
    "        b, c = map(float, input().split())\n",
    "        total += b\n",
    "        hak += b * c\n",
    "    g = hak / total\n",
    "    print(int(total), '%.1f'%(g))"
   ]
  },
  {
   "cell_type": "code",
   "execution_count": null,
   "metadata": {},
   "outputs": [],
   "source": []
  }
 ],
 "metadata": {
  "kernelspec": {
   "display_name": "Python 3",
   "language": "python",
   "name": "python3"
  },
  "language_info": {
   "codemirror_mode": {
    "name": "ipython",
    "version": 3
   },
   "file_extension": ".py",
   "mimetype": "text/x-python",
   "name": "python",
   "nbconvert_exporter": "python",
   "pygments_lexer": "ipython3",
   "version": "3.7.6"
  }
 },
 "nbformat": 4,
 "nbformat_minor": 4
}
