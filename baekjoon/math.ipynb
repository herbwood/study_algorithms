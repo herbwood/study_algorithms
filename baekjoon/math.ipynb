{
 "cells": [
  {
   "cell_type": "code",
   "execution_count": 8,
   "metadata": {},
   "outputs": [
    {
     "name": "stdout",
     "output_type": "stream",
     "text": [
      "60\n",
      "100\n",
      "245\n",
      "64\n"
     ]
    }
   ],
   "source": [
    "# 1977\n",
    "m = int(input())\n",
    "n = int(input())\n",
    "mp, np = int(m ** 0.5), int(n ** 0.5)\n",
    "blist = []\n",
    "for i in range(mp, np + 1):\n",
    "    if i ** 2 in range(m, n + 1):\n",
    "        blist.append(i ** 2)\n",
    "if len(blist) == 0:\n",
    "    print(-1)\n",
    "else:\n",
    "    print(sum(blist))\n",
    "    print(min(blist))"
   ]
  },
  {
   "cell_type": "code",
   "execution_count": null,
   "metadata": {},
   "outputs": [],
   "source": []
  }
 ],
 "metadata": {
  "kernelspec": {
   "display_name": "Python 3",
   "language": "python",
   "name": "python3"
  },
  "language_info": {
   "codemirror_mode": {
    "name": "ipython",
    "version": 3
   },
   "file_extension": ".py",
   "mimetype": "text/x-python",
   "name": "python",
   "nbconvert_exporter": "python",
   "pygments_lexer": "ipython3",
   "version": "3.6.5"
  }
 },
 "nbformat": 4,
 "nbformat_minor": 2
}
