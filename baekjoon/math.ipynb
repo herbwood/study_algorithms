{
 "cells": [
  {
   "cell_type": "code",
   "execution_count": 23,
   "metadata": {},
   "outputs": [
    {
     "name": "stdout",
     "output_type": "stream",
     "text": [
      "16 25\n",
      "8\n"
     ]
    }
   ],
   "source": [
    "# 1977\n",
    "m, n = map(int, input().split())\n",
    "mp, np = int(m ** 0.5), int(n ** 0.5)\n",
    "count = 0\n",
    "for i in range(mp, np + 1):\n",
    "    if i ** 2 in range(m, n + 1):\n",
    "       count += 1\n",
    "print(n - m - count + 1)"
   ]
  },
  {
   "cell_type": "code",
   "execution_count": 19,
   "metadata": {},
   "outputs": [
    {
     "name": "stdin",
     "output_type": "stream",
     "text": [
      " 1000 70 170\n"
     ]
    },
    {
     "name": "stdout",
     "output_type": "stream",
     "text": [
      "11\n"
     ]
    }
   ],
   "source": [
    "# 1712\n",
    "a, b, c = map(int, input().split())\n",
    "\n",
    "if c == b:\n",
    "    print(-1)\n",
    "else:\n",
    "    point = a / (c - b)\n",
    "\n",
    "    if point <= 0:\n",
    "        print(-1)\n",
    "    else:\n",
    "        print(int(point) + 1)"
   ]
  },
  {
   "cell_type": "code",
   "execution_count": 23,
   "metadata": {},
   "outputs": [
    {
     "name": "stdin",
     "output_type": "stream",
     "text": [
      " 2\n",
      " 1\n",
      " 3\n"
     ]
    },
    {
     "name": "stdout",
     "output_type": "stream",
     "text": [
      "6\n"
     ]
    },
    {
     "name": "stdin",
     "output_type": "stream",
     "text": [
      " 2\n",
      " 3\n"
     ]
    },
    {
     "name": "stdout",
     "output_type": "stream",
     "text": [
      "10\n"
     ]
    }
   ],
   "source": [
    "# 2775\n",
    "\n",
    "def apart(k, n):\n",
    "    ans = 0\n",
    "    if k == 0:\n",
    "        return n\n",
    "    if n == 1:\n",
    "        return 1\n",
    "    else:\n",
    "        for i in range(1, n+1):\n",
    "            ans += apart(k-1, i)\n",
    "    return ans\n",
    "\n",
    "T = int(input())\n",
    "\n",
    "for i in range(T):\n",
    "    k = int(input())\n",
    "    n = int(input())\n",
    "    \n",
    "    print(apart(k, n))"
   ]
  },
  {
   "cell_type": "code",
   "execution_count": 33,
   "metadata": {},
   "outputs": [
    {
     "name": "stdin",
     "output_type": "stream",
     "text": [
      " 7 3 11\n"
     ]
    },
    {
     "name": "stdout",
     "output_type": "stream",
     "text": [
      "2\n"
     ]
    }
   ],
   "source": [
    "# 2869\n",
    "\n",
    "a, b, v = map(int, input().split())\n",
    "\n",
    "if (v-a) % (a-b) == 0:\n",
    "    print((v-a)//(a-b) + 1)\n",
    "else:\n",
    "    print((v-a)//(a-b) + 2)"
   ]
  },
  {
   "cell_type": "code",
   "execution_count": 10,
   "metadata": {},
   "outputs": [
    {
     "name": "stdin",
     "output_type": "stream",
     "text": [
      " 3\n",
      " 0 3\n"
     ]
    },
    {
     "name": "stdout",
     "output_type": "stream",
     "text": [
      "3\n"
     ]
    },
    {
     "name": "stdin",
     "output_type": "stream",
     "text": [
      " 1 5\n"
     ]
    },
    {
     "name": "stdout",
     "output_type": "stream",
     "text": [
      "3\n"
     ]
    },
    {
     "name": "stdin",
     "output_type": "stream",
     "text": [
      " 45 50\n"
     ]
    },
    {
     "name": "stdout",
     "output_type": "stream",
     "text": [
      "4\n"
     ]
    }
   ],
   "source": [
    "# 1011\n",
    "\n",
    "# 1011\n",
    "\n",
    "import math\n",
    "\n",
    "T = int(input())\n",
    "\n",
    "for _ in range(T):\n",
    "    x, y = map(int, input().split())\n",
    "    distance = y - x\n",
    "    \n",
    "    factor = math.ceil(math.sqrt(distance))\n",
    "    \n",
    "    flag1 = (factor - 1) ** 2\n",
    "    flag2 = factor ** 2\n",
    "    \n",
    "    if distance >= (flag1 + flag2) / 2:\n",
    "        res = factor * 2 - 1\n",
    "    else:\n",
    "        res = factor * 2 - 2\n",
    "        \n",
    "    print(res)"
   ]
  },
  {
   "cell_type": "code",
   "execution_count": 9,
   "metadata": {},
   "outputs": [
    {
     "data": {
      "text/plain": [
       "[1, 2, 3, 5, 7, 10, 13, 17, 21, 26, 31, 37, 43, 50, 57, 65, 73, 82, 91]"
      ]
     },
     "execution_count": 9,
     "metadata": {},
     "output_type": "execute_result"
    }
   ],
   "source": [
    "blist = [1]\n",
    "num = 1\n",
    "\n",
    "for i in range(1, 10):\n",
    "    for j in range(1, 3):\n",
    "        blist.append(num + i*j)\n",
    "    num  = blist[-1]\n",
    "        \n",
    "blist"
   ]
  },
  {
   "cell_type": "code",
   "execution_count": 24,
   "metadata": {},
   "outputs": [
    {
     "data": {
      "text/plain": [
       "10"
      ]
     },
     "execution_count": 24,
     "metadata": {},
     "output_type": "execute_result"
    }
   ],
   "source": [
    "def func_a(n):\n",
    "    if n == 1:\n",
    "        return 1\n",
    "    return func_a(n-1) + 2 * (n-1)\n",
    "\n",
    "def func_b(n):\n",
    "    if n == 1:\n",
    "        return 2\n",
    "    return func_b(n-1) + 2 * n - 1\n",
    "\n",
    "def space(dis):\n",
    "    \n",
    "\n",
    "func_b(3)"
   ]
  },
  {
   "cell_type": "code",
   "execution_count": 83,
   "metadata": {},
   "outputs": [
    {
     "name": "stdin",
     "output_type": "stream",
     "text": [
      " 8888\n"
     ]
    },
    {
     "name": "stdout",
     "output_type": "stream",
     "text": [
      "[0, 0, 0, 0, 0, 0, 0, 0, 4]\n",
      "4\n"
     ]
    }
   ],
   "source": [
    "# 1475\n",
    "\n",
    "num = input()\n",
    "cnt = [0,0,0,0,0,0,0,0,0]\n",
    "\n",
    "for n in num:\n",
    "    idx = int(n)\n",
    "    \n",
    "    if idx == 9:\n",
    "        idx = 6\n",
    "        \n",
    "    cnt[idx] += 1\n",
    "    \n",
    "cnt[6] = (cnt[6] + 1) // 2\n",
    "\n",
    "print(max(cnt))"
   ]
  },
  {
   "cell_type": "code",
   "execution_count": 16,
   "metadata": {},
   "outputs": [
    {
     "name": "stdin",
     "output_type": "stream",
     "text": [
      " 100\n"
     ]
    },
    {
     "name": "stdout",
     "output_type": "stream",
     "text": [
      "24\n"
     ]
    }
   ],
   "source": [
    "# 1676\n",
    "\n",
    "n = int(input())\n",
    "\n",
    "cnt = 0\n",
    "for j in range(1, 4):\n",
    "    cnt += n // (5 ** j)\n",
    "    \n",
    "print(cnt)"
   ]
  },
  {
   "cell_type": "code",
   "execution_count": 56,
   "metadata": {},
   "outputs": [
    {
     "name": "stdin",
     "output_type": "stream",
     "text": [
      " 25 12\n"
     ]
    },
    {
     "name": "stdout",
     "output_type": "stream",
     "text": [
      "2\n"
     ]
    }
   ],
   "source": [
    "# 2004\n",
    "\n",
    "n, m = map(int, input().split())\n",
    "\n",
    "def findz(n, num):\n",
    "    i = 1\n",
    "    cnt = 0\n",
    "    \n",
    "    while num ** i < n:\n",
    "        i += 1\n",
    "    \n",
    "    for j in range(1, i+1):\n",
    "        cnt += n // (num ** j)\n",
    "        \n",
    "    return cnt\n",
    "\n",
    "def ncm(n, m, num1, num2):\n",
    "    a = findz(n, num1) - findz(m, num1) - findz(n-m, num1)\n",
    "    b = findz(n, num2) - findz(m, num2) - findz(n-m, num2)\n",
    "    return min(a, b)\n",
    "\n",
    "print(ncm(n, m, 5, 2))"
   ]
  },
  {
   "cell_type": "code",
   "execution_count": 62,
   "metadata": {},
   "outputs": [
    {
     "name": "stdin",
     "output_type": "stream",
     "text": [
      " 1 1\n",
      " 1000000000\n"
     ]
    },
    {
     "name": "stdout",
     "output_type": "stream",
     "text": [
      "999999999\n"
     ]
    }
   ],
   "source": [
    "# 17087\n",
    "\n",
    "def gcd(a, b):\n",
    "    if b == 0:\n",
    "        return a\n",
    "    return gcd(b, a%b)\n",
    "\n",
    "n, s = map(int, input().split())\n",
    "\n",
    "llist = list(map(int, input().split()))\n",
    "\n",
    "i = 0\n",
    "for l in llist:\n",
    "    ans = max(s, l) - min(s, l)\n",
    "    i = gcd(ans, i)\n",
    "    \n",
    "print(i)"
   ]
  },
  {
   "cell_type": "code",
   "execution_count": 19,
   "metadata": {},
   "outputs": [
    {
     "name": "stdin",
     "output_type": "stream",
     "text": [
      " 11001100\n"
     ]
    },
    {
     "name": "stdout",
     "output_type": "stream",
     "text": [
      "314\n"
     ]
    }
   ],
   "source": [
    "# 1373\n",
    "\n",
    "print(oct(int(input(), 2))[2:])"
   ]
  },
  {
   "cell_type": "code",
   "execution_count": 22,
   "metadata": {},
   "outputs": [
    {
     "name": "stdin",
     "output_type": "stream",
     "text": [
      " 314\n"
     ]
    },
    {
     "name": "stdout",
     "output_type": "stream",
     "text": [
      "11001100\n"
     ]
    }
   ],
   "source": [
    "# 1212\n",
    "\n",
    "print(bin(int(input(), 8))[2:])"
   ]
  },
  {
   "cell_type": "code",
   "execution_count": 35,
   "metadata": {},
   "outputs": [],
   "source": [
    "# 11050\n",
    "\n",
    "def factorial(n):\n",
    "    if n <= 1:\n",
    "        return 1\n",
    "    return n * factorial(n-1)\n",
    "\n",
    "def nck(n, k):\n",
    "    return factorial(n) // (factorial(k) * factorial(n-k))\n",
    "\n",
    "n, k = map(int, input().split())\n",
    "print(nck(n, k))"
   ]
  },
  {
   "cell_type": "code",
   "execution_count": null,
   "metadata": {},
   "outputs": [],
   "source": []
  }
 ],
 "metadata": {
  "kernelspec": {
   "display_name": "Python 3",
   "language": "python",
   "name": "python3"
  },
  "language_info": {
   "codemirror_mode": {
    "name": "ipython",
    "version": 3
   },
   "file_extension": ".py",
   "mimetype": "text/x-python",
   "name": "python",
   "nbconvert_exporter": "python",
   "pygments_lexer": "ipython3",
   "version": "3.7.6"
  }
 },
 "nbformat": 4,
 "nbformat_minor": 4
}
