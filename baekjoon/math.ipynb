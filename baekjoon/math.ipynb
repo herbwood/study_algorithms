{
 "cells": [
  {
   "cell_type": "code",
   "execution_count": 23,
   "metadata": {},
   "outputs": [
    {
     "name": "stdout",
     "output_type": "stream",
     "text": [
      "16 25\n",
      "8\n"
     ]
    }
   ],
   "source": [
    "# 1977\n",
    "m, n = map(int, input().split())\n",
    "mp, np = int(m ** 0.5), int(n ** 0.5)\n",
    "count = 0\n",
    "for i in range(mp, np + 1):\n",
    "    if i ** 2 in range(m, n + 1):\n",
    "       count += 1\n",
    "print(n - m - count + 1)"
   ]
  },
  {
   "cell_type": "code",
   "execution_count": 19,
   "metadata": {},
   "outputs": [
    {
     "name": "stdin",
     "output_type": "stream",
     "text": [
      " 1000 70 170\n"
     ]
    },
    {
     "name": "stdout",
     "output_type": "stream",
     "text": [
      "11\n"
     ]
    }
   ],
   "source": [
    "# 1712\n",
    "a, b, c = map(int, input().split())\n",
    "\n",
    "if c == b:\n",
    "    print(-1)\n",
    "else:\n",
    "    point = a / (c - b)\n",
    "\n",
    "    if point <= 0:\n",
    "        print(-1)\n",
    "    else:\n",
    "        print(int(point) + 1)"
   ]
  },
  {
   "cell_type": "code",
   "execution_count": 23,
   "metadata": {},
   "outputs": [
    {
     "name": "stdin",
     "output_type": "stream",
     "text": [
      " 2\n",
      " 1\n",
      " 3\n"
     ]
    },
    {
     "name": "stdout",
     "output_type": "stream",
     "text": [
      "6\n"
     ]
    },
    {
     "name": "stdin",
     "output_type": "stream",
     "text": [
      " 2\n",
      " 3\n"
     ]
    },
    {
     "name": "stdout",
     "output_type": "stream",
     "text": [
      "10\n"
     ]
    }
   ],
   "source": [
    "# 2775\n",
    "\n",
    "def apart(k, n):\n",
    "    ans = 0\n",
    "    if k == 0:\n",
    "        return n\n",
    "    if n == 1:\n",
    "        return 1\n",
    "    else:\n",
    "        for i in range(1, n+1):\n",
    "            ans += apart(k-1, i)\n",
    "    return ans\n",
    "\n",
    "T = int(input())\n",
    "\n",
    "for i in range(T):\n",
    "    k = int(input())\n",
    "    n = int(input())\n",
    "    \n",
    "    print(apart(k, n))"
   ]
  },
  {
   "cell_type": "code",
   "execution_count": 33,
   "metadata": {},
   "outputs": [
    {
     "name": "stdin",
     "output_type": "stream",
     "text": [
      " 7 3 11\n"
     ]
    },
    {
     "name": "stdout",
     "output_type": "stream",
     "text": [
      "2\n"
     ]
    }
   ],
   "source": [
    "# 2869\n",
    "\n",
    "a, b, v = map(int, input().split())\n",
    "\n",
    "if (v-a) % (a-b) == 0:\n",
    "    print((v-a)//(a-b) + 1)\n",
    "else:\n",
    "    print((v-a)//(a-b) + 2)"
   ]
  },
  {
   "cell_type": "code",
   "execution_count": 10,
   "metadata": {},
   "outputs": [
    {
     "name": "stdin",
     "output_type": "stream",
     "text": [
      " 3\n",
      " 0 3\n"
     ]
    },
    {
     "name": "stdout",
     "output_type": "stream",
     "text": [
      "3\n"
     ]
    },
    {
     "name": "stdin",
     "output_type": "stream",
     "text": [
      " 1 5\n"
     ]
    },
    {
     "name": "stdout",
     "output_type": "stream",
     "text": [
      "3\n"
     ]
    },
    {
     "name": "stdin",
     "output_type": "stream",
     "text": [
      " 45 50\n"
     ]
    },
    {
     "name": "stdout",
     "output_type": "stream",
     "text": [
      "4\n"
     ]
    }
   ],
   "source": [
    "# 1011\n",
    "\n",
    "# 1011\n",
    "\n",
    "import math\n",
    "\n",
    "T = int(input())\n",
    "\n",
    "for _ in range(T):\n",
    "    x, y = map(int, input().split())\n",
    "    distance = y - x\n",
    "    \n",
    "    factor = math.ceil(math.sqrt(distance))\n",
    "    \n",
    "    flag1 = (factor - 1) ** 2\n",
    "    flag2 = factor ** 2\n",
    "    \n",
    "    if distance >= (flag1 + flag2) / 2:\n",
    "        res = factor * 2 - 1\n",
    "    else:\n",
    "        res = factor * 2 - 2\n",
    "        \n",
    "    print(res)"
   ]
  },
  {
   "cell_type": "code",
   "execution_count": 9,
   "metadata": {},
   "outputs": [
    {
     "data": {
      "text/plain": [
       "[1, 2, 3, 5, 7, 10, 13, 17, 21, 26, 31, 37, 43, 50, 57, 65, 73, 82, 91]"
      ]
     },
     "execution_count": 9,
     "metadata": {},
     "output_type": "execute_result"
    }
   ],
   "source": [
    "blist = [1]\n",
    "num = 1\n",
    "\n",
    "for i in range(1, 10):\n",
    "    for j in range(1, 3):\n",
    "        blist.append(num + i*j)\n",
    "    num  = blist[-1]\n",
    "        \n",
    "blist"
   ]
  },
  {
   "cell_type": "code",
   "execution_count": 24,
   "metadata": {},
   "outputs": [
    {
     "data": {
      "text/plain": [
       "10"
      ]
     },
     "execution_count": 24,
     "metadata": {},
     "output_type": "execute_result"
    }
   ],
   "source": [
    "def func_a(n):\n",
    "    if n == 1:\n",
    "        return 1\n",
    "    return func_a(n-1) + 2 * (n-1)\n",
    "\n",
    "def func_b(n):\n",
    "    if n == 1:\n",
    "        return 2\n",
    "    return func_b(n-1) + 2 * n - 1\n",
    "\n",
    "def space(dis):\n",
    "    \n",
    "\n",
    "func_b(3)"
   ]
  },
  {
   "cell_type": "code",
   "execution_count": 83,
   "metadata": {},
   "outputs": [
    {
     "name": "stdin",
     "output_type": "stream",
     "text": [
      " 8888\n"
     ]
    },
    {
     "name": "stdout",
     "output_type": "stream",
     "text": [
      "[0, 0, 0, 0, 0, 0, 0, 0, 4]\n",
      "4\n"
     ]
    }
   ],
   "source": [
    "# 1475\n",
    "\n",
    "num = input()\n",
    "cnt = [0,0,0,0,0,0,0,0,0]\n",
    "\n",
    "for n in num:\n",
    "    idx = int(n)\n",
    "    \n",
    "    if idx == 9:\n",
    "        idx = 6\n",
    "        \n",
    "    cnt[idx] += 1\n",
    "    \n",
    "cnt[6] = (cnt[6] + 1) // 2\n",
    "\n",
    "print(max(cnt))"
   ]
  },
  {
   "cell_type": "code",
   "execution_count": 16,
   "metadata": {},
   "outputs": [
    {
     "name": "stdin",
     "output_type": "stream",
     "text": [
      " 100\n"
     ]
    },
    {
     "name": "stdout",
     "output_type": "stream",
     "text": [
      "24\n"
     ]
    }
   ],
   "source": [
    "# 1676\n",
    "\n",
    "n = int(input())\n",
    "\n",
    "cnt = 0\n",
    "for j in range(1, 4):\n",
    "    cnt += n // (5 ** j)\n",
    "    \n",
    "print(cnt)"
   ]
  },
  {
   "cell_type": "code",
   "execution_count": 56,
   "metadata": {},
   "outputs": [
    {
     "name": "stdin",
     "output_type": "stream",
     "text": [
      " 25 12\n"
     ]
    },
    {
     "name": "stdout",
     "output_type": "stream",
     "text": [
      "2\n"
     ]
    }
   ],
   "source": [
    "# 2004\n",
    "\n",
    "n, m = map(int, input().split())\n",
    "\n",
    "def findz(n, num):\n",
    "    i = 1\n",
    "    cnt = 0\n",
    "    \n",
    "    while num ** i < n:\n",
    "        i += 1\n",
    "    \n",
    "    for j in range(1, i+1):\n",
    "        cnt += n // (num ** j)\n",
    "        \n",
    "    return cnt\n",
    "\n",
    "def ncm(n, m, num1, num2):\n",
    "    a = findz(n, num1) - findz(m, num1) - findz(n-m, num1)\n",
    "    b = findz(n, num2) - findz(m, num2) - findz(n-m, num2)\n",
    "    return min(a, b)\n",
    "\n",
    "print(ncm(n, m, 5, 2))"
   ]
  },
  {
   "cell_type": "code",
   "execution_count": 62,
   "metadata": {},
   "outputs": [
    {
     "name": "stdin",
     "output_type": "stream",
     "text": [
      " 1 1\n",
      " 1000000000\n"
     ]
    },
    {
     "name": "stdout",
     "output_type": "stream",
     "text": [
      "999999999\n"
     ]
    }
   ],
   "source": [
    "# 17087\n",
    "\n",
    "def gcd(a, b):\n",
    "    if b == 0:\n",
    "        return a\n",
    "    return gcd(b, a%b)\n",
    "\n",
    "n, s = map(int, input().split())\n",
    "\n",
    "llist = list(map(int, input().split()))\n",
    "\n",
    "i = 0\n",
    "for l in llist:\n",
    "    ans = max(s, l) - min(s, l)\n",
    "    i = gcd(ans, i)\n",
    "    \n",
    "print(i)"
   ]
  },
  {
   "cell_type": "code",
   "execution_count": 19,
   "metadata": {},
   "outputs": [
    {
     "name": "stdin",
     "output_type": "stream",
     "text": [
      " 11001100\n"
     ]
    },
    {
     "name": "stdout",
     "output_type": "stream",
     "text": [
      "314\n"
     ]
    }
   ],
   "source": [
    "# 1373\n",
    "\n",
    "print(oct(int(input(), 2))[2:])"
   ]
  },
  {
   "cell_type": "code",
   "execution_count": 22,
   "metadata": {},
   "outputs": [
    {
     "name": "stdin",
     "output_type": "stream",
     "text": [
      " 314\n"
     ]
    },
    {
     "name": "stdout",
     "output_type": "stream",
     "text": [
      "11001100\n"
     ]
    }
   ],
   "source": [
    "# 1212\n",
    "\n",
    "print(bin(int(input(), 8))[2:])"
   ]
  },
  {
   "cell_type": "code",
   "execution_count": 2,
   "metadata": {},
   "outputs": [
    {
     "name": "stdin",
     "output_type": "stream",
     "text": [
      " 5 2\n"
     ]
    },
    {
     "name": "stdout",
     "output_type": "stream",
     "text": [
      "10\n"
     ]
    }
   ],
   "source": [
    "# 11050\n",
    "\n",
    "def factorial(n):\n",
    "    if n <= 1:\n",
    "        return 1\n",
    "    return n * factorial(n-1)\n",
    "\n",
    "def nck(n, k):\n",
    "    return factorial(n) // (factorial(k) * factorial(n-k))\n",
    "\n",
    "n, k = map(int, input().split())\n",
    "print(nck(n, k))"
   ]
  },
  {
   "cell_type": "code",
   "execution_count": 1,
   "metadata": {},
   "outputs": [
    {
     "name": "stdin",
     "output_type": "stream",
     "text": [
      " 8 16\n"
     ]
    },
    {
     "name": "stdout",
     "output_type": "stream",
     "text": [
      "factor\n"
     ]
    },
    {
     "name": "stdin",
     "output_type": "stream",
     "text": [
      " 32 4\n"
     ]
    },
    {
     "name": "stdout",
     "output_type": "stream",
     "text": [
      "multiple\n"
     ]
    },
    {
     "name": "stdin",
     "output_type": "stream",
     "text": [
      " 17 5\n"
     ]
    },
    {
     "name": "stdout",
     "output_type": "stream",
     "text": [
      "neither\n"
     ]
    },
    {
     "name": "stdin",
     "output_type": "stream",
     "text": [
      " 0 0\n"
     ]
    }
   ],
   "source": [
    "# 5086\n",
    "\n",
    "while True:\n",
    "    n, m = map(int, input().split())\n",
    "    \n",
    "    if n == 0 and m == 0:\n",
    "        break\n",
    "    \n",
    "    if n < m and m % n == 0:\n",
    "        print('factor')\n",
    "        \n",
    "    elif m < n and n % m == 0:\n",
    "        print('multiple')\n",
    "        \n",
    "    else:\n",
    "        print('neither')"
   ]
  },
  {
   "cell_type": "code",
   "execution_count": 9,
   "metadata": {},
   "outputs": [
    {
     "name": "stdin",
     "output_type": "stream",
     "text": [
      " 2\n",
      " 4 2\n"
     ]
    },
    {
     "name": "stdout",
     "output_type": "stream",
     "text": [
      "8\n"
     ]
    }
   ],
   "source": [
    "# 1037\n",
    "\n",
    "n = int(input())\n",
    "a = sorted(list(map(int, input().split())))\n",
    "\n",
    "print(a[0] * a[-1])"
   ]
  },
  {
   "cell_type": "code",
   "execution_count": 1,
   "metadata": {},
   "outputs": [
    {
     "name": "stdin",
     "output_type": "stream",
     "text": [
      " 3\n",
      " 100 12\n"
     ]
    },
    {
     "name": "stdout",
     "output_type": "stream",
     "text": [
      "10\n"
     ]
    },
    {
     "name": "stdin",
     "output_type": "stream",
     "text": [
      " 3 6\n"
     ]
    },
    {
     "name": "stdout",
     "output_type": "stream",
     "text": [
      "9\n"
     ]
    },
    {
     "name": "stdin",
     "output_type": "stream",
     "text": [
      " 1 3\n"
     ]
    },
    {
     "name": "stdout",
     "output_type": "stream",
     "text": [
      "1\n"
     ]
    }
   ],
   "source": [
    "# 1009\n",
    "\n",
    "d = [[0] * 5 for _ in range(11)]\n",
    "\n",
    "for i in range(1, 5):\n",
    "    d[10][i] = 10\n",
    "    \n",
    "for i in range(1, 10):\n",
    "    for j in range(1, 5):\n",
    "        d[i][j] = int(str(pow(i, j))[-1])\n",
    "        \n",
    "t = int(input())\n",
    "\n",
    "for _ in range(t):\n",
    "    a, b = map(int, input().split())\n",
    "    if a % 10 != 0:\n",
    "        j = int(str(a)[-1])\n",
    "    else:\n",
    "        j = 10\n",
    "    i = b % 4 \n",
    "    if i == 0:\n",
    "        i = -1\n",
    "    print(d[j][i])"
   ]
  },
  {
   "cell_type": "code",
   "execution_count": 2,
   "metadata": {},
   "outputs": [],
   "source": [
    "# 1339\n",
    "\n",
    "import sys\n",
    "\n",
    "n = int(sys.stdin.readline())\n",
    "word = [sys.stdin.readline().strip() for _ in range(n)]\n",
    "alpha = [0 for i in range(26)]\n",
    "\n",
    "for w in word:\n",
    "    i = 0\n",
    "    while w:\n",
    "        cur = w[-1]\n",
    "        alpha[ord(cur) - ord('A')] += pow(10, i)\n",
    "        i += 1\n",
    "        w = w[:-1]\n",
    "\n",
    "alpha.sort(reverse=True)\n",
    "ans = 0\n",
    "\n",
    "for i in range(9, 0, -1):\n",
    "    ans += i * alpha[9-i]\n",
    "print(ans)"
   ]
  },
  {
   "cell_type": "code",
   "execution_count": 1,
   "metadata": {},
   "outputs": [
    {
     "name": "stdin",
     "output_type": "stream",
     "text": [
      " 11 15\n"
     ]
    },
    {
     "name": "stdout",
     "output_type": "stream",
     "text": [
      "19\n"
     ]
    }
   ],
   "source": [
    "# 3046\n",
    "\n",
    "r1, s = map(int, input().split())\n",
    "r2 = 2 * s - r1\n",
    "print(r2)"
   ]
  },
  {
   "cell_type": "code",
   "execution_count": 2,
   "metadata": {},
   "outputs": [
    {
     "name": "stdin",
     "output_type": "stream",
     "text": [
      " 2 2\n"
     ]
    },
    {
     "name": "stdout",
     "output_type": "stream",
     "text": [
      "3\n"
     ]
    }
   ],
   "source": [
    "# 2163\n",
    "\n",
    "n, m = map(int, input().split())\n",
    "print(n * m - 1)"
   ]
  },
  {
   "cell_type": "code",
   "execution_count": 10,
   "metadata": {},
   "outputs": [
    {
     "name": "stdin",
     "output_type": "stream",
     "text": [
      " 3\n",
      " 4 10 20 30 40\n"
     ]
    },
    {
     "name": "stdout",
     "output_type": "stream",
     "text": [
      "70\n"
     ]
    },
    {
     "name": "stdin",
     "output_type": "stream",
     "text": [
      " 3 7 5 12\n"
     ]
    },
    {
     "name": "stdout",
     "output_type": "stream",
     "text": [
      "3\n"
     ]
    },
    {
     "name": "stdin",
     "output_type": "stream",
     "text": [
      " 3 125 15 25\n"
     ]
    },
    {
     "name": "stdout",
     "output_type": "stream",
     "text": [
      "35\n"
     ]
    }
   ],
   "source": [
    "# 9613\n",
    "\n",
    "def gcd(a, b):\n",
    "    if b == 0:\n",
    "        return a\n",
    "    return gcd(b, a%b)\n",
    "    \n",
    "t = int(input())\n",
    "for _ in range(t):\n",
    "    n, *a = map(int, input().split())\n",
    "    cnt = 0\n",
    "    for i in range(n-1):\n",
    "        for j in range(i+1, n):\n",
    "            cnt += gcd(a[i], a[j])\n",
    "    print(cnt)"
   ]
  },
  {
   "cell_type": "code",
   "execution_count": 5,
   "metadata": {},
   "outputs": [
    {
     "name": "stdin",
     "output_type": "stream",
     "text": [
      " 123 100\n"
     ]
    },
    {
     "name": "stdout",
     "output_type": "stream",
     "text": [
      "223\n"
     ]
    }
   ],
   "source": [
    "# 1357\n",
    "\n",
    "def rev(x):\n",
    "    return int(x[::-1])\n",
    "\n",
    "x, y = input().split()\n",
    "ans = rev(str(rev(x) + rev(y)))\n",
    "print(ans)"
   ]
  },
  {
   "cell_type": "code",
   "execution_count": 1,
   "metadata": {},
   "outputs": [
    {
     "name": "stdin",
     "output_type": "stream",
     "text": [
      " -13\n"
     ]
    },
    {
     "name": "stdout",
     "output_type": "stream",
     "text": [
      "110111\n"
     ]
    }
   ],
   "source": [
    "# 2089\n",
    "\n",
    "import sys\n",
    "n = int(sys.stdin.readline())\n",
    "if not n:\n",
    "    print('0')\n",
    "    sys.exit()\n",
    "ans = ''\n",
    "while n:\n",
    "    if n % (-2):\n",
    "        ans = '1' + ans\n",
    "        n = n// -2 + 1\n",
    "    else:\n",
    "        ans = '0' + ans\n",
    "        n //= -2\n",
    "        \n",
    "print(ans)"
   ]
  },
  {
   "cell_type": "code",
   "execution_count": 21,
   "metadata": {},
   "outputs": [
    {
     "name": "stdin",
     "output_type": "stream",
     "text": [
      " 60466175 36\n"
     ]
    },
    {
     "name": "stdout",
     "output_type": "stream",
     "text": [
      "ZZZZZ\n"
     ]
    }
   ],
   "source": [
    "# 11005\n",
    "\n",
    "system = \"0123456789ABCDEFGHIJKLMNOPQRSTUVWXYZ\"\n",
    "n, b = map(int, input().split())\n",
    "ans = ''\n",
    "\n",
    "while n != 0:\n",
    "    ans += str(system[n%b])\n",
    "    n //= b\n",
    "    \n",
    "print(ans[::-1])"
   ]
  },
  {
   "cell_type": "code",
   "execution_count": 18,
   "metadata": {},
   "outputs": [
    {
     "name": "stdin",
     "output_type": "stream",
     "text": [
      " ZZZZZ 36\n"
     ]
    },
    {
     "name": "stdout",
     "output_type": "stream",
     "text": [
      "60466175\n"
     ]
    }
   ],
   "source": [
    "# 2745\n",
    "\n",
    "system = \"0123456789ABCDEFGHIJKLMNOPQRSTUVWXYZ\"\n",
    "b, n = input().split()\n",
    "n = int(n)\n",
    "ans = 0\n",
    "\n",
    "while b != '':\n",
    "    ans = n * ans + system.index(b[0])\n",
    "    b = b[1:]\n",
    "print(ans)"
   ]
  },
  {
   "cell_type": "code",
   "execution_count": 1,
   "metadata": {},
   "outputs": [
    {
     "name": "stdin",
     "output_type": "stream",
     "text": [
      " 9991\n"
     ]
    },
    {
     "name": "stdout",
     "output_type": "stream",
     "text": [
      "97\n",
      "103\n"
     ]
    }
   ],
   "source": [
    "# 11653\n",
    "\n",
    "n = int(input())\n",
    "i = 2\n",
    "\n",
    "while n != 1:\n",
    "    if n % i == 0:\n",
    "        n /= i\n",
    "        print(i)\n",
    "    else:\n",
    "        i += 1"
   ]
  },
  {
   "cell_type": "code",
   "execution_count": null,
   "metadata": {},
   "outputs": [],
   "source": []
  }
 ],
 "metadata": {
  "kernelspec": {
   "display_name": "Python 3",
   "language": "python",
   "name": "python3"
  },
  "language_info": {
   "codemirror_mode": {
    "name": "ipython",
    "version": 3
   },
   "file_extension": ".py",
   "mimetype": "text/x-python",
   "name": "python",
   "nbconvert_exporter": "python",
   "pygments_lexer": "ipython3",
   "version": "3.7.6"
  }
 },
 "nbformat": 4,
 "nbformat_minor": 4
}
