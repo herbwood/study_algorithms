{
 "cells": [
  {
   "cell_type": "code",
   "execution_count": 23,
   "metadata": {},
   "outputs": [
    {
     "name": "stdout",
     "output_type": "stream",
     "text": [
      "16 25\n",
      "8\n"
     ]
    }
   ],
   "source": [
    "# 1977\n",
    "m, n = map(int, input().split())\n",
    "mp, np = int(m ** 0.5), int(n ** 0.5)\n",
    "count = 0\n",
    "for i in range(mp, np + 1):\n",
    "    if i ** 2 in range(m, n + 1):\n",
    "       count += 1\n",
    "print(n - m - count + 1)"
   ]
  },
  {
   "cell_type": "code",
   "execution_count": 19,
   "metadata": {},
   "outputs": [
    {
     "name": "stdin",
     "output_type": "stream",
     "text": [
      " 1000 70 170\n"
     ]
    },
    {
     "name": "stdout",
     "output_type": "stream",
     "text": [
      "11\n"
     ]
    }
   ],
   "source": [
    "# 1712\n",
    "a, b, c = map(int, input().split())\n",
    "\n",
    "if c == b:\n",
    "    print(-1)\n",
    "else:\n",
    "    point = a / (c - b)\n",
    "\n",
    "    if point <= 0:\n",
    "        print(-1)\n",
    "    else:\n",
    "        print(int(point) + 1)"
   ]
  },
  {
   "cell_type": "code",
   "execution_count": 23,
   "metadata": {},
   "outputs": [
    {
     "name": "stdin",
     "output_type": "stream",
     "text": [
      " 2\n",
      " 1\n",
      " 3\n"
     ]
    },
    {
     "name": "stdout",
     "output_type": "stream",
     "text": [
      "6\n"
     ]
    },
    {
     "name": "stdin",
     "output_type": "stream",
     "text": [
      " 2\n",
      " 3\n"
     ]
    },
    {
     "name": "stdout",
     "output_type": "stream",
     "text": [
      "10\n"
     ]
    }
   ],
   "source": [
    "# 2775\n",
    "\n",
    "def apart(k, n):\n",
    "    ans = 0\n",
    "    if k == 0:\n",
    "        return n\n",
    "    if n == 1:\n",
    "        return 1\n",
    "    else:\n",
    "        for i in range(1, n+1):\n",
    "            ans += apart(k-1, i)\n",
    "    return ans\n",
    "\n",
    "T = int(input())\n",
    "\n",
    "for i in range(T):\n",
    "    k = int(input())\n",
    "    n = int(input())\n",
    "    \n",
    "    print(apart(k, n))"
   ]
  },
  {
   "cell_type": "code",
   "execution_count": 33,
   "metadata": {},
   "outputs": [
    {
     "name": "stdin",
     "output_type": "stream",
     "text": [
      " 7 3 11\n"
     ]
    },
    {
     "name": "stdout",
     "output_type": "stream",
     "text": [
      "2\n"
     ]
    }
   ],
   "source": [
    "# 2869\n",
    "\n",
    "a, b, v = map(int, input().split())\n",
    "\n",
    "if (v-a) % (a-b) == 0:\n",
    "    print((v-a)//(a-b) + 1)\n",
    "else:\n",
    "    print((v-a)//(a-b) + 2)"
   ]
  },
  {
   "cell_type": "code",
   "execution_count": null,
   "metadata": {},
   "outputs": [],
   "source": []
  },
  {
   "cell_type": "code",
   "execution_count": null,
   "metadata": {},
   "outputs": [],
   "source": []
  },
  {
   "cell_type": "code",
   "execution_count": null,
   "metadata": {},
   "outputs": [],
   "source": []
  }
 ],
 "metadata": {
  "kernelspec": {
   "display_name": "Python 3",
   "language": "python",
   "name": "python3"
  },
  "language_info": {
   "codemirror_mode": {
    "name": "ipython",
    "version": 3
   },
   "file_extension": ".py",
   "mimetype": "text/x-python",
   "name": "python",
   "nbconvert_exporter": "python",
   "pygments_lexer": "ipython3",
   "version": "3.7.3"
  }
 },
 "nbformat": 4,
 "nbformat_minor": 4
}
