{
 "cells": [
  {
   "cell_type": "code",
   "execution_count": 1,
   "metadata": {},
   "outputs": [
    {
     "name": "stdout",
     "output_type": "stream",
     "text": [
      "100\n",
      "A\n"
     ]
    }
   ],
   "source": [
    "# 9498\n",
    "grade = int(input())\n",
    "if grade >= 90 and grade <= 100:\n",
    "    print('A')\n",
    "elif grade >= 80 and grade < 90:\n",
    "    print('B')\n",
    "elif grade >= 70 and grade < 80:\n",
    "    print('C')\n",
    "elif grade >= 60 and grade < 70:\n",
    "    print('D')\n",
    "else:\n",
    "    print('F')"
   ]
  },
  {
   "cell_type": "code",
   "execution_count": 16,
   "metadata": {},
   "outputs": [
    {
     "name": "stdout",
     "output_type": "stream",
     "text": [
      "20 30 10\n",
      "20\n"
     ]
    }
   ],
   "source": [
    "# 10817\n",
    "a, b, c = map(int, input().split())\n",
    "if (a >= b and a <= c) or (a >= c and a <= b):\n",
    "    print(a)\n",
    "elif (b >= a and b <= c) or (b >= c and b <= a):\n",
    "    print(b)\n",
    "elif (c >= a and c <= b) or (c >= b and c <= a):\n",
    "    print(c)"
   ]
  },
  {
   "cell_type": "code",
   "execution_count": 5,
   "metadata": {},
   "outputs": [
    {
     "name": "stdout",
     "output_type": "stream",
     "text": [
      "10 5\n",
      "12 3 4 5\n",
      "3 4 "
     ]
    }
   ],
   "source": [
    "# 10871\n",
    "n, x = map(int, input().split())\n",
    "num = input()\n",
    "blist = num.split()\n",
    "for b in blist:\n",
    "    if int(b) < x:\n",
    "        print(b, end = ' ')"
   ]
  },
  {
   "cell_type": "code",
   "execution_count": 9,
   "metadata": {},
   "outputs": [
    {
     "name": "stdout",
     "output_type": "stream",
     "text": [
      "3\n",
      "40 80 60\n",
      "75.0\n"
     ]
    }
   ],
   "source": [
    "# 1546\n",
    "n = int(input())\n",
    "glist = list(map(int, input().split()))\n",
    "print(round(((100 / max(glist)) * sum(glist)) / n, 2))"
   ]
  },
  {
   "cell_type": "code",
   "execution_count": 20,
   "metadata": {},
   "outputs": [
    {
     "name": "stdout",
     "output_type": "stream",
     "text": [
      "5\n",
      "5 50 50 70 80 100\n",
      "7 100 95 90 80 70 60 50\n",
      "3 70 90 80\n",
      "3 70 90 80\n",
      "3 70 90 81\n",
      "40.000%\n",
      "57.143%\n",
      "33.333%\n",
      "33.333%\n",
      "66.667%\n"
     ]
    }
   ],
   "source": [
    "# 4344\n",
    "case = int(input())\n",
    "above_average_list = []\n",
    "for i in range(case):\n",
    "    each_cases = list(map(int, input().split()))\n",
    "    average = sum(each_cases[1:]) / each_cases[0]\n",
    "    average_num = 0\n",
    "    for each_case in each_cases[1:]:\n",
    "        if each_case > average:\n",
    "            average_num += 1\n",
    "    above_average_list.append(average_num / each_cases[0])\n",
    "for above_average in above_average_list:\n",
    "    print('{0:.3f}%'.format(above_average * 100))"
   ]
  },
  {
   "cell_type": "code",
   "execution_count": 2,
   "metadata": {},
   "outputs": [
    {
     "name": "stdout",
     "output_type": "stream",
     "text": [
      "26\n",
      "4\n"
     ]
    }
   ],
   "source": [
    "# 1110\n",
    "number = input()\n",
    "\n",
    "if len(number) < 2:\n",
    "    number = '0' + number\n",
    "\n",
    "num = number\n",
    "new_num = -1\n",
    "count = 0\n",
    "\n",
    "while new_num != number:\n",
    "    num2 = int(num[0]) + int(num[-1])\n",
    "    new_num = num[-1] + str(num2)[-1]\n",
    "    num = new_num\n",
    "    count += 1\n",
    "\n",
    "print(count)"
   ]
  },
  {
   "cell_type": "code",
   "execution_count": 3,
   "metadata": {},
   "outputs": [
    {
     "name": "stdin",
     "output_type": "stream",
     "text": [
      " 1 2\n"
     ]
    },
    {
     "name": "stdout",
     "output_type": "stream",
     "text": [
      "<\n"
     ]
    }
   ],
   "source": [
    "# 1330\n",
    "\n",
    "a,b = map(int, input().split())\n",
    "\n",
    "if a > b:\n",
    "    print('>')\n",
    "elif a < b:\n",
    "    print('<')\n",
    "else:\n",
    "    print('==')"
   ]
  },
  {
   "cell_type": "code",
   "execution_count": 8,
   "metadata": {},
   "outputs": [
    {
     "name": "stdin",
     "output_type": "stream",
     "text": [
      " 2012\n"
     ]
    },
    {
     "name": "stdout",
     "output_type": "stream",
     "text": [
      "1\n"
     ]
    }
   ],
   "source": [
    "# 2753\n",
    "\n",
    "num = int(input())\n",
    "\n",
    "if ((num % 4 == 0) and (num % 100 != 0)) or (num % 400 == 0):\n",
    "    print(1)\n",
    "else:\n",
    "    print(0)"
   ]
  },
  {
   "cell_type": "code",
   "execution_count": 11,
   "metadata": {},
   "outputs": [
    {
     "name": "stdin",
     "output_type": "stream",
     "text": [
      " 1 12\n"
     ]
    },
    {
     "name": "stdout",
     "output_type": "stream",
     "text": [
      "0 27\n"
     ]
    }
   ],
   "source": [
    "# 2884\n",
    "\n",
    "h, m = map(int, input().split())\n",
    "\n",
    "m -= 45\n",
    "if m < 0:\n",
    "    m += 60\n",
    "    h -= 1\n",
    "if h < 0:\n",
    "    h += 24\n",
    "\n",
    "print(h, m)"
   ]
  },
  {
   "cell_type": "code",
   "execution_count": 2,
   "metadata": {},
   "outputs": [
    {
     "name": "stdin",
     "output_type": "stream",
     "text": [
      " 800\n",
      " 700\n",
      " 900\n",
      " 198\n",
      " 330\n"
     ]
    },
    {
     "name": "stdout",
     "output_type": "stream",
     "text": [
      "848\n"
     ]
    }
   ],
   "source": [
    "# 5543\n",
    "\n",
    "a = [int(input()) for _ in range(5)]\n",
    "burger = min(a[:3])\n",
    "soda = min(a[3:])\n",
    "print(burger + soda - 50)"
   ]
  },
  {
   "cell_type": "code",
   "execution_count": null,
   "metadata": {},
   "outputs": [],
   "source": []
  }
 ],
 "metadata": {
  "kernelspec": {
   "display_name": "Python 3",
   "language": "python",
   "name": "python3"
  },
  "language_info": {
   "codemirror_mode": {
    "name": "ipython",
    "version": 3
   },
   "file_extension": ".py",
   "mimetype": "text/x-python",
   "name": "python",
   "nbconvert_exporter": "python",
   "pygments_lexer": "ipython3",
   "version": "3.7.3"
  }
 },
 "nbformat": 4,
 "nbformat_minor": 4
}
