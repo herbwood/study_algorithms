{
 "cells": [
  {
   "cell_type": "code",
   "execution_count": 1,
   "metadata": {},
   "outputs": [
    {
     "name": "stdout",
     "output_type": "stream",
     "text": [
      "100\n",
      "A\n"
     ]
    }
   ],
   "source": [
    "# 9498\n",
    "grade = int(input())\n",
    "if grade >= 90 and grade <= 100:\n",
    "    print('A')\n",
    "elif grade >= 80 and grade < 90:\n",
    "    print('B')\n",
    "elif grade >= 70 and grade < 80:\n",
    "    print('C')\n",
    "elif grade >= 60 and grade < 70:\n",
    "    print('D')\n",
    "else:\n",
    "    print('F')"
   ]
  },
  {
   "cell_type": "code",
   "execution_count": 16,
   "metadata": {},
   "outputs": [
    {
     "name": "stdout",
     "output_type": "stream",
     "text": [
      "20 30 10\n",
      "20\n"
     ]
    }
   ],
   "source": [
    "# 10817\n",
    "a, b, c = map(int, input().split())\n",
    "if (a >= b and a <= c) or (a >= c and a <= b):\n",
    "    print(a)\n",
    "elif (b >= a and b <= c) or (b >= c and b <= a):\n",
    "    print(b)\n",
    "elif (c >= a and c <= b) or (c >= b and c <= a):\n",
    "    print(c)"
   ]
  },
  {
   "cell_type": "code",
   "execution_count": 5,
   "metadata": {},
   "outputs": [
    {
     "name": "stdout",
     "output_type": "stream",
     "text": [
      "10 5\n",
      "12 3 4 5\n",
      "3 4 "
     ]
    }
   ],
   "source": [
    "# 10871\n",
    "n, x = map(int, input().split())\n",
    "num = input()\n",
    "blist = num.split()\n",
    "for b in blist:\n",
    "    if int(b) < x:\n",
    "        print(b, end = ' ')"
   ]
  },
  {
   "cell_type": "code",
   "execution_count": 9,
   "metadata": {},
   "outputs": [
    {
     "name": "stdout",
     "output_type": "stream",
     "text": [
      "3\n",
      "40 80 60\n",
      "75.0\n"
     ]
    }
   ],
   "source": [
    "# 1546\n",
    "n = int(input())\n",
    "glist = list(map(int, input().split()))\n",
    "print(round(((100 / max(glist)) * sum(glist)) / n, 2))"
   ]
  },
  {
   "cell_type": "code",
   "execution_count": 20,
   "metadata": {},
   "outputs": [
    {
     "name": "stdout",
     "output_type": "stream",
     "text": [
      "5\n",
      "5 50 50 70 80 100\n",
      "7 100 95 90 80 70 60 50\n",
      "3 70 90 80\n",
      "3 70 90 80\n",
      "3 70 90 81\n",
      "40.000%\n",
      "57.143%\n",
      "33.333%\n",
      "33.333%\n",
      "66.667%\n"
     ]
    }
   ],
   "source": [
    "# 4344\n",
    "case = int(input())\n",
    "above_average_list = []\n",
    "for i in range(case):\n",
    "    each_cases = list(map(int, input().split()))\n",
    "    average = sum(each_cases[1:]) / each_cases[0]\n",
    "    average_num = 0\n",
    "    for each_case in each_cases[1:]:\n",
    "        if each_case > average:\n",
    "            average_num += 1\n",
    "    above_average_list.append(average_num / each_cases[0])\n",
    "for above_average in above_average_list:\n",
    "    print('{0:.3f}%'.format(above_average * 100))"
   ]
  },
  {
   "cell_type": "code",
   "execution_count": null,
   "metadata": {},
   "outputs": [
    {
     "name": "stdout",
     "output_type": "stream",
     "text": [
      "26\n"
     ]
    }
   ],
   "source": [
    "# 1110\n",
    "n = input()\n",
    "count = 0\n",
    "while True:\n",
    "    count += 1\n",
    "    m = int(n[0]) + int(n[1])\n",
    "    s = n[1] + str(m)[-1]\n",
    "    if n == s:\n",
    "        break\n",
    "print(count)"
   ]
  },
  {
   "cell_type": "code",
   "execution_count": null,
   "metadata": {},
   "outputs": [],
   "source": []
  }
 ],
 "metadata": {
  "kernelspec": {
   "display_name": "Python 3",
   "language": "python",
   "name": "python3"
  },
  "language_info": {
   "codemirror_mode": {
    "name": "ipython",
    "version": 3
   },
   "file_extension": ".py",
   "mimetype": "text/x-python",
   "name": "python",
   "nbconvert_exporter": "python",
   "pygments_lexer": "ipython3",
   "version": "3.6.5"
  }
 },
 "nbformat": 4,
 "nbformat_minor": 2
}
