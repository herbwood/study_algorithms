{
 "cells": [
  {
   "cell_type": "code",
   "execution_count": 1,
   "metadata": {},
   "outputs": [
    {
     "name": "stdout",
     "output_type": "stream",
     "text": [
      "100\n",
      "A\n"
     ]
    }
   ],
   "source": [
    "# 9498\n",
    "grade = int(input())\n",
    "if grade >= 90 and grade <= 100:\n",
    "    print('A')\n",
    "elif grade >= 80 and grade < 90:\n",
    "    print('B')\n",
    "elif grade >= 70 and grade < 80:\n",
    "    print('C')\n",
    "elif grade >= 60 and grade < 70:\n",
    "    print('D')\n",
    "else:\n",
    "    print('F')"
   ]
  },
  {
   "cell_type": "code",
   "execution_count": 16,
   "metadata": {},
   "outputs": [
    {
     "name": "stdout",
     "output_type": "stream",
     "text": [
      "20 30 10\n",
      "20\n"
     ]
    }
   ],
   "source": [
    "# 10817\n",
    "a, b, c = map(int, input().split())\n",
    "if (a >= b and a <= c) or (a >= c and a <= b):\n",
    "    print(a)\n",
    "elif (b >= a and b <= c) or (b >= c and b <= a):\n",
    "    print(b)\n",
    "elif (c >= a and c <= b) or (c >= b and c <= a):\n",
    "    print(c)"
   ]
  },
  {
   "cell_type": "code",
   "execution_count": 19,
   "metadata": {},
   "outputs": [],
   "source": [
    "# 10871\n"
   ]
  }
 ],
 "metadata": {
  "kernelspec": {
   "display_name": "Python 3",
   "language": "python",
   "name": "python3"
  },
  "language_info": {
   "codemirror_mode": {
    "name": "ipython",
    "version": 3
   },
   "file_extension": ".py",
   "mimetype": "text/x-python",
   "name": "python",
   "nbconvert_exporter": "python",
   "pygments_lexer": "ipython3",
   "version": "3.6.5"
  }
 },
 "nbformat": 4,
 "nbformat_minor": 2
}
