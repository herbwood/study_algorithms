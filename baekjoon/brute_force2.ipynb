{
 "cells": [
  {
   "cell_type": "code",
   "execution_count": 1,
   "metadata": {},
   "outputs": [
    {
     "name": "stdin",
     "output_type": "stream",
     "text": [
      " 6\n",
      " 1 2 3 4 5 6\n",
      " 2 1 1 1\n"
     ]
    },
    {
     "name": "stdout",
     "output_type": "stream",
     "text": [
      "54\n",
      "-24\n"
     ]
    }
   ],
   "source": [
    "# 14888\n",
    "\n",
    "def next_permutation(a):\n",
    "    \n",
    "    i = len(a)-1\n",
    "    while i > 0 and a[i-1] >= a[i]:\n",
    "        i -= 1\n",
    "        \n",
    "    if i <= 0:\n",
    "        return False\n",
    "    \n",
    "    j = len(a)-1\n",
    "    while a[i-1] >= a[j]:\n",
    "        j -= 1\n",
    "        \n",
    "    a[i-1], a[j] = a[j], a[i-1]\n",
    "    \n",
    "    j = len(a)-1\n",
    "    while j > i:\n",
    "        a[i], a[j] = a[j], a[i]\n",
    "        i += 1\n",
    "        j -= 1\n",
    "        \n",
    "    return True\n",
    "\n",
    "def div(a, b):\n",
    "    if a >= 0:\n",
    "        return a // b\n",
    "    return -(-a // b)\n",
    "\n",
    "def calc(a, b):\n",
    "    n = len(a)\n",
    "    ans = a[0]\n",
    "    for i in range(1, n):\n",
    "        if b[i-1] == 0:\n",
    "            ans = ans + a[i]\n",
    "        elif b[i-1] == 1:\n",
    "            ans = ans - a[i]\n",
    "        elif b[i-1] == 2:\n",
    "            ans = ans * a[i]\n",
    "        else:\n",
    "            ans = div(ans, a[i])\n",
    "    return ans\n",
    "    \n",
    "\n",
    "n = int(input())\n",
    "a = list(map(int, input().split()))\n",
    "cnts = list(map(int, input().split()))\n",
    "b = []\n",
    "\n",
    "for i,cnt in enumerate(cnts):\n",
    "    for k in range(cnt):\n",
    "        b.append(i)\n",
    "        \n",
    "b.sort()\n",
    "ans = []\n",
    "\n",
    "while True:\n",
    "    temp = calc(a, b)\n",
    "    ans.append(temp)\n",
    "    if not next_permutation(b):\n",
    "        break\n",
    "        \n",
    "ans.sort()\n",
    "print(ans[-1])\n",
    "print(ans[0])\n",
    "\n",
    "## another solution\n",
    "\n",
    "# def calc(a, index, cur, plus, minus, mul, div):\n",
    "#     if index == len(a):\n",
    "#         return (cur, cur)\n",
    "#     res = []\n",
    "#     if plus > 0:\n",
    "#         res.append(calc(a, index+1, cur+a[index], plus-1, minus, mul, div))\n",
    "#     if minus > 0:\n",
    "#         res.append(calc(a, index+1, cur-a[index], plus, minus, mul, div))\n",
    "#     if mul > 0:\n",
    "#         res.append(calc(a, index+1, cur*a[index], plus, minus, mul-1, div))\n",
    "#     if div > 0:\n",
    "#         if cur >= 0:\n",
    "#             res.append(calc(a, index+1, cur//a[index], plus, minus, div-1))\n",
    "#         else:\n",
    "#             res.append(calc(a, index+1, -(-cur//a[index]), plus, minus, div-1))\n",
    "#     ans = (max([t[0] for t in res]), min([t[1] for t in res]))\n",
    "\n",
    "#     return ans\n",
    "\n",
    "# n = int(input())\n",
    "# a = list(map(int, input().split()))\n",
    "# plus, minus, mul, div = map(int, input().split())\n",
    "# ans = calc(a, 1, a[0], plus, minus, mul, div)\n",
    "# print(ans[0])\n",
    "# print(ans[1])"
   ]
  },
  {
   "cell_type": "code",
   "execution_count": 3,
   "metadata": {},
   "outputs": [
    {
     "name": "stdin",
     "output_type": "stream",
     "text": [
      " 3\n",
      " 5 1 2\n"
     ]
    },
    {
     "name": "stdout",
     "output_type": "stream",
     "text": [
      "4\n"
     ]
    }
   ],
   "source": [
    "# 14225\n",
    "\n",
    "n = int(input())\n",
    "a = list(map(int, input().split()))\n",
    "c = [False] * (n * 100000 + 10)\n",
    "\n",
    "def go(i, hap):\n",
    "    if i == n:\n",
    "        c[hap] = True\n",
    "        return\n",
    "    go(i+1, hap+a[i])\n",
    "    go(i+1, hap)\n",
    "    \n",
    "go(0, 0)\n",
    "i = 1\n",
    "while True:\n",
    "    if c[i] == False:\n",
    "        break\n",
    "    i += 1\n",
    "print(i)"
   ]
  },
  {
   "cell_type": "code",
   "execution_count": 1,
   "metadata": {},
   "outputs": [
    {
     "name": "stdin",
     "output_type": "stream",
     "text": [
      " 2\n",
      " 5 6\n",
      " 1 1 1 1\n"
     ]
    },
    {
     "name": "stdout",
     "output_type": "stream",
     "text": [
      "30\n",
      "-1\n"
     ]
    }
   ],
   "source": [
    "# 15686\n",
    "\n",
    "def calc(a, index, cur, plus, minus, mul, div):\n",
    "    \n",
    "    if index == len(a):\n",
    "        return (cur, cur)\n",
    "    res = []\n",
    "    if plus > 0:\n",
    "        res.append(calc(a,index+1,cur+a[index],plus-1,minus,mul,div))\n",
    "        \n",
    "    if minus > 0:\n",
    "        res.append(calc(a,index+1,cur-a[index],plus,minus-1,mul,div))\n",
    "        \n",
    "    if mul > 0:\n",
    "        res.append(calc(a,index+1,cur*a[index],plus,minus,mul-1,div))\n",
    "        \n",
    "    if div > 0:\n",
    "        if cur >= 0:\n",
    "            res.append(calc(a,index+1,cur//a[index],plus,minus,mul,div-1))\n",
    "        else:\n",
    "            res.append(calc(a,index+1,-(-cur//a[index]),plus,minus,mul,div-1))\n",
    "            \n",
    "    ans = (max([t[0] for t in res]),min([t[1] for t in res]))\n",
    "\n",
    "    return ans\n",
    "\n",
    "n = int(input())\n",
    "a = list(map(int,input().split()))\n",
    "\n",
    "plus,minus,mul,div = map(int,input().split())\n",
    "ans = calc(a, 1, a[0], plus, minus, mul, div)\n",
    "\n",
    "print(ans[0])\n",
    "print(ans[1])"
   ]
  },
  {
   "cell_type": "code",
   "execution_count": 4,
   "metadata": {},
   "outputs": [
    {
     "name": "stdin",
     "output_type": "stream",
     "text": [
      " 5 3\n",
      " ###\n",
      " .o.\n",
      " ###\n",
      " .o.\n",
      " ###\n"
     ]
    },
    {
     "name": "stdout",
     "output_type": "stream",
     "text": [
      "-1\n"
     ]
    }
   ],
   "source": [
    "# 16197\n",
    "\n",
    "dx = [0, 0, -1, 1]\n",
    "dy = [1, -1, 0, 0]\n",
    "\n",
    "def go(step, x1, y1, x2, y2):\n",
    "    \n",
    "    if step == 11:\n",
    "        return -1\n",
    "    \n",
    "    fall1 = False\n",
    "    fall2 = False\n",
    "    \n",
    "    if x1 < 0 or x1 >= n or y1 < 0 or y1 >= m:\n",
    "        fall1 = True\n",
    "        \n",
    "    if x2 <0 or x2 >= n or y2 < 0 or y2 >= m:\n",
    "        fall2 = True\n",
    "    \n",
    "    if fall2 and fall2:\n",
    "        return -1\n",
    "    \n",
    "    if fall1 or fall2:\n",
    "        return step\n",
    "    \n",
    "    ans = -1\n",
    "    \n",
    "    for k in range(4):\n",
    "        nx1, ny1 = x1 + dx[k], y1 + dy[k]\n",
    "        nx2, ny2 = x2 + dx[k], y2 + dy[k]\n",
    "        \n",
    "        if 0 <= nx1 < n and 0 <= ny1 < m and a[nx1][ny1] == '#':\n",
    "            nx1, ny1 = x1, y1\n",
    "            \n",
    "        if 0 <= nx2 < n and 0 <= ny2 < m and a[nx2][ny2] == '#':\n",
    "            nx2, ny2 = x2, y2\n",
    "            \n",
    "        temp = go(step+1, nx1, ny1, nx2, ny2)\n",
    "        \n",
    "        if temp == -1:\n",
    "            continue\n",
    "        if ans == -1 or ans > temp:\n",
    "            ans = temp\n",
    "            \n",
    "    return ans\n",
    "\n",
    "n, m = map(int, input().split())\n",
    "x1 = y1 = x2 = y2 = -1\n",
    "a = [list(input()) for _ in range(n)]\n",
    "\n",
    "for i in range(n):\n",
    "    for j in range(m):\n",
    "        if a[i][j] == 'o':\n",
    "            if x1 == -1:\n",
    "                x1, y1 = i, j\n",
    "            else:\n",
    "                x2, y2 = i, j\n",
    "            a[i][j] = '.'\n",
    "            \n",
    "print(go(0, x1, y1, x2, y2))"
   ]
  },
  {
   "cell_type": "code",
   "execution_count": 5,
   "metadata": {},
   "outputs": [
    {
     "name": "stdin",
     "output_type": "stream",
     "text": [
      " 7\n",
      " 2 2 7 6 90 5 9\n"
     ]
    },
    {
     "name": "stdout",
     "output_type": "stream",
     "text": [
      "1818\n"
     ]
    }
   ],
   "source": [
    "# 16198\n",
    "\n",
    "def go(a):\n",
    "    \n",
    "    n = len(a)\n",
    "    if n == 2:\n",
    "        return 0\n",
    "    \n",
    "    ans = 0\n",
    "    \n",
    "    for i in range(1, n-1):\n",
    "        energy = a[i-1] * a[i+1]\n",
    "        b = a[:i] + a[i+1:]\n",
    "        energy += go(b)\n",
    "        if ans < energy:\n",
    "            ans = energy\n",
    "    \n",
    "    return ans\n",
    "\n",
    "n = int(input())\n",
    "a = list(map(int, input().split()))\n",
    "print(go(a))"
   ]
  },
  {
   "cell_type": "code",
   "execution_count": 1,
   "metadata": {},
   "outputs": [
    {
     "name": "stdin",
     "output_type": "stream",
     "text": [
      " 8\n"
     ]
    },
    {
     "name": "stdout",
     "output_type": "stream",
     "text": [
      "92\n"
     ]
    }
   ],
   "source": [
    "# 9663\n",
    "\n",
    "def check(row, col):\n",
    "    if check_col[col]:\n",
    "        return False\n",
    "    \n",
    "    if check_dig[row+col]:\n",
    "        return False\n",
    "    \n",
    "    if check_dig2[row-col+n-1]:\n",
    "        return False\n",
    "    \n",
    "    return True\n",
    "\n",
    "def calc(row):\n",
    "    if row == n:\n",
    "        return 1\n",
    "    ans = 0\n",
    "    for col in range(n):\n",
    "        if check(row, col):\n",
    "            check_dig[row+col] = True\n",
    "            check_dig2[row-col+n-1] = True\n",
    "            check_col[col] = True\n",
    "            a[row][col] = True\n",
    "            \n",
    "            ans += calc(row+1)\n",
    "            \n",
    "            check_dig[row+col] = False\n",
    "            check_dig2[row-col+n-1] = False\n",
    "            check_col[col] = False\n",
    "            a[row][col] = False\n",
    "            \n",
    "    return ans\n",
    "\n",
    "n = int(input())\n",
    "a = [[False] * n for _ in range(n)]\n",
    "check_col = [False] * n\n",
    "check_dig = [False] * (2*n - 1)\n",
    "check_dig2 = [False] * (2*n - 1)\n",
    "\n",
    "print(calc(0))"
   ]
  },
  {
   "cell_type": "code",
   "execution_count": null,
   "metadata": {},
   "outputs": [],
   "source": [
    "# 2580\n",
    "\n",
    "import sys\n",
    "\n",
    "def rowcheck(x, val):\n",
    "    if val in sudoku[x]:\n",
    "        return False\n",
    "    return True\n",
    "\n",
    "def colcheck(y, val):\n",
    "    for i in range(9):\n",
    "        if val == sudoku[i][y]:\n",
    "            return False\n",
    "    return True\n",
    "\n",
    "def squrecheck(x, y, val):\n",
    "    nx = x // 3 * 3\n",
    "    ny = y // 3 * 3\n",
    "    for i in range(3):\n",
    "        for j in range(3):\n",
    "            if val == sudoku[nx+i][ny+j]:\n",
    "                return False\n",
    "    return True\n",
    "\n",
    "def dfs(idx):\n",
    "    \n",
    "    if idx == len(a):\n",
    "        for i in range(9):\n",
    "            for j in range(9):\n",
    "                print(sudoku[i][j], end=' ')\n",
    "            print()\n",
    "        sys.exit(0)\n",
    "        \n",
    "    else:\n",
    "        for i in range(1, 10):\n",
    "            nx = a[idx][0]\n",
    "            ny = a[idx][1]\n",
    "\n",
    "            if rowcheck(nx, i) and colcheck(ny, i) and squrecheck(nx, ny, i):\n",
    "                sudoku[nx][ny] = i\n",
    "                dfs(idx+1)\n",
    "                sudoku[nx][ny] = 0\n",
    "\n",
    "sudoku = [list(map(int, sys.stdin.readline().split())) for _ in range(9)]\n",
    "a = [(i, j) for i in range(9) for j in range(9) if sudoku[i][j] == 0]\n",
    "dfs(0)"
   ]
  },
  {
   "cell_type": "code",
   "execution_count": 1,
   "metadata": {},
   "outputs": [
    {
     "name": "stdin",
     "output_type": "stream",
     "text": [
      " 2 4\n",
      " CAAB\n",
      " ADCB\n"
     ]
    },
    {
     "name": "stdout",
     "output_type": "stream",
     "text": [
      "3\n"
     ]
    }
   ],
   "source": [
    "# 1987\n",
    "\n",
    "def go(board, check, x, y):\n",
    "    n = len(board)\n",
    "    m = len(board[0])\n",
    "    ans = 0\n",
    "    \n",
    "    for k in range(4):\n",
    "        nx, ny = x + dx[k], y + dy[k]\n",
    "        if 0 <= nx < n and 0 <= ny < m:\n",
    "            ch = ord(board[nx][ny]) - ord('A')\n",
    "            if check[ch] == False:\n",
    "                check[ch] = True\n",
    "                temp = go(board, check, nx, ny)\n",
    "                if ans < temp:\n",
    "                    ans = temp\n",
    "                check[ch] = False\n",
    "    return ans + 1\n",
    "\n",
    "dx = [-1, 1, 0, 0]\n",
    "dy = [0, 0, 1, -1]\n",
    "\n",
    "n, m = map(int, input().split())\n",
    "board = [input() for _ in range(n)]\n",
    "check = [False] * 26\n",
    "check[ord(board[0][0]) - ord('A')] = True\n",
    "print(go(board, check, 0, 0))"
   ]
  },
  {
   "cell_type": "code",
   "execution_count": 1,
   "metadata": {},
   "outputs": [
    {
     "name": "stdin",
     "output_type": "stream",
     "text": [
      " 1\n",
      " 4 2\n",
      " 1 2 3 4\n"
     ]
    },
    {
     "name": "stdout",
     "output_type": "stream",
     "text": [
      "2\n"
     ]
    }
   ],
   "source": [
    "# 1966\n",
    "\n",
    "from collections import deque\n",
    "\n",
    "t = int(input())\n",
    "\n",
    "for _ in range(t):\n",
    "    n, m = map(int, input().split())\n",
    "    q = deque(list(map(int, input().split())))\n",
    "    h = max(q)\n",
    "    i = 0\n",
    "    cnt = 1\n",
    "    idx = m\n",
    "\n",
    "    while q:\n",
    "        if i != idx and q[i] != h:\n",
    "            idx -= 1\n",
    "            q.append(q.popleft())\n",
    "\n",
    "        if i == idx and q[i] != h:\n",
    "            q.append(q.popleft())\n",
    "            idx = len(q)-1\n",
    "\n",
    "        if i == idx and q[i] == h:\n",
    "            print(cnt)\n",
    "            break\n",
    "\n",
    "        if i != idx and q[i] == h:\n",
    "            q.popleft()\n",
    "            idx -= 1\n",
    "            cnt += 1\n",
    "            if len(q) == 0:\n",
    "                break\n",
    "            h = max(q)"
   ]
  },
  {
   "cell_type": "code",
   "execution_count": 1,
   "metadata": {},
   "outputs": [
    {
     "name": "stdin",
     "output_type": "stream",
     "text": [
      " 5\n",
      " YCPZY\n",
      " CYZZP\n",
      " CCPPP\n",
      " YCYZC\n",
      " CPPZZ\n"
     ]
    },
    {
     "name": "stdout",
     "output_type": "stream",
     "text": [
      "4\n"
     ]
    }
   ],
   "source": [
    "# 3085\n",
    "\n",
    "n = int(input())\n",
    "a = [list(input()) for _ in range(n)]\n",
    "dx = [-1, 1, 0, 0]\n",
    "dy = [0, 0, -1, 1]\n",
    "\n",
    "def columcount(x, y):\n",
    "    alpha = a[x][y]\n",
    "    cnt = 1\n",
    "    for i in range(x-1, -1, -1):\n",
    "        if a[i][y] == alpha:\n",
    "            cnt += 1\n",
    "        else:\n",
    "            break\n",
    "\n",
    "    for j in range(x+1, n):\n",
    "        if a[j][y] == alpha:\n",
    "            cnt += 1\n",
    "        else:\n",
    "            break\n",
    "    return cnt\n",
    "\n",
    "def rowcount(x, y):\n",
    "    alpha = a[x][y]\n",
    "    cnt = 1\n",
    "    for i in range(y - 1, -1, -1):\n",
    "        if a[x][i] == alpha:\n",
    "            cnt += 1\n",
    "        else:\n",
    "            break\n",
    "\n",
    "    for j in range(y + 1, n):\n",
    "        if a[x][j] == alpha:\n",
    "            cnt += 1\n",
    "        else:\n",
    "            break\n",
    "    return cnt\n",
    "\n",
    "\n",
    "def dfs(x, y):\n",
    "    global ans\n",
    "    for k in range(4):\n",
    "        nx, ny = x+dx[k], y+dy[k]\n",
    "        if 0 <= nx < n and 0 <= ny < n:\n",
    "            a[x][y], a[nx][ny] = a[nx][ny], a[x][y]\n",
    "            maxcol = columcount(x, y)\n",
    "            maxrow = rowcount(x, y)\n",
    "            ans = max(maxcol, maxrow, ans)\n",
    "            a[nx][ny], a[x][y] = a[x][y], a[nx][ny]\n",
    "\n",
    "ans = 1\n",
    "for i in range(n):\n",
    "    for j in range(n):\n",
    "        dfs(i, j)\n",
    "\n",
    "print(ans)"
   ]
  },
  {
   "cell_type": "code",
   "execution_count": 1,
   "metadata": {},
   "outputs": [
    {
     "name": "stdin",
     "output_type": "stream",
     "text": [
      " 5 2\n",
      " 0 2 0 1 0\n",
      " 1 0 1 0 0\n",
      " 0 0 0 0 0\n",
      " 2 0 0 1 1\n",
      " 2 2 0 1 2 \n"
     ]
    },
    {
     "name": "stdout",
     "output_type": "stream",
     "text": [
      "10\n"
     ]
    }
   ],
   "source": [
    "# 15686\n",
    "\n",
    "from itertools import combinations\n",
    "\n",
    "n, m = map(int, input().split())\n",
    "a = [list(map(int, input().split())) for _ in range(n)]\n",
    "home, chicken = [], []\n",
    "ans = 1e9\n",
    "\n",
    "for i in range(n):\n",
    "    for j in range(n):\n",
    "        if a[i][j] == 1:\n",
    "            home.append((i+1, j+1))\n",
    "        elif a[i][j] == 2:\n",
    "            chicken.append((i+1, j+1))\n",
    "\n",
    "for k in combinations(chicken, m):\n",
    "    s = 0\n",
    "    for (hx, hy) in home:\n",
    "        d = 1e9\n",
    "        for (cx, cy) in k:\n",
    "            d = min(d, abs(hx-cx)+abs(hy-cy))\n",
    "        s += d\n",
    "    ans = min(ans, s)\n",
    "print(ans)"
   ]
  },
  {
   "cell_type": "code",
   "execution_count": 1,
   "metadata": {},
   "outputs": [
    {
     "name": "stdin",
     "output_type": "stream",
     "text": [
      " 2\n"
     ]
    },
    {
     "name": "stdout",
     "output_type": "stream",
     "text": [
      "1666\n"
     ]
    }
   ],
   "source": [
    "# 1436\n",
    "\n",
    "n = int(input())\n",
    "num = 666\n",
    "\n",
    "while n:\n",
    "    if '666' in str(num):\n",
    "        n-= 1\n",
    "    num += 1\n",
    "print(num - 1)"
   ]
  },
  {
   "cell_type": "code",
   "execution_count": 10,
   "metadata": {},
   "outputs": [
    {
     "name": "stdin",
     "output_type": "stream",
     "text": [
      " 4\n",
      " 123 1 1\n",
      " 356 1 0\n",
      " 327 2 0\n",
      " 489 0 1\n"
     ]
    },
    {
     "name": "stdout",
     "output_type": "stream",
     "text": [
      "2\n"
     ]
    }
   ],
   "source": [
    "# 2503\n",
    "from itertools import permutations\n",
    "\n",
    "nlist = [''.join(map(str, perm)) for perm in permutations(list(range(1, 10)), 3)]\n",
    "baseball = []\n",
    "for _ in range(int(input())):\n",
    "    baseball.append(list(map(int, input().split())))\n",
    "\n",
    "answer = 0\n",
    "\n",
    "for n in nlist:\n",
    "    cnt = 0\n",
    "    for (num, strike, ball) in baseball:\n",
    "        cntb, cnts = 0, 0\n",
    "        for i in range(3):\n",
    "            if n[i] == str(num)[i]:\n",
    "                cnts += 1\n",
    "            elif n[i] in str(num):\n",
    "                cntb += 1\n",
    "        if cnts == strike and cntb == ball:\n",
    "            cnt += 1\n",
    "            \n",
    "    if cnt == len(baseball):\n",
    "        answer += 1\n",
    "        \n",
    "print(answer)"
   ]
  },
  {
   "cell_type": "code",
   "execution_count": null,
   "metadata": {},
   "outputs": [],
   "source": []
  },
  {
   "cell_type": "code",
   "execution_count": null,
   "metadata": {},
   "outputs": [],
   "source": []
  },
  {
   "cell_type": "code",
   "execution_count": null,
   "metadata": {},
   "outputs": [],
   "source": []
  }
 ],
 "metadata": {
  "kernelspec": {
   "display_name": "Python 3",
   "language": "python",
   "name": "python3"
  },
  "language_info": {
   "codemirror_mode": {
    "name": "ipython",
    "version": 3
   },
   "file_extension": ".py",
   "mimetype": "text/x-python",
   "name": "python",
   "nbconvert_exporter": "python",
   "pygments_lexer": "ipython3",
   "version": "3.8.3"
  }
 },
 "nbformat": 4,
 "nbformat_minor": 4
}
