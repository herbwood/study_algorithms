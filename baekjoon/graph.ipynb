{
 "cells": [
  {
   "cell_type": "code",
   "execution_count": 2,
   "metadata": {},
   "outputs": [],
   "source": [
    "# 13023\n",
    "\n",
    "import sys\n",
    "\n",
    "n,m = map(int,input().split())\n",
    "edges = []\n",
    "a = [[False]*n for _ in range(n)]\n",
    "g = [[] for _ in range(n)]\n",
    "\n",
    "for _ in range(m):\n",
    "    u, v = map(int,input().split())\n",
    "    edges.append((u,v))\n",
    "    edges.append((v,u))\n",
    "    a[u][v] = a[v][u] = True\n",
    "    g[u].append(v)\n",
    "    g[v].append(u)\n",
    "m *= 2\n",
    "for i in range(m):\n",
    "    for j in range(m):\n",
    "        A, B = edges[i]\n",
    "        C, D = edges[j]\n",
    "        if A == B or A == C or A == D or B == C or B == D or C == D:\n",
    "            continue\n",
    "        if not a[B][C]:\n",
    "            continue\n",
    "        for E in g[D]:\n",
    "            if A == E or B == E or C == E or D == E:\n",
    "                continue\n",
    "            print(1)\n",
    "            sys.exit(0)\n",
    "print(0)"
   ]
  },
  {
   "cell_type": "code",
   "execution_count": null,
   "metadata": {},
   "outputs": [],
   "source": []
  },
  {
   "cell_type": "code",
   "execution_count": null,
   "metadata": {},
   "outputs": [],
   "source": []
  },
  {
   "cell_type": "code",
   "execution_count": null,
   "metadata": {},
   "outputs": [],
   "source": []
  }
 ],
 "metadata": {
  "kernelspec": {
   "display_name": "Python 3",
   "language": "python",
   "name": "python3"
  },
  "language_info": {
   "codemirror_mode": {
    "name": "ipython",
    "version": 3
   },
   "file_extension": ".py",
   "mimetype": "text/x-python",
   "name": "python",
   "nbconvert_exporter": "python",
   "pygments_lexer": "ipython3",
   "version": "3.7.6"
  }
 },
 "nbformat": 4,
 "nbformat_minor": 4
}
