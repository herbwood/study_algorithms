{
 "cells": [
  {
   "cell_type": "code",
   "execution_count": 2,
   "metadata": {},
   "outputs": [],
   "source": [
    "# 13023\n",
    "\n",
    "import sys\n",
    "\n",
    "n,m = map(int,input().split())\n",
    "edges = []   # 인접 리스트\n",
    "a = [[False]*n for _ in range(n)]  # 인접 행렬\n",
    "g = [[] for _ in range(n)]  # 간선 리스트\n",
    "\n",
    "for _ in range(m):\n",
    "    u, v = map(int,input().split())\n",
    "    edges.append((u,v))\n",
    "    edges.append((v,u))\n",
    "    a[u][v] = a[v][u] = True\n",
    "    g[u].append(v)\n",
    "    g[v].append(u)\n",
    "m *= 2\n",
    "for i in range(m):\n",
    "    for j in range(m):\n",
    "        A, B = edges[i]\n",
    "        C, D = edges[j]\n",
    "        if A == B or A == C or A == D or B == C or B == D or C == D:\n",
    "            continue\n",
    "        if not a[B][C]:\n",
    "            continue\n",
    "        for E in g[D]:\n",
    "            if A == E or B == E or C == E or D == E:\n",
    "                continue\n",
    "            print(1)\n",
    "            sys.exit(0)\n",
    "print(0)"
   ]
  },
  {
   "cell_type": "code",
   "execution_count": 1,
   "metadata": {},
   "outputs": [
    {
     "name": "stdin",
     "output_type": "stream",
     "text": [
      " 6 7 1\n",
      " 1 2\n",
      " 1 5\n",
      " 2 3\n",
      " 2 5\n",
      " 3 4\n",
      " 4 5\n",
      " 4 6\n"
     ]
    },
    {
     "name": "stdout",
     "output_type": "stream",
     "text": [
      "1 2 3 4 5 6 \n",
      "1 2 5 3 4 6 \n"
     ]
    }
   ],
   "source": [
    "# 1206\n",
    "\n",
    "from collections import deque\n",
    "\n",
    "n,m,start = map(int,input().split())\n",
    "a = [[] for _ in range(n+1)]\n",
    "check = [False] * (n+1)\n",
    "\n",
    "for _ in range(m):\n",
    "    u,v = map(int,input().split())\n",
    "    a[u].append(v)\n",
    "    a[v].append(u)\n",
    "    \n",
    "for i in range(n):\n",
    "    a[i].sort()\n",
    "\n",
    "def dfs(x):\n",
    "    global check\n",
    "    check[x] = True\n",
    "    print(x, end=' ')\n",
    "    for y in a[x]:\n",
    "        if check[y] == False:\n",
    "            dfs(y)\n",
    "\n",
    "def bfs(start):\n",
    "    check = [False] * (n+1)\n",
    "    q = deque()\n",
    "    q.append(start)\n",
    "    check[start] = True\n",
    "    while q:\n",
    "        x = q.popleft()\n",
    "        print(x, end=' ')\n",
    "        for y in a[x]:\n",
    "            if check[y] == False:\n",
    "                check[y] = True\n",
    "                q.append(y)\n",
    "\n",
    "dfs(start)\n",
    "print()\n",
    "bfs(start)\n",
    "print()"
   ]
  },
  {
   "cell_type": "code",
   "execution_count": 1,
   "metadata": {},
   "outputs": [
    {
     "name": "stdin",
     "output_type": "stream",
     "text": [
      " 6 5\n",
      " 1 2\n",
      " 2 5\n",
      " 5 1\n",
      " 3 4\n",
      " 4 6\n"
     ]
    },
    {
     "name": "stdout",
     "output_type": "stream",
     "text": [
      "2\n"
     ]
    }
   ],
   "source": [
    "# 11724\n",
    "\n",
    "def dfs(x):\n",
    "    check[x] = True\n",
    "    for y in a[x]:\n",
    "        if check[y] == False:\n",
    "            dfs(y)\n",
    "\n",
    "n,m = map(int,input().split())\n",
    "a = [[] for _ in range(n)]\n",
    "check = [False] * (n)\n",
    "\n",
    "for _ in range(m):\n",
    "    u,v = map(int,input().split())\n",
    "    a[u-1].append(v-1)\n",
    "    a[v-1].append(u-1)\n",
    "    \n",
    "\n",
    "            \n",
    "ans = 0\n",
    "for i in range(n):\n",
    "    if not check[i]:\n",
    "        dfs(i)\n",
    "        ans += 1\n",
    "        \n",
    "print(ans)"
   ]
  },
  {
   "cell_type": "code",
   "execution_count": null,
   "metadata": {},
   "outputs": [],
   "source": []
  },
  {
   "cell_type": "code",
   "execution_count": null,
   "metadata": {},
   "outputs": [],
   "source": []
  }
 ],
 "metadata": {
  "kernelspec": {
   "display_name": "Python 3",
   "language": "python",
   "name": "python3"
  },
  "language_info": {
   "codemirror_mode": {
    "name": "ipython",
    "version": 3
   },
   "file_extension": ".py",
   "mimetype": "text/x-python",
   "name": "python",
   "nbconvert_exporter": "python",
   "pygments_lexer": "ipython3",
   "version": "3.7.6"
  }
 },
 "nbformat": 4,
 "nbformat_minor": 4
}
