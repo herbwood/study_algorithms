{
 "cells": [
  {
   "cell_type": "code",
   "execution_count": 2,
   "metadata": {},
   "outputs": [],
   "source": [
    "# 13023\n",
    "\n",
    "import sys\n",
    "\n",
    "n,m = map(int,input().split())\n",
    "edges = []   # 인접 리스트\n",
    "a = [[False]*n for _ in range(n)]  # 인접 행렬\n",
    "g = [[] for _ in range(n)]  # 간선 리스트\n",
    "\n",
    "for _ in range(m):\n",
    "    u, v = map(int,input().split())\n",
    "    edges.append((u,v))\n",
    "    edges.append((v,u))\n",
    "    a[u][v] = a[v][u] = True\n",
    "    g[u].append(v)\n",
    "    g[v].append(u)\n",
    "m *= 2\n",
    "\n",
    "for i in range(m):\n",
    "    for j in range(m):\n",
    "        A, B = edges[i]\n",
    "        C, D = edges[j]\n",
    "        if A == B or A == C or A == D or B == C or B == D or C == D:\n",
    "            continue\n",
    "        if not a[B][C]:\n",
    "            continue\n",
    "        for E in g[D]:\n",
    "            if A == E or B == E or C == E or D == E:\n",
    "                continue\n",
    "            print(1)\n",
    "            sys.exit(0)\n",
    "print(0)"
   ]
  },
  {
   "cell_type": "code",
   "execution_count": 1,
   "metadata": {},
   "outputs": [
    {
     "name": "stdin",
     "output_type": "stream",
     "text": [
      " 6 7 1\n",
      " 1 2\n",
      " 1 5\n",
      " 2 3\n",
      " 2 5\n",
      " 3 4\n",
      " 4 5\n",
      " 4 6\n"
     ]
    },
    {
     "name": "stdout",
     "output_type": "stream",
     "text": [
      "1 2 3 4 5 6 \n",
      "1 2 5 3 4 6 \n"
     ]
    }
   ],
   "source": [
    "# 1206\n",
    "\n",
    "from collections import deque\n",
    "\n",
    "n,m,start = map(int,input().split())\n",
    "a = [[] for _ in range(n+1)]\n",
    "check = [False] * (n+1)\n",
    "\n",
    "for _ in range(m):\n",
    "    u,v = map(int,input().split())\n",
    "    a[u].append(v)\n",
    "    a[v].append(u)\n",
    "    \n",
    "for i in range(n):\n",
    "    a[i].sort()\n",
    "\n",
    "def dfs(x):\n",
    "    global check\n",
    "    check[x] = True\n",
    "    print(x, end=' ')\n",
    "    for y in a[x]:\n",
    "        if check[y] == False:\n",
    "            dfs(y)\n",
    "\n",
    "def bfs(start):\n",
    "    check = [False] * (n+1)\n",
    "    q = deque()\n",
    "    q.append(start)\n",
    "    check[start] = True\n",
    "    while q:\n",
    "        x = q.popleft()\n",
    "        print(x, end=' ')\n",
    "        for y in a[x]:\n",
    "            if check[y] == False:\n",
    "                check[y] = True\n",
    "                q.append(y)\n",
    "\n",
    "dfs(start)\n",
    "print()\n",
    "bfs(start)\n",
    "print()"
   ]
  },
  {
   "cell_type": "code",
   "execution_count": 1,
   "metadata": {},
   "outputs": [
    {
     "name": "stdin",
     "output_type": "stream",
     "text": [
      " 6 5\n",
      " 1 2\n",
      " 2 5\n",
      " 5 1\n",
      " 3 4\n",
      " 4 6\n"
     ]
    },
    {
     "name": "stdout",
     "output_type": "stream",
     "text": [
      "2\n"
     ]
    }
   ],
   "source": [
    "# 11724\n",
    "\n",
    "def dfs(x):\n",
    "    check[x] = True\n",
    "    for y in a[x]:\n",
    "        if check[y] == False:\n",
    "            dfs(y)\n",
    "\n",
    "n,m = map(int,input().split())\n",
    "a = [[] for _ in range(n)]\n",
    "check = [False] * (n)\n",
    "\n",
    "for _ in range(m):\n",
    "    u,v = map(int,input().split())\n",
    "    a[u-1].append(v-1)\n",
    "    a[v-1].append(u-1)\n",
    "    \n",
    " \n",
    "ans = 0\n",
    "for i in range(n):\n",
    "    if not check[i]:\n",
    "        dfs(i)\n",
    "        ans += 1\n",
    "        \n",
    "print(ans)"
   ]
  },
  {
   "cell_type": "code",
   "execution_count": 31,
   "metadata": {},
   "outputs": [
    {
     "name": "stdin",
     "output_type": "stream",
     "text": [
      " 2\n",
      " 3 2\n",
      " 1 3\n",
      " 2 3\n"
     ]
    },
    {
     "name": "stdout",
     "output_type": "stream",
     "text": [
      "YES\n"
     ]
    },
    {
     "name": "stdin",
     "output_type": "stream",
     "text": [
      " 4 4\n",
      " 1 2\n",
      " 2 3\n",
      " 3 4\n",
      " 4 2\n"
     ]
    },
    {
     "name": "stdout",
     "output_type": "stream",
     "text": [
      "NO\n"
     ]
    }
   ],
   "source": [
    "# 1707\n",
    "import sys\n",
    "\n",
    "sys.setrecursionlimit(1000000)\n",
    "\n",
    "t = int(sys.stdin.readline())\n",
    "\n",
    "for _ in range(t):\n",
    "    n, m = map(int, sys.stdin.readline().split())\n",
    "    a = [[] for _ in range(n)]\n",
    "    color = [0] * n\n",
    "    \n",
    "    for _ in range(m):\n",
    "        u, v = map(int, sys.stdin.readline().split())\n",
    "        a[u-1].append(v-1)\n",
    "        a[v-1].append(u-1)\n",
    "        \n",
    "    def dfs(x, c):\n",
    "        color[x] = c\n",
    "        for y in a[x]:\n",
    "            if color[y] == 0:\n",
    "                dfs(y, 3-c)\n",
    "                \n",
    "    ans = True\n",
    "    \n",
    "    for i in range(n):\n",
    "        if color[i] == 0:\n",
    "            dfs(i, 1)\n",
    "            \n",
    "    for i in range(n):\n",
    "        for j in a[i]:\n",
    "            if color[i] == color[j]:\n",
    "                ans = False\n",
    "                \n",
    "    print('YES' if ans else 'NO')"
   ]
  },
  {
   "cell_type": "code",
   "execution_count": 2,
   "metadata": {},
   "outputs": [
    {
     "name": "stdin",
     "output_type": "stream",
     "text": [
      " 7\n",
      " 0110100\n",
      " 0110101\n",
      " 1110101\n",
      " 0000111\n",
      " 0100000\n",
      " 0111110\n",
      " 0111000\n"
     ]
    },
    {
     "name": "stdout",
     "output_type": "stream",
     "text": [
      "3\n",
      "7\n",
      "8\n",
      "9\n",
      "25\n"
     ]
    }
   ],
   "source": [
    "# 2667\n",
    "\n",
    "from collections import deque, Counter\n",
    "from functools import reduce\n",
    "\n",
    "dx = [0,0,1,-1]\n",
    "dy = [1,-1,0,0]\n",
    "\n",
    "def dfs(x, y, cnt):\n",
    "    group[x][y] = cnt\n",
    "    for k in range(4):\n",
    "        nx, ny = x+dx[k], y+dy[k]\n",
    "        if 0 <= nx < n and 0 <= ny < n:\n",
    "            if a[nx][ny] == 1 and group[nx][ny] == 0:\n",
    "                dfs(nx, ny, cnt)\n",
    "                \n",
    "n = int(input())\n",
    "a = [list(map(int,list(input()))) for _ in range(n)]\n",
    "group = [[0]*n for _ in range(n)]\n",
    "cnt = 0\n",
    "\n",
    "for i in range(n):\n",
    "    for j in range(n):\n",
    "        if a[i][j] == 1 and group[i][j] == 0:\n",
    "            cnt += 1\n",
    "            dfs(i, j, cnt)\n",
    "\n",
    "ans = reduce(lambda x,y : x+y, group)\n",
    "ans = [x for x in ans if x > 0]\n",
    "ans = sorted(list(Counter(ans).values()))\n",
    "print(cnt)\n",
    "print('\\n'.join(map(str,ans)))"
   ]
  },
  {
   "cell_type": "code",
   "execution_count": 2,
   "metadata": {},
   "outputs": [
    {
     "name": "stdin",
     "output_type": "stream",
     "text": [
      " 1 1\n",
      " 0\n"
     ]
    },
    {
     "name": "stdout",
     "output_type": "stream",
     "text": [
      "0\n"
     ]
    },
    {
     "name": "stdin",
     "output_type": "stream",
     "text": [
      " 2 2\n",
      " 0 1\n",
      " 1 0\n"
     ]
    },
    {
     "name": "stdout",
     "output_type": "stream",
     "text": [
      "1\n"
     ]
    },
    {
     "name": "stdin",
     "output_type": "stream",
     "text": [
      " 3 2\n",
      " 1 1 1\n",
      " 1 1 1\n"
     ]
    },
    {
     "name": "stdout",
     "output_type": "stream",
     "text": [
      "1\n"
     ]
    },
    {
     "name": "stdin",
     "output_type": "stream",
     "text": [
      " 0 0\n"
     ]
    }
   ],
   "source": [
    "# 4963\n",
    "\n",
    "from collections import deque\n",
    "\n",
    "dx = [0, 0, 1, -1, 1, 1, -1, -1]\n",
    "dy = [1, -1, 0, 0, 1, -1, 1, -1]\n",
    "\n",
    "def bfs(x, y, cnt):\n",
    "    q = deque()\n",
    "    q.append((x, y))\n",
    "    group[x][y] = cnt\n",
    "    \n",
    "    while q:\n",
    "        x, y = q.popleft()\n",
    "        for k in range(8):\n",
    "            nx, ny = x + dx[k], y + dy[k]\n",
    "            \n",
    "            if 0 <= nx < n and 0 <= ny < m:\n",
    "                if a[nx][ny] == 1 and group[nx][ny] == 0:\n",
    "                    q.append((nx, ny))\n",
    "                    group[nx][ny] = cnt\n",
    "                    \n",
    "while True:\n",
    "    m, n = map(int, input().split())\n",
    "    if n == 0 and m == 0:\n",
    "        break\n",
    "    a = [list(map(int, input().split())) for _ in range(n)]\n",
    "    group = [[0]*m for _ in range(n)]\n",
    "    cnt = 0\n",
    "    \n",
    "    for i in range(n):\n",
    "        for j in range(m):\n",
    "            if a[i][j] == 1 and group[i][j] == 0:\n",
    "                cnt += 1\n",
    "                bfs(i, j, cnt)\n",
    "                \n",
    "    print(cnt)\n",
    "\n",
    "##  dfs solution\n",
    "# def dfs(x, y, cnt):\n",
    "#     group[x][y] = cnt\n",
    "#     for k in range(8):\n",
    "#         nx, ny = x + dx[k], y + dy[k]\n",
    "#         if 0 <= nx < m and 0 <= ny < n:\n",
    "#             if a[nx][ny] == 1 and group[nx][ny] == 0:\n",
    "#                 dfs(nx, ny, cnt)\n",
    "\n",
    "# while True:\n",
    "#     n, m = map(int, input().split())\n",
    "    \n",
    "#     if n == 0 and m == 0:\n",
    "#         break\n",
    "#     else:\n",
    "#         a = [list(map(int, input().split())) for _ in range(m)]\n",
    "#         group = [[0] * n for _ in range(m)]\n",
    "#         cnt = 0\n",
    "\n",
    "#         dx = [-1, -1, -1, 0, 0, 1, 1, 1]\n",
    "#         dy = [-1, 0, 1, -1, 1, -1, 0, 1]\n",
    "\n",
    "#         for i in range(m):\n",
    "#             for j in range(n):\n",
    "#                 if a[i][j] == 1 and group[i][j] == 0:\n",
    "#                     cnt += 1\n",
    "#                     dfs(i, j, cnt)\n",
    "\n",
    "#         print(cnt)"
   ]
  },
  {
   "cell_type": "code",
   "execution_count": 1,
   "metadata": {},
   "outputs": [
    {
     "name": "stdin",
     "output_type": "stream",
     "text": [
      " 4 6\n",
      " 110110\n",
      " 110110\n",
      " 111111\n",
      " 111101\n"
     ]
    },
    {
     "name": "stdout",
     "output_type": "stream",
     "text": [
      "9\n"
     ]
    }
   ],
   "source": [
    "# 2178\n",
    "\n",
    "from collections import deque\n",
    "\n",
    "dx = [0, 0, 1, -1]\n",
    "dy = [1, -1, 0, 0]\n",
    "\n",
    "n, m = map(int, input().split())\n",
    "a = [list(map(int, list(input()))) for _ in range(n)]\n",
    "q = deque()\n",
    "check = [[False] * m for _ in range(n)]\n",
    "dist = [[0] * m for _ in range(n)]\n",
    "\n",
    "q.append((0, 0))\n",
    "check[0][0] = True\n",
    "dist[0][0] = 1\n",
    "\n",
    "while q:\n",
    "    x, y = q.popleft()\n",
    "    for k in range(4):\n",
    "        nx, ny = x + dx[k], y + dy[k]\n",
    "        if 0 <= nx < n and 0 <= ny < m:\n",
    "            if check[nx][ny] == False and a[nx][ny] == 1:\n",
    "                q.append((nx, ny))\n",
    "                dist[nx][ny] = dist[x][y] + 1\n",
    "                check[nx][ny] = True\n",
    "                \n",
    "print(dist[n-1][m-1])"
   ]
  },
  {
   "cell_type": "code",
   "execution_count": 23,
   "metadata": {},
   "outputs": [
    {
     "name": "stdin",
     "output_type": "stream",
     "text": [
      " 6 4\n",
      " 0 -1 0 0 0 0\n",
      " -1 0 0 0 0 0\n",
      " 0 0 0 0 0 0\n",
      " 0 0 0 0 0 1\n"
     ]
    },
    {
     "name": "stdout",
     "output_type": "stream",
     "text": [
      "-1\n"
     ]
    }
   ],
   "source": [
    "# 7576\n",
    "\n",
    "from collections import deque\n",
    "from functools import reduce\n",
    "\n",
    "n, m = map(int, input().split())\n",
    "a = [list(map(int, input().split())) for _ in range(m)]\n",
    "dist = [[-1] * n for _ in range(m)]\n",
    "\n",
    "dx = [-1, 1, 0, 0]\n",
    "dy = [0, 0, -1, 1]\n",
    "\n",
    "q = deque()\n",
    "\n",
    "cnt = 0\n",
    "\n",
    "for i in range(m):\n",
    "    for j in range(n):\n",
    "        if a[i][j] == 1:\n",
    "            q.append((i, j))\n",
    "            dist[i][j] = 0\n",
    "            \n",
    "while q:\n",
    "    x, y = q.popleft()\n",
    "    for k in range(4):\n",
    "        nx, ny = x + dx[k], y + dy[k]\n",
    "        if 0 <= nx < m and 0 <= ny < n:\n",
    "            if dist[nx][ny] == -1 and a[nx][ny] == 0:\n",
    "                q.append((nx, ny))\n",
    "                dist[nx][ny] = dist[x][y] + 1\n",
    "\n",
    "# if 0 in ans:\n",
    "#     print(-1)\n",
    "# else:\n",
    "#     print(max(ans)-1)\n",
    "\n",
    "ans = reduce(lambda x, y : x+ y, dist)\n",
    "print(-1 if 0 in ans else max(ans)-1)"
   ]
  },
  {
   "cell_type": "code",
   "execution_count": 40,
   "metadata": {},
   "outputs": [
    {
     "name": "stdin",
     "output_type": "stream",
     "text": [
      " 3\n",
      " 8\n",
      " 0 0\n",
      " 7 0\n"
     ]
    },
    {
     "name": "stdout",
     "output_type": "stream",
     "text": [
      "5\n"
     ]
    },
    {
     "name": "stdin",
     "output_type": "stream",
     "text": [
      " 100\n",
      " 0 0\n",
      " 30 50\n"
     ]
    },
    {
     "name": "stdout",
     "output_type": "stream",
     "text": [
      "28\n"
     ]
    },
    {
     "name": "stdin",
     "output_type": "stream",
     "text": [
      " 10\n",
      " 1 1\n",
      " 1 1\n"
     ]
    },
    {
     "name": "stdout",
     "output_type": "stream",
     "text": [
      "0\n"
     ]
    }
   ],
   "source": [
    "# 7562\n",
    "\n",
    "from collections import deque\n",
    "\n",
    "t = int(input())\n",
    "\n",
    "dx = [-1, -2, -2, -1, 1, 2, 2, 1]\n",
    "dy = [-2, -1, 1, 2, 2, 1, -1, -2]\n",
    "\n",
    "for _ in range(t):\n",
    "    n = int(input())\n",
    "    b, c = map(int, input().split())\n",
    "    d, e = map(int, input().split())\n",
    "    \n",
    "    a = [[0] * n for _ in range(n)]\n",
    "    dist = [[0] * n for _ in range(n)]\n",
    "    dist[b][c] = 1\n",
    "    \n",
    "    q = deque()\n",
    "    \n",
    "    q.append((b, c))\n",
    "    \n",
    "    while q:\n",
    "        x, y = q.popleft()\n",
    "        \n",
    "        if x == d and y == e:\n",
    "            break\n",
    "        \n",
    "        for k in range(8):\n",
    "            nx, ny = x + dx[k], y + dy[k]\n",
    "            \n",
    "            if 0 <= nx < n and 0 <= ny < n:\n",
    "                if a[nx][ny] == 0 and dist[nx][ny] == 0:\n",
    "                    dist[nx][ny] = dist[x][y] + 1\n",
    "                    q.append((nx, ny))\n",
    "\n",
    "    print(dist[d][e]-1)"
   ]
  },
  {
   "cell_type": "code",
   "execution_count": 1,
   "metadata": {},
   "outputs": [
    {
     "name": "stdin",
     "output_type": "stream",
     "text": [
      " 3 4\n",
      " AAAA\n",
      " ABCA\n",
      " AAAA\n"
     ]
    },
    {
     "name": "stdout",
     "output_type": "stream",
     "text": [
      "Yes\n"
     ]
    },
    {
     "ename": "SystemExit",
     "evalue": "",
     "output_type": "error",
     "traceback": [
      "An exception has occurred, use %tb to see the full traceback.\n",
      "\u001b[1;31mSystemExit\u001b[0m\n"
     ]
    },
    {
     "name": "stderr",
     "output_type": "stream",
     "text": [
      "C:\\Users\\default.DESKTOP-S5Q9GAA\\Anaconda3\\lib\\site-packages\\IPython\\core\\interactiveshell.py:3339: UserWarning: To exit: use 'exit', 'quit', or Ctrl-D.\n",
      "  warn(\"To exit: use 'exit', 'quit', or Ctrl-D.\", stacklevel=1)\n"
     ]
    }
   ],
   "source": [
    "# 16929\n",
    "\n",
    "import sys\n",
    "\n",
    "def go(x, y, cnt, color):\n",
    "    if dist[x][y] != 0:\n",
    "        return cnt - dist[x][y] >= 4\n",
    "    dist[x][y] = cnt\n",
    "    \n",
    "    for k in range(4):\n",
    "        nx, ny = x + dx[k], y + dy[k]\n",
    "        if 0 <= nx < n and 0 <= ny < m:\n",
    "            if a[nx][ny] == color:\n",
    "                if go(nx, ny, cnt+1, color):\n",
    "                    return True\n",
    "    \n",
    "    return False\n",
    "\n",
    "dx = [0, 0, 1, -1]\n",
    "dy = [1, -1, 0, 0]\n",
    "\n",
    "n, m = map(int, input().split())\n",
    "a = [input() for _ in range(n)]\n",
    "dist = [[0] * m for _ in range(n)]\n",
    "\n",
    "for i in range(n):\n",
    "    for j in range(m):\n",
    "        if dist[i][j]:\n",
    "            continue\n",
    "        ok = go(i, j, 0, a[i][j])\n",
    "        if ok:\n",
    "            print('Yes')\n",
    "            sys.exit()\n",
    "print('No')"
   ]
  },
  {
   "cell_type": "code",
   "execution_count": 2,
   "metadata": {},
   "outputs": [
    {
     "name": "stdin",
     "output_type": "stream",
     "text": [
      " 4\n",
      " 1 3\n",
      " 4 3\n",
      " 4 2\n",
      " 1 2\n"
     ]
    },
    {
     "name": "stdout",
     "output_type": "stream",
     "text": [
      "0 0 0 0\n"
     ]
    }
   ],
   "source": [
    "# 16947\n",
    "\n",
    "import sys\n",
    "from collections import deque\n",
    "\n",
    "sys.setrecursionlimit(1000000)\n",
    "\n",
    "n = int(input())\n",
    "a = [[] for _ in range(n)]\n",
    "for _ in range(n):\n",
    "    u, v = map(int, input().split())\n",
    "    u -= 1\n",
    "    v -= 1\n",
    "    a[u].append(v)\n",
    "    a[v].append(u)\n",
    "    \n",
    "check = [0] * n\n",
    "\n",
    "def go(x, p):\n",
    "    if check[x] == 1:\n",
    "        return x\n",
    "    \n",
    "    check[x] = 1\n",
    "    \n",
    "    for y in a[x]:\n",
    "        if y == p:\n",
    "            continue\n",
    "        res = go(y, x)\n",
    "        \n",
    "        if res == -2:\n",
    "            return -2\n",
    "        \n",
    "        if res >= 0:\n",
    "            check[x] = 2\n",
    "            if x == res:\n",
    "                return -2\n",
    "            else:\n",
    "                return res \n",
    "    return -1\n",
    "\n",
    "go(0, -1)\n",
    "\n",
    "q = deque()\n",
    "dist = [-1] * n\n",
    "\n",
    "for i in range(n):\n",
    "    if check[i] == 2:\n",
    "        dist[i] = 0\n",
    "        q.append(i)\n",
    "    else:\n",
    "        dist[i] = -1\n",
    "        \n",
    "while q:\n",
    "    x = q.popleft()\n",
    "    for y in a[x]:\n",
    "        if dist[y] == -1:\n",
    "            q.append(y)\n",
    "            dist[y] = dist[x] + 1\n",
    "            \n",
    "print(*dist, sep= ' ')"
   ]
  },
  {
   "cell_type": "code",
   "execution_count": 4,
   "metadata": {},
   "outputs": [
    {
     "name": "stdin",
     "output_type": "stream",
     "text": [
      " 4\n",
      " 1 2\n",
      " 1 3\n",
      " 2 4\n",
      " 1 2 3 4\n"
     ]
    },
    {
     "name": "stdout",
     "output_type": "stream",
     "text": [
      "1\n"
     ]
    }
   ],
   "source": [
    "# 16940\n",
    "\n",
    "from collections import deque\n",
    "import sys\n",
    "\n",
    "n = int(input())\n",
    "a = [[] for _ in range(n)]\n",
    "\n",
    "for _ in range(n-1):\n",
    "    u, v = map(int, input().split())\n",
    "    u -= 1\n",
    "    v -= 1\n",
    "    a[u].append(v)\n",
    "    a[v].append(u)\n",
    "    \n",
    "order = list(map(int, input().split()))\n",
    "order = [x-1 for x in order]\n",
    "\n",
    "q = deque()\n",
    "check = [False] * n\n",
    "parent = [-1] * n\n",
    "\n",
    "q.append(0)\n",
    "check[0] = True\n",
    "m = 1\n",
    "\n",
    "for i in range(n):\n",
    "    if not q:\n",
    "        print(0)\n",
    "        sys.exit()\n",
    "        \n",
    "    x = q.popleft()\n",
    "    if x != order[i]:\n",
    "        print(0)\n",
    "        sys.exit()\n",
    "    \n",
    "    cnt = 0\n",
    "    for y in a[x]:\n",
    "        if check[y] == False:\n",
    "            parent[y] = x\n",
    "            cnt += 1\n",
    "            \n",
    "    for j in range(cnt):\n",
    "        if m+j >= n or parent[order[m+j]] != x:\n",
    "            print(0)\n",
    "            sys.exit()\n",
    "        q.append(order[m+j])\n",
    "        check[order[m+j]] = True\n",
    "    m += cnt\n",
    "print(1)"
   ]
  },
  {
   "cell_type": "code",
   "execution_count": 7,
   "metadata": {},
   "outputs": [
    {
     "name": "stdin",
     "output_type": "stream",
     "text": [
      " 4\n",
      " 1 2\n",
      " 1 3\n",
      " 2 4\n",
      " 1 2 3 4\n"
     ]
    },
    {
     "name": "stdout",
     "output_type": "stream",
     "text": [
      "0\n"
     ]
    }
   ],
   "source": [
    "# 16964\n",
    "\n",
    "from collections import deque\n",
    "import sys\n",
    "\n",
    "n = int(input())\n",
    "a = [[] for _ in range(n)]\n",
    "\n",
    "for _ in range(n-1):\n",
    "    u, v = map(int, input().split())\n",
    "    u -= 1\n",
    "    v -= 1\n",
    "    a[u].append(v)\n",
    "    a[v].append(u)\n",
    "    \n",
    "b = list(map(int,input().split()))\n",
    "b = [x-1 for x in b]\n",
    "order = [0] * n\n",
    "\n",
    "for i in range(n):\n",
    "    order[b[i]] = i\n",
    "    \n",
    "for i in range(n):\n",
    "    a[i].sort(key=lambda x : order[x])\n",
    "    \n",
    "dfs_order = []\n",
    "check = [False] * n\n",
    "\n",
    "def dfs(x):\n",
    "    if check[x]:\n",
    "        return\n",
    "    dfs_order.append(x)\n",
    "    check[x] = True\n",
    "    for y in a[x]:\n",
    "        dfs(y)\n",
    "        \n",
    "dfs(0)\n",
    "\n",
    "ok = True\n",
    "for i in range(n):\n",
    "    if dfs_order[i] != b[i]:\n",
    "        ok = False\n",
    "    \n",
    "print(1 if ok else 0)"
   ]
  },
  {
   "cell_type": "code",
   "execution_count": 35,
   "metadata": {},
   "outputs": [
    {
     "name": "stdin",
     "output_type": "stream",
     "text": [
      " 5 17\n"
     ]
    },
    {
     "name": "stdout",
     "output_type": "stream",
     "text": [
      "4\n"
     ]
    }
   ],
   "source": [
    "# 1697\n",
    "\n",
    "from collections import deque\n",
    "\n",
    "n, m = map(int, input().split())\n",
    "q = deque()\n",
    "num = 2 *max(n, m)\n",
    "check = [False] * (num+1)\n",
    "dist = [0] * (num+1)\n",
    "\n",
    "check[n] = True\n",
    "q.append(n)\n",
    "\n",
    "while q:\n",
    "    x = q.popleft()\n",
    "    \n",
    "    if x == m:\n",
    "        break\n",
    "    \n",
    "    if 0 <= x-1 < num+1 and check[x-1] == False:\n",
    "        check[x-1] = True\n",
    "        q.append(x-1)\n",
    "        dist[x-1] = dist[x] + 1\n",
    "    \n",
    "    if 0 <= x+1 < num+1 and check[x+1] == False:\n",
    "        check[x+1] = True\n",
    "        q.append(x+1)\n",
    "        dist[x+1] = dist[x] + 1\n",
    "    \n",
    "    if 0 <= 2 * x < num+1 and check[2 * x] == False:\n",
    "        check[2 * x] = True\n",
    "        q.append(2 * x)\n",
    "        dist[2 * x] = dist[x] + 1\n",
    "        \n",
    "print(dist[m])"
   ]
  },
  {
   "cell_type": "code",
   "execution_count": 49,
   "metadata": {},
   "outputs": [
    {
     "name": "stdin",
     "output_type": "stream",
     "text": [
      " 7\n",
      " 6\n",
      " 1 2\n",
      " 2 3\n",
      " 1 5\n",
      " 5 2\n",
      " 5 6\n",
      " 4 7\n"
     ]
    },
    {
     "name": "stdout",
     "output_type": "stream",
     "text": [
      "4\n"
     ]
    }
   ],
   "source": [
    "# 2606\n",
    "\n",
    "n = int(input())\n",
    "m = int(input())\n",
    "a = [[] for _ in range(n+1)] \n",
    "\n",
    "for _ in range(m):\n",
    "    u, v = map(int, input().split())\n",
    "    a[u].append(v)\n",
    "    a[v].append(u)\n",
    "\n",
    "check = [False] * (n+1)\n",
    "cnt = 0\n",
    "\n",
    "def dfs(x):\n",
    "    global cnt\n",
    "    \n",
    "    check[x] = True\n",
    "    cnt += 1\n",
    "    \n",
    "    for y in a[x]:\n",
    "        if check[y] == False:\n",
    "            dfs(y)\n",
    "            \n",
    "dfs(1)\n",
    "print(cnt-1)"
   ]
  },
  {
   "cell_type": "code",
   "execution_count": 80,
   "metadata": {},
   "outputs": [
    {
     "name": "stdin",
     "output_type": "stream",
     "text": [
      " 1\n",
      " 5 3 6\n",
      " 0 2\n",
      " 1 2\n",
      " 2 2\n",
      " 3 2\n",
      " 4 2\n",
      " 4 0\n"
     ]
    },
    {
     "name": "stdout",
     "output_type": "stream",
     "text": [
      "2\n"
     ]
    }
   ],
   "source": [
    "# 1012\n",
    "\n",
    "from functools import reduce\n",
    "import sys\n",
    "\n",
    "sys.setrecursionlimit(1000000)\n",
    "\n",
    "t = int(input())\n",
    "\n",
    "dx = [-1, 1, 0, 0]\n",
    "dy = [0, 0, -1, 1]\n",
    "\n",
    "def dfs(y, x, cnt):\n",
    "    group[y][x] = cnt\n",
    "    for k in range(4):\n",
    "        nx, ny = x + dx[k], y + dy[k]\n",
    "        if 0 <= nx < m and 0 <= ny < n:\n",
    "            if a[ny][nx] == 1 and group[ny][nx] == 0:\n",
    "                dfs(ny, nx, cnt)\n",
    "\n",
    "for _ in range(t):\n",
    "    m, n, k = map(int, input().split())\n",
    "    a = [[0] * m for _ in range(n)]\n",
    "    group = [[0] * m for _ in range(n)]\n",
    "    for _ in range(k):\n",
    "        x,y = map(int, input().split())\n",
    "        a[y][x] = 1\n",
    "    \n",
    "    cnt = 0\n",
    "    \n",
    "    for i in range(n):\n",
    "        for j in range(m):\n",
    "            if a[i][j] == 1 and group[i][j] == 0:\n",
    "                cnt += 1\n",
    "                dfs(i, j, cnt)\n",
    "    \n",
    "    ans = max(reduce(lambda q, w : q+w, group))\n",
    "    print(ans)"
   ]
  },
  {
   "cell_type": "code",
   "execution_count": 20,
   "metadata": {},
   "outputs": [
    {
     "name": "stdin",
     "output_type": "stream",
     "text": [
      " 5 17\n"
     ]
    },
    {
     "name": "stdout",
     "output_type": "stream",
     "text": [
      "4\n",
      "5 4 8 16 17 "
     ]
    }
   ],
   "source": [
    "# 13913\n",
    "\n",
    "import sys\n",
    "from collections import deque\n",
    "\n",
    "num = 200000\n",
    "sys.setrecursionlimit(num)\n",
    "check = [False] * (num)\n",
    "dist = [-1] * (num)\n",
    "via = [-1] * (num)\n",
    "\n",
    "n, m = map(int, input().split())\n",
    "q = deque()\n",
    "\n",
    "dist[n] = 0\n",
    "check[n] = True\n",
    "q.append(n)\n",
    "\n",
    "def go(n, m):\n",
    "    if n != m:\n",
    "        go(n, via[m])\n",
    "    print(m, end=' ')\n",
    "\n",
    "while q:\n",
    "    x = q.popleft()\n",
    "    \n",
    "    if 0 <= x-1 and check[x-1] == False:\n",
    "        check[x-1] = True\n",
    "        q.append(x-1)\n",
    "        dist[x-1] = dist[x] + 1\n",
    "        via[x-1] = x\n",
    "    \n",
    "    if x+1 < num and check[x+1] == False:\n",
    "        check[x+1] = True\n",
    "        q.append(x+1)\n",
    "        dist[x+1] = dist[x] + 1\n",
    "        via[x+1] = x\n",
    "    \n",
    "    if 2 * x < num and check[2 * x] == False:\n",
    "        check[2 * x] = True\n",
    "        q.append(2 * x)\n",
    "        dist[2 * x] = dist[x] + 1\n",
    "        via[2 * x] = x\n",
    "        \n",
    "print(dist[m])\n",
    "go(n, m)"
   ]
  },
  {
   "cell_type": "code",
   "execution_count": 2,
   "metadata": {},
   "outputs": [
    {
     "name": "stdin",
     "output_type": "stream",
     "text": [
      " 2\n"
     ]
    },
    {
     "name": "stdout",
     "output_type": "stream",
     "text": [
      "2\n"
     ]
    }
   ],
   "source": [
    "# 14226\n",
    "\n",
    "from collections import deque\n",
    "\n",
    "n = int(input())\n",
    "dist = [[-1] * (n+1) for _ in range(n+1)]\n",
    "\n",
    "q = deque()\n",
    "q.append((1, 0))\n",
    "dist[1][0] = 0\n",
    "\n",
    "while q:\n",
    "    s, c = q.popleft()\n",
    "    \n",
    "    if dist[s][s] == -1:\n",
    "        dist[s][s] = dist[s][c] + 1\n",
    "        q.append((s, s))\n",
    "        \n",
    "    if s+c <= n and dist[s+c][c] == -1:\n",
    "        dist[s+c][c] = dist[s][c] + 1\n",
    "        q.append((s+c, c))\n",
    "        \n",
    "    if s-1 >= 0 and dist[s-1][c] == -1:\n",
    "        dist[s-1][c] = dist[s][c] + 1\n",
    "        q.append((s-1, c))\n",
    "        \n",
    "ans = -1\n",
    "\n",
    "for i in range(n+1):\n",
    "    if dist[n][i] != -1:\n",
    "        if ans == -1 or ans > dist[n][i]:\n",
    "            ans = dist[n][i]\n",
    "            \n",
    "print(ans)"
   ]
  },
  {
   "cell_type": "code",
   "execution_count": 10,
   "metadata": {},
   "outputs": [
    {
     "name": "stdin",
     "output_type": "stream",
     "text": [
      " 5 17\n"
     ]
    },
    {
     "name": "stdout",
     "output_type": "stream",
     "text": [
      "2\n"
     ]
    }
   ],
   "source": [
    "# 13549\n",
    "from collections import deque\n",
    "\n",
    "num = 200000\n",
    "n, m = map(int, input().split())\n",
    "check = [False] * num\n",
    "dist = [-1] * num\n",
    "\n",
    "check[n] = True\n",
    "dist[n] = 0\n",
    "\n",
    "q = deque()\n",
    "q2 = deque()\n",
    "q.append(n)\n",
    "\n",
    "while q:\n",
    "    x = q.popleft()\n",
    "    \n",
    "    if 2 * x < num and check[2 * x] == False:\n",
    "        q.append(2 * x)\n",
    "        check[2 * x] = True\n",
    "        dist[2 * x] = dist[x]\n",
    "        \n",
    "    if x-1 >= 0 and check[x-1] == False:\n",
    "        q2.append(x-1)\n",
    "        check[x-1] = True\n",
    "        dist[x-1] = dist[x] + 1\n",
    "        \n",
    "    if x+1 < num and check[x+1] == False:\n",
    "        q2.append(x+1)\n",
    "        check[x+1] = True\n",
    "        dist[x+1] = dist[x] + 1\n",
    "        \n",
    "    if not q:\n",
    "        q = q2\n",
    "        q2 = deque()\n",
    "        \n",
    "print(dist[m])"
   ]
  },
  {
   "cell_type": "code",
   "execution_count": 3,
   "metadata": {},
   "outputs": [
    {
     "name": "stdin",
     "output_type": "stream",
     "text": [
      " 3 3\n",
      " 011\n",
      " 111\n",
      " 110\n"
     ]
    },
    {
     "name": "stdout",
     "output_type": "stream",
     "text": [
      "3\n"
     ]
    }
   ],
   "source": [
    "# 1261\n",
    "\n",
    "from collections import deque\n",
    "\n",
    "dx = [0,0,1,-1]\n",
    "dy = [1,-1,0,0]\n",
    "\n",
    "m,n = map(int,input().split())\n",
    "a = [list(map(int,list(input()))) for _ in range(n)]\n",
    "dist = [[-1]*m for _ in range(n)]\n",
    "\n",
    "q = deque()\n",
    "q.append((0,0))\n",
    "dist[0][0] = 0\n",
    "\n",
    "while q:\n",
    "    x,y = q.popleft()\n",
    "    \n",
    "    for k in range(4):\n",
    "        nx,ny = x+dx[k], y+dy[k]\n",
    "        if 0 <= nx < n and 0 <= ny < m:\n",
    "            \n",
    "            if dist[nx][ny] == -1:\n",
    "                if a[nx][ny] == 0:\n",
    "                    dist[nx][ny] = dist[x][y]\n",
    "                    q.appendleft((nx,ny))\n",
    "                else:\n",
    "                    dist[nx][ny] = dist[x][y] + 1\n",
    "                    q.append((nx,ny))\n",
    "\n",
    "print(dist[n-1][m-1])"
   ]
  },
  {
   "cell_type": "code",
   "execution_count": 2,
   "metadata": {},
   "outputs": [],
   "source": [
    "import sys\n",
    "\n",
    "sys.setrecursionlimit(100000)\n",
    "r = sys.stdin.readline\n",
    "n = int(r())\n",
    "a = [list(map(int, r().split())) for _ in range(n)]\n",
    "dx = [-1, 1, 0, 0]\n",
    "dy = [0, 0, -1, 1]\n",
    "\n",
    "def dfs(x, y, h):\n",
    "    for k in range(4):\n",
    "        nx, ny = x+dx[k], y+dy[k]\n",
    "        if 0 <= nx < n and 0 <= ny < n:\n",
    "            if a[nx][ny] > h and d[nx][ny] == False:\n",
    "                d[nx][ny] = True\n",
    "                dfs(nx, ny, h)\n",
    "\n",
    "ans = 1\n",
    "for h in range(max(map(max, a))):\n",
    "    d = [[False] * n for _ in range(n)]\n",
    "    cnt = 0\n",
    "    for i in range(n):\n",
    "        for j in range(n):\n",
    "            if a[i][j] > h and d[i][j] == False:\n",
    "                cnt += 1\n",
    "                d[i][j] = True\n",
    "                dfs(i, j, h)\n",
    "    ans = max(ans, cnt)\n",
    "\n",
    "print(ans)"
   ]
  },
  {
   "cell_type": "code",
   "execution_count": null,
   "metadata": {},
   "outputs": [],
   "source": []
  }
 ],
 "metadata": {
  "kernelspec": {
   "display_name": "Python 3",
   "language": "python",
   "name": "python3"
  },
  "language_info": {
   "codemirror_mode": {
    "name": "ipython",
    "version": 3
   },
   "file_extension": ".py",
   "mimetype": "text/x-python",
   "name": "python",
   "nbconvert_exporter": "python",
   "pygments_lexer": "ipython3",
   "version": "3.7.6"
  }
 },
 "nbformat": 4,
 "nbformat_minor": 4
}
