{
 "cells": [
  {
   "cell_type": "code",
   "execution_count": 19,
   "metadata": {},
   "outputs": [
    {
     "name": "stdin",
     "output_type": "stream",
     "text": [
      " 2\n"
     ]
    },
    {
     "name": "stdout",
     "output_type": "stream",
     "text": [
      "2\n"
     ]
    }
   ],
   "source": [
    "# 1463\n",
    "\n",
    "n = int(input())\n",
    "\n",
    "blist = [0] * (n+1)\n",
    "\n",
    "for i in range(1, n+1):\n",
    "    if i == 1:\n",
    "        blist[i] = 0\n",
    "        continue\n",
    "        \n",
    "    blist[i] = blist[i-1] + 1\n",
    "    \n",
    "    if i % 3 == 0 and blist[i//3] + 1 < blist[i]:\n",
    "        blist[i] = blist[i//3] + 1\n",
    "    \n",
    "    if i % 2 == 0 and blist[i//2] + 1 < blist[i]:\n",
    "        blist[i] = blist[i//2] + 1\n",
    "        \n",
    "print(blist[n])"
   ]
  },
  {
   "cell_type": "code",
   "execution_count": 1,
   "metadata": {},
   "outputs": [
    {
     "name": "stdin",
     "output_type": "stream",
     "text": [
      " 9\n"
     ]
    },
    {
     "name": "stdout",
     "output_type": "stream",
     "text": [
      "55\n"
     ]
    }
   ],
   "source": [
    "# 11726\n",
    "\n",
    "n = int(input())\n",
    "d = [0]*1001\n",
    "d[0] = 1\n",
    "d[1] = 1\n",
    "for i in range(2, n+1):\n",
    "    d[i] = d[i-1] + d[i-2]\n",
    "    d[i] %= 10007\n",
    "print(d[n])"
   ]
  },
  {
   "cell_type": "code",
   "execution_count": 2,
   "metadata": {},
   "outputs": [
    {
     "name": "stdin",
     "output_type": "stream",
     "text": [
      " 12\n"
     ]
    },
    {
     "name": "stdout",
     "output_type": "stream",
     "text": [
      "2731\n"
     ]
    }
   ],
   "source": [
    "# 11727\n",
    "\n",
    "n = int(input())\n",
    "d = [0]*1001\n",
    "d[0] = 1\n",
    "d[1] = 1\n",
    "for i in range(2, n+1):\n",
    "    d[i] = d[i-1] + d[i-2] + d[i-2]\n",
    "    d[i] %= 10007\n",
    "print(d[n])"
   ]
  },
  {
   "cell_type": "code",
   "execution_count": 68,
   "metadata": {},
   "outputs": [
    {
     "name": "stdin",
     "output_type": "stream",
     "text": [
      " 3\n",
      " 4\n"
     ]
    },
    {
     "name": "stdout",
     "output_type": "stream",
     "text": [
      "7\n"
     ]
    },
    {
     "name": "stdin",
     "output_type": "stream",
     "text": [
      " 7\n"
     ]
    },
    {
     "name": "stdout",
     "output_type": "stream",
     "text": [
      "44\n"
     ]
    },
    {
     "name": "stdin",
     "output_type": "stream",
     "text": [
      " 10\n"
     ]
    },
    {
     "name": "stdout",
     "output_type": "stream",
     "text": [
      "274\n"
     ]
    }
   ],
   "source": [
    "# 9095\n",
    "\n",
    "T = int(input())\n",
    "\n",
    "blist = [0] * 1001\n",
    "\n",
    "for _ in range(T):\n",
    "    \n",
    "    n = int(input())\n",
    "    \n",
    "    if n > 1000:\n",
    "        blist.extend([0] * (n-1000))\n",
    "        \n",
    "    for i in range(1, n+1):\n",
    "        if i == 1:\n",
    "            blist[i] = 1\n",
    "        elif i == 2:\n",
    "            blist[i] = 2\n",
    "        elif i == 3:\n",
    "            blist[i] = 4\n",
    "        else:\n",
    "            blist[i] = blist[i-1] + blist[i-2] + blist[i-3]\n",
    "    print(blist[n])"
   ]
  },
  {
   "cell_type": "code",
   "execution_count": 19,
   "metadata": {},
   "outputs": [
    {
     "name": "stdin",
     "output_type": "stream",
     "text": [
      " 5\n",
      " 10 9 8 7 6\n"
     ]
    },
    {
     "name": "stdout",
     "output_type": "stream",
     "text": [
      "50\n"
     ]
    }
   ],
   "source": [
    "# 11052\n",
    "\n",
    "n = int(input())\n",
    "\n",
    "blist = [0] + list(map(int, input().split()))\n",
    "clist = [0] * (n+1)\n",
    "\n",
    "for i in range(1, n+1):\n",
    "    for j in range(1, i+1):\n",
    "        clist[i] = max(clist[i], clist[i-j] + blist[j])\n",
    "    \n",
    "print(clist[n])"
   ]
  },
  {
   "cell_type": "code",
   "execution_count": 28,
   "metadata": {},
   "outputs": [
    {
     "name": "stdin",
     "output_type": "stream",
     "text": [
      " 5\n",
      " 10 9 8 7 6\n"
     ]
    },
    {
     "name": "stdout",
     "output_type": "stream",
     "text": [
      "6\n"
     ]
    }
   ],
   "source": [
    "# 16194\n",
    "\n",
    "n = int(input())\n",
    "\n",
    "blist = [0] + list(map(int, input().split()))\n",
    "clist = [0] + [1000 * 10000] * (n+1)\n",
    "\n",
    "for i in range(1, n+1):\n",
    "    for j in range(1, i+1):\n",
    "        clist[i] = min(clist[i], clist[i-j] + blist[j])\n",
    "    \n",
    "print(clist[n])"
   ]
  },
  {
   "cell_type": "code",
   "execution_count": 1,
   "metadata": {},
   "outputs": [
    {
     "name": "stdin",
     "output_type": "stream",
     "text": [
      " 3\n",
      " 4\n"
     ]
    },
    {
     "name": "stdout",
     "output_type": "stream",
     "text": [
      "3\n"
     ]
    },
    {
     "name": "stdin",
     "output_type": "stream",
     "text": [
      " 7\n"
     ]
    },
    {
     "name": "stdout",
     "output_type": "stream",
     "text": [
      "9\n"
     ]
    },
    {
     "name": "stdin",
     "output_type": "stream",
     "text": [
      " 10\n"
     ]
    },
    {
     "name": "stdout",
     "output_type": "stream",
     "text": [
      "27\n"
     ]
    }
   ],
   "source": [
    "# 15990\n",
    "\n",
    "limit = 100000\n",
    "d = [[0] * 4 for _ in range(limit+1)]\n",
    "mod = 1000000009\n",
    "\n",
    "for i in range(1, limit+1):\n",
    "    \n",
    "    if i - 1>= 0:\n",
    "        d[i][1] = d[i-1][2] + d[i-1][3]\n",
    "        if i == 1:\n",
    "            d[i][1] = 1\n",
    "            \n",
    "    if i - 2 >= 0:\n",
    "        d[i][2] = d[i-2][1] + d[i-2][3]\n",
    "        if i == 2:\n",
    "            d[i][2] = 1\n",
    "            \n",
    "    if i - 3 >= 0:\n",
    "        d[i][3] = d[i-3][1] + d[i-3][2]\n",
    "        if i == 3:\n",
    "            d[i][3] = 1\n",
    "            \n",
    "    d[i][1] %= mod\n",
    "    d[i][2] %= mod\n",
    "    d[i][3] %= mod\n",
    "    \n",
    "T = int(input())\n",
    "\n",
    "for _ in range(T):\n",
    "    n = int(input())\n",
    "    print(sum(d[n])%mod)"
   ]
  },
  {
   "cell_type": "code",
   "execution_count": 1,
   "metadata": {},
   "outputs": [
    {
     "name": "stdin",
     "output_type": "stream",
     "text": [
      " 1\n"
     ]
    },
    {
     "name": "stdout",
     "output_type": "stream",
     "text": [
      "9\n"
     ]
    }
   ],
   "source": [
    "# 10844\n",
    "\n",
    "d = [[0]*10 for _ in range(100+1)]\n",
    "mod = 1000000000 \n",
    "\n",
    "n = int(input())\n",
    "\n",
    "for i in range(1, 10):\n",
    "    d[1][i] = 1\n",
    "    \n",
    "for i in range(2, n+1):\n",
    "    for j in range(10):\n",
    "        d[i][j] = 0\n",
    "        \n",
    "        if j-1 >= 0:\n",
    "            d[i][j] += d[i-1][j-1]\n",
    "            \n",
    "        if j+1 <= 9:\n",
    "            d[i][j] += d[i-1][j+1]\n",
    "            \n",
    "        d[i][j] %= mod\n",
    "        \n",
    "ans = sum(d[n]) % mod\n",
    "print(ans)"
   ]
  },
  {
   "cell_type": "code",
   "execution_count": 14,
   "metadata": {},
   "outputs": [
    {
     "name": "stdin",
     "output_type": "stream",
     "text": [
      " 5\n"
     ]
    },
    {
     "name": "stdout",
     "output_type": "stream",
     "text": [
      "5\n"
     ]
    }
   ],
   "source": [
    "# 2193\n",
    "\n",
    "n = int(input())\n",
    "\n",
    "d = [[0] * 2 for _ in range(90+1)]\n",
    "\n",
    "d[1][1] = 1\n",
    "d[2][0] = 1\n",
    "\n",
    "for i in range(3, n+1):\n",
    "    for j in range(0, 2):\n",
    "        if j == 0:\n",
    "            d[i][j] = d[i-1][0] + d[i-1][1]\n",
    "        else:\n",
    "            d[i][j] = d[i-1][0]\n",
    "        \n",
    "print(sum(d[n]))"
   ]
  },
  {
   "cell_type": "code",
   "execution_count": 1,
   "metadata": {},
   "outputs": [
    {
     "name": "stdin",
     "output_type": "stream",
     "text": [
      " 6\n",
      " 10 20 10 30 50 20\n"
     ]
    },
    {
     "name": "stdout",
     "output_type": "stream",
     "text": [
      "4\n"
     ]
    }
   ],
   "source": [
    "# 11053\n",
    "\n",
    "n = int(input())\n",
    "a = list(map(int,input().split()))\n",
    "d = [0]*n\n",
    "\n",
    "for i in range(n):\n",
    "    d[i] = 1\n",
    "    for j in range(i):\n",
    "        if a[j] < a[i] and d[j]+1 > d[i]:\n",
    "            d[i] = d[j]+1\n",
    "            \n",
    "print(max(d))"
   ]
  },
  {
   "cell_type": "code",
   "execution_count": 19,
   "metadata": {},
   "outputs": [
    {
     "name": "stdin",
     "output_type": "stream",
     "text": [
      " 6\n",
      " 10 20 10 30 20 50\n"
     ]
    },
    {
     "name": "stdout",
     "output_type": "stream",
     "text": [
      "4\n",
      "10 20 30 50 \n"
     ]
    }
   ],
   "source": [
    "# 14002\n",
    "\n",
    "n = int(input())\n",
    "a = list(map(int,input().split()))\n",
    "d = [0]*n\n",
    "v = [-1]*n\n",
    "\n",
    "for i in range(n):\n",
    "    d[i] = 1\n",
    "    for j in range(i):\n",
    "        if a[j] < a[i] and d[j]+1 > d[i]:\n",
    "            d[i] = d[j]+1\n",
    "            v[i] = j\n",
    "            \n",
    "ans = max(d)\n",
    "\n",
    "p = [i for i,x in enumerate(d) if x == ans][0]\n",
    "\n",
    "print(ans)\n",
    "\n",
    "def go(p):\n",
    "    if p == -1:\n",
    "        return\n",
    "    go(v[p])\n",
    "    print(a[p],end=' ')\n",
    "    \n",
    "go(p)\n",
    "\n",
    "print()"
   ]
  },
  {
   "cell_type": "code",
   "execution_count": 9,
   "metadata": {},
   "outputs": [
    {
     "name": "stdin",
     "output_type": "stream",
     "text": [
      " 10\n",
      " 10 -4 3 1 5 6 -35 12 21 -1\n"
     ]
    },
    {
     "name": "stdout",
     "output_type": "stream",
     "text": [
      "33\n"
     ]
    }
   ],
   "source": [
    "# 1912\n",
    "\n",
    "n = int(input())\n",
    "a = list(map(int, input().split()))\n",
    "d = [[0] * n] * n\n",
    "v = []\n",
    "\n",
    "for i in range(0, n):\n",
    "    maxi = 0\n",
    "    cnt = a[i]\n",
    "    for j in range(i+1, n):\n",
    "        cnt += a[j]\n",
    "        if cnt > maxi:\n",
    "            maxi = cnt\n",
    "    v.append(maxi)\n",
    "        \n",
    "print(max(v))"
   ]
  },
  {
   "cell_type": "code",
   "execution_count": 18,
   "metadata": {},
   "outputs": [
    {
     "name": "stdin",
     "output_type": "stream",
     "text": [
      " 10\n",
      " 10 -4 3 1 5 6 -35 12 21 -1\n"
     ]
    },
    {
     "name": "stdout",
     "output_type": "stream",
     "text": [
      "33\n"
     ]
    }
   ],
   "source": [
    "# 1912\n",
    "\n",
    "n = int(input())\n",
    "a = list(map(int, input().split()))\n",
    "d = [[0] * n for _ in range(n)]\n",
    "v = []\n",
    "\n",
    "for i in range(0, n):\n",
    "    d[i][0] = a[i]\n",
    "    for j in range(i+1, n):\n",
    "        d[i][j] = d[i][j-1] + a[j]\n",
    "    v.append(max(d[i]))\n",
    "print(max(v))"
   ]
  },
  {
   "cell_type": "code",
   "execution_count": 56,
   "metadata": {},
   "outputs": [
    {
     "name": "stdin",
     "output_type": "stream",
     "text": [
      " 99\n"
     ]
    },
    {
     "name": "stdout",
     "output_type": "stream",
     "text": [
      "3\n"
     ]
    }
   ],
   "source": [
    "# 1699\n",
    "\n",
    "n = int(input())\n",
    "d = [0] * (n+1)\n",
    "\n",
    "for i in range(1, n+1):\n",
    "    d[i] = i\n",
    "    j = 1\n",
    "    while j ** 2 <= i:\n",
    "        if d[i] > d[i - (j**2)] + 1:\n",
    "            d[i] = d[i - (j**2)] + 1\n",
    "        j += 1\n",
    "        \n",
    "print(d[n])"
   ]
  },
  {
   "cell_type": "code",
   "execution_count": 20,
   "metadata": {},
   "outputs": [
    {
     "name": "stdin",
     "output_type": "stream",
     "text": [
      " 20 2\n"
     ]
    },
    {
     "name": "stdout",
     "output_type": "stream",
     "text": [
      "21\n"
     ]
    }
   ],
   "source": [
    "# 2225\n",
    "\n",
    "mod = 1000000000\n",
    "n, k = map(int, input().split())\n",
    "d = [[0] * (n+1) for _ in range(k+1)]\n",
    "\n",
    "d[0][0] = 1\n",
    "\n",
    "for i in range(1, k+1):\n",
    "    for j in range(0, n+1):\n",
    "        for l in range(0, j+1):\n",
    "            d[i][j] += d[i-1][j-l]\n",
    "        d[i][j] %= mod\n",
    "        \n",
    "print(d[k][n])"
   ]
  },
  {
   "cell_type": "code",
   "execution_count": 1,
   "metadata": {},
   "outputs": [
    {
     "name": "stdin",
     "output_type": "stream",
     "text": [
      " 3\n",
      " 4\n"
     ]
    },
    {
     "name": "stdout",
     "output_type": "stream",
     "text": [
      "7\n"
     ]
    },
    {
     "name": "stdin",
     "output_type": "stream",
     "text": [
      " 7\n"
     ]
    },
    {
     "name": "stdout",
     "output_type": "stream",
     "text": [
      "44\n"
     ]
    },
    {
     "name": "stdin",
     "output_type": "stream",
     "text": [
      " 10\n"
     ]
    },
    {
     "name": "stdout",
     "output_type": "stream",
     "text": [
      "274\n"
     ]
    }
   ],
   "source": [
    "# 15988\n",
    "\n",
    "d = [0]*1000001\n",
    "mod = 1000000009\n",
    "d[0] = 1\n",
    "for i in range(1, 1000000+1):\n",
    "    if i-1 >= 0:\n",
    "        d[i] += d[i-1]\n",
    "    if i-2 >= 0:\n",
    "        d[i] += d[i-2]\n",
    "    if i-3 >= 0:\n",
    "        d[i] += d[i-3]\n",
    "    d[i] %= mod\n",
    "\n",
    "t = int(input())\n",
    "for _ in range(t):\n",
    "    n = int(input())\n",
    "    print(d[n])\n",
    "    \n",
    "# mine\n",
    "# T = int(input())\n",
    "# mod = 1000000009\n",
    "# limit = 1000000\n",
    "\n",
    "# d = [0] * (limit+1)\n",
    "# d[1], d[2], d[3] = 1, 2, 4\n",
    "# for i in range(4, limit+1):\n",
    "#     d[i] = (d[i-1] + d[i-2] + d[i-3]) % mod\n",
    "\n",
    "# for _ in range(T):\n",
    "#     n = int(input())\n",
    "#     print(d[n])"
   ]
  },
  {
   "cell_type": "code",
   "execution_count": 4,
   "metadata": {},
   "outputs": [
    {
     "name": "stdin",
     "output_type": "stream",
     "text": [
      " 3\n",
      " 26 40 83\n",
      " 29 60 57\n",
      " 13 89 99\n"
     ]
    },
    {
     "name": "stdout",
     "output_type": "stream",
     "text": [
      "96\n"
     ]
    }
   ],
   "source": [
    "# 1149\n",
    "\n",
    "# T = int(input())\n",
    "# a = []\n",
    "# for _ in range(T):\n",
    "#     a.append(list(map(int, input().split())))\n",
    "    \n",
    "#     d = [a[0]]\n",
    "\n",
    "# for i in range(1, T):\n",
    "#     b = []\n",
    "    \n",
    "#     red = min(d[i - 1][1], d[i - 1][2]) + a[i][0]\n",
    "#     b.append(red)\n",
    "\n",
    "#     green = min(d[i - 1][0], d[i - 1][2]) + a[i][1]\n",
    "#     b.append(green)\n",
    "\n",
    "#     blue = min(d[i - 1][0], d[i - 1][1]) + a[i][2]\n",
    "#     b.append(blue)\n",
    "    \n",
    "#     d.append(b)\n",
    "    \n",
    "# print(min(d[T - 1]))\n",
    "\n",
    "# better solution\n",
    "n = int(input())\n",
    "a = [list(map(int, input().split())) for _ in range(n)]\n",
    "d = [[0] * 3 for _ in range(n)]\n",
    "\n",
    "for i in range(0, n):\n",
    "    d[i][0] = min(d[i-1][1], d[i-1][2]) + a[i][0]\n",
    "    d[i][1] = min(d[i-1][0], d[i-1][2]) + a[i][1]\n",
    "    d[i][2] = min(d[i-1][1], d[i-1][0]) + a[i][2]\n",
    "    \n",
    "print(min(d[n-1]))"
   ]
  },
  {
   "cell_type": "code",
   "execution_count": 6,
   "metadata": {},
   "outputs": [
    {
     "name": "stdin",
     "output_type": "stream",
     "text": [
      " 4\n"
     ]
    },
    {
     "name": "stdout",
     "output_type": "stream",
     "text": [
      "41\n"
     ]
    }
   ],
   "source": [
    "# 1309\n",
    "\n",
    "n = int(input())\n",
    "\n",
    "d = [[0] * 2 for _ in range(n)]\n",
    "d[0] = [1,2]\n",
    "\n",
    "for i in range(1, n):\n",
    "    d[i][0] = d[i-1][0] + d[i-1][1]\n",
    "    d[i][1] = 2 * d[i-1][0] + d[i-1][1]\n",
    "    \n",
    "    for j in range(2):\n",
    "        d[i][j] %= 9901\n",
    "    \n",
    "print(sum(d[n-1]) % 9901)\n",
    "\n",
    "# other solution\n",
    "\n",
    "# dp = [[0, 0, 0] for i in range(100010)]\n",
    "# dp[1][0] = dp[1][1] = dp[1][2] = 1\n",
    "# n = int(input())\n",
    "# for i in range(2, n + 2):\n",
    "#     dp[i][0] = (dp[i - 1][0] + dp[i - 1][1] + dp[i - 1][2]) % 9901\n",
    "#     dp[i][1] = (dp[i - 1][0] + dp[i - 1][2]) % 9901\n",
    "#     dp[i][2] = (dp[i - 1][0] + dp[i - 1][1]) % 9901\n",
    "# print(dp[n + 1][0])"
   ]
  },
  {
   "cell_type": "code",
   "execution_count": 37,
   "metadata": {},
   "outputs": [
    {
     "name": "stdin",
     "output_type": "stream",
     "text": [
      " 3\n"
     ]
    },
    {
     "name": "stdout",
     "output_type": "stream",
     "text": [
      "220\n"
     ]
    }
   ],
   "source": [
    "# 11057\n",
    "\n",
    "n = int(input())\n",
    "\n",
    "d = [[0] * 10 for _ in range(n+1)]\n",
    "d[1] = [1] * 10\n",
    "\n",
    "for i in range(2, n+1):\n",
    "    for j in range(0, 10):\n",
    "        d[i][j] = d[i-1][j] + d[i][j-1]\n",
    "        \n",
    "        for k in range(0, 10):\n",
    "            d[i][k] %= 10007\n",
    "        \n",
    "print(sum(d[n]) % 10007)"
   ]
  },
  {
   "cell_type": "code",
   "execution_count": 9,
   "metadata": {},
   "outputs": [
    {
     "name": "stdin",
     "output_type": "stream",
     "text": [
      " 2\n",
      " 5\n",
      " 50 10 100 20 40\n",
      " 30 50 70 10 60\n"
     ]
    },
    {
     "name": "stdout",
     "output_type": "stream",
     "text": [
      "260\n"
     ]
    },
    {
     "name": "stdin",
     "output_type": "stream",
     "text": [
      " 7\n",
      " 10 30 10 50 100 20 40\n",
      " 20 40 30 50 60 20 80\n"
     ]
    },
    {
     "name": "stdout",
     "output_type": "stream",
     "text": [
      "290\n"
     ]
    }
   ],
   "source": [
    "# 9465\n",
    "\n",
    "T = int(input())\n",
    "\n",
    "for _ in range(T):\n",
    "    a = []\n",
    "    n = int(input())\n",
    "    \n",
    "    t1 = [0]+list(map(int,input().split()))\n",
    "    t2 = [0]+list(map(int,input().split()))\n",
    "    \n",
    "    a = list(zip(t1,t2))\n",
    "    d = [[0] * 3 for _ in range(n+1)]\n",
    "    \n",
    "    for i in range(1, n+1):\n",
    "        d[i][0] = max(d[i-1])\n",
    "        d[i][1] = max(d[i-1][0],d[i-1][2]) + a[i][0]\n",
    "        d[i][2] = max(d[i-1][0],d[i-1][1]) + a[i][1]\n",
    "        \n",
    "    print(max(d[n]))\n",
    "    \n",
    "# another solution\n",
    "# t = int(input())\n",
    "\n",
    "# for _ in range(t):\n",
    "#     n = int(input())\n",
    "#     a = [list(map(int, input().split())) for _ in range(2)]\n",
    "#     d = [[0] * n for _ in range(2)]\n",
    "#     d[0][0] = a[0][0]\n",
    "#     d[1][0] = a[1][0]\n",
    "\n",
    "#     for i in range(1, n):\n",
    "#         d[0][i] = a[0][i] + d[1][i-1]\n",
    "#         d[1][i] = a[1][i] + d[0][i-1]\n",
    "\n",
    "#         if i >= 2:\n",
    "#             d[0][i] = max(d[0][i], a[0][i] + d[1][i-2], a[0][i] + d[0][i-2])\n",
    "#             d[1][i] = max(d[1][i], a[1][i] + d[1][i-2], a[1][i] + d[0][i-2]) \n",
    "\n",
    "\n",
    "#     print(max(d[0][n-1], d[1][n-1]))"
   ]
  },
  {
   "cell_type": "code",
   "execution_count": 9,
   "metadata": {},
   "outputs": [
    {
     "name": "stdin",
     "output_type": "stream",
     "text": [
      " 3\n",
      " 6\n",
      " 10\n",
      " 13\n"
     ]
    },
    {
     "name": "stdout",
     "output_type": "stream",
     "text": [
      "23\n"
     ]
    }
   ],
   "source": [
    "# 2156\n",
    "\n",
    "n = int(input())\n",
    "a = [0] + [int(input()) for _ in range(n)]\n",
    "d = [0] * (n+1)\n",
    "\n",
    "d[1] = a[1]\n",
    "\n",
    "if n >= 2:\n",
    "    d[2] = a[1] + a[2]\n",
    "\n",
    "for i in range(3, n+1):\n",
    "    d[i] = d[i-1]\n",
    "    d[i] = max(d[i], d[i-2] + a[i])\n",
    "    d[i] = max(d[i], d[i-3] + a[i] + a[i-1])\n",
    "print(d[n])"
   ]
  },
  {
   "cell_type": "code",
   "execution_count": 10,
   "metadata": {},
   "outputs": [
    {
     "name": "stdin",
     "output_type": "stream",
     "text": [
      " 6\n",
      " 6\n",
      " 10\n",
      " 13\n",
      " 9\n",
      " 8\n",
      " 1\n"
     ]
    },
    {
     "name": "stdout",
     "output_type": "stream",
     "text": [
      "33\n"
     ]
    }
   ],
   "source": [
    "# 2156\n",
    "\n",
    "n = int(input())\n",
    "a = [0] + [int(input()) for _ in range(n)]\n",
    "d = [0] * (n+1)\n",
    "\n",
    "d[1] = a[1]\n",
    "\n",
    "if n >= 2:\n",
    "    d[2] = a[1] + a[2]\n",
    "\n",
    "for i in range(3, n+1):\n",
    "    d[i] = d[i-1]\n",
    "    d[i] = max(d[i], d[i-2] + a[i], d[i-3] + a[i] + a[i-1])\n",
    "print(d[n])"
   ]
  },
  {
   "cell_type": "code",
   "execution_count": 4,
   "metadata": {},
   "outputs": [
    {
     "name": "stdin",
     "output_type": "stream",
     "text": [
      " 5\n",
      " 7\n",
      " 3 8\n",
      " 8 1 0\n",
      " 2 7 4 4\n",
      " 4 5 2 6 5\n"
     ]
    },
    {
     "name": "stdout",
     "output_type": "stream",
     "text": [
      "30\n"
     ]
    }
   ],
   "source": [
    "# 1932\n",
    "\n",
    "# n = int(input())\n",
    "# a = [list(map(int, input().split())) for _ in range(n)]\n",
    "\n",
    "# for i in range(n - 1):\n",
    "#     for j in range(len(a[i + 1])):\n",
    "#         if(j == 0):\n",
    "#             a[i + 1][j] = a[i][j] + a[i + 1][j]\n",
    "#         elif(j == len(a[i + 1]) - 1):\n",
    "#             a[i + 1][-1] = a[i][-1] + a[i + 1][-1]\n",
    "#         else:\n",
    "#             a[i + 1][j] = max(a[i][j - 1] + a[i + 1][j], a[i][j] + a[i + 1][j])\n",
    "# print(max(a[-1]))\n",
    "\n",
    "\n",
    "# better solution\n",
    "\n",
    "n = int(input())\n",
    "a = [[0]] + [[0] + list(map(int, input().split())) for _ in range(n)]\n",
    "d = [[0] * (n+1) for _ in range(n+1)]\n",
    "\n",
    "num = 0\n",
    "for i in range(1, n+1):\n",
    "    for j in range(1, i+1):\n",
    "        d[i][j] = max(d[i-1][j] + a[i][j], d[i-1][j-1] + a[i][j])\n",
    "    ans = max(d[i])\n",
    "    if ans > num:\n",
    "        num = ans\n",
    "        \n",
    "print(ans)"
   ]
  },
  {
   "cell_type": "code",
   "execution_count": 7,
   "metadata": {},
   "outputs": [
    {
     "name": "stdin",
     "output_type": "stream",
     "text": [
      " 10\n",
      " 1 100 2 50 60 3 5 6 7 8\n"
     ]
    },
    {
     "name": "stdout",
     "output_type": "stream",
     "text": [
      "113\n"
     ]
    }
   ],
   "source": [
    "# 11055\n",
    "\n",
    "n = int(input())\n",
    "a = list(map(int,input().split()))\n",
    "d = [0] * n\n",
    "\n",
    "for i in range(n):\n",
    "    d[i] = a[i]\n",
    "    for j in range(i):\n",
    "        if a[j] < a[i] and d[j] + a[i] > d[i]:\n",
    "            d[i] = d[j] + a[i]\n",
    "print(max(d))"
   ]
  },
  {
   "cell_type": "code",
   "execution_count": 12,
   "metadata": {},
   "outputs": [
    {
     "name": "stdin",
     "output_type": "stream",
     "text": [
      " 6\n",
      " 10 30 10 20 20 10\n"
     ]
    },
    {
     "name": "stdout",
     "output_type": "stream",
     "text": [
      "3\n"
     ]
    }
   ],
   "source": [
    "# 11722\n",
    "\n",
    "n = int(input())\n",
    "a = list(map(int, input().split()))\n",
    "d = [0] * n\n",
    "\n",
    "for i in range(n-1, -1, -1):\n",
    "    d[i] = 1\n",
    "    for j in range(i+1, n):\n",
    "        if a[i] > a[j] and d[i] < d[j] + 1:\n",
    "            d[i] = d[j] + 1\n",
    "    \n",
    "print(max(d))"
   ]
  },
  {
   "cell_type": "code",
   "execution_count": 13,
   "metadata": {},
   "outputs": [
    {
     "name": "stdin",
     "output_type": "stream",
     "text": [
      " 10\n",
      " 1 5 2 1 4 3 4 5 2 1\n"
     ]
    },
    {
     "name": "stdout",
     "output_type": "stream",
     "text": [
      "7\n"
     ]
    }
   ],
   "source": [
    "# 11054\n",
    "\n",
    "n = int(input())\n",
    "a = list(map(int, input().split()))\n",
    "d1 = [0] * n\n",
    "d2 = [0] * n\n",
    "\n",
    "for i in range(n):\n",
    "    d1[i] = 1\n",
    "    for j in range(i):\n",
    "        if a[j] < a[i] and d1[j] + 1 > d1[i]:\n",
    "            d1[i] = d1[j] + 1\n",
    "            \n",
    "for i in range(n-1, -1, -1):\n",
    "    d2[i] = 1\n",
    "    for j in range(i+1, n):\n",
    "        if a[i] > a[j] and d2[j] + 1 > d2[i]:\n",
    "            d2[i] = d2[j] + 1\n",
    "\n",
    "d = [d1[i] + d2[i] -1 for i in range(n)]\n",
    "\n",
    "print(max(d))"
   ]
  },
  {
   "cell_type": "code",
   "execution_count": 14,
   "metadata": {},
   "outputs": [
    {
     "name": "stdin",
     "output_type": "stream",
     "text": [
      " 10\n",
      " 10 -4 3 1 5 6 -35 12 21 -1\n"
     ]
    },
    {
     "name": "stdout",
     "output_type": "stream",
     "text": [
      "54\n"
     ]
    }
   ],
   "source": [
    "# 13398\n",
    "\n",
    "n = int(input())\n",
    "a = list(map(int, input().split()))\n",
    "d = [0] * n\n",
    "dr = [0] * n\n",
    "\n",
    "for i in range(n):\n",
    "    d[i] = a[i]\n",
    "    if i == 0:\n",
    "        continue\n",
    "    if d[i] < d[i-1] + a[i]:\n",
    "        d[i] = d[i-1] + a[i]\n",
    "        \n",
    "for i in range(n-1, -1, -1):\n",
    "    dr[i] = a[i]\n",
    "    if i == n - 1:\n",
    "        continue\n",
    "    if dr[i] < dr[i+1] + a[i]:\n",
    "        dr[i] = dr[i+1] + a[i]\n",
    "        \n",
    "ans = max(d)\n",
    "\n",
    "for i in range(1, n-1):\n",
    "    if ans < d[i-1] + dr[i+1]:\n",
    "        ans = d[i-1] + dr[i+1]\n",
    "        \n",
    "print(ans)"
   ]
  },
  {
   "cell_type": "code",
   "execution_count": 11,
   "metadata": {},
   "outputs": [
    {
     "name": "stdin",
     "output_type": "stream",
     "text": [
      " 6\n"
     ]
    },
    {
     "name": "stdout",
     "output_type": "stream",
     "text": [
      "41\n"
     ]
    }
   ],
   "source": [
    "# 2133\n",
    "\n",
    "n = int(input())\n",
    "d = [0] * 31\n",
    "\n",
    "d[2] = 3\n",
    "\n",
    "for i in range(4, 31, 2):\n",
    "    d[i] = 3 * d[i-2]\n",
    "    for j in range(4, i, 2):\n",
    "        d[i] += 2 * d[i-j]\n",
    "    d[i] += 2    \n",
    "    \n",
    "print(d[n])"
   ]
  },
  {
   "cell_type": "code",
   "execution_count": 2,
   "metadata": {},
   "outputs": [
    {
     "name": "stdin",
     "output_type": "stream",
     "text": [
      " 4\n"
     ]
    },
    {
     "name": "stdout",
     "output_type": "stream",
     "text": [
      "5\n"
     ]
    }
   ],
   "source": [
    "# 1904\n",
    "\n",
    "n = int(input())\n",
    "num = 15746\n",
    "d = [[0, 0] for _ in range(n+1)]\n",
    "\n",
    "if n <= 2:\n",
    "    ans = n\n",
    "else:\n",
    "    d[1][0] = 0\n",
    "    d[1][1] = 1\n",
    "    d[2][0] = 1\n",
    "    d[2][1] = 1\n",
    "    for i in range(3, n+1):\n",
    "        d[i][0] = (d[i-2][0] + d[i-2][1]) % num\n",
    "        d[i][1] = (d[i-1][0] + d[i-1][1]) % num\n",
    "    ans = sum(d[n]) % num\n",
    "\n",
    "print(ans)"
   ]
  },
  {
   "cell_type": "code",
   "execution_count": 3,
   "metadata": {},
   "outputs": [
    {
     "name": "stdin",
     "output_type": "stream",
     "text": [
      " 2\n",
      " 6\n"
     ]
    },
    {
     "name": "stdout",
     "output_type": "stream",
     "text": [
      "3\n"
     ]
    },
    {
     "name": "stdin",
     "output_type": "stream",
     "text": [
      " 12\n"
     ]
    },
    {
     "name": "stdout",
     "output_type": "stream",
     "text": [
      "16\n"
     ]
    }
   ],
   "source": [
    "# 9461\n",
    "\n",
    "t = int(input())\n",
    "d = [0] * 101\n",
    "d[1], d[2], d[3], d[4], d[5] = 1, 1, 1, 2, 2\n",
    "\n",
    "for i in range(6, 101):\n",
    "    d[i] = d[i-1] + d[i-5]\n",
    "\n",
    "for _ in range(t):\n",
    "    n = int(input())\n",
    "    print(d[n])"
   ]
  },
  {
   "cell_type": "code",
   "execution_count": 1,
   "metadata": {},
   "outputs": [
    {
     "name": "stdin",
     "output_type": "stream",
     "text": [
      " 6\n",
      " 10\n",
      " 20\n",
      " 15\n",
      " 25\n",
      " 10\n",
      " 20\n"
     ]
    },
    {
     "name": "stdout",
     "output_type": "stream",
     "text": [
      "75\n"
     ]
    }
   ],
   "source": [
    "# 2579\n",
    "\n",
    "n = int(input())\n",
    "a = [int(input()) for _ in range(n)]\n",
    "d = [None] * 300\n",
    "\n",
    "for i in range(n):\n",
    "    if i == 0:\n",
    "        d[0] = a[i]\n",
    "        continue\n",
    "        \n",
    "    elif i == 1:\n",
    "        d[1] = a[0] + a[1] \n",
    "        continue\n",
    "        \n",
    "    elif i == 2:\n",
    "        d[2] = max(a[0], a[1]) + a[2]\n",
    "        continue\n",
    "    \n",
    "    d[i] = max(d[i-3] + a[i-1], d[i-2]) + a[i]\n",
    "        \n",
    "print(d[n-1])"
   ]
  },
  {
   "cell_type": "code",
   "execution_count": 1,
   "metadata": {},
   "outputs": [
    {
     "name": "stdin",
     "output_type": "stream",
     "text": [
      " 3 10\n",
      " 1\n",
      " 2\n",
      " 5\n"
     ]
    },
    {
     "name": "stdout",
     "output_type": "stream",
     "text": [
      "10\n"
     ]
    }
   ],
   "source": [
    "# 2293\n",
    "\n",
    "n, k = map(int, input().split())\n",
    "a = [int(input()) for _ in range(n)]\n",
    "d = [0] * 10001\n",
    "d[0] = 1\n",
    "for i in a:\n",
    "    for j in range(i, k+1):\n",
    "        d[j] += d[j-i]\n",
    "        \n",
    "print(d[k])"
   ]
  },
  {
   "cell_type": "code",
   "execution_count": 1,
   "metadata": {},
   "outputs": [],
   "source": [
    "# 2565\n",
    "\n",
    "import sys\n",
    "\n",
    "n = int(sys.stdin.readline())\n",
    "a = [list(map(int, sys.stdin.readline().split())) for _ in range(n)]\n",
    "a.sort(key=lambda x : x[0])\n",
    "d = [0] * n\n",
    "d[0] = 1\n",
    "\n",
    "for i in range(0, n):\n",
    "    d[i] = 1\n",
    "    for j in range(i):\n",
    "        if a[i][1] > a[j][1] and d[j]+1 > d[i]:\n",
    "            d[i] = d[j] + 1\n",
    "\n",
    "print(n-max(d))"
   ]
  },
  {
   "cell_type": "code",
   "execution_count": 1,
   "metadata": {},
   "outputs": [],
   "source": [
    "# 12865\n",
    "\n",
    "import sys\n",
    "\n",
    "n, k = map(int, sys.stdin.readline().split())\n",
    "a = [list(map(int, sys.stdin.readline().split())) for _ in range(n)]\n",
    "d = [0] * (k+1)\n",
    "\n",
    "for i in range(n):\n",
    "    for j in range(k, 1, -1):\n",
    "        if a[i][0] <= j:\n",
    "            d[j] = max(d[j], d[j-a[i][0]] + a[i][1])\n",
    "\n",
    "print(d[-1])"
   ]
  },
  {
   "cell_type": "code",
   "execution_count": 1,
   "metadata": {},
   "outputs": [
    {
     "name": "stdin",
     "output_type": "stream",
     "text": [
      " 3\n",
      " 2 2\n"
     ]
    },
    {
     "name": "stdout",
     "output_type": "stream",
     "text": [
      "1\n"
     ]
    },
    {
     "name": "stdin",
     "output_type": "stream",
     "text": [
      " 1 5\n"
     ]
    },
    {
     "name": "stdout",
     "output_type": "stream",
     "text": [
      "5\n"
     ]
    },
    {
     "name": "stdin",
     "output_type": "stream",
     "text": [
      " 13 29\n"
     ]
    },
    {
     "name": "stdout",
     "output_type": "stream",
     "text": [
      "67863915\n"
     ]
    }
   ],
   "source": [
    "# 1010\n",
    "def factorial(n):\n",
    "    if n <= 1:\n",
    "        return 1\n",
    "    return n * factorial(n-1)\n",
    "\n",
    "def ncr(n, r):\n",
    "    return factorial(n) // (factorial(n-r) * factorial(r))\n",
    "\n",
    "t = int(input())\n",
    "for _ in range(t):\n",
    "    n, m = map(int, input().split())\n",
    "    print(ncr(m, n))"
   ]
  },
  {
   "cell_type": "code",
   "execution_count": 2,
   "metadata": {},
   "outputs": [],
   "source": [
    "# 2167\n",
    "\n",
    "import sys\n",
    "\n",
    "n, m = map(int, sys.stdin.readline().split())\n",
    "a = [list(map(int, sys.stdin.readline().split())) for _ in range(n)]\n",
    "t = int(sys.stdin.readline())\n",
    "for _ in range(t):\n",
    "    i, j, x, y = map(int, sys.stdin.readline().split())\n",
    "    hap = 0\n",
    "    for q in range(i-1, x):\n",
    "        for w in range(j-1, y):\n",
    "            hap += a[q][w]\n",
    "    print(hap)"
   ]
  },
  {
   "cell_type": "code",
   "execution_count": null,
   "metadata": {},
   "outputs": [],
   "source": []
  }
 ],
 "metadata": {
  "kernelspec": {
   "display_name": "Python 3",
   "language": "python",
   "name": "python3"
  },
  "language_info": {
   "codemirror_mode": {
    "name": "ipython",
    "version": 3
   },
   "file_extension": ".py",
   "mimetype": "text/x-python",
   "name": "python",
   "nbconvert_exporter": "python",
   "pygments_lexer": "ipython3",
   "version": "3.7.6"
  }
 },
 "nbformat": 4,
 "nbformat_minor": 4
}
