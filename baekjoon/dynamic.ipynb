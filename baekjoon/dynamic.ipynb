{
 "cells": [
  {
   "cell_type": "code",
   "execution_count": 19,
   "metadata": {},
   "outputs": [
    {
     "name": "stdin",
     "output_type": "stream",
     "text": [
      " 2\n"
     ]
    },
    {
     "name": "stdout",
     "output_type": "stream",
     "text": [
      "2\n"
     ]
    }
   ],
   "source": [
    "# 1463\n",
    "\n",
    "n = int(input())\n",
    "\n",
    "blist = [0] * (n+1)\n",
    "\n",
    "for i in range(1, n+1):\n",
    "    if i == 1:\n",
    "        blist[i] = 0\n",
    "        continue\n",
    "        \n",
    "    blist[i] = blist[i-1] + 1\n",
    "    \n",
    "    if i % 3 == 0 and blist[i//3] + 1 < blist[i]:\n",
    "        blist[i] = blist[i//3] + 1\n",
    "    \n",
    "    if i % 2 == 0 and blist[i//2] + 1 < blist[i]:\n",
    "        blist[i] = blist[i//2] + 1\n",
    "        \n",
    "print(blist[n])"
   ]
  },
  {
   "cell_type": "code",
   "execution_count": 29,
   "metadata": {},
   "outputs": [
    {
     "name": "stdin",
     "output_type": "stream",
     "text": [
      " 9\n"
     ]
    },
    {
     "name": "stdout",
     "output_type": "stream",
     "text": [
      "55\n"
     ]
    }
   ],
   "source": [
    "# 11726\n",
    "\n",
    "n = int(input())\n",
    "\n",
    "blist = [0] * (n+1)\n",
    "\n",
    "for i in range(1, n+1):\n",
    "    if i < 3:\n",
    "        blist[i] = i\n",
    "    \n",
    "    else:\n",
    "        blist[i] = blist[i-1] + blist[i-2]\n",
    "\n",
    "print(blist[n] % 10007)"
   ]
  },
  {
   "cell_type": "code",
   "execution_count": 53,
   "metadata": {},
   "outputs": [
    {
     "name": "stdin",
     "output_type": "stream",
     "text": [
      " 12\n"
     ]
    },
    {
     "name": "stdout",
     "output_type": "stream",
     "text": [
      "2731\n"
     ]
    }
   ],
   "source": [
    "# 11727\n",
    "\n",
    "n = int(input())\n",
    "\n",
    "blist = [0] * (n+1)\n",
    "\n",
    "for i in range(1, n+1):\n",
    "    if i == 1:\n",
    "        blist[i] = 1\n",
    "    elif i == 2:\n",
    "        blist[i] = 3\n",
    "    else:\n",
    "        blist[i] = blist[i-1] + (2 * blist[i-2])\n",
    "    \n",
    "print(blist[n] % 10007)"
   ]
  },
  {
   "cell_type": "code",
   "execution_count": 68,
   "metadata": {},
   "outputs": [
    {
     "name": "stdin",
     "output_type": "stream",
     "text": [
      " 3\n",
      " 4\n"
     ]
    },
    {
     "name": "stdout",
     "output_type": "stream",
     "text": [
      "7\n"
     ]
    },
    {
     "name": "stdin",
     "output_type": "stream",
     "text": [
      " 7\n"
     ]
    },
    {
     "name": "stdout",
     "output_type": "stream",
     "text": [
      "44\n"
     ]
    },
    {
     "name": "stdin",
     "output_type": "stream",
     "text": [
      " 10\n"
     ]
    },
    {
     "name": "stdout",
     "output_type": "stream",
     "text": [
      "274\n"
     ]
    }
   ],
   "source": [
    "# 9095\n",
    "\n",
    "T = int(input())\n",
    "\n",
    "blist = [0] * 1001\n",
    "\n",
    "for _ in range(T):\n",
    "    \n",
    "    n = int(input())\n",
    "    \n",
    "    if n > 1000:\n",
    "        blist.extend([0] * (n-1000))\n",
    "        \n",
    "    for i in range(1, n+1):\n",
    "        if i == 1:\n",
    "            blist[i] = 1\n",
    "        elif i == 2:\n",
    "            blist[i] = 2\n",
    "        elif i == 3:\n",
    "            blist[i] = 4\n",
    "        else:\n",
    "            blist[i] = blist[i-1] + blist[i-2] + blist[i-3]\n",
    "    print(blist[n])"
   ]
  },
  {
   "cell_type": "code",
   "execution_count": 19,
   "metadata": {},
   "outputs": [
    {
     "name": "stdin",
     "output_type": "stream",
     "text": [
      " 5\n",
      " 10 9 8 7 6\n"
     ]
    },
    {
     "name": "stdout",
     "output_type": "stream",
     "text": [
      "50\n"
     ]
    }
   ],
   "source": [
    "# 11052\n",
    "\n",
    "n = int(input())\n",
    "\n",
    "blist = [0] + list(map(int, input().split()))\n",
    "clist = [0] * (n+1)\n",
    "\n",
    "for i in range(1, n+1):\n",
    "    for j in range(1, i+1):\n",
    "        clist[i] = max(clist[i], clist[i-j] + blist[j])\n",
    "    \n",
    "print(clist[n])"
   ]
  },
  {
   "cell_type": "code",
   "execution_count": 28,
   "metadata": {},
   "outputs": [
    {
     "name": "stdin",
     "output_type": "stream",
     "text": [
      " 5\n",
      " 10 9 8 7 6\n"
     ]
    },
    {
     "name": "stdout",
     "output_type": "stream",
     "text": [
      "6\n"
     ]
    }
   ],
   "source": [
    "# 16194\n",
    "\n",
    "n = int(input())\n",
    "\n",
    "blist = [0] + list(map(int, input().split()))\n",
    "clist = [0] + [1000 * 10000] * (n+1)\n",
    "\n",
    "for i in range(1, n+1):\n",
    "    for j in range(1, i+1):\n",
    "        clist[i] = min(clist[i], clist[i-j] + blist[j])\n",
    "    \n",
    "print(clist[n])"
   ]
  },
  {
   "cell_type": "code",
   "execution_count": 1,
   "metadata": {},
   "outputs": [
    {
     "name": "stdin",
     "output_type": "stream",
     "text": [
      " 3\n",
      " 4\n"
     ]
    },
    {
     "name": "stdout",
     "output_type": "stream",
     "text": [
      "3\n"
     ]
    },
    {
     "name": "stdin",
     "output_type": "stream",
     "text": [
      " 7\n"
     ]
    },
    {
     "name": "stdout",
     "output_type": "stream",
     "text": [
      "9\n"
     ]
    },
    {
     "name": "stdin",
     "output_type": "stream",
     "text": [
      " 10\n"
     ]
    },
    {
     "name": "stdout",
     "output_type": "stream",
     "text": [
      "27\n"
     ]
    }
   ],
   "source": [
    "# 15990\n",
    "\n",
    "limit = 100000\n",
    "d = [[0] * 4 for _ in range(limit+1)]\n",
    "mod = 1000000009\n",
    "\n",
    "for i in range(1, limit+1):\n",
    "    \n",
    "    if i - 1>= 0:\n",
    "        d[i][1] = d[i-1][2] + d[i-1][3]\n",
    "        if i == 1:\n",
    "            d[i][1] = 1\n",
    "            \n",
    "    if i - 2 >= 0:\n",
    "        d[i][2] = d[i-2][1] + d[i-2][3]\n",
    "        if i == 2:\n",
    "            d[i][2] = 1\n",
    "            \n",
    "    if i - 3 >= 0:\n",
    "        d[i][3] = d[i-3][1] + d[i-3][2]\n",
    "        if i == 3:\n",
    "            d[i][3] = 1\n",
    "            \n",
    "    d[i][1] %= mod\n",
    "    d[i][2] %= mod\n",
    "    d[i][3] %= mod\n",
    "    \n",
    "T = int(input())\n",
    "\n",
    "for _ in range(T):\n",
    "    n = int(input())\n",
    "    print(sum(d[n])%mod)"
   ]
  },
  {
   "cell_type": "code",
   "execution_count": 1,
   "metadata": {},
   "outputs": [
    {
     "name": "stdin",
     "output_type": "stream",
     "text": [
      " 1\n"
     ]
    },
    {
     "name": "stdout",
     "output_type": "stream",
     "text": [
      "9\n"
     ]
    }
   ],
   "source": [
    "# 10844\n",
    "\n",
    "d = [[0]*10 for _ in range(100+1)]\n",
    "mod = 1000000000 \n",
    "\n",
    "n = int(input())\n",
    "\n",
    "for i in range(1, 10):\n",
    "    d[1][i] = 1\n",
    "    \n",
    "for i in range(2, n+1):\n",
    "    for j in range(10):\n",
    "        d[i][j] = 0\n",
    "        \n",
    "        if j-1 >= 0:\n",
    "            d[i][j] += d[i-1][j-1]\n",
    "            \n",
    "        if j+1 <= 9:\n",
    "            d[i][j] += d[i-1][j+1]\n",
    "            \n",
    "        d[i][j] %= mod\n",
    "        \n",
    "ans = sum(d[n]) % mod\n",
    "print(ans)"
   ]
  },
  {
   "cell_type": "code",
   "execution_count": 14,
   "metadata": {},
   "outputs": [
    {
     "name": "stdin",
     "output_type": "stream",
     "text": [
      " 5\n"
     ]
    },
    {
     "name": "stdout",
     "output_type": "stream",
     "text": [
      "5\n"
     ]
    }
   ],
   "source": [
    "# 2193\n",
    "\n",
    "n = int(input())\n",
    "\n",
    "d = [[0] * 2 for _ in range(90+1)]\n",
    "\n",
    "d[1][1] = 1\n",
    "d[2][0] = 1\n",
    "\n",
    "for i in range(3, n+1):\n",
    "    for j in range(0, 2):\n",
    "        if j == 0:\n",
    "            d[i][j] = d[i-1][0] + d[i-1][1]\n",
    "        else:\n",
    "            d[i][j] = d[i-1][0]\n",
    "        \n",
    "print(sum(d[n]))"
   ]
  },
  {
   "cell_type": "code",
   "execution_count": 1,
   "metadata": {},
   "outputs": [
    {
     "name": "stdin",
     "output_type": "stream",
     "text": [
      " 6\n",
      " 10 20 10 30 50 20\n"
     ]
    },
    {
     "name": "stdout",
     "output_type": "stream",
     "text": [
      "4\n"
     ]
    }
   ],
   "source": [
    "# 11053\n",
    "\n",
    "n = int(input())\n",
    "a = list(map(int,input().split()))\n",
    "d = [0]*n\n",
    "\n",
    "for i in range(n):\n",
    "    d[i] = 1\n",
    "    for j in range(i):\n",
    "        if a[j] < a[i] and d[j]+1 > d[i]:\n",
    "            d[i] = d[j]+1\n",
    "            \n",
    "print(max(d))"
   ]
  },
  {
   "cell_type": "code",
   "execution_count": 19,
   "metadata": {},
   "outputs": [
    {
     "name": "stdin",
     "output_type": "stream",
     "text": [
      " 6\n",
      " 10 20 10 30 20 50\n"
     ]
    },
    {
     "name": "stdout",
     "output_type": "stream",
     "text": [
      "4\n",
      "10 20 30 50 \n"
     ]
    }
   ],
   "source": [
    "# 14002\n",
    "\n",
    "n = int(input())\n",
    "a = list(map(int,input().split()))\n",
    "d = [0]*n\n",
    "v = [-1]*n\n",
    "for i in range(n):\n",
    "    d[i] = 1\n",
    "    for j in range(i):\n",
    "        if a[j] < a[i] and d[j]+1 > d[i]:\n",
    "            d[i] = d[j]+1\n",
    "            v[i] = j\n",
    "            \n",
    "ans = max(d)\n",
    "\n",
    "p = [i for i,x in enumerate(d) if x == ans][0]\n",
    "\n",
    "print(ans)\n",
    "\n",
    "def go(p):\n",
    "    if p == -1:\n",
    "        return\n",
    "    go(v[p])\n",
    "    print(a[p],end=' ')\n",
    "    \n",
    "go(p)\n",
    "\n",
    "print()"
   ]
  },
  {
   "cell_type": "code",
   "execution_count": null,
   "metadata": {},
   "outputs": [],
   "source": []
  },
  {
   "cell_type": "code",
   "execution_count": null,
   "metadata": {},
   "outputs": [],
   "source": []
  }
 ],
 "metadata": {
  "kernelspec": {
   "display_name": "Python 3",
   "language": "python",
   "name": "python3"
  },
  "language_info": {
   "codemirror_mode": {
    "name": "ipython",
    "version": 3
   },
   "file_extension": ".py",
   "mimetype": "text/x-python",
   "name": "python",
   "nbconvert_exporter": "python",
   "pygments_lexer": "ipython3",
   "version": "3.7.3"
  }
 },
 "nbformat": 4,
 "nbformat_minor": 4
}
