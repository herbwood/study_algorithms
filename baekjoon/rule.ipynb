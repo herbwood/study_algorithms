{
 "cells": [
  {
   "cell_type": "code",
   "execution_count": 14,
   "metadata": {},
   "outputs": [
    {
     "name": "stdout",
     "output_type": "stream",
     "text": [
      "61\n",
      "5\n"
     ]
    }
   ],
   "source": [
    "# 2292\n",
    "def hive():\n",
    "    n = int(input())\n",
    "    a = 1\n",
    "    i = 1\n",
    "    b = a + 6 * i\n",
    "\n",
    "    if n == 1:\n",
    "        result = 1\n",
    "    else:\n",
    "        while True:\n",
    "            if n > a and n <= b:\n",
    "                result = i + 1\n",
    "                break\n",
    "            else:\n",
    "                i += 1\n",
    "                a = b\n",
    "                b = a + 6 * i\n",
    "    return result\n",
    "\n",
    "print(hive())"
   ]
  },
  {
   "cell_type": "code",
   "execution_count": null,
   "metadata": {},
   "outputs": [],
   "source": [
    "# 1193\n"
   ]
  }
 ],
 "metadata": {
  "kernelspec": {
   "display_name": "Python 3",
   "language": "python",
   "name": "python3"
  },
  "language_info": {
   "codemirror_mode": {
    "name": "ipython",
    "version": 3
   },
   "file_extension": ".py",
   "mimetype": "text/x-python",
   "name": "python",
   "nbconvert_exporter": "python",
   "pygments_lexer": "ipython3",
   "version": "3.6.5"
  }
 },
 "nbformat": 4,
 "nbformat_minor": 2
}
