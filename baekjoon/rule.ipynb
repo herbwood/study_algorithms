{
 "cells": [
  {
   "cell_type": "code",
   "execution_count": 14,
   "metadata": {},
   "outputs": [
    {
     "name": "stdout",
     "output_type": "stream",
     "text": [
      "61\n",
      "5\n"
     ]
    }
   ],
   "source": [
    "# 2292\n",
    "def hive():\n",
    "    n = int(input())\n",
    "    a = 1\n",
    "    i = 1\n",
    "    b = a + 6 * i\n",
    "\n",
    "    if n == 1:\n",
    "        result = 1\n",
    "    else:\n",
    "        while True:\n",
    "            if n > a and n <= b:\n",
    "                result = i + 1\n",
    "                break\n",
    "            else:\n",
    "                i += 1\n",
    "                a = b\n",
    "                b = a + 6 * i\n",
    "    return result\n",
    "\n",
    "print(hive())"
   ]
  },
  {
   "cell_type": "code",
   "execution_count": 8,
   "metadata": {},
   "outputs": [
    {
     "name": "stdout",
     "output_type": "stream",
     "text": [
      "14\n",
      "2/4\n"
     ]
    }
   ],
   "source": [
    "# 1193\n",
    "def find_fraction():\n",
    "    n = int(input())\n",
    "    a, i, count = 0, 1, 0\n",
    "    b = a + i\n",
    "    if n == 1:\n",
    "        result = 1\n",
    "    else:\n",
    "        while True:\n",
    "            if n > a and n <= b:\n",
    "                idx = n - a\n",
    "                count = i\n",
    "                break\n",
    "            else:\n",
    "                i += 1\n",
    "                a = b\n",
    "                b = a + i\n",
    "\n",
    "        if count % 2 != 0:\n",
    "            result = '{0}/{1}'.format(count + 1 - idx, idx)\n",
    "        else:\n",
    "            result = '{0}/{1}'.format(idx, count + 1 - idx)\n",
    "    return result\n",
    "        \n",
    "print(find_fraction())"
   ]
  },
  {
   "cell_type": "code",
   "execution_count": 5,
   "metadata": {},
   "outputs": [
    {
     "name": "stdout",
     "output_type": "stream",
     "text": [
      "3\n",
      "0 3\n",
      "1 5\n",
      "45 50\n",
      "3\n",
      "3\n",
      "4\n"
     ]
    }
   ],
   "source": [
    "# 1011(unsolved)\n",
    "def space_ship(dis):\n",
    "    if dis <= 3:\n",
    "        return dis\n",
    "    return space_ship(dis - 2) + 1\n",
    "\n",
    "blist = []\n",
    "n = int(input())\n",
    "for i in range(n):\n",
    "    x, y = map(int, input().split())\n",
    "    dis = y - x\n",
    "    blist.append(space_ship(dis))\n",
    "    \n",
    "for b in blist:\n",
    "    print(b)"
   ]
  },
  {
   "cell_type": "code",
   "execution_count": 23,
   "metadata": {},
   "outputs": [
    {
     "name": "stdout",
     "output_type": "stream",
     "text": [
      "1\n",
      "6 12 72\n",
      "612\n"
     ]
    }
   ],
   "source": [
    "# 10250\n",
    "c = int(input())\n",
    "blist = []\n",
    "for i in range(c):\n",
    "    h, w, n = map(int, input().split())\n",
    "    count = 1\n",
    "    while n > h:\n",
    "        n -= h\n",
    "        count += 1\n",
    "        \n",
    "    if count < 10:\n",
    "        a = '0' + str(count)\n",
    "    else:\n",
    "        a = str(count)\n",
    "    result = int(str(n) + a)\n",
    "    blist.append(result)\n",
    "    \n",
    "for b in blist:\n",
    "    print(b)"
   ]
  },
  {
   "cell_type": "code",
   "execution_count": null,
   "metadata": {},
   "outputs": [],
   "source": []
  }
 ],
 "metadata": {
  "kernelspec": {
   "display_name": "Python 3",
   "language": "python",
   "name": "python3"
  },
  "language_info": {
   "codemirror_mode": {
    "name": "ipython",
    "version": 3
   },
   "file_extension": ".py",
   "mimetype": "text/x-python",
   "name": "python",
   "nbconvert_exporter": "python",
   "pygments_lexer": "ipython3",
   "version": "3.6.5"
  }
 },
 "nbformat": 4,
 "nbformat_minor": 2
}
