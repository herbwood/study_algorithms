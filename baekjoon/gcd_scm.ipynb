{
 "cells": [
  {
   "cell_type": "code",
   "execution_count": 4,
   "metadata": {},
   "outputs": [
    {
     "name": "stdout",
     "output_type": "stream",
     "text": [
      "3\n",
      "1 45000\n",
      "6 10\n",
      "13 17\n",
      "45000\n",
      "30\n",
      "221\n"
     ]
    }
   ],
   "source": [
    "# 1934\n",
    "def gcd(a, b):\n",
    "    if b == 0:\n",
    "        return a\n",
    "    return gcd(b, a % b)\n",
    "blist = []\n",
    "n = int(input())\n",
    "for i in range(n):\n",
    "    a, b = map(int, input().split())\n",
    "    c = a // gcd(a, b)\n",
    "    result = b * c\n",
    "    blist.append(result)\n",
    "    \n",
    "for b in blist:\n",
    "    print(b)"
   ]
  },
  {
   "cell_type": "code",
   "execution_count": 5,
   "metadata": {},
   "outputs": [
    {
     "name": "stdout",
     "output_type": "stream",
     "text": [
      "121 199\n",
      "24079\n"
     ]
    }
   ],
   "source": [
    "# 13241\n",
    "def gcd(a, b):\n",
    "    if b == 0:\n",
    "        return a\n",
    "    return gcd(b, a % b)\n",
    "a, b = map(int, input().split())\n",
    "c = a // gcd(a, b)\n",
    "result = b * c\n",
    "print(result)"
   ]
  },
  {
   "cell_type": "code",
   "execution_count": 6,
   "metadata": {},
   "outputs": [
    {
     "name": "stdout",
     "output_type": "stream",
     "text": [
      "24 18\n",
      "6\n",
      "72\n"
     ]
    }
   ],
   "source": [
    "# 2609\n",
    "def gcd(a, b):\n",
    "    if b == 0:\n",
    "        return a\n",
    "    return gcd(b, a % b)\n",
    "a, b = map(int, input().split())\n",
    "c = a // gcd(a, b)\n",
    "result = b * c\n",
    "print(gcd(a, b))\n",
    "print(result)"
   ]
  },
  {
   "cell_type": "code",
   "execution_count": 33,
   "metadata": {},
   "outputs": [
    {
     "name": "stdout",
     "output_type": "stream",
     "text": [
      "3 6\n",
      "111\n"
     ]
    }
   ],
   "source": [
    "# 1850\n",
    "def gcd11():\n",
    "    a, b = map(int, input().split())\n",
    "    c = abs(a - b)\n",
    "    if c == 0:\n",
    "        d = int('1' * a)\n",
    "    else:\n",
    "        d = int('1' * c)\n",
    "    return d\n",
    "    \n",
    "print(gcd11())"
   ]
  },
  {
   "cell_type": "code",
   "execution_count": 3,
   "metadata": {},
   "outputs": [
    {
     "name": "stdout",
     "output_type": "stream",
     "text": [
      "1\n"
     ]
    }
   ],
   "source": [
    "# 2981\n",
    "\n",
    "n = int(input())\n",
    "    "
   ]
  },
  {
   "cell_type": "code",
   "execution_count": 12,
   "metadata": {},
   "outputs": [
    {
     "name": "stdout",
     "output_type": "stream",
     "text": [
      "4\n",
      "12 3 8 4\n",
      "4/1\n",
      "3/2\n",
      "3/1\n"
     ]
    }
   ],
   "source": [
    "# 3036\n",
    "def gcd(a, b):\n",
    "    if b == 0:\n",
    "        return a\n",
    "    return gcd(b, a % b)\n",
    "\n",
    "def ring():\n",
    "    n = int(input())\n",
    "    nlist = list(map(int, input().split()))\n",
    "    norm = nlist[0]\n",
    "    for n in nlist[1:]:\n",
    "        print(\"{0}/{1}\".format(norm // gcd(norm, n), \n",
    "                                  n // gcd(norm, n)))\n",
    "        \n",
    "ring()"
   ]
  },
  {
   "cell_type": "code",
   "execution_count": null,
   "metadata": {},
   "outputs": [],
   "source": []
  }
 ],
 "metadata": {
  "kernelspec": {
   "display_name": "Python 3",
   "language": "python",
   "name": "python3"
  },
  "language_info": {
   "codemirror_mode": {
    "name": "ipython",
    "version": 3
   },
   "file_extension": ".py",
   "mimetype": "text/x-python",
   "name": "python",
   "nbconvert_exporter": "python",
   "pygments_lexer": "ipython3",
   "version": "3.6.5"
  }
 },
 "nbformat": 4,
 "nbformat_minor": 2
}
