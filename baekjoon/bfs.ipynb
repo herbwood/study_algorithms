{
 "cells": [
  {
   "cell_type": "code",
   "execution_count": 2,
   "metadata": {},
   "outputs": [
    {
     "name": "stdin",
     "output_type": "stream",
     "text": [
      " 3 7\n",
      " 32 62\n",
      " 42 68\n",
      " 12 98\n",
      " 95 13\n",
      " 97 25\n",
      " 93 37\n",
      " 79 27\n",
      " 75 19\n",
      " 49 47\n",
      " 67 17\n"
     ]
    },
    {
     "name": "stdout",
     "output_type": "stream",
     "text": [
      "3\n"
     ]
    }
   ],
   "source": [
    "# 16928\n",
    "\n",
    "from collections import deque\n",
    "\n",
    "n, m = map(int, input().split())\n",
    "after = list(range(101))\n",
    "dist = [-1] * 101\n",
    "\n",
    "for _ in range(n+m):\n",
    "    x, y = map(int, input().split())\n",
    "    after[x] = y\n",
    "    \n",
    "dist[1] = 0\n",
    "q = deque()\n",
    "q.append(1)\n",
    "\n",
    "while q:\n",
    "    x = q.popleft()\n",
    "    for i in range(1, 6+1):\n",
    "        y = x + i\n",
    "        if y > 100:\n",
    "            continue\n",
    "        y = after[y]\n",
    "        if dist[y] == -1:\n",
    "            dist[y] = dist[x] + 1\n",
    "            q.append(y)\n",
    "            \n",
    "print(dist[100])"
   ]
  },
  {
   "cell_type": "code",
   "execution_count": 3,
   "metadata": {},
   "outputs": [
    {
     "name": "stdin",
     "output_type": "stream",
     "text": [
      " 7\n",
      " 6 6 0 1\n"
     ]
    },
    {
     "name": "stdout",
     "output_type": "stream",
     "text": [
      "4\n"
     ]
    }
   ],
   "source": [
    "# 16948\n",
    "\n",
    "from collections import deque\n",
    "\n",
    "dx = [-2, -2, 0, 0, 2, 2]\n",
    "dy = [-1, 1, -2, 2, -1, 1]\n",
    "\n",
    "dist = [[-1] * 200 for _ in range(200)]\n",
    "n = int(input())\n",
    "r1, c1, r2, c2 = map(int, input().split())\n",
    "q = deque()\n",
    "q.append((r1, c1))\n",
    "dist[r1][c1] = 0\n",
    "\n",
    "while q:\n",
    "    x, y = q.popleft()\n",
    "    for k in range(6):\n",
    "        nx, ny = x+dx[k], y+dy[k]\n",
    "        if 0 <= nx < n and 0 <= ny < n:\n",
    "            if dist[nx][ny] == -1:\n",
    "                q.append((nx, ny))\n",
    "                dist[nx][ny] = dist[x][y] + 1\n",
    "print(dist[r2][c2])"
   ]
  },
  {
   "cell_type": "code",
   "execution_count": 4,
   "metadata": {},
   "outputs": [],
   "source": [
    "# 9019\n",
    "\n",
    "from collections import deque\n",
    "import sys\n",
    "MAX = 10001\n",
    "sys.setrecursionlimit(MAX)\n",
    "\n",
    "def go(n, m):\n",
    "    if n == m:\n",
    "        return\n",
    "    go(n, via[m])\n",
    "    print(how[m], end='')\n",
    "    \n",
    "t = int(sys.stdin.readline())\n",
    "\n",
    "for _ in range(t): \n",
    "    n,m = map(int,input().split())\n",
    "    check = [False] * MAX\n",
    "    dist = [-1] * MAX\n",
    "    via = [-1] * MAX\n",
    "    how = [''] * MAX\n",
    "    \n",
    "    check[n] = True\n",
    "    dist[n] = 0\n",
    "    via[n] = -1\n",
    "    q = deque()\n",
    "    q.append(n)\n",
    "    \n",
    "    while q:\n",
    "        \n",
    "        now = q.popleft()\n",
    "        \n",
    "        next = (now*2) % 10000\n",
    "        if not check[next]:\n",
    "            q.append(next)\n",
    "            check[next] = True\n",
    "            dist[next] = dist[now] + 1\n",
    "            via[next] = now\n",
    "            how[next] = 'D'\n",
    "        next = now-1\n",
    "        \n",
    "        if next == -1:\n",
    "            next = 9999\n",
    "        if not check[next]:\n",
    "            q.append(next)\n",
    "            check[next] = True\n",
    "            dist[next] = dist[now] + 1\n",
    "            via[next] = now\n",
    "            how[next] = 'S'\n",
    "            \n",
    "        next = (now%1000)*10 + now//1000\n",
    "        if not check[next]:\n",
    "            q.append(next)\n",
    "            check[next] = True\n",
    "            dist[next] = dist[now] + 1\n",
    "            via[next] = now\n",
    "            how[next] = 'L'\n",
    "            \n",
    "        next = (now//10) + (now%10)*1000\n",
    "        if not check[next]:\n",
    "            q.append(next)\n",
    "            check[next] = True\n",
    "            dist[next] = dist[now] + 1\n",
    "            via[next] = now\n",
    "            how[next] = 'R'\n",
    "\n",
    "    go(n,m)\n",
    "    print()"
   ]
  },
  {
   "cell_type": "code",
   "execution_count": null,
   "metadata": {},
   "outputs": [],
   "source": []
  }
 ],
 "metadata": {
  "kernelspec": {
   "display_name": "Python 3",
   "language": "python",
   "name": "python3"
  },
  "language_info": {
   "codemirror_mode": {
    "name": "ipython",
    "version": 3
   },
   "file_extension": ".py",
   "mimetype": "text/x-python",
   "name": "python",
   "nbconvert_exporter": "python",
   "pygments_lexer": "ipython3",
   "version": "3.7.6"
  }
 },
 "nbformat": 4,
 "nbformat_minor": 4
}
