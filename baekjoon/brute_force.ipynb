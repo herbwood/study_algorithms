{
 "cells": [
  {
   "cell_type": "code",
   "execution_count": 14,
   "metadata": {},
   "outputs": [
    {
     "name": "stdout",
     "output_type": "stream",
     "text": [
      "20\n",
      "7\n",
      "23\n",
      "19\n",
      "10\n",
      "15\n",
      "25\n",
      "8\n",
      "13\n",
      "7\n",
      "8\n",
      "10\n",
      "13\n",
      "19\n",
      "20\n",
      "23\n"
     ]
    }
   ],
   "source": [
    "# 2309\n",
    "blist = sorted([int(input()) for _ in range(9)])\n",
    "hap = sum(blist)\n",
    "\n",
    "for i in range(0, len(blist)-1):\n",
    "    for j in range(i+1, len(blist)):\n",
    "        if hap - blist[i] - blist[j] == 100:\n",
    "            ans1 = blist[i]\n",
    "            ans2 = blist[j]\n",
    "            break\n",
    "            \n",
    "blist.remove(ans1)\n",
    "blist.remove(ans2)\n",
    "            \n",
    "for b in blist:\n",
    "    print(b)"
   ]
  },
  {
   "cell_type": "code",
   "execution_count": 25,
   "metadata": {},
   "outputs": [
    {
     "name": "stdout",
     "output_type": "stream",
     "text": [
      "216\n",
      "198\n"
     ]
    }
   ],
   "source": [
    "# 2231\n",
    "n = int(input())\n",
    "blist = []\n",
    "for i in range(1, n):\n",
    "    hap = 0\n",
    "    for j in range(len(str(i))):\n",
    "        hap += int(str(i)[j])\n",
    "    if n - i == hap:\n",
    "        blist.append(i)\n",
    "        \n",
    "if len(blist) > 0:\n",
    "    print(blist[0])\n",
    "else:\n",
    "    print(0)"
   ]
  },
  {
   "cell_type": "code",
   "execution_count": 11,
   "metadata": {},
   "outputs": [
    {
     "name": "stdin",
     "output_type": "stream",
     "text": [
      " 5 21\n",
      " 5 6 7 8 9\n"
     ]
    },
    {
     "name": "stdout",
     "output_type": "stream",
     "text": [
      "21\n"
     ]
    }
   ],
   "source": [
    "# 2798\n",
    "n, m = map(int, input().split())\n",
    "nlist = [int(x) for x in input().split()]\n",
    "blist = []\n",
    "\n",
    "def blackjack(n,m,nlist):\n",
    "    blist = []\n",
    "\n",
    "    for i in range(n):\n",
    "        for j in range(i+1, n):\n",
    "            for k in range(j+1, n):\n",
    "                num = nlist[i] + nlist[j] + nlist[k]\n",
    "            \n",
    "                if num <= m:\n",
    "                    blist.append(num)\n",
    "                \n",
    "    return max(blist)\n",
    "                \n",
    "                \n",
    "print(blackjack(n,m,nlist))"
   ]
  },
  {
   "cell_type": "code",
   "execution_count": 14,
   "metadata": {},
   "outputs": [
    {
     "name": "stdin",
     "output_type": "stream",
     "text": [
      " 5\n",
      " 55 185\n",
      " 58 183\n",
      " 88 186\n",
      " 60 175\n",
      " 46 155\n"
     ]
    },
    {
     "name": "stdout",
     "output_type": "stream",
     "text": [
      "2 2 1 2 5 "
     ]
    }
   ],
   "source": [
    "# 7568\n",
    "\n",
    "def build(T):\n",
    "    blist = []\n",
    "    \n",
    "    for i in range(T):\n",
    "        blist.append(list(map(int, input().split())))\n",
    "        \n",
    "    rlist = [1] * len(blist)\n",
    "    \n",
    "    for i in range(len(blist)-1):\n",
    "        for j in range(i, len(blist)):\n",
    "            if blist[i][0] > blist[j][0] and blist[i][1] > blist[j][1]:\n",
    "                rlist[j] += 1\n",
    "            elif blist[i][0] < blist[j][0] and blist[i][1] < blist[j][1]:\n",
    "                rlist[i] += 1\n",
    "        \n",
    "    for r in rlist:\n",
    "        print(r, end = ' ')\n",
    "        \n",
    "\n",
    "T = int(input())\n",
    "build(T)"
   ]
  },
  {
   "cell_type": "code",
   "execution_count": 27,
   "metadata": {},
   "outputs": [
    {
     "name": "stdin",
     "output_type": "stream",
     "text": [
      " 8 8\n",
      " WBWBWBWB\n",
      " BWBWBWBW\n",
      " WBWBWBWB\n",
      " BWBBBWBW\n",
      " WBWBWBWB\n",
      " BWBWBWBW\n",
      " WBWBWBWB\n",
      " BWBWBWBW\n"
     ]
    },
    {
     "name": "stdout",
     "output_type": "stream",
     "text": [
      "1\n"
     ]
    }
   ],
   "source": [
    "# 1018\n",
    "\n",
    "h, w = map(int, input().split())\n",
    "\n",
    "plate = [list(input()) for i in range(h)]\n",
    "\n",
    "num = 10 * 10\n",
    "\n",
    "for a in range(h-7):\n",
    "    for b in range(w-7):\n",
    "        \n",
    "        cnt1, cnt2 = 0, 0\n",
    "        \n",
    "        for i in range(a, a+8):\n",
    "            for j in range(b, b+8):\n",
    "                \n",
    "                if (i+j-a-b) % 2 == 0 and plate[i][j] == 'B':\n",
    "                    cnt1 += 1\n",
    "                elif (i+j-a-b) % 2 != 0 and plate[i][j] == 'W':\n",
    "                    cnt1 += 1\n",
    "                    \n",
    "        for i in range(a, a+8):\n",
    "            for j in range(b, b+8):\n",
    "                \n",
    "                if (i+j-a-b) % 2 == 0 and plate[i][j] == 'W':\n",
    "                    cnt2 += 1\n",
    "                elif (i+j-a-b) % 2 != 0 and plate[i][j] == 'B':\n",
    "                    cnt2 += 1\n",
    "                    \n",
    "        if cnt1 < cnt2:\n",
    "            ans = cnt1\n",
    "        else:\n",
    "            ans = cnt2\n",
    "            \n",
    "        \n",
    "        if ans < num:\n",
    "            num = ans\n",
    "            \n",
    "print(num)"
   ]
  },
  {
   "cell_type": "code",
   "execution_count": 48,
   "metadata": {},
   "outputs": [
    {
     "name": "stdin",
     "output_type": "stream",
     "text": [
      " 15 28 19\n"
     ]
    },
    {
     "name": "stdout",
     "output_type": "stream",
     "text": [
      "7980\n"
     ]
    }
   ],
   "source": [
    "# 1476\n",
    "\n",
    "blist = [[0, 0, 0] for _ in range(15 * 28 * 19 + 1)]\n",
    "\n",
    "def fill(idx, num):\n",
    "    for i in range(1, len(blist)):\n",
    "        if i % num == 0:\n",
    "            blist[i][idx] = num\n",
    "        else:\n",
    "            blist[i][idx] = i % num\n",
    "            \n",
    "e, s, m = map(int, input().split())\n",
    "\n",
    "fill(0, 15)\n",
    "fill(1, 28)\n",
    "fill(2, 19)\n",
    "\n",
    "for a in range(1, len(blist)):\n",
    "    if blist[a][0] == e and blist[a][1] == s and blist[a][2] == m:\n",
    "        break\n",
    "print(a)"
   ]
  },
  {
   "cell_type": "code",
   "execution_count": 46,
   "metadata": {},
   "outputs": [
    {
     "name": "stdin",
     "output_type": "stream",
     "text": [
      " 0\n",
      " 10\n",
      " 0 1 2 3 4 5 6 7 8 9\n"
     ]
    },
    {
     "name": "stdout",
     "output_type": "stream",
     "text": [
      "2\n"
     ]
    }
   ],
   "source": [
    "# 1107\n",
    "\n",
    "c = int(input())\n",
    "limit = abs(c - 100)\n",
    "n = int(input())\n",
    "blist = list(map(int, input().split()))\n",
    "nlist = [i for i in range(0, 10)]\n",
    "\n",
    "for b in blist:\n",
    "    nlist.remove(b)\n",
    "\n",
    "alist = []\n",
    "for i in str(c):\n",
    "    sub = 10000000\n",
    "    for j in nlist:\n",
    "        if abs(j - int(i)) < sub:\n",
    "            sub = abs(j - int(i))\n",
    "            ans = j\n",
    "    alist.append(str(ans))\n",
    "\n",
    "num = int(''.join(alist))\n",
    "answer = len(alist) + abs(num - c)\n",
    "\n",
    "if answer < limit:\n",
    "    print(answer)\n",
    "else:\n",
    "    print(limit)"
   ]
  },
  {
   "cell_type": "code",
   "execution_count": 52,
   "metadata": {},
   "outputs": [
    {
     "name": "stdin",
     "output_type": "stream",
     "text": [
      " 5457\n",
      " 3\n",
      " 6 7 8\n"
     ]
    },
    {
     "name": "stdout",
     "output_type": "stream",
     "text": [
      "6\n"
     ]
    }
   ],
   "source": [
    "# 1107\n",
    "\n",
    "remort = [str(i) for i in range(0, 10)]\n",
    "\n",
    "n = int(input())\n",
    "error_num = int(input())\n",
    "\n",
    "if error_num == 0:\n",
    "    pass\n",
    "else:\n",
    "    error = list(map(str, input().split()))\n",
    "    \n",
    "    for e in error:\n",
    "        remort.remove(e)\n",
    "        \n",
    "result = abs(n - 100)\n",
    "\n",
    "for i in range(1000001):\n",
    "    is_enable = True\n",
    "    for num in str(i):\n",
    "        if num not in remort:\n",
    "            is_enable = False\n",
    "    if is_enable:\n",
    "        result = min(result, abs(n - i) + len(str(i)))\n",
    "        \n",
    "print(result)"
   ]
  },
  {
   "cell_type": "code",
   "execution_count": 2,
   "metadata": {},
   "outputs": [
    {
     "name": "stdin",
     "output_type": "stream",
     "text": [
      " 4 5\n",
      " 1 2 3 4 5\n",
      " 1 2 3 4 5\n",
      " 1 2 3 4 5\n",
      " 1 2 3 4 5\n"
     ]
    },
    {
     "name": "stdout",
     "output_type": "stream",
     "text": [
      "20\n"
     ]
    }
   ],
   "source": [
    "# 14500\n",
    "\n",
    "n, m = map(int, input().split())\n",
    "a = [list(map(int, input().split())) for _ in range(n)]\n",
    "b = [\n",
    "    [(0,1), (1,0), (1,1)],\n",
    "    [(0,1), (0,2), (0,3)],\n",
    "    [(1,0), (2,0), (3,0)],\n",
    "    [(0,1), (0,2), (1,0)],\n",
    "    [(0,1), (0,2), (-1,2)],\n",
    "    [(1,0), (1,1), (1,2)],\n",
    "    [(0,1), (0,2), (1,2)],\n",
    "    [(1,0), (2,0), (2,1)],\n",
    "    [(0,1), (1,1), (2,1)],\n",
    "    [(0,1), (1,0), (2,0)],\n",
    "    [(1,0), (2,0), (2,-1)],\n",
    "    [(1,0), (1,1), (2,1)],\n",
    "    [(0,1), (1,0), (-1,1)],\n",
    "    [(0,1), (1,0), (1,-1)],\n",
    "    [(0,1), (1,1), (1,2)],\n",
    "    [(0,1), (0,2), (1,1)],\n",
    "    [(1,0), (1,1), (1,-1)],\n",
    "    [(1,0), (2,0), (1,-1)],\n",
    "    [(1,0), (1,1), (2,0)]\n",
    "]\n",
    "\n",
    "def tetromino(x, y):\n",
    "    global ans\n",
    "    for i in range(19):\n",
    "        s = a[x][y]\n",
    "        for j in range(3):\n",
    "            try:\n",
    "                nx = x+b[i][j][0]\n",
    "                ny = y+b[i][j][1]\n",
    "                s += a[nx][ny]\n",
    "            except IndexError:\n",
    "                continue\n",
    "        ans = max(ans, s)\n",
    "\n",
    "def solve():\n",
    "    for i in range (n):\n",
    "        for j in range(m):\n",
    "            tetromino(i, j)\n",
    "\n",
    "ans = 0\n",
    "solve()\n",
    "print(ans)"
   ]
  },
  {
   "cell_type": "code",
   "execution_count": 29,
   "metadata": {},
   "outputs": [
    {
     "name": "stdin",
     "output_type": "stream",
     "text": [
      " 3\n",
      " 10 12 3 9\n"
     ]
    },
    {
     "name": "stdout",
     "output_type": "stream",
     "text": [
      "33\n"
     ]
    },
    {
     "name": "stdin",
     "output_type": "stream",
     "text": [
      " 10 12 7 2\n"
     ]
    },
    {
     "name": "stdout",
     "output_type": "stream",
     "text": [
      "-1\n"
     ]
    },
    {
     "name": "stdin",
     "output_type": "stream",
     "text": [
      " 13 11 5 6\n"
     ]
    },
    {
     "name": "stdout",
     "output_type": "stream",
     "text": [
      "83\n"
     ]
    }
   ],
   "source": [
    "# 6064\n",
    "\n",
    "T = int(input())\n",
    "\n",
    "for _ in range(T):\n",
    "    m,n,x,y = map(int, input().split())\n",
    "    x -= 1\n",
    "    y -= 1\n",
    "    k = x\n",
    "    while k < n*m:\n",
    "        if k % n == y:\n",
    "            print(k+1)\n",
    "            break\n",
    "        k += m\n",
    "    else:\n",
    "        print(-1)"
   ]
  },
  {
   "cell_type": "code",
   "execution_count": 27,
   "metadata": {},
   "outputs": [
    {
     "data": {
      "text/plain": [
       "144"
      ]
     },
     "execution_count": 27,
     "metadata": {},
     "output_type": "execute_result"
    }
   ],
   "source": []
  },
  {
   "cell_type": "code",
   "execution_count": null,
   "metadata": {},
   "outputs": [],
   "source": []
  },
  {
   "cell_type": "code",
   "execution_count": null,
   "metadata": {},
   "outputs": [],
   "source": []
  }
 ],
 "metadata": {
  "kernelspec": {
   "display_name": "Python 3",
   "language": "python",
   "name": "python3"
  },
  "language_info": {
   "codemirror_mode": {
    "name": "ipython",
    "version": 3
   },
   "file_extension": ".py",
   "mimetype": "text/x-python",
   "name": "python",
   "nbconvert_exporter": "python",
   "pygments_lexer": "ipython3",
   "version": "3.7.3"
  }
 },
 "nbformat": 4,
 "nbformat_minor": 4
}
