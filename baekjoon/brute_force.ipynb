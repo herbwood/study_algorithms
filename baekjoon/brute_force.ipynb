{
 "cells": [
  {
   "cell_type": "code",
   "execution_count": 14,
   "metadata": {},
   "outputs": [
    {
     "name": "stdout",
     "output_type": "stream",
     "text": [
      "20\n",
      "7\n",
      "23\n",
      "19\n",
      "10\n",
      "15\n",
      "25\n",
      "8\n",
      "13\n",
      "7\n",
      "8\n",
      "10\n",
      "13\n",
      "19\n",
      "20\n",
      "23\n"
     ]
    }
   ],
   "source": [
    "# 2309\n",
    "blist = sorted([int(input()) for _ in range(9)])\n",
    "hap = sum(blist)\n",
    "\n",
    "for i in range(0, len(blist)-1):\n",
    "    for j in range(i+1, len(blist)):\n",
    "        if hap - blist[i] - blist[j] == 100:\n",
    "            ans1 = blist[i]\n",
    "            ans2 = blist[j]\n",
    "            break\n",
    "            \n",
    "blist.remove(ans1)\n",
    "blist.remove(ans2)\n",
    "            \n",
    "for b in blist:\n",
    "    print(b)"
   ]
  },
  {
   "cell_type": "code",
   "execution_count": 25,
   "metadata": {},
   "outputs": [
    {
     "name": "stdout",
     "output_type": "stream",
     "text": [
      "216\n",
      "198\n"
     ]
    }
   ],
   "source": [
    "# 2231\n",
    "n = int(input())\n",
    "blist = []\n",
    "for i in range(1, n):\n",
    "    hap = 0\n",
    "    for j in range(len(str(i))):\n",
    "        hap += int(str(i)[j])\n",
    "    if n - i == hap:\n",
    "        blist.append(i)\n",
    "        \n",
    "if len(blist) > 0:\n",
    "    print(blist[0])\n",
    "else:\n",
    "    print(0)"
   ]
  },
  {
   "cell_type": "code",
   "execution_count": 11,
   "metadata": {},
   "outputs": [
    {
     "name": "stdin",
     "output_type": "stream",
     "text": [
      " 5 21\n",
      " 5 6 7 8 9\n"
     ]
    },
    {
     "name": "stdout",
     "output_type": "stream",
     "text": [
      "21\n"
     ]
    }
   ],
   "source": [
    "# 2798\n",
    "n, m = map(int, input().split())\n",
    "nlist = [int(x) for x in input().split()]\n",
    "blist = []\n",
    "\n",
    "def blackjack(n,m,nlist):\n",
    "    blist = []\n",
    "\n",
    "    for i in range(n):\n",
    "        for j in range(i+1, n):\n",
    "            for k in range(j+1, n):\n",
    "                num = nlist[i] + nlist[j] + nlist[k]\n",
    "            \n",
    "                if num <= m:\n",
    "                    blist.append(num)\n",
    "                \n",
    "    return max(blist)\n",
    "                \n",
    "                \n",
    "print(blackjack(n,m,nlist))"
   ]
  },
  {
   "cell_type": "code",
   "execution_count": 14,
   "metadata": {},
   "outputs": [
    {
     "name": "stdin",
     "output_type": "stream",
     "text": [
      " 5\n",
      " 55 185\n",
      " 58 183\n",
      " 88 186\n",
      " 60 175\n",
      " 46 155\n"
     ]
    },
    {
     "name": "stdout",
     "output_type": "stream",
     "text": [
      "2 2 1 2 5 "
     ]
    }
   ],
   "source": [
    "# 7568\n",
    "\n",
    "def build(T):\n",
    "    blist = []\n",
    "    \n",
    "    for i in range(T):\n",
    "        blist.append(list(map(int, input().split())))\n",
    "        \n",
    "    rlist = [1] * len(blist)\n",
    "    \n",
    "    for i in range(len(blist)-1):\n",
    "        for j in range(i, len(blist)):\n",
    "            if blist[i][0] > blist[j][0] and blist[i][1] > blist[j][1]:\n",
    "                rlist[j] += 1\n",
    "            elif blist[i][0] < blist[j][0] and blist[i][1] < blist[j][1]:\n",
    "                rlist[i] += 1\n",
    "        \n",
    "    for r in rlist:\n",
    "        print(r, end = ' ')\n",
    "        \n",
    "\n",
    "T = int(input())\n",
    "build(T)"
   ]
  },
  {
   "cell_type": "code",
   "execution_count": 27,
   "metadata": {},
   "outputs": [
    {
     "name": "stdin",
     "output_type": "stream",
     "text": [
      " 8 8\n",
      " WBWBWBWB\n",
      " BWBWBWBW\n",
      " WBWBWBWB\n",
      " BWBBBWBW\n",
      " WBWBWBWB\n",
      " BWBWBWBW\n",
      " WBWBWBWB\n",
      " BWBWBWBW\n"
     ]
    },
    {
     "name": "stdout",
     "output_type": "stream",
     "text": [
      "1\n"
     ]
    }
   ],
   "source": [
    "# 1018\n",
    "\n",
    "h, w = map(int, input().split())\n",
    "\n",
    "plate = [list(input()) for i in range(h)]\n",
    "\n",
    "num = 10 * 10\n",
    "\n",
    "for a in range(h-7):\n",
    "    for b in range(w-7):\n",
    "        \n",
    "        cnt1, cnt2 = 0, 0\n",
    "        \n",
    "        for i in range(a, a+8):\n",
    "            for j in range(b, b+8):\n",
    "                \n",
    "                if (i+j-a-b) % 2 == 0 and plate[i][j] == 'B':\n",
    "                    cnt1 += 1\n",
    "                elif (i+j-a-b) % 2 != 0 and plate[i][j] == 'W':\n",
    "                    cnt1 += 1\n",
    "                    \n",
    "        for i in range(a, a+8):\n",
    "            for j in range(b, b+8):\n",
    "                \n",
    "                if (i+j-a-b) % 2 == 0 and plate[i][j] == 'W':\n",
    "                    cnt2 += 1\n",
    "                elif (i+j-a-b) % 2 != 0 and plate[i][j] == 'B':\n",
    "                    cnt2 += 1\n",
    "                    \n",
    "        if cnt1 < cnt2:\n",
    "            ans = cnt1\n",
    "        else:\n",
    "            ans = cnt2\n",
    "            \n",
    "        \n",
    "        if ans < num:\n",
    "            num = ans\n",
    "            \n",
    "print(num)"
   ]
  },
  {
   "cell_type": "code",
   "execution_count": 48,
   "metadata": {},
   "outputs": [
    {
     "name": "stdin",
     "output_type": "stream",
     "text": [
      " 15 28 19\n"
     ]
    },
    {
     "name": "stdout",
     "output_type": "stream",
     "text": [
      "7980\n"
     ]
    }
   ],
   "source": [
    "# 1476\n",
    "\n",
    "blist = [[0, 0, 0] for _ in range(15 * 28 * 19 + 1)]\n",
    "\n",
    "def fill(idx, num):\n",
    "    for i in range(1, len(blist)):\n",
    "        if i % num == 0:\n",
    "            blist[i][idx] = num\n",
    "        else:\n",
    "            blist[i][idx] = i % num\n",
    "            \n",
    "e, s, m = map(int, input().split())\n",
    "\n",
    "fill(0, 15)\n",
    "fill(1, 28)\n",
    "fill(2, 19)\n",
    "\n",
    "for a in range(1, len(blist)):\n",
    "    if blist[a][0] == e and blist[a][1] == s and blist[a][2] == m:\n",
    "        break\n",
    "print(a)"
   ]
  },
  {
   "cell_type": "code",
   "execution_count": 46,
   "metadata": {},
   "outputs": [
    {
     "name": "stdin",
     "output_type": "stream",
     "text": [
      " 0\n",
      " 10\n",
      " 0 1 2 3 4 5 6 7 8 9\n"
     ]
    },
    {
     "name": "stdout",
     "output_type": "stream",
     "text": [
      "2\n"
     ]
    }
   ],
   "source": [
    "# 1107\n",
    "\n",
    "c = int(input())\n",
    "limit = abs(c - 100)\n",
    "n = int(input())\n",
    "blist = list(map(int, input().split()))\n",
    "nlist = [i for i in range(0, 10)]\n",
    "\n",
    "for b in blist:\n",
    "    nlist.remove(b)\n",
    "\n",
    "alist = []\n",
    "for i in str(c):\n",
    "    sub = 10000000\n",
    "    for j in nlist:\n",
    "        if abs(j - int(i)) < sub:\n",
    "            sub = abs(j - int(i))\n",
    "            ans = j\n",
    "    alist.append(str(ans))\n",
    "\n",
    "num = int(''.join(alist))\n",
    "answer = len(alist) + abs(num - c)\n",
    "\n",
    "if answer < limit:\n",
    "    print(answer)\n",
    "else:\n",
    "    print(limit)"
   ]
  },
  {
   "cell_type": "code",
   "execution_count": 52,
   "metadata": {},
   "outputs": [
    {
     "name": "stdin",
     "output_type": "stream",
     "text": [
      " 5457\n",
      " 3\n",
      " 6 7 8\n"
     ]
    },
    {
     "name": "stdout",
     "output_type": "stream",
     "text": [
      "6\n"
     ]
    }
   ],
   "source": [
    "# 1107\n",
    "\n",
    "remort = [str(i) for i in range(0, 10)]\n",
    "\n",
    "n = int(input())\n",
    "error_num = int(input())\n",
    "\n",
    "if error_num == 0:\n",
    "    pass\n",
    "else:\n",
    "    error = list(map(str, input().split()))\n",
    "    \n",
    "    for e in error:\n",
    "        remort.remove(e)\n",
    "        \n",
    "result = abs(n - 100)\n",
    "\n",
    "for i in range(1000001):\n",
    "    is_enable = True\n",
    "    for num in str(i):\n",
    "        if num not in remort:\n",
    "            is_enable = False\n",
    "    if is_enable:\n",
    "        result = min(result, abs(n - i) + len(str(i)))\n",
    "        \n",
    "print(result)"
   ]
  },
  {
   "cell_type": "code",
   "execution_count": 2,
   "metadata": {},
   "outputs": [
    {
     "name": "stdin",
     "output_type": "stream",
     "text": [
      " 4 5\n",
      " 1 2 3 4 5\n",
      " 1 2 3 4 5\n",
      " 1 2 3 4 5\n",
      " 1 2 3 4 5\n"
     ]
    },
    {
     "name": "stdout",
     "output_type": "stream",
     "text": [
      "20\n"
     ]
    }
   ],
   "source": [
    "# 14500\n",
    "\n",
    "n, m = map(int, input().split())\n",
    "a = [list(map(int, input().split())) for _ in range(n)]\n",
    "b = [\n",
    "    [(0,1), (1,0), (1,1)],\n",
    "    [(0,1), (0,2), (0,3)],\n",
    "    [(1,0), (2,0), (3,0)],\n",
    "    [(0,1), (0,2), (1,0)],\n",
    "    [(0,1), (0,2), (-1,2)],\n",
    "    [(1,0), (1,1), (1,2)],\n",
    "    [(0,1), (0,2), (1,2)],\n",
    "    [(1,0), (2,0), (2,1)],\n",
    "    [(0,1), (1,1), (2,1)],\n",
    "    [(0,1), (1,0), (2,0)],\n",
    "    [(1,0), (2,0), (2,-1)],\n",
    "    [(1,0), (1,1), (2,1)],\n",
    "    [(0,1), (1,0), (-1,1)],\n",
    "    [(0,1), (1,0), (1,-1)],\n",
    "    [(0,1), (1,1), (1,2)],\n",
    "    [(0,1), (0,2), (1,1)],\n",
    "    [(1,0), (1,1), (1,-1)],\n",
    "    [(1,0), (2,0), (1,-1)],\n",
    "    [(1,0), (1,1), (2,0)]\n",
    "]\n",
    "\n",
    "def tetromino(x, y):\n",
    "    global ans\n",
    "    for i in range(19):\n",
    "        s = a[x][y]\n",
    "        for j in range(3):\n",
    "            try:\n",
    "                nx = x+b[i][j][0]\n",
    "                ny = y+b[i][j][1]\n",
    "                s += a[nx][ny]\n",
    "            except IndexError:\n",
    "                continue\n",
    "        ans = max(ans, s)\n",
    "\n",
    "def solve():\n",
    "    for i in range (n):\n",
    "        for j in range(m):\n",
    "            tetromino(i, j)\n",
    "\n",
    "ans = 0\n",
    "solve()\n",
    "print(ans)"
   ]
  },
  {
   "cell_type": "code",
   "execution_count": 29,
   "metadata": {},
   "outputs": [
    {
     "name": "stdin",
     "output_type": "stream",
     "text": [
      " 3\n",
      " 10 12 3 9\n"
     ]
    },
    {
     "name": "stdout",
     "output_type": "stream",
     "text": [
      "33\n"
     ]
    },
    {
     "name": "stdin",
     "output_type": "stream",
     "text": [
      " 10 12 7 2\n"
     ]
    },
    {
     "name": "stdout",
     "output_type": "stream",
     "text": [
      "-1\n"
     ]
    },
    {
     "name": "stdin",
     "output_type": "stream",
     "text": [
      " 13 11 5 6\n"
     ]
    },
    {
     "name": "stdout",
     "output_type": "stream",
     "text": [
      "83\n"
     ]
    }
   ],
   "source": [
    "# 6064\n",
    "\n",
    "T = int(input())\n",
    "\n",
    "for _ in range(T):\n",
    "    m,n,x,y = map(int, input().split())\n",
    "    x -= 1\n",
    "    y -= 1\n",
    "    k = x\n",
    "    while k < n*m:\n",
    "        if k % n == y:\n",
    "            print(k+1)\n",
    "            break\n",
    "        k += m\n",
    "    else:\n",
    "        print(-1)"
   ]
  },
  {
   "cell_type": "code",
   "execution_count": 18,
   "metadata": {},
   "outputs": [
    {
     "name": "stdin",
     "output_type": "stream",
     "text": [
      " 120\n"
     ]
    },
    {
     "name": "stdout",
     "output_type": "stream",
     "text": [
      "252\n"
     ]
    }
   ],
   "source": [
    "# 1748\n",
    "\n",
    "n = int(input())\n",
    "jari = len(str(n))\n",
    "hap = 0\n",
    "\n",
    "for i in range(1, jari):\n",
    "    hap += 9 * (10**(i-1)) * i\n",
    "\n",
    "start = int('1' + '0' * (jari-1))\n",
    "for j in range(start, n+1):\n",
    "    hap += jari\n",
    "    \n",
    "print(hap)"
   ]
  },
  {
   "cell_type": "code",
   "execution_count": 7,
   "metadata": {},
   "outputs": [
    {
     "name": "stdin",
     "output_type": "stream",
     "text": [
      " 4 4\n"
     ]
    },
    {
     "name": "stdout",
     "output_type": "stream",
     "text": [
      "1 2 3 4\n",
      "1 2 4 3\n",
      "1 3 2 4\n",
      "1 3 4 2\n",
      "1 4 2 3\n",
      "1 4 3 2\n",
      "2 1 3 4\n",
      "2 1 4 3\n",
      "2 3 1 4\n",
      "2 3 4 1\n",
      "2 4 1 3\n",
      "2 4 3 1\n",
      "3 1 2 4\n",
      "3 1 4 2\n",
      "3 2 1 4\n",
      "3 2 4 1\n",
      "3 4 1 2\n",
      "3 4 2 1\n",
      "4 1 2 3\n",
      "4 1 3 2\n",
      "4 2 1 3\n",
      "4 2 3 1\n",
      "4 3 1 2\n",
      "4 3 2 1\n"
     ]
    }
   ],
   "source": [
    "# 15649\n",
    "\n",
    "\n",
    "n,m = map(int, input().split())\n",
    "\n",
    "check = [False] * (n+1)\n",
    "blist = [0] * m\n",
    "\n",
    "def go(idx, n, m):\n",
    "    if idx == m:\n",
    "        print(*blist)\n",
    "        return\n",
    "        \n",
    "    for i in range(1, n+1):\n",
    "        if check[i] == True:\n",
    "            continue\n",
    "        else:\n",
    "            check[i] = True\n",
    "            blist[idx] = i\n",
    "            go(idx+1, n, m)\n",
    "            check[i] = False\n",
    "        \n",
    "go(0, n, m)"
   ]
  },
  {
   "cell_type": "code",
   "execution_count": 1,
   "metadata": {},
   "outputs": [
    {
     "name": "stdin",
     "output_type": "stream",
     "text": [
      " 4 4\n"
     ]
    },
    {
     "name": "stdout",
     "output_type": "stream",
     "text": [
      "1 2 3 4\n"
     ]
    }
   ],
   "source": [
    "# 15650\n",
    "\n",
    "import sys\n",
    "n, m = map(int, input().split())\n",
    "c = [False] * (n+1)\n",
    "a = [0] * m\n",
    "\n",
    "def go(index, start, n, m):\n",
    "    if index == m:\n",
    "        sys.stdout.write(' '.join(map(str, a)) + '\\n')\n",
    "        return\n",
    "    for i in range(start, n+1):\n",
    "        if c[i]:\n",
    "            continue\n",
    "        c[i] = True\n",
    "        a[index] = i\n",
    "        go(index+1, i+1, n, m)\n",
    "        c[i] = False\n",
    "        \n",
    "go(0, 1, n, m)"
   ]
  },
  {
   "cell_type": "code",
   "execution_count": 3,
   "metadata": {},
   "outputs": [
    {
     "name": "stdin",
     "output_type": "stream",
     "text": [
      " 2 3\n"
     ]
    },
    {
     "name": "stdout",
     "output_type": "stream",
     "text": [
      "1 1 1\n",
      "1 1 2\n",
      "1 2 1\n",
      "1 2 2\n",
      "2 1 1\n",
      "2 1 2\n",
      "2 2 1\n",
      "2 2 2\n"
     ]
    }
   ],
   "source": [
    "# 15651\n",
    "\n",
    "import sys\n",
    "n,m = map(int,input().split())\n",
    "c = [False]*(n+1)\n",
    "a = [0]*m\n",
    "\n",
    "def go(index, n, m):\n",
    "    if index == m:\n",
    "        sys.stdout.write(' '.join(map(str,a))+'\\n')\n",
    "        return\n",
    "    for i in range(1, n+1):\n",
    "        c[i] = True\n",
    "        a[index] = i\n",
    "        go(index+1, n, m)\n",
    "        c[i] = False\n",
    "\n",
    "go(0,n,m)"
   ]
  },
  {
   "cell_type": "code",
   "execution_count": 12,
   "metadata": {},
   "outputs": [
    {
     "name": "stdin",
     "output_type": "stream",
     "text": [
      " 3 3\n"
     ]
    },
    {
     "name": "stdout",
     "output_type": "stream",
     "text": [
      "1 1 1\n",
      "1 1 2\n",
      "1 1 3\n",
      "1 2 2\n",
      "1 2 3\n",
      "1 3 3\n",
      "2 2 2\n",
      "2 2 3\n",
      "2 3 3\n",
      "3 3 3\n"
     ]
    }
   ],
   "source": [
    "# 15652\n",
    "\n",
    "n, m = map(int, input().split())\n",
    "c = [False] * (n+1)\n",
    "a = [0] * m\n",
    "\n",
    "def go(index, start, n, m):\n",
    "    if index == m:\n",
    "        print(*a)\n",
    "        return\n",
    "    \n",
    "    for i in range(start, n+1):\n",
    "        c[i] = True\n",
    "        a[index] = i\n",
    "        go(index+1, i, n, m)\n",
    "        c[i] = False\n",
    "        \n",
    "go(0, 1, n, m)"
   ]
  },
  {
   "cell_type": "code",
   "execution_count": 2,
   "metadata": {},
   "outputs": [
    {
     "name": "stdin",
     "output_type": "stream",
     "text": [
      " 3 1\n",
      " 4 5 2\n"
     ]
    },
    {
     "name": "stdout",
     "output_type": "stream",
     "text": [
      "2\n",
      "4\n",
      "5\n"
     ]
    }
   ],
   "source": [
    "# 15654\n",
    "\n",
    "import sys\n",
    "n,m = map(int,input().split())\n",
    "num = list(map(int,input().split()))\n",
    "num.sort()\n",
    "c = [False]*n\n",
    "a = [0]*m\n",
    "def go(index, n, m):\n",
    "    if index == m:\n",
    "        sys.stdout.write(' '.join(map(str,a))+'\\n')\n",
    "        return\n",
    "    for i in range(n):\n",
    "        if c[i]:\n",
    "            continue\n",
    "        c[i] = True\n",
    "        a[index] = num[i]\n",
    "        go(index+1, n, m)\n",
    "        c[i] = False\n",
    "\n",
    "go(0,n,m)"
   ]
  },
  {
   "cell_type": "code",
   "execution_count": 48,
   "metadata": {},
   "outputs": [
    {
     "name": "stdin",
     "output_type": "stream",
     "text": [
      " 5\n",
      " 5 4 3 2 1\n"
     ]
    },
    {
     "name": "stdout",
     "output_type": "stream",
     "text": [
      "-1\n"
     ]
    }
   ],
   "source": [
    "# 10972\n",
    "\n",
    "n = int(input())\n",
    "blist = list(map(int, input().split()))\n",
    "\n",
    "# start = int(''.join(sorted(blist)))\n",
    "end = sorted(blist, reverse=True)\n",
    "\n",
    "if blist == end:\n",
    "    print(-1)\n",
    "else:\n",
    "    cnt = 1\n",
    "    for i in range(1, len(blist)):\n",
    "        if blist[i-1] < blist[i] and i > cnt:\n",
    "            cnt = i\n",
    "    maxi = cnt\n",
    "    for j in range(cnt, len(blist)):\n",
    "        if blist[j] > blist[cnt-1] and j > maxi:\n",
    "            maxi = j\n",
    "\n",
    "    temp = blist[cnt-1]\n",
    "    blist[cnt-1] = blist[maxi]\n",
    "    blist[maxi] = temp\n",
    "    \n",
    "    result1 = blist[:cnt]\n",
    "    result2 = sorted(blist[cnt:])\n",
    "    result = list(map(str, result1 + result2))\n",
    "    print(' '.join(result))"
   ]
  },
  {
   "cell_type": "code",
   "execution_count": 72,
   "metadata": {},
   "outputs": [
    {
     "name": "stdin",
     "output_type": "stream",
     "text": [
      " 4\n",
      " 1 321 12 100\n"
     ]
    },
    {
     "name": "stdout",
     "output_type": "stream",
     "text": [
      "1 100 321 12\n"
     ]
    }
   ],
   "source": [
    "# 10973\n",
    "\n",
    "n = int(input())\n",
    "blist = list(map(int, input().split()))\n",
    "\n",
    "start = sorted(blist)\n",
    "end = sorted(blist, reverse=True)\n",
    "\n",
    "if blist == start:\n",
    "    print(-1)\n",
    "else:\n",
    "    cnt = 1\n",
    "    for i in range(1, len(blist)):\n",
    "        if blist[i-1] > blist[i] and i > cnt:\n",
    "            cnt = i\n",
    "    maxi = cnt\n",
    "    for j in range(cnt, len(blist)):\n",
    "        if blist[j] < blist[cnt-1] and j > maxi:\n",
    "            maxi = j\n",
    "\n",
    "    temp = blist[cnt-1]\n",
    "    blist[cnt-1] = blist[maxi]\n",
    "    blist[maxi] = temp\n",
    "    \n",
    "    result1 = blist[:cnt]\n",
    "    result2 = sorted(blist[cnt:], reverse=True)\n",
    "    result = list(map(str, result1 + result2))\n",
    "    print(' '.join(result))"
   ]
  },
  {
   "cell_type": "code",
   "execution_count": 81,
   "metadata": {},
   "outputs": [
    {
     "name": "stdin",
     "output_type": "stream",
     "text": [
      " 4\n"
     ]
    },
    {
     "name": "stdout",
     "output_type": "stream",
     "text": [
      "1 2 3 4\n",
      "1 2 4 3\n",
      "1 3 2 4\n",
      "1 3 4 2\n",
      "1 4 2 3\n",
      "1 4 3 2\n",
      "2 1 3 4\n",
      "2 1 4 3\n",
      "2 3 1 4\n",
      "2 3 4 1\n",
      "2 4 1 3\n",
      "2 4 3 1\n",
      "3 1 2 4\n",
      "3 1 4 2\n",
      "3 2 1 4\n",
      "3 2 4 1\n",
      "3 4 1 2\n",
      "3 4 2 1\n",
      "4 1 2 3\n",
      "4 1 3 2\n",
      "4 2 1 3\n",
      "4 2 3 1\n",
      "4 3 1 2\n",
      "4 3 2 1\n"
     ]
    }
   ],
   "source": [
    "# 10974\n",
    "\n",
    "def factorial(n):\n",
    "    if n <= 1:\n",
    "        return 1\n",
    "    return n * factorial(n-1)\n",
    "\n",
    "n = int(input())\n",
    "blist = sorted([num for num in range(1, n+1)])\n",
    "end = sorted(blist, reverse=True)\n",
    "print(' '.join(list(map(str, blist))))\n",
    "\n",
    "count = 1\n",
    "while count != factorial(n):\n",
    "    cnt = 1\n",
    "    for i in range(1, len(blist)):\n",
    "        if blist[i-1] < blist[i] and i > cnt:\n",
    "            cnt = i\n",
    "    maxi = cnt\n",
    "    for j in range(cnt, len(blist)):\n",
    "        if blist[j] > blist[cnt-1] and j > maxi:\n",
    "            maxi = j\n",
    "\n",
    "    temp = blist[cnt-1]\n",
    "    blist[cnt-1] = blist[maxi]\n",
    "    blist[maxi] = temp\n",
    "    \n",
    "    result1 = blist[:cnt]\n",
    "    result2 = sorted(blist[cnt:])\n",
    "    result = list(map(str, result1 + result2))\n",
    "    blist = result\n",
    "    print(' '.join(result))\n",
    "    count += 1"
   ]
  },
  {
   "cell_type": "code",
   "execution_count": 10,
   "metadata": {},
   "outputs": [
    {
     "name": "stdin",
     "output_type": "stream",
     "text": [
      " 6\n",
      " 20 15 10 1 8 4\n"
     ]
    },
    {
     "name": "stdout",
     "output_type": "stream",
     "text": [
      "62\n"
     ]
    }
   ],
   "source": [
    "# 10819\n",
    "\n",
    "def next_permutation(a):\n",
    "    \n",
    "    i = len(a)-1\n",
    "    while i > 0 and a[i-1] >= a[i]:\n",
    "        i -= 1\n",
    "    if i <= 0:\n",
    "        return False\n",
    "    \n",
    "    j = len(a)-1\n",
    "    while a[j] <= a[i-1]:\n",
    "        j -= 1\n",
    "\n",
    "    a[i-1],a[j] = a[j],a[i-1]\n",
    "\n",
    "    j = len(a)-1\n",
    "    while i < j:\n",
    "        a[i],a[j] = a[j],a[i]\n",
    "        i += 1\n",
    "        j -= 1\n",
    "\n",
    "    return True\n",
    "\n",
    "\n",
    "def calc(a):\n",
    "    ans = 0\n",
    "    for i in range(1, len(a)):\n",
    "        ans += abs(a[i]-a[i-1])\n",
    "    return ans\n",
    "\n",
    "n = int(input())\n",
    "a = list(map(int,input().split()))\n",
    "a.sort()\n",
    "ans = 0\n",
    "\n",
    "\n",
    "while True:\n",
    "    temp = calc(a)\n",
    "    ans = max(ans, temp)\n",
    "    if not next_permutation(a):\n",
    "        break\n",
    "print(ans)"
   ]
  },
  {
   "cell_type": "code",
   "execution_count": 32,
   "metadata": {},
   "outputs": [
    {
     "name": "stdin",
     "output_type": "stream",
     "text": [
      " 4\n",
      " 0 10 15 20\n",
      " 5 0 9 10\n",
      " 6 13 0 12\n",
      " 8 8 9 0\n"
     ]
    },
    {
     "name": "stdout",
     "output_type": "stream",
     "text": [
      "35\n"
     ]
    }
   ],
   "source": [
    "# 10971\n",
    "\n",
    "def next_permutation(a):\n",
    "    i = len(a)-1\n",
    "    while i > 0 and a[i-1] >= a[i]:\n",
    "        i -= 1\n",
    "    if i <= 0:\n",
    "        return False\n",
    "    j = len(a)-1\n",
    "    while a[j] <= a[i-1]:\n",
    "        j -= 1\n",
    "\n",
    "    a[i-1],a[j] = a[j],a[i-1]\n",
    "\n",
    "    j = len(a)-1\n",
    "    while i < j:\n",
    "        a[i],a[j] = a[j],a[i]\n",
    "        i += 1\n",
    "        j -= 1\n",
    "\n",
    "    return True\n",
    "\n",
    "n = int(input())\n",
    "w = [list(map(int,input().split())) for _ in range(n)]\n",
    "d = list(range(n))\n",
    "ans = 2147483647\n",
    "while True:\n",
    "    ok = True\n",
    "    s = 0\n",
    "    for i in range(0, n-1):\n",
    "        if w[d[i]][d[i+1]] == 0:\n",
    "            ok = False\n",
    "            break\n",
    "        else:\n",
    "            s += w[d[i]][d[i+1]]\n",
    "    if ok and w[d[-1]][d[0]] != 0:\n",
    "        s += w[d[-1]][d[0]]\n",
    "        ans = min(ans, s)\n",
    "    if not next_permutation(d):\n",
    "        break\n",
    "    if d[0] != 0:\n",
    "        break\n",
    "print(ans)"
   ]
  },
  {
   "cell_type": "code",
   "execution_count": 1,
   "metadata": {},
   "outputs": [
    {
     "name": "stdin",
     "output_type": "stream",
     "text": [
      " 7 1 2 3 4 5 6 7\n"
     ]
    },
    {
     "name": "stdout",
     "output_type": "stream",
     "text": [
      "1 2 3 4 5 6\n",
      "1 2 3 4 5 7\n",
      "1 2 3 4 6 7\n",
      "1 2 3 5 6 7\n",
      "1 2 4 5 6 7\n",
      "1 3 4 5 6 7\n",
      "2 3 4 5 6 7\n",
      "\n"
     ]
    },
    {
     "name": "stdin",
     "output_type": "stream",
     "text": [
      " 8 1 2 3 5 8 13 21 34\n"
     ]
    },
    {
     "name": "stdout",
     "output_type": "stream",
     "text": [
      "1 2 3 5 8 13\n",
      "1 2 3 5 8 21\n",
      "1 2 3 5 8 34\n",
      "1 2 3 5 13 21\n",
      "1 2 3 5 13 34\n",
      "1 2 3 5 21 34\n",
      "1 2 3 8 13 21\n",
      "1 2 3 8 13 34\n",
      "1 2 3 8 21 34\n",
      "1 2 3 13 21 34\n",
      "1 2 5 8 13 21\n",
      "1 2 5 8 13 34\n",
      "1 2 5 8 21 34\n",
      "1 2 5 13 21 34\n",
      "1 2 8 13 21 34\n",
      "1 3 5 8 13 21\n",
      "1 3 5 8 13 34\n",
      "1 3 5 8 21 34\n",
      "1 3 5 13 21 34\n",
      "1 3 8 13 21 34\n",
      "1 5 8 13 21 34\n",
      "2 3 5 8 13 21\n",
      "2 3 5 8 13 34\n",
      "2 3 5 8 21 34\n",
      "2 3 5 13 21 34\n",
      "2 3 8 13 21 34\n",
      "2 5 8 13 21 34\n",
      "3 5 8 13 21 34\n",
      "\n"
     ]
    },
    {
     "name": "stdin",
     "output_type": "stream",
     "text": [
      " 0\n"
     ]
    }
   ],
   "source": [
    "# 6603\n",
    "\n",
    "def next_permutation(a):\n",
    "    i = len(a)-1\n",
    "    while i > 0 and a[i-1] >= a[i]:\n",
    "        i -= 1\n",
    "    if i <= 0:\n",
    "        return False\n",
    "    j = len(a)-1\n",
    "    while a[j] <= a[i-1]:\n",
    "        j -= 1\n",
    "\n",
    "    a[i-1],a[j] = a[j],a[i-1]\n",
    "\n",
    "    j = len(a)-1\n",
    "    while i < j:\n",
    "        a[i],a[j] = a[j],a[i]\n",
    "        i += 1\n",
    "        j -= 1\n",
    "\n",
    "    return True\n",
    "\n",
    "while True:\n",
    "    n, *a = list(map(int,input().split()))\n",
    "    if n == 0:\n",
    "        break\n",
    "    d = [0]*(n-6)+[1]*6\n",
    "    ans = []\n",
    "    while True:\n",
    "        cur = [a[i] for i in range(n) if d[i] == 1]\n",
    "        ans.append(cur)\n",
    "        if not next_permutation(d):\n",
    "            break\n",
    "    ans.sort()\n",
    "    for v in ans:\n",
    "        print(' '.join(map(str,v)))\n",
    "    print()"
   ]
  },
  {
   "cell_type": "code",
   "execution_count": 1,
   "metadata": {},
   "outputs": [
    {
     "name": "stdin",
     "output_type": "stream",
     "text": [
      " 3\n",
      " 4\n"
     ]
    },
    {
     "name": "stdout",
     "output_type": "stream",
     "text": [
      "7\n"
     ]
    },
    {
     "name": "stdin",
     "output_type": "stream",
     "text": [
      " 7\n"
     ]
    },
    {
     "name": "stdout",
     "output_type": "stream",
     "text": [
      "44\n"
     ]
    },
    {
     "name": "stdin",
     "output_type": "stream",
     "text": [
      " 10\n"
     ]
    },
    {
     "name": "stdout",
     "output_type": "stream",
     "text": [
      "274\n"
     ]
    }
   ],
   "source": [
    "# 9095\n",
    "\n",
    "def go(hap, goal):\n",
    "    if hap > goal:\n",
    "        return 0\n",
    "    \n",
    "    if hap == goal:\n",
    "        return 1\n",
    "    \n",
    "    now = 0\n",
    "    for i in range(1, 4):\n",
    "        now += go(hap+i, goal)\n",
    "    return now\n",
    "\n",
    "t = int(input())\n",
    "\n",
    "for _ in range(t):\n",
    "    n = int(input())\n",
    "    print(go(0, n))"
   ]
  },
  {
   "cell_type": "code",
   "execution_count": 20,
   "metadata": {},
   "outputs": [
    {
     "name": "stdin",
     "output_type": "stream",
     "text": [
      " 4 6\n",
      " a c i s t w\n"
     ]
    },
    {
     "name": "stdout",
     "output_type": "stream",
     "text": [
      "acis\n",
      "acit\n",
      "aciw\n",
      "acst\n",
      "acsw\n",
      "actw\n",
      "aist\n",
      "aisw\n",
      "aitw\n",
      "astw\n",
      "cist\n",
      "cisw\n",
      "citw\n",
      "istw\n"
     ]
    }
   ],
   "source": [
    "# 1759\n",
    "\n",
    "l, c = map(int, input().split())\n",
    "blist = sorted(list(input().split()))\n",
    "\n",
    "def check(pw):\n",
    "    ja = 0\n",
    "    mo = 0\n",
    "    for p in pw:\n",
    "        if p in 'aeiou':\n",
    "            mo += 1\n",
    "        else:\n",
    "            ja += 1\n",
    "    return ja >= 2 and mo >= 1\n",
    "\n",
    "\n",
    "def go(n, alpha, pw, i):\n",
    "    if len(pw) == n:\n",
    "        if check(pw):\n",
    "            print(pw)\n",
    "        return\n",
    "    \n",
    "    if i == len(alpha):\n",
    "        return\n",
    "    \n",
    "    go(n, alpha, pw+alpha[i], i+1)\n",
    "    go(n, alpha, pw, i+1)\n",
    "            \n",
    "go(l, blist, '', 0)"
   ]
  },
  {
   "cell_type": "code",
   "execution_count": 83,
   "metadata": {},
   "outputs": [
    {
     "name": "stdin",
     "output_type": "stream",
     "text": [
      " 7\n",
      " 3 10\n",
      " 5 20\n",
      " 1 10\n",
      " 1 20\n",
      " 2 15\n",
      " 4 40\n",
      " 2 200\n"
     ]
    },
    {
     "name": "stdout",
     "output_type": "stream",
     "text": [
      "45\n"
     ]
    }
   ],
   "source": [
    "# 14501\n",
    "\n",
    "n = int(input())\n",
    "t = [0] * (n+1)\n",
    "p = [0] * (n+1)\n",
    "\n",
    "for i in range(1, n+1):\n",
    "    t[i], p[i] = map(int, input().split())\n",
    "    \n",
    "ans = 0\n",
    "\n",
    "def go(day, s):\n",
    "    global ans\n",
    "    if day == n+1:\n",
    "        ans = max(ans, s)\n",
    "        return\n",
    "    \n",
    "    if day > n+1:\n",
    "        return\n",
    "    \n",
    "    go(day+1, s)\n",
    "    go(day+t[day], s+p[day])\n",
    "    \n",
    "go(1, 0)\n",
    "print(ans)"
   ]
  },
  {
   "cell_type": "code",
   "execution_count": 12,
   "metadata": {},
   "outputs": [
    {
     "name": "stdin",
     "output_type": "stream",
     "text": [
      " 4\n",
      " 0 1 2 3\n",
      " 4 0 5 6\n",
      " 7 1 0 2\n",
      " 3 4 5 0\n"
     ]
    },
    {
     "name": "stdout",
     "output_type": "stream",
     "text": [
      "0\n"
     ]
    }
   ],
   "source": [
    "# 14889\n",
    "\n",
    "def go(idx, first, second):\n",
    "    if idx == n:\n",
    "        if len(first) != n//2:\n",
    "            return -1\n",
    "        if len(second) != n//2:\n",
    "            return -1\n",
    "        \n",
    "        t1 = 0\n",
    "        t2 = 0\n",
    "        for i in range(n//2):\n",
    "            for j in range(n//2):\n",
    "                if i == j:\n",
    "                    continue\n",
    "                t1 += s[first[i]][first[j]]\n",
    "                t2 += s[second[i]][second[j]]\n",
    "        diff = abs(t1-t2)\n",
    "        return diff\n",
    "    \n",
    "    ans = -1\n",
    "    \n",
    "    t1 = go(idx+1, first+[idx], second)\n",
    "    if ans == -1 or (t1 != -1 and ans > t1):\n",
    "        ans = t1\n",
    "        \n",
    "    t2 = go(idx+1, first, second+[idx])\n",
    "    if ans == -1 or (t2 != -1 and ans > t2):\n",
    "        ans = t2\n",
    "        \n",
    "    return ans\n",
    "\n",
    "n = int(input())\n",
    "s = [list(map(int, input().split())) for _ in range(n)]\n",
    "print(go(0, [], []))"
   ]
  },
  {
   "cell_type": "code",
   "execution_count": 15,
   "metadata": {},
   "outputs": [
    {
     "name": "stdin",
     "output_type": "stream",
     "text": [
      " 4\n",
      " 0 1 2 3\n",
      " 4 0 5 6\n",
      " 7 1 0 2\n",
      " 3 4 5 0\n"
     ]
    },
    {
     "name": "stdout",
     "output_type": "stream",
     "text": [
      "-1\n"
     ]
    }
   ],
   "source": [
    "def go(idx, first, second):\n",
    "    \n",
    "    if idx == n:\n",
    "        if len(first) != n//2:\n",
    "            return -1\n",
    "        if len(second) != n//2:\n",
    "            return -1\n",
    "        \n",
    "        t1, t2 = 0, 0\n",
    "        for i in range(n//2):\n",
    "            for j in range(n//2):\n",
    "                if i == j:\n",
    "                    continue\n",
    "                t1 += s[first[i]][first[j]]\n",
    "                t2 += s[second[i]][second[j]]\n",
    "                \n",
    "        diff = abs(t1-t2)\n",
    "        return diff\n",
    "    \n",
    "    ans = -1\n",
    "    t1 = go(idx+1, first+[idx], second)\n",
    "    if ans == -1 or (t1 != -1 and ans > t1):\n",
    "        ans = t1\n",
    "    \n",
    "    t2 = go(idx+1, first, second+[idx])\n",
    "    if ans == -2 or (t2 != -1 and ans > t2):\n",
    "        ans = t2\n",
    "        \n",
    "    return t2\n",
    "\n",
    "\n",
    "n = int(input())\n",
    "s = [list(map(int, input().split())) for _ in range(n)]\n",
    "print(go(0, [], []))"
   ]
  },
  {
   "cell_type": "code",
   "execution_count": null,
   "metadata": {},
   "outputs": [],
   "source": []
  },
  {
   "cell_type": "code",
   "execution_count": null,
   "metadata": {},
   "outputs": [],
   "source": []
  },
  {
   "cell_type": "code",
   "execution_count": null,
   "metadata": {},
   "outputs": [],
   "source": []
  },
  {
   "cell_type": "code",
   "execution_count": null,
   "metadata": {},
   "outputs": [],
   "source": []
  }
 ],
 "metadata": {
  "kernelspec": {
   "display_name": "Python 3",
   "language": "python",
   "name": "python3"
  },
  "language_info": {
   "codemirror_mode": {
    "name": "ipython",
    "version": 3
   },
   "file_extension": ".py",
   "mimetype": "text/x-python",
   "name": "python",
   "nbconvert_exporter": "python",
   "pygments_lexer": "ipython3",
   "version": "3.7.3"
  }
 },
 "nbformat": 4,
 "nbformat_minor": 4
}
