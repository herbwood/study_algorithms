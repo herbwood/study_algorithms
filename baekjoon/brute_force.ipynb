{
 "cells": [
  {
   "cell_type": "code",
   "execution_count": 14,
   "metadata": {},
   "outputs": [
    {
     "name": "stdout",
     "output_type": "stream",
     "text": [
      "20\n",
      "7\n",
      "23\n",
      "19\n",
      "10\n",
      "15\n",
      "25\n",
      "8\n",
      "13\n",
      "7\n",
      "8\n",
      "10\n",
      "13\n",
      "19\n",
      "20\n",
      "23\n"
     ]
    }
   ],
   "source": [
    "# 2309\n",
    "blist = []\n",
    "for i in range(0, 9):\n",
    "    a = int(input())\n",
    "    blist.append(a)\n",
    "\n",
    "n = len(blist)\n",
    "for j in range(0, n - 1):\n",
    "    for k in range(j + 1, n):\n",
    "        if sum(blist) - (blist[j] + blist[k]) == 100:\n",
    "            a = blist[j]\n",
    "            b = blist[k]\n",
    "            break\n",
    "            \n",
    "blist.remove(a)\n",
    "blist.remove(b)\n",
    "for b in sorted(blist):\n",
    "    print(b)"
   ]
  },
  {
   "cell_type": "code",
   "execution_count": 25,
   "metadata": {},
   "outputs": [
    {
     "name": "stdout",
     "output_type": "stream",
     "text": [
      "216\n",
      "198\n"
     ]
    }
   ],
   "source": [
    "# 2231\n",
    "n = int(input())\n",
    "blist = []\n",
    "for i in range(1, n):\n",
    "    hap = 0\n",
    "    for j in range(len(str(i))):\n",
    "        hap += int(str(i)[j])\n",
    "    if n - i == hap:\n",
    "        blist.append(i)\n",
    "        \n",
    "if len(blist) > 0:\n",
    "    print(blist[0])\n",
    "else:\n",
    "    print(0)"
   ]
  },
  {
   "cell_type": "code",
   "execution_count": 1,
   "metadata": {},
   "outputs": [
    {
     "name": "stdout",
     "output_type": "stream",
     "text": [
      "5\n",
      "55 185\n",
      "58 183\n",
      "88 186\n",
      "60 175\n",
      "46 155\n",
      "2\n",
      "1\n",
      "1\n",
      "1\n",
      "1\n"
     ]
    }
   ],
   "source": [
    "# 7568\n",
    "n = int(input())\n",
    "bdict = {}\n",
    "for a in range(0, n):\n",
    "    bdict[a] = 1\n",
    "    \n",
    "wlist = []\n",
    "hlist = []\n",
    "for i in range(0, n):\n",
    "    d = input()\n",
    "    wlist.append(d.split()[0])\n",
    "    hlist.append(d.split()[1])\n",
    "\n",
    "for j in range(0, n - 1):\n",
    "    for k in range(j + 1, n):\n",
    "        if wlist[j] < wlist[k] and hlist[j] < hlist[k]:\n",
    "            bdict[j] += bdict[k] + 1\n",
    "        elif wlist[j] > wlist[k] and hlist[j] > hlist[k]:\n",
    "            bdict[k] += bdict[j] + 1\n",
    "        else:\n",
    "            bdict[k] = bdict[j] \n",
    "\n",
    "for e in list(bdict.values()):\n",
    "    print(e)"
   ]
  },
  {
   "cell_type": "code",
   "execution_count": 11,
   "metadata": {},
   "outputs": [
    {
     "name": "stdin",
     "output_type": "stream",
     "text": [
      " 5 21\n",
      " 5 6 7 8 9\n"
     ]
    },
    {
     "name": "stdout",
     "output_type": "stream",
     "text": [
      "21\n"
     ]
    }
   ],
   "source": [
    "# 2798\n",
    "n, m = map(int, input().split())\n",
    "nlist = [int(x) for x in input().split()]\n",
    "blist = []\n",
    "\n",
    "def blackjack(n,m,nlist):\n",
    "    blist = []\n",
    "\n",
    "    for i in range(n):\n",
    "        for j in range(i+1, n):\n",
    "            for k in range(j+1, n):\n",
    "                num = nlist[i] + nlist[j] + nlist[k]\n",
    "            \n",
    "                if num <= m:\n",
    "                    blist.append(num)\n",
    "                \n",
    "    return max(blist)\n",
    "                \n",
    "                \n",
    "print(blackjack(n,m,nlist))"
   ]
  },
  {
   "cell_type": "code",
   "execution_count": 9,
   "metadata": {},
   "outputs": [
    {
     "data": {
      "text/plain": [
       "4"
      ]
     },
     "execution_count": 9,
     "metadata": {},
     "output_type": "execute_result"
    }
   ],
   "source": []
  },
  {
   "cell_type": "code",
   "execution_count": null,
   "metadata": {},
   "outputs": [],
   "source": [
    "1 2 3 4 "
   ]
  }
 ],
 "metadata": {
  "kernelspec": {
   "display_name": "Python 3",
   "language": "python",
   "name": "python3"
  },
  "language_info": {
   "codemirror_mode": {
    "name": "ipython",
    "version": 3
   },
   "file_extension": ".py",
   "mimetype": "text/x-python",
   "name": "python",
   "nbconvert_exporter": "python",
   "pygments_lexer": "ipython3",
   "version": "3.7.3"
  }
 },
 "nbformat": 4,
 "nbformat_minor": 4
}
