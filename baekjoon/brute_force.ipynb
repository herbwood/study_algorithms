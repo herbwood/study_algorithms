{
 "cells": [
  {
   "cell_type": "code",
   "execution_count": 14,
   "metadata": {},
   "outputs": [
    {
     "name": "stdout",
     "output_type": "stream",
     "text": [
      "20\n",
      "7\n",
      "23\n",
      "19\n",
      "10\n",
      "15\n",
      "25\n",
      "8\n",
      "13\n",
      "7\n",
      "8\n",
      "10\n",
      "13\n",
      "19\n",
      "20\n",
      "23\n"
     ]
    }
   ],
   "source": [
    "# 2309\n",
    "blist = []\n",
    "for i in range(0, 9):\n",
    "    a = int(input())\n",
    "    blist.append(a)\n",
    "\n",
    "n = len(blist)\n",
    "for j in range(0, n - 1):\n",
    "    for k in range(j + 1, n):\n",
    "        if sum(blist) - (blist[j] + blist[k]) == 100:\n",
    "            a = blist[j]\n",
    "            b = blist[k]\n",
    "            break\n",
    "            \n",
    "blist.remove(a)\n",
    "blist.remove(b)\n",
    "for b in sorted(blist):\n",
    "    print(b)"
   ]
  },
  {
   "cell_type": "code",
   "execution_count": 25,
   "metadata": {},
   "outputs": [
    {
     "name": "stdout",
     "output_type": "stream",
     "text": [
      "216\n",
      "198\n"
     ]
    }
   ],
   "source": [
    "# 2231\n",
    "n = int(input())\n",
    "blist = []\n",
    "for i in range(1, n):\n",
    "    hap = 0\n",
    "    for j in range(len(str(i))):\n",
    "        hap += int(str(i)[j])\n",
    "    if n - i == hap:\n",
    "        blist.append(i)\n",
    "        \n",
    "if len(blist) > 0:\n",
    "    print(blist[0])\n",
    "else:\n",
    "    print(0)"
   ]
  },
  {
   "cell_type": "code",
   "execution_count": 11,
   "metadata": {},
   "outputs": [
    {
     "name": "stdin",
     "output_type": "stream",
     "text": [
      " 5 21\n",
      " 5 6 7 8 9\n"
     ]
    },
    {
     "name": "stdout",
     "output_type": "stream",
     "text": [
      "21\n"
     ]
    }
   ],
   "source": [
    "# 2798\n",
    "n, m = map(int, input().split())\n",
    "nlist = [int(x) for x in input().split()]\n",
    "blist = []\n",
    "\n",
    "def blackjack(n,m,nlist):\n",
    "    blist = []\n",
    "\n",
    "    for i in range(n):\n",
    "        for j in range(i+1, n):\n",
    "            for k in range(j+1, n):\n",
    "                num = nlist[i] + nlist[j] + nlist[k]\n",
    "            \n",
    "                if num <= m:\n",
    "                    blist.append(num)\n",
    "                \n",
    "    return max(blist)\n",
    "                \n",
    "                \n",
    "print(blackjack(n,m,nlist))"
   ]
  },
  {
   "cell_type": "code",
   "execution_count": 14,
   "metadata": {},
   "outputs": [
    {
     "name": "stdin",
     "output_type": "stream",
     "text": [
      " 5\n",
      " 55 185\n",
      " 58 183\n",
      " 88 186\n",
      " 60 175\n",
      " 46 155\n"
     ]
    },
    {
     "name": "stdout",
     "output_type": "stream",
     "text": [
      "2 2 1 2 5 "
     ]
    }
   ],
   "source": [
    "# 7568\n",
    "\n",
    "def build(T):\n",
    "    blist = []\n",
    "    \n",
    "    for i in range(T):\n",
    "        blist.append(list(map(int, input().split())))\n",
    "        \n",
    "    rlist = [1] * len(blist)\n",
    "    \n",
    "    for i in range(len(blist)-1):\n",
    "        for j in range(i, len(blist)):\n",
    "            if blist[i][0] > blist[j][0] and blist[i][1] > blist[j][1]:\n",
    "                rlist[j] += 1\n",
    "            elif blist[i][0] < blist[j][0] and blist[i][1] < blist[j][1]:\n",
    "                rlist[i] += 1\n",
    "        \n",
    "    for r in rlist:\n",
    "        print(r, end = ' ')\n",
    "        \n",
    "\n",
    "T = int(input())\n",
    "build(T)"
   ]
  },
  {
   "cell_type": "code",
   "execution_count": 27,
   "metadata": {},
   "outputs": [
    {
     "name": "stdin",
     "output_type": "stream",
     "text": [
      " 8 8\n",
      " WBWBWBWB\n",
      " BWBWBWBW\n",
      " WBWBWBWB\n",
      " BWBBBWBW\n",
      " WBWBWBWB\n",
      " BWBWBWBW\n",
      " WBWBWBWB\n",
      " BWBWBWBW\n"
     ]
    },
    {
     "name": "stdout",
     "output_type": "stream",
     "text": [
      "1\n"
     ]
    }
   ],
   "source": [
    "# 1018\n",
    "\n",
    "h, w = map(int, input().split())\n",
    "\n",
    "plate = [list(input()) for i in range(h)]\n",
    "\n",
    "num = 10 * 10\n",
    "\n",
    "for a in range(h-7):\n",
    "    for b in range(w-7):\n",
    "        \n",
    "        cnt1, cnt2 = 0, 0\n",
    "        \n",
    "        for i in range(a, a+8):\n",
    "            for j in range(b, b+8):\n",
    "                \n",
    "                if (i+j-a-b) % 2 == 0 and plate[i][j] == 'B':\n",
    "                    cnt1 += 1\n",
    "                elif (i+j-a-b) % 2 != 0 and plate[i][j] == 'W':\n",
    "                    cnt1 += 1\n",
    "                    \n",
    "        for i in range(a, a+8):\n",
    "            for j in range(b, b+8):\n",
    "                \n",
    "                if (i+j-a-b) % 2 == 0 and plate[i][j] == 'W':\n",
    "                    cnt2 += 1\n",
    "                elif (i+j-a-b) % 2 != 0 and plate[i][j] == 'B':\n",
    "                    cnt2 += 1\n",
    "                    \n",
    "        if cnt1 < cnt2:\n",
    "            ans = cnt1\n",
    "        else:\n",
    "            ans = cnt2\n",
    "            \n",
    "        \n",
    "        if ans < num:\n",
    "            num = ans\n",
    "            \n",
    "print(num)"
   ]
  },
  {
   "cell_type": "code",
   "execution_count": null,
   "metadata": {},
   "outputs": [],
   "source": []
  },
  {
   "cell_type": "code",
   "execution_count": null,
   "metadata": {},
   "outputs": [],
   "source": []
  },
  {
   "cell_type": "code",
   "execution_count": null,
   "metadata": {},
   "outputs": [],
   "source": []
  }
 ],
 "metadata": {
  "kernelspec": {
   "display_name": "Python 3",
   "language": "python",
   "name": "python3"
  },
  "language_info": {
   "codemirror_mode": {
    "name": "ipython",
    "version": 3
   },
   "file_extension": ".py",
   "mimetype": "text/x-python",
   "name": "python",
   "nbconvert_exporter": "python",
   "pygments_lexer": "ipython3",
   "version": "3.7.3"
  }
 },
 "nbformat": 4,
 "nbformat_minor": 4
}
