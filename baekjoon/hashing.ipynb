{
 "cells": [
  {
   "cell_type": "code",
   "execution_count": 17,
   "metadata": {},
   "outputs": [
    {
     "name": "stdin",
     "output_type": "stream",
     "text": [
      " 1\n",
      " i\n"
     ]
    },
    {
     "name": "stdout",
     "output_type": "stream",
     "text": [
      "9\n"
     ]
    }
   ],
   "source": [
    "# 15829\n",
    "\n",
    "adict = {}\n",
    "alpha = [chr(ord('a')+i) for i in range(0, 26)]\n",
    "\n",
    "for i, alp in enumerate(alpha, 1):\n",
    "    adict[alp] = i\n",
    "\n",
    "n = int(input())\n",
    "word = list(input())\n",
    "\n",
    "cnt = 0\n",
    "for i, w in enumerate(word):\n",
    "    cnt += adict[w] * (31 ** i)\n",
    "    \n",
    "print(cnt % 1234567891)"
   ]
  },
  {
   "cell_type": "code",
   "execution_count": 47,
   "metadata": {},
   "outputs": [
    {
     "name": "stdin",
     "output_type": "stream",
     "text": [
      " 3 8\n",
      " 2010\n",
      " 2013\n",
      " 2013\n",
      " 2009\n",
      " 2014\n",
      " 0123\n",
      " 2009\n",
      " 20103\n"
     ]
    },
    {
     "name": "stdout",
     "output_type": "stream",
     "text": [
      "2010\n",
      "2013\n",
      "2014\n"
     ]
    }
   ],
   "source": [
    "# 13414\n",
    "\n",
    "n, m = map(int, input().split())\n",
    "d = [input() for _ in range(m)]\n",
    "\n",
    "sdict = {}\n",
    "\n",
    "for i in range(0, len(d)):\n",
    "    if d[i] in sdict:\n",
    "        del sdict[d[i]]\n",
    "        sdict[d[i]] = j+1\n",
    "    else:\n",
    "        sdict[d[i]] = i+1\n",
    "        j = i\n",
    "        \n",
    "for s in list(sdict.keys())[:n]:\n",
    "    print(s)"
   ]
  },
  {
   "cell_type": "code",
   "execution_count": null,
   "metadata": {},
   "outputs": [],
   "source": []
  },
  {
   "cell_type": "code",
   "execution_count": null,
   "metadata": {},
   "outputs": [],
   "source": []
  }
 ],
 "metadata": {
  "kernelspec": {
   "display_name": "Python 3",
   "language": "python",
   "name": "python3"
  },
  "language_info": {
   "codemirror_mode": {
    "name": "ipython",
    "version": 3
   },
   "file_extension": ".py",
   "mimetype": "text/x-python",
   "name": "python",
   "nbconvert_exporter": "python",
   "pygments_lexer": "ipython3",
   "version": "3.7.3"
  }
 },
 "nbformat": 4,
 "nbformat_minor": 4
}
