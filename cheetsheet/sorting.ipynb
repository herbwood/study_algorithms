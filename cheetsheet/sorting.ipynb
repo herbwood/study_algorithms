{
 "cells": [
  {
   "cell_type": "markdown",
   "metadata": {},
   "source": [
    "# Sorting"
   ]
  },
  {
   "cell_type": "markdown",
   "metadata": {},
   "source": [
    "## 선택 정렬(Selection Sort)\n",
    "\n",
    "- 처리되지 않은 데이터 중에서 가장 작은 데이터를 선택해 맨 앞에 있는 데이터와 바꾸는 것을 반복합니다. \n",
    "- 선택 정렬은 N번 만큼 가장 작은 수를 찾아서 맨 앞으로 보내야 합니다.\n",
    "- 구현 방식에 따라 사소한 오차는 있을 수 있지만 전체 연산 횟수는 다음과 같습니다. \n",
    "\n",
    "<div align=\"center\">$N + (N - 1) + (N - 2) + ... + 2$</div>\n",
    "\n",
    "- 이는 ${(N^2 + N - 2)} \\over 2$로 표현할 수 있는데, 빅오 표기법에 따라서 $O(N^2)$이라고 작성합니다. "
   ]
  },
  {
   "cell_type": "code",
   "execution_count": 1,
   "metadata": {},
   "outputs": [
    {
     "name": "stdout",
     "output_type": "stream",
     "text": [
      "[0, 1, 2, 3, 4, 5, 6, 7, 8, 9]\n"
     ]
    }
   ],
   "source": [
    "array = [7, 5, 9, 0, 3, 1, 6, 2, 4, 8]\n",
    "\n",
    "for i in range(len(array)):\n",
    "    min_index = i\n",
    "    for j in range(i+1, len(array)):\n",
    "        if array[min_index] > array[j]:\n",
    "            min_index = j\n",
    "    array[i], array[min_index] = array[min_index], array[i]\n",
    "    \n",
    "print(array)"
   ]
  },
  {
   "cell_type": "markdown",
   "metadata": {},
   "source": [
    "## 삽입 정렬(Insertion Sort)\n",
    "\n",
    "- 처리되지 않은 데이터를 하나씩 골라 적절한 위치에 삽입합니다\n",
    "- 선택 정렬에 비해 구현 난이도가 높은 편이지만 일반적으로 더 효율적으로 동작합니다. \n",
    "- 삽입 정렬의 시간 복잡도는 $O(N^2)$입니다\n",
    "- 삽입 정렬은 현재 리스트의 데이터가 거의 정렬되어 있는 상태라면 매우 빠르게 동작합니다.\n",
    "- 최선의 경우(이미 모두 정렬되어 있는 경우) $O(N)$의 시간 복잡도를 가집니다"
   ]
  },
  {
   "cell_type": "code",
   "execution_count": 9,
   "metadata": {},
   "outputs": [
    {
     "name": "stdout",
     "output_type": "stream",
     "text": [
      "[0, 1, 2, 3, 4, 5, 6, 7, 8, 9]\n"
     ]
    }
   ],
   "source": [
    "array = [7, 5, 9, 0, 3, 1, 6, 2, 4, 8]\n",
    "\n",
    "for i in range(1, len(array)):\n",
    "    for j in range(i, 0, -1):\n",
    "        if array[j] < array[j - 1]:\n",
    "            array[j], array[j - 1] = array[j - 1], array[j]\n",
    "        else:\n",
    "            break\n",
    "            \n",
    "print(array)"
   ]
  },
  {
   "cell_type": "markdown",
   "metadata": {},
   "source": [
    "## 퀵 정렬(Quick Sort)\n",
    "\n",
    "- 기준 데이터를 설정하고 그 기준보다 큰 데이터와 작은 데이터의 위치를 바꾸는 방법입니다. \n",
    "- 일반적인 상황에서 가장 많이 사용되는 정렬 알고리즘\n",
    "- 병합 정렬과 더불어 대부분의 프로그래밍 언어의 정렬 라이브러리의 근간이 되는 알고리즘\n",
    "- 가종 기본적인 퀵 정렬은 첫 번째 데이터를 기준 데이터(pivot)으로 설정합니다. \n",
    "- 이상적인 경우 분할이 절반씩 일어난다면 전체 연산 횟수로 $O(NlogN)$를 기대할 수 있습니다(너비 x 높이 = N x logN)\n",
    "- 퀵 정렬은 평균의 경우 $O(NlogN)$의 시간 복잡도를 가집니다.\n",
    "- 하지만 최악의 경우 $O(N^2)$의 시간 복잡도를 가집니다(피벗이 중간값이 아니라 편향된 값을 가질 경우 오래 걸림, 혹은 정렬되어 있는 경우) "
   ]
  },
  {
   "cell_type": "code",
   "execution_count": 5,
   "metadata": {},
   "outputs": [
    {
     "name": "stdout",
     "output_type": "stream",
     "text": [
      "[0, 1, 2, 3, 4, 5, 6, 7, 8, 9]\n",
      "[0, 1, 2, 3, 4, 5, 6, 7, 8, 9]\n"
     ]
    }
   ],
   "source": [
    "array = [5, 7, 9, 0, 3, 1, 6, 2, 4, 8]\n",
    "\n",
    "def quick_sort(array, start, end):\n",
    "    if start >= end:\n",
    "        return\n",
    "    \n",
    "    pivot = start # 피벗은 첫 번째 원소\n",
    "    left = start + 1\n",
    "    right = end\n",
    "    \n",
    "    while (left <= right):\n",
    "        \n",
    "        while (left <= end and array[left] <= array[pivot]):\n",
    "            left += 1\n",
    "            \n",
    "        while (right > start and array[right] >= array[pivot]):\n",
    "            right -= 1\n",
    "            \n",
    "        if (left > right):\n",
    "            array[right], array[pivot] = array[pivot], array[right]\n",
    "        else:\n",
    "            array[right], array[left] = array[left], array[right]\n",
    "            \n",
    "    quick_sort(array, start, right - 1)\n",
    "    quick_sort(array, right + 1, end)\n",
    "    \n",
    "quick_sort(array, 0, len(array) - 1)\n",
    "print(array)\n",
    "\n",
    "def quick_sort2(array):\n",
    "    \n",
    "    if len(array) <= 1:\n",
    "        return array\n",
    "    \n",
    "    pivot = array[0]\n",
    "    tail = array[1:]\n",
    "    \n",
    "    left_side = [x for x in tail if x <= pivot]\n",
    "    right_side = [x for x in tail if x > pivot]\n",
    "    \n",
    "    return quick_sort2(left_side) + [pivot] + quick_sort2(right_side)\n",
    "\n",
    "print(quick_sort2(array))"
   ]
  },
  {
   "cell_type": "code",
   "execution_count": null,
   "metadata": {},
   "outputs": [],
   "source": []
  }
 ],
 "metadata": {
  "kernelspec": {
   "display_name": "Python 3",
   "language": "python",
   "name": "python3"
  },
  "language_info": {
   "codemirror_mode": {
    "name": "ipython",
    "version": 3
   },
   "file_extension": ".py",
   "mimetype": "text/x-python",
   "name": "python",
   "nbconvert_exporter": "python",
   "pygments_lexer": "ipython3",
   "version": "3.7.6"
  }
 },
 "nbformat": 4,
 "nbformat_minor": 4
}
