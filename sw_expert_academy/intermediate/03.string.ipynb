{
 "cells": [
  {
   "cell_type": "markdown",
   "metadata": {},
   "source": [
    "String\n",
    "====\n",
    "\n",
    "### https://swexpertacademy.com/main/learn/course/subjectDetail.do?courseId=AVuPDN86AAXw5UW6&subjectId=AWOVGOEKqeoDFAWg"
   ]
  },
  {
   "cell_type": "markdown",
   "metadata": {},
   "source": [
    "#### 1. 문자열 비교"
   ]
  },
  {
   "cell_type": "code",
   "execution_count": 12,
   "metadata": {},
   "outputs": [
    {
     "name": "stdin",
     "output_type": "stream",
     "text": [
      " 1\n",
      " ZYJZXZTIBSDG\n",
      " TTXGZYJZXZTIBSDGWQLW\n"
     ]
    },
    {
     "name": "stdout",
     "output_type": "stream",
     "text": [
      "#1 1\n"
     ]
    }
   ],
   "source": [
    "T = int(input())\n",
    "\n",
    "for test_case in range(1, T+1):\n",
    "    str1 = input()\n",
    "    str2 = input()\n",
    "    \n",
    "    skip = str1[::-1]\n",
    "    \n",
    "    idx = len(str1) - 1\n",
    "    cnt = 0\n",
    "    while cnt != len(str1):\n",
    "        if len(str2)-1 < idx:\n",
    "            break\n",
    "        else:\n",
    "            if str2[idx] == skip[0]:\n",
    "                cnt += 1\n",
    "                idx -= 1\n",
    "                for j in range(1, len(str1)):\n",
    "                    if str2[idx] == skip[j]:\n",
    "                        cnt += 1\n",
    "                        idx -= 1\n",
    "                    else:\n",
    "                        cnt = 0\n",
    "                        break\n",
    "            else:\n",
    "                if str2[idx] in str1:\n",
    "                    idx += skip.index(str2[idx])\n",
    "                else:\n",
    "                    idx += len(str1)\n",
    "            \n",
    "    if cnt == len(str1):\n",
    "        print('#' + str(test_case), str(1))    \n",
    "    else:\n",
    "        print('#' + str(test_case), str(0))    "
   ]
  },
  {
   "cell_type": "markdown",
   "metadata": {},
   "source": [
    "#### 2. 회문"
   ]
  },
  {
   "cell_type": "code",
   "execution_count": 67,
   "metadata": {},
   "outputs": [
    {
     "name": "stdout",
     "output_type": "stream",
     "text": [
      "['G', 'O', 'F', 'F', 'A', 'K', 'W', 'F', 'S', 'M']\n",
      "['O', 'Y', 'E', 'C', 'R', 'S', 'L', 'D', 'L', 'Q']\n",
      "['U', 'J', 'A', 'J', 'Q', 'V', 'S', 'Y', 'Y', 'C']\n",
      "['J', 'A', 'E', 'Z', 'N', 'N', 'Z', 'E', 'A', 'J']\n",
      "#1 JAEZNNZEAJ\n"
     ]
    }
   ],
   "source": [
    "def row(n, m, blist):\n",
    "    \n",
    "    for b in blist:\n",
    "        cnt = 0\n",
    "        for i in range(0, n-m+1):\n",
    "            if b[i] == b[i+m-1]:\n",
    "                cnt += 1\n",
    "                for j in range(1, m//2):\n",
    "                    if b[i+j] == b[i+m-j-1]:\n",
    "                        cnt += 1\n",
    "                    else:\n",
    "                        break\n",
    "        if cnt == m//2:\n",
    "            break\n",
    "    \n",
    "    if cnt:\n",
    "        return [b[a] for a in range(i, i+m)]\n",
    "    else:\n",
    "        return 0\n",
    "\n",
    "def column(n, m, blist):\n",
    "    \n",
    "    for i in range(n):\n",
    "        cnt = 0\n",
    "        for j in range(0, n-m+1):\n",
    "            if blist[j][i] == blist[j+m-1][i]:\n",
    "                cnt += 1\n",
    "                for k in range(1, m//2):\n",
    "                    if blist[j+k][i] == blist[j+m-k-1][i]:\n",
    "                        cnt +=1\n",
    "                    else:\n",
    "                        break\n",
    "        if cnt == m//2:\n",
    "            break\n",
    "    if cnt:\n",
    "        return [blist[a][i] for a in range(j, j+m)]\n",
    "    else:\n",
    "        return 0\n",
    "    \n",
    "T = int(input())\n",
    "\n",
    "for test_case in range(1, T+1):\n",
    "    n, m = map(int, input().split())\n",
    "    blist = []\n",
    "    for ns in range(n):\n",
    "        str1 = input()\n",
    "        blist.append([x for x in str1])\n",
    "\n",
    "    sentence = row(n,m,blist)\n",
    "    if sentence == 0:\n",
    "        sentence = column(n,m,blist)\n",
    "    \n",
    "    print('#' + str(test_case), ''.join(sentence))"
   ]
  },
  {
   "cell_type": "markdown",
   "metadata": {},
   "source": [
    "#### 3. 글자 수"
   ]
  },
  {
   "cell_type": "code",
   "execution_count": 24,
   "metadata": {},
   "outputs": [
    {
     "name": "stdin",
     "output_type": "stream",
     "text": [
      " 1\n",
      " ASD\n",
      " ASDASDASAAWWW\n"
     ]
    },
    {
     "name": "stdout",
     "output_type": "stream",
     "text": [
      "#1 5\n"
     ]
    }
   ],
   "source": [
    "T = int(input())\n",
    "\n",
    "for test_case in range(1, T+1):\n",
    "    str1 = list(set(input()))\n",
    "    str2 = input()\n",
    "    clist = []\n",
    "    \n",
    "    for string in str1:\n",
    "        cnt = 0\n",
    "        for j in range(len(str2)):\n",
    "            if string == str2[j]:\n",
    "                cnt += 1\n",
    "        clist.append(cnt)\n",
    "        \n",
    "    print('#' + str(test_case), max(clist))"
   ]
  },
  {
   "cell_type": "code",
   "execution_count": 115,
   "metadata": {},
   "outputs": [
    {
     "name": "stdout",
     "output_type": "stream",
     "text": [
      "#1 TLMMHOOOHMMLT\n"
     ]
    }
   ],
   "source": [
    "with open('input.txt', 'r') as f:\n",
    "    line = f.readlines()\n",
    "    \n",
    "def row(n, m, blist):\n",
    "    \n",
    "    for b in blist:\n",
    "        cnt = 0\n",
    "        for i in range(0, n-m+1):\n",
    "            if b[i] == b[i+m-1]:\n",
    "                cnt += 1\n",
    "                for j in range(1, m//2):\n",
    "                    if b[i+j] == b[i+m-j-1]:\n",
    "                        cnt += 1\n",
    "                    else:\n",
    "                        break\n",
    "        if cnt == m//2:\n",
    "            break\n",
    "    \n",
    "    if cnt:\n",
    "        return [b[a] for a in range(i, i+m)]\n",
    "    else:\n",
    "        return 0\n",
    "\n",
    "def column(n, m, blist):\n",
    "    \n",
    "    for i in range(n):\n",
    "        cnt = 0\n",
    "        for j in range(0, n-m+1):\n",
    "            if blist[j][i] == blist[j+m-1][i]:\n",
    "                cnt += 1\n",
    "                for k in range(1, m//2):\n",
    "                    if blist[j+k][i] == blist[j+m-k-1][i]:\n",
    "                        cnt +=1\n",
    "                    else:\n",
    "                        break\n",
    "        if cnt == m//2:\n",
    "            break\n",
    "    if cnt:\n",
    "        return [blist[a][i] for a in range(j, j+m)]\n",
    "    else:\n",
    "        return 0\n",
    "\n",
    "T = int(line[0])\n",
    "\n",
    "for test_case in range(1, T+1):\n",
    "    n,m = map(int, line[1].split())\n",
    "    blist = []\n",
    "    for c in range(2,n+2):\n",
    "        str1 = line[c][:-1]\n",
    "        blist.append([x for x in str1])\n",
    "\n",
    "    sentence = row(n,m,blist)\n",
    "    if sentence == 0:\n",
    "        sentence = column(n,m,blist)\n",
    "    \n",
    "    print('#' + str(test_case), ''.join(sentence))"
   ]
  },
  {
   "cell_type": "code",
   "execution_count": 113,
   "metadata": {},
   "outputs": [
    {
     "name": "stdin",
     "output_type": "stream",
     "text": [
      " 1\n",
      " 3 3\n",
      " ASD\n",
      " JKJ\n",
      " ASD\n"
     ]
    },
    {
     "name": "stdout",
     "output_type": "stream",
     "text": [
      "#1 JKJ\n"
     ]
    }
   ],
   "source": []
  },
  {
   "cell_type": "code",
   "execution_count": null,
   "metadata": {},
   "outputs": [],
   "source": []
  }
 ],
 "metadata": {
  "kernelspec": {
   "display_name": "Python 3",
   "language": "python",
   "name": "python3"
  },
  "language_info": {
   "codemirror_mode": {
    "name": "ipython",
    "version": 3
   },
   "file_extension": ".py",
   "mimetype": "text/x-python",
   "name": "python",
   "nbconvert_exporter": "python",
   "pygments_lexer": "ipython3",
   "version": "3.7.3"
  }
 },
 "nbformat": 4,
 "nbformat_minor": 4
}
