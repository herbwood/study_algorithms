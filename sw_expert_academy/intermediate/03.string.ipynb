{
 "cells": [
  {
   "cell_type": "markdown",
   "metadata": {},
   "source": [
    "String\n",
    "====\n",
    "\n",
    "### https://swexpertacademy.com/main/learn/course/subjectDetail.do?courseId=AVuPDN86AAXw5UW6&subjectId=AWOVGOEKqeoDFAWg"
   ]
  },
  {
   "cell_type": "markdown",
   "metadata": {},
   "source": [
    "#### 1. 문자열 비교"
   ]
  },
  {
   "cell_type": "code",
   "execution_count": 12,
   "metadata": {},
   "outputs": [
    {
     "name": "stdin",
     "output_type": "stream",
     "text": [
      " 1\n",
      " ZYJZXZTIBSDG\n",
      " TTXGZYJZXZTIBSDGWQLW\n"
     ]
    },
    {
     "name": "stdout",
     "output_type": "stream",
     "text": [
      "#1 1\n"
     ]
    }
   ],
   "source": [
    "T = int(input())\n",
    "\n",
    "for test_case in range(1, T+1):\n",
    "    str1 = input()\n",
    "    str2 = input()\n",
    "    \n",
    "    bdict = {}\n",
    "    for i in range(len(str1)):\n",
    "        bdict[str1[len(str1)-i-1]] = i\n",
    "    \n",
    "    idx = len(str1)-1\n",
    "    cnt = 0\n",
    "    while cnt != len(str1):\n",
    "        if str2[idx] in bdict:\n",
    "            if str2[idx] == str1[-1]:\n",
    "                cnt += 1\n",
    "                idx -= 1\n",
    "                for j in range(1, len(str1)):\n",
    "                    if str2[idx] == str1[-1+j]:\n",
    "                        cnt += 1\n",
    "                        idx -= 1\n",
    "            else:\n",
    "                idx += bdict[str2[idx]]\n",
    "        else:\n",
    "            idx += len(str1)\n",
    "    \n",
    "    if cnt == len(str1):\n",
    "        print('#' + str(test_case), str(1))"
   ]
  },
  {
   "cell_type": "code",
   "execution_count": null,
   "metadata": {},
   "outputs": [],
   "source": []
  }
 ],
 "metadata": {
  "kernelspec": {
   "display_name": "Python 3",
   "language": "python",
   "name": "python3"
  },
  "language_info": {
   "codemirror_mode": {
    "name": "ipython",
    "version": 3
   },
   "file_extension": ".py",
   "mimetype": "text/x-python",
   "name": "python",
   "nbconvert_exporter": "python",
   "pygments_lexer": "ipython3",
   "version": "3.7.3"
  }
 },
 "nbformat": 4,
 "nbformat_minor": 4
}
