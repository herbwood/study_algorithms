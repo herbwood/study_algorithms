{
 "cells": [
  {
   "cell_type": "markdown",
   "metadata": {},
   "source": [
    "String\n",
    "====\n",
    "\n",
    "### https://swexpertacademy.com/main/learn/course/subjectDetail.do?courseId=AVuPDN86AAXw5UW6&subjectId=AWOVGOEKqeoDFAWg"
   ]
  },
  {
   "cell_type": "markdown",
   "metadata": {},
   "source": [
    "#### 1. 문자열 비교"
   ]
  },
  {
   "cell_type": "code",
   "execution_count": 12,
   "metadata": {},
   "outputs": [
    {
     "name": "stdin",
     "output_type": "stream",
     "text": [
      " 1\n",
      " ZYJZXZTIBSDG\n",
      " TTXGZYJZXZTIBSDGWQLW\n"
     ]
    },
    {
     "name": "stdout",
     "output_type": "stream",
     "text": [
      "#1 1\n"
     ]
    }
   ],
   "source": [
    "T = int(input())\n",
    "\n",
    "for test_case in range(1, T+1):\n",
    "    str1 = input()\n",
    "    str2 = input()\n",
    "    \n",
    "    skip = str1[::-1]\n",
    "    \n",
    "    idx = len(str1) - 1\n",
    "    cnt = 0\n",
    "    while cnt != len(str1):\n",
    "        if len(str2)-1 < idx:\n",
    "            break\n",
    "        else:\n",
    "            if str2[idx] == skip[0]:\n",
    "                cnt += 1\n",
    "                idx -= 1\n",
    "                for j in range(1, len(str1)):\n",
    "                    if str2[idx] == skip[j]:\n",
    "                        cnt += 1\n",
    "                        idx -= 1\n",
    "                    else:\n",
    "                        cnt = 0\n",
    "                        break\n",
    "            else:\n",
    "                if str2[idx] in str1:\n",
    "                    idx += skip.index(str2[idx])\n",
    "                else:\n",
    "                    idx += len(str1)\n",
    "            \n",
    "    if cnt == len(str1):\n",
    "        print('#' + str(test_case), str(1))    \n",
    "    else:\n",
    "        print('#' + str(test_case), str(0))    "
   ]
  },
  {
   "cell_type": "markdown",
   "metadata": {},
   "source": [
    "#### 2. 회문"
   ]
  },
  {
   "cell_type": "code",
   "execution_count": 60,
   "metadata": {},
   "outputs": [
    {
     "name": "stdin",
     "output_type": "stream",
     "text": [
      " 1\n",
      " 3 3\n",
      " ASD\n",
      " SPI\n",
      " ALK\n"
     ]
    },
    {
     "name": "stdout",
     "output_type": "stream",
     "text": [
      "A A\n",
      "#1 ASA\n"
     ]
    }
   ],
   "source": [
    "def row(m, n, blist):\n",
    "    result = 0\n",
    "    for b in blist:\n",
    "        cnt = 0\n",
    "        for i in range(m//2):\n",
    "            if b[i] == b[m-i-1]:\n",
    "                cnt += 1\n",
    "            else:\n",
    "                break\n",
    "                    \n",
    "        if cnt == m // 2:\n",
    "            result = b\n",
    "            break\n",
    "    return result\n",
    "\n",
    "def column(m, n, blist):\n",
    "    result = 0\n",
    "    for j in range(m):\n",
    "        cnt = 0\n",
    "        for k in range(n//2):\n",
    "            if blist[k][j] == blist[n-k-1][j]:\n",
    "                cnt += 1\n",
    "            else:\n",
    "                break\n",
    "            \n",
    "        if cnt == n // 2:\n",
    "            result = [blist[k][j] for k in range(n)]   \n",
    "            break\n",
    "            \n",
    "    return result\n",
    "    \n",
    "T = int(input())\n",
    "\n",
    "for test_case in range(1, T+1):\n",
    "    n, m = map(int, input().split())\n",
    "    blist = []\n",
    "    for ns in range(n):\n",
    "        str1 = input()\n",
    "        blist.append([x for x in str1])\n",
    "         \n",
    "    sentence = row(m,n,blist)\n",
    "    if sentence == 0:\n",
    "        sentence = column(m,n,blist)\n",
    "            \n",
    "    print('#' + str(test_case), ''.join(sentence))"
   ]
  },
  {
   "cell_type": "code",
   "execution_count": null,
   "metadata": {},
   "outputs": [],
   "source": []
  }
 ],
 "metadata": {
  "kernelspec": {
   "display_name": "Python 3",
   "language": "python",
   "name": "python3"
  },
  "language_info": {
   "codemirror_mode": {
    "name": "ipython",
    "version": 3
   },
   "file_extension": ".py",
   "mimetype": "text/x-python",
   "name": "python",
   "nbconvert_exporter": "python",
   "pygments_lexer": "ipython3",
   "version": "3.7.3"
  }
 },
 "nbformat": 4,
 "nbformat_minor": 4
}
