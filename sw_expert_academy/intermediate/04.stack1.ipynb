{
 "cells": [
  {
   "cell_type": "markdown",
   "metadata": {},
   "source": [
    "Stack1\n",
    "===\n",
    "\n",
    "#### https://swexpertacademy.com/main/learn/course/subjectDetail.do?courseId=AVuPDN86AAXw5UW6&subjectId=AWOVHzyqqe8DFAWg"
   ]
  },
  {
   "cell_type": "markdown",
   "metadata": {},
   "source": [
    "#### 1. 종이 붙이기"
   ]
  },
  {
   "cell_type": "code",
   "execution_count": 10,
   "metadata": {},
   "outputs": [
    {
     "name": "stdin",
     "output_type": "stream",
     "text": [
      " 3\n",
      " 30\n"
     ]
    },
    {
     "name": "stdout",
     "output_type": "stream",
     "text": [
      "#1 5\n"
     ]
    },
    {
     "name": "stdin",
     "output_type": "stream",
     "text": [
      " 50\n"
     ]
    },
    {
     "name": "stdout",
     "output_type": "stream",
     "text": [
      "#2 21\n"
     ]
    },
    {
     "name": "stdin",
     "output_type": "stream",
     "text": [
      " 70\n"
     ]
    },
    {
     "name": "stdout",
     "output_type": "stream",
     "text": [
      "#3 85\n"
     ]
    }
   ],
   "source": [
    "def recurseBlock(n):\n",
    "    if n < 0:\n",
    "        return 0\n",
    "    elif (n == 0) or (n == 1):\n",
    "        return 1\n",
    "    return recurseBlock(n-1) + 2 * recurseBlock(n-2)\n",
    "\n",
    "T = int(input())\n",
    "\n",
    "for test_case in range(1, T+1):\n",
    "    n = int(input()) // 10\n",
    "    print('#%d %d' %(test_case, recurseBlock(n)))"
   ]
  },
  {
   "cell_type": "markdown",
   "metadata": {},
   "source": [
    "#### 2. 괄호검사"
   ]
  },
  {
   "cell_type": "code",
   "execution_count": 57,
   "metadata": {},
   "outputs": [
    {
     "name": "stdin",
     "output_type": "stream",
     "text": [
      " 3\n",
      " print('{} {}'.format(1, 2))\n"
     ]
    },
    {
     "name": "stdout",
     "output_type": "stream",
     "text": [
      "#1 1\n"
     ]
    },
    {
     "name": "stdin",
     "output_type": "stream",
     "text": [
      " N, M = map(int, input().split())\n"
     ]
    },
    {
     "name": "stdout",
     "output_type": "stream",
     "text": [
      "#2 1\n"
     ]
    },
    {
     "name": "stdin",
     "output_type": "stream",
     "text": [
      " print('#{} {}'.format(tc, find())\n"
     ]
    },
    {
     "name": "stdout",
     "output_type": "stream",
     "text": [
      "#3 0\n"
     ]
    }
   ],
   "source": [
    "openb = ['{', '(']\n",
    "closeb = ['}', ')']\n",
    "T = int(input())\n",
    "\n",
    "for test_case in range(1, T+1):\n",
    "    blist = []\n",
    "    str1 = input()\n",
    "    \n",
    "    for i in range(len(str1)):\n",
    "        if str1[i] in openb:\n",
    "            blist.append(str1[i])\n",
    "        elif str1[i] in closeb:\n",
    "            if len(blist) != 0:\n",
    "                idx = closeb.index(str1[i])\n",
    "                if blist[-1] == openb[idx]:\n",
    "                    blist.pop()\n",
    "                else:\n",
    "                    break\n",
    "            else:\n",
    "                blist.append(str1[i])\n",
    "                break\n",
    "        else:\n",
    "            if len(str1) == 1:\n",
    "                blist.append(str1[i])\n",
    "                break\n",
    "    \n",
    "    if len(blist) == 0:\n",
    "        answer = 1\n",
    "    else:\n",
    "        answer = 0\n",
    "        \n",
    "    print('#' + str(test_case), answer)"
   ]
  },
  {
   "cell_type": "markdown",
   "metadata": {},
   "source": [
    "#### 3. 그래프 경로"
   ]
  },
  {
   "cell_type": "code",
   "execution_count": 6,
   "metadata": {},
   "outputs": [
    {
     "name": "stdin",
     "output_type": "stream",
     "text": [
      " 1\n",
      " 6 5\n",
      " 1 3\n",
      " 1 4\n",
      " 2 3\n",
      " 2 5\n",
      " 4 6\n",
      " 1 6\n"
     ]
    },
    {
     "name": "stdout",
     "output_type": "stream",
     "text": [
      "#1 1\n"
     ]
    }
   ],
   "source": [
    "def dfs(graph, start):\n",
    "    visited = []\n",
    "    stack = [start]\n",
    "    \n",
    "    while stack:\n",
    "        n = stack.pop()\n",
    "        if n not in visited:\n",
    "            visited.append(n)\n",
    "            stack += bdict[n]\n",
    "    \n",
    "    if end in visited:\n",
    "        return 1\n",
    "    else:\n",
    "        return 0\n",
    "\n",
    "T = int(input())\n",
    "\n",
    "for test_case in range(1, T+1):\n",
    "    v,e = map(int, input().split())\n",
    "    bdict = {}\n",
    "    for i in range(e):\n",
    "        key, value = map(int, input().split())\n",
    "        if key in bdict.keys():\n",
    "            bdict[key].append(value)\n",
    "        else:\n",
    "            bdict[key] = [value]\n",
    "            \n",
    "    start, end = map(int, input().split())\n",
    "    \n",
    "    result = dfs(bdict, start)\n",
    "    \n",
    "    print('#%d %d' %(test_case, result))"
   ]
  },
  {
   "cell_type": "markdown",
   "metadata": {},
   "source": [
    "# "
   ]
  },
  {
   "cell_type": "code",
   "execution_count": null,
   "metadata": {},
   "outputs": [],
   "source": []
  },
  {
   "cell_type": "code",
   "execution_count": null,
   "metadata": {},
   "outputs": [],
   "source": []
  }
 ],
 "metadata": {
  "kernelspec": {
   "display_name": "Python 3",
   "language": "python",
   "name": "python3"
  },
  "language_info": {
   "codemirror_mode": {
    "name": "ipython",
    "version": 3
   },
   "file_extension": ".py",
   "mimetype": "text/x-python",
   "name": "python",
   "nbconvert_exporter": "python",
   "pygments_lexer": "ipython3",
   "version": "3.7.3"
  }
 },
 "nbformat": 4,
 "nbformat_minor": 4
}
