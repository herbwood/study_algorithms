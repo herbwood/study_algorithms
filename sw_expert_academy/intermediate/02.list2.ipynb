{
 "cells": [
  {
   "cell_type": "markdown",
   "metadata": {},
   "source": [
    "## List2\n",
    "\n",
    "### https://swexpertacademy.com/main/learn/course/subjectDetail.do?courseId=AVuPDN86AAXw5UW6&subjectId=AWOVF-WqqecDFAWg"
   ]
  },
  {
   "cell_type": "markdown",
   "metadata": {},
   "source": [
    "#### 1. 색칠하기"
   ]
  },
  {
   "cell_type": "code",
   "execution_count": 22,
   "metadata": {},
   "outputs": [
    {
     "name": "stdin",
     "output_type": "stream",
     "text": [
      " 3\n",
      " 2\n",
      " 2 2 4 4 1\n",
      " 3 3 6 6 2\n"
     ]
    },
    {
     "name": "stdout",
     "output_type": "stream",
     "text": [
      "#1 4\n"
     ]
    },
    {
     "name": "stdin",
     "output_type": "stream",
     "text": [
      " 3\n",
      " 1 2 3 3 1\n",
      " 3 6 6 8 1\n",
      " 2 3 5 6 2\n"
     ]
    },
    {
     "name": "stdout",
     "output_type": "stream",
     "text": [
      "#2 5\n"
     ]
    },
    {
     "name": "stdin",
     "output_type": "stream",
     "text": [
      " 3\n",
      " 1 4 8 5 1\n",
      " 1 8 3 9 1\n",
      " 3 2 5 8 2\n"
     ]
    },
    {
     "name": "stdout",
     "output_type": "stream",
     "text": [
      "#3 7\n"
     ]
    }
   ],
   "source": [
    "T = int(input())\n",
    "for test_case in range(1, T+1):\n",
    "    num = int(input())\n",
    "    block = [[0] * 10 for i in range(10)]\n",
    "    \n",
    "    for n in range(num):\n",
    "        r1, c1, r2, c2, color = map(int, input().split())\n",
    "        for r in range(r1, r2+1):\n",
    "            for c in range(c1, c2+1):\n",
    "                block[r][c] += color\n",
    "        cnt = 0\n",
    "        for bl in block:\n",
    "            cnt += bl.count(3)\n",
    "                \n",
    "    print('#' + str(test_case), str(cnt))"
   ]
  },
  {
   "cell_type": "markdown",
   "metadata": {},
   "source": [
    "#### 2. 부분집합의 합"
   ]
  },
  {
   "cell_type": "code",
   "execution_count": 2,
   "metadata": {},
   "outputs": [
    {
     "name": "stdin",
     "output_type": "stream",
     "text": [
      " 3\n",
      " 3 6\n"
     ]
    },
    {
     "name": "stdout",
     "output_type": "stream",
     "text": [
      "#1 1\n"
     ]
    },
    {
     "name": "stdin",
     "output_type": "stream",
     "text": [
      " 5 15\n"
     ]
    },
    {
     "name": "stdout",
     "output_type": "stream",
     "text": [
      "#2 1\n"
     ]
    },
    {
     "name": "stdin",
     "output_type": "stream",
     "text": [
      " 5 10\n"
     ]
    },
    {
     "name": "stdout",
     "output_type": "stream",
     "text": [
      "#3 0\n"
     ]
    }
   ],
   "source": [
    "arr = [i for i in range(1, 13)]\n",
    "blist = []\n",
    "for i in range(1 << len(arr)):\n",
    "    blist.append([arr[j] for j in range(len(arr)) if (i & (1 << j))])\n",
    "\n",
    "T = int(input())\n",
    "\n",
    "for test_case in range(1, T+1):\n",
    "    n, k = map(int, input().split())\n",
    "    cnt = 0\n",
    "    for b in blist:\n",
    "        if (len(b) == n) and sum(b) == k:\n",
    "            cnt += 1\n",
    "    print('#' + str(test_case), str(cnt))"
   ]
  },
  {
   "cell_type": "markdown",
   "metadata": {},
   "source": [
    "#### 3. 이진탐색"
   ]
  },
  {
   "cell_type": "code",
   "execution_count": 21,
   "metadata": {},
   "outputs": [
    {
     "name": "stdin",
     "output_type": "stream",
     "text": [
      " 1\n",
      " 1000 222 888\n"
     ]
    },
    {
     "ename": "KeyboardInterrupt",
     "evalue": "",
     "output_type": "error",
     "traceback": [
      "\u001b[1;31m---------------------------------------------------------------------------\u001b[0m",
      "\u001b[1;31mKeyboardInterrupt\u001b[0m                         Traceback (most recent call last)",
      "\u001b[1;32m<ipython-input-21-71064d0eac58>\u001b[0m in \u001b[0;36m<module>\u001b[1;34m\u001b[0m\n\u001b[0;32m     13\u001b[0m         \u001b[1;32mwhile\u001b[0m \u001b[0mc\u001b[0m \u001b[1;33m!=\u001b[0m \u001b[0mi\u001b[0m\u001b[1;33m:\u001b[0m\u001b[1;33m\u001b[0m\u001b[1;33m\u001b[0m\u001b[0m\n\u001b[0;32m     14\u001b[0m             \u001b[1;32mif\u001b[0m \u001b[0mc\u001b[0m \u001b[1;33m>\u001b[0m \u001b[0mi\u001b[0m\u001b[1;33m:\u001b[0m\u001b[1;33m\u001b[0m\u001b[1;33m\u001b[0m\u001b[0m\n\u001b[1;32m---> 15\u001b[1;33m                 \u001b[0mc\u001b[0m \u001b[1;33m=\u001b[0m \u001b[0mint\u001b[0m\u001b[1;33m(\u001b[0m\u001b[1;33m(\u001b[0m\u001b[0mstart\u001b[0m \u001b[1;33m+\u001b[0m \u001b[0mc\u001b[0m\u001b[1;33m)\u001b[0m\u001b[1;33m/\u001b[0m\u001b[1;36m2\u001b[0m\u001b[1;33m)\u001b[0m\u001b[1;33m\u001b[0m\u001b[1;33m\u001b[0m\u001b[0m\n\u001b[0m\u001b[0;32m     16\u001b[0m                 \u001b[0mcnt\u001b[0m \u001b[1;33m+=\u001b[0m \u001b[1;36m1\u001b[0m\u001b[1;33m\u001b[0m\u001b[1;33m\u001b[0m\u001b[0m\n\u001b[0;32m     17\u001b[0m             \u001b[1;32melif\u001b[0m \u001b[0mc\u001b[0m \u001b[1;33m<\u001b[0m \u001b[0mi\u001b[0m\u001b[1;33m:\u001b[0m\u001b[1;33m\u001b[0m\u001b[1;33m\u001b[0m\u001b[0m\n",
      "\u001b[1;31mKeyboardInterrupt\u001b[0m: "
     ]
    }
   ],
   "source": [
    "T = int(input())\n",
    "\n",
    "for test_case in range(1, T+1):\n",
    "    end, a, b = map(int, input().split())\n",
    "    start = 1\n",
    "    blist = []\n",
    "    \n",
    "    c0 = start\n",
    "    \n",
    "    c = int((end+start)/2)\n",
    "    cnt = 1\n",
    "    \n",
    "    for i in [a, b]:\n",
    "        while c != i:\n",
    "            if c > i:\n",
    "                c = int((start + c)/2)\n",
    "                cnt += 1\n",
    "            elif c < i:\n",
    "                c0 = c\n",
    "                c = int((end + c)/2)\n",
    "                cnt += 1\n",
    "        blist.append(cnt)\n",
    "    if blist[0] < blist[1]:\n",
    "        print('#' + str(test_case), 'A')\n",
    "    elif blist[0] > blist[1]:\n",
    "        print('#' + str(test_case), 'B')\n",
    "    else:\n",
    "        print('#' + str(test_case), '0')"
   ]
  },
  {
   "cell_type": "code",
   "execution_count": 18,
   "metadata": {},
   "outputs": [
    {
     "name": "stdin",
     "output_type": "stream",
     "text": [
      " 3\n",
      " 400 300 350\n"
     ]
    },
    {
     "name": "stdout",
     "output_type": "stream",
     "text": [
      "#1 A\n"
     ]
    },
    {
     "name": "stdin",
     "output_type": "stream",
     "text": [
      " 1000 299 578\n"
     ]
    },
    {
     "name": "stdout",
     "output_type": "stream",
     "text": [
      "#2 0\n"
     ]
    },
    {
     "name": "stdin",
     "output_type": "stream",
     "text": [
      " 1000 222 888\n"
     ]
    },
    {
     "name": "stdout",
     "output_type": "stream",
     "text": [
      "#3 A\n"
     ]
    }
   ],
   "source": [
    "T = int(input())\n",
    "\n",
    "for test_case in range(1, T+1):\n",
    "    end, a, b = map(int, input().split())\n",
    "    start = c0 = 1\n",
    "    c1 = end\n",
    "    blist = []\n",
    "    \n",
    "    for i in [a, b]:\n",
    "        c0 = start\n",
    "        c1 = end\n",
    "        cnt = 1\n",
    "        c = int((c1+c0)/2)\n",
    "        while c != i:\n",
    "            if i < c:\n",
    "                c1 = c\n",
    "                cnt += 1\n",
    "                \n",
    "            elif c < i:\n",
    "                c0 = c\n",
    "                cnt += 1\n",
    "            c = int((c0 + c1)/2)\n",
    "            \n",
    "        blist.append(cnt)\n",
    "    if blist[0] < blist[1]:\n",
    "        print('#' + str(test_case), 'A')\n",
    "    elif blist[0] > blist[1]:\n",
    "        print('#' + str(test_case), 'B')\n",
    "    else:\n",
    "        print('#' + str(test_case), '0')"
   ]
  },
  {
   "cell_type": "code",
   "execution_count": 6,
   "metadata": {},
   "outputs": [
    {
     "name": "stdin",
     "output_type": "stream",
     "text": [
      " 1\n",
      " 1000 299 578\n"
     ]
    },
    {
     "name": "stdout",
     "output_type": "stream",
     "text": [
      "10\n"
     ]
    }
   ],
   "source": [
    "T = int(input())\n",
    "\n",
    "for test_case in range(1, T+1):\n",
    "    c1, a, b = map(int, input().split())\n",
    "    c0 = 1\n",
    "    blist = []\n",
    "    cnt = 0\n",
    "    \n",
    "    c = int((c0 + c1)/2)\n",
    "    cnt += 1\n",
    "    \n",
    "    while c != b:\n",
    "        if b < c:\n",
    "            c1 = c\n",
    "            cnt += 1\n",
    "        else :\n",
    "            c0 = c\n",
    "            cnt += 1\n",
    "        c = int((c0 + c1)/2)\n",
    "        \n",
    "    print(cnt)"
   ]
  },
  {
   "cell_type": "code",
   "execution_count": 10,
   "metadata": {},
   "outputs": [
    {
     "name": "stdout",
     "output_type": "stream",
     "text": [
      "300\n",
      "500\n"
     ]
    }
   ],
   "source": [
    "a = 300\n",
    "b = 500\n",
    "for i in [a,b]:\n",
    "    print(i)"
   ]
  },
  {
   "cell_type": "code",
   "execution_count": null,
   "metadata": {},
   "outputs": [],
   "source": []
  }
 ],
 "metadata": {
  "kernelspec": {
   "display_name": "Python 3",
   "language": "python",
   "name": "python3"
  },
  "language_info": {
   "codemirror_mode": {
    "name": "ipython",
    "version": 3
   },
   "file_extension": ".py",
   "mimetype": "text/x-python",
   "name": "python",
   "nbconvert_exporter": "python",
   "pygments_lexer": "ipython3",
   "version": "3.7.3"
  }
 },
 "nbformat": 4,
 "nbformat_minor": 4
}
