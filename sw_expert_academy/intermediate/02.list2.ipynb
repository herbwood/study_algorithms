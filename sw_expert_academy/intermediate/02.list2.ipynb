{
 "cells": [
  {
   "cell_type": "markdown",
   "metadata": {},
   "source": [
    "## List2\n",
    "\n",
    "### https://swexpertacademy.com/main/learn/course/subjectDetail.do?courseId=AVuPDN86AAXw5UW6&subjectId=AWOVF-WqqecDFAWg"
   ]
  },
  {
   "cell_type": "markdown",
   "metadata": {},
   "source": [
    "#### 1. 색칠하기"
   ]
  },
  {
   "cell_type": "code",
   "execution_count": 22,
   "metadata": {},
   "outputs": [
    {
     "name": "stdin",
     "output_type": "stream",
     "text": [
      " 3\n",
      " 2\n",
      " 2 2 4 4 1\n",
      " 3 3 6 6 2\n"
     ]
    },
    {
     "name": "stdout",
     "output_type": "stream",
     "text": [
      "#1 4\n"
     ]
    },
    {
     "name": "stdin",
     "output_type": "stream",
     "text": [
      " 3\n",
      " 1 2 3 3 1\n",
      " 3 6 6 8 1\n",
      " 2 3 5 6 2\n"
     ]
    },
    {
     "name": "stdout",
     "output_type": "stream",
     "text": [
      "#2 5\n"
     ]
    },
    {
     "name": "stdin",
     "output_type": "stream",
     "text": [
      " 3\n",
      " 1 4 8 5 1\n",
      " 1 8 3 9 1\n",
      " 3 2 5 8 2\n"
     ]
    },
    {
     "name": "stdout",
     "output_type": "stream",
     "text": [
      "#3 7\n"
     ]
    }
   ],
   "source": [
    "T = int(input())\n",
    "for test_case in range(1, T+1):\n",
    "    num = int(input())\n",
    "    block = [[0] * 10 for i in range(10)]\n",
    "    \n",
    "    for n in range(num):\n",
    "        r1, c1, r2, c2, color = map(int, input().split())\n",
    "        for r in range(r1, r2+1):\n",
    "            for c in range(c1, c2+1):\n",
    "                block[r][c] += color\n",
    "        cnt = 0\n",
    "        for bl in block:\n",
    "            cnt += bl.count(3)\n",
    "                \n",
    "    print('#' + str(test_case), str(cnt))"
   ]
  },
  {
   "cell_type": "markdown",
   "metadata": {},
   "source": [
    "#### 2. 부분집합의 합"
   ]
  },
  {
   "cell_type": "code",
   "execution_count": 2,
   "metadata": {},
   "outputs": [
    {
     "name": "stdin",
     "output_type": "stream",
     "text": [
      " 3\n",
      " 3 6\n"
     ]
    },
    {
     "name": "stdout",
     "output_type": "stream",
     "text": [
      "#1 1\n"
     ]
    },
    {
     "name": "stdin",
     "output_type": "stream",
     "text": [
      " 5 15\n"
     ]
    },
    {
     "name": "stdout",
     "output_type": "stream",
     "text": [
      "#2 1\n"
     ]
    },
    {
     "name": "stdin",
     "output_type": "stream",
     "text": [
      " 5 10\n"
     ]
    },
    {
     "name": "stdout",
     "output_type": "stream",
     "text": [
      "#3 0\n"
     ]
    }
   ],
   "source": [
    "arr = [i for i in range(1, 13)]\n",
    "blist = []\n",
    "for i in range(1 << len(arr)):\n",
    "    blist.append([arr[j] for j in range(len(arr)) if (i & (1 << j))])\n",
    "\n",
    "T = int(input())\n",
    "\n",
    "for test_case in range(1, T+1):\n",
    "    n, k = map(int, input().split())\n",
    "    cnt = 0\n",
    "    for b in blist:\n",
    "        if (len(b) == n) and sum(b) == k:\n",
    "            cnt += 1\n",
    "    print('#' + str(test_case), str(cnt))"
   ]
  },
  {
   "cell_type": "markdown",
   "metadata": {},
   "source": [
    "#### 3. 이진탐색"
   ]
  },
  {
   "cell_type": "code",
   "execution_count": 19,
   "metadata": {},
   "outputs": [
    {
     "name": "stdin",
     "output_type": "stream",
     "text": [
      " 3\n",
      " 400 300 350\n"
     ]
    },
    {
     "name": "stdout",
     "output_type": "stream",
     "text": [
      "#1 A\n"
     ]
    },
    {
     "name": "stdin",
     "output_type": "stream",
     "text": [
      " 1000 299 578\n"
     ]
    },
    {
     "name": "stdout",
     "output_type": "stream",
     "text": [
      "#2 0\n"
     ]
    },
    {
     "name": "stdin",
     "output_type": "stream",
     "text": [
      " 1000 222 888\n"
     ]
    },
    {
     "name": "stdout",
     "output_type": "stream",
     "text": [
      "#3 A\n"
     ]
    }
   ],
   "source": [
    "T = int(input())\n",
    "\n",
    "for test_case in range(1, T+1):\n",
    "    end, a, b = map(int, input().split())\n",
    "    start = 1\n",
    "    blist = []\n",
    "    \n",
    "    for i in [a, b]:\n",
    "        c0 = start\n",
    "        c1 = end\n",
    "        cnt = 1\n",
    "        c = int((c1+c0)/2)\n",
    "        while c != i:\n",
    "            if i < c:\n",
    "                c1 = c\n",
    "                cnt += 1\n",
    "                \n",
    "            elif c < i:\n",
    "                c0 = c\n",
    "                cnt += 1\n",
    "            c = int((c0 + c1)/2)\n",
    "            \n",
    "        blist.append(cnt)\n",
    "    if blist[0] < blist[1]:\n",
    "        print('#' + str(test_case), 'A')\n",
    "    elif blist[0] > blist[1]:\n",
    "        print('#' + str(test_case), 'B')\n",
    "    else:\n",
    "        print('#' + str(test_case), '0')"
   ]
  },
  {
   "cell_type": "markdown",
   "metadata": {},
   "source": [
    "#### 4. 특별한 정렬"
   ]
  },
  {
   "cell_type": "code",
   "execution_count": 49,
   "metadata": {},
   "outputs": [
    {
     "name": "stdin",
     "output_type": "stream",
     "text": [
      " 3\n",
      " 10 \n",
      " 1 2 3 4 5 6 7 8 9 10\n"
     ]
    },
    {
     "name": "stdout",
     "output_type": "stream",
     "text": [
      "#1 10 1 9 2 8 3 7 4 6 5 "
     ]
    },
    {
     "name": "stdin",
     "output_type": "stream",
     "text": [
      " 10\n",
      " 67 39 16 49 60 28 8 85 89 11\n"
     ]
    },
    {
     "name": "stdout",
     "output_type": "stream",
     "text": [
      "#2 89 8 85 11 67 16 60 28 49 39 "
     ]
    },
    {
     "name": "stdin",
     "output_type": "stream",
     "text": [
      " 20\n",
      " 3 69 21 46 43 60 62 97 64 30 17 88 18 98 71 75 59 36 9 26\n"
     ]
    },
    {
     "name": "stdout",
     "output_type": "stream",
     "text": [
      "#3 98 3 97 9 88 17 75 18 71 21 "
     ]
    }
   ],
   "source": [
    "T = int(input())\n",
    "\n",
    "for test_case in range(1, T+1):\n",
    "    num = int(input())\n",
    "    n = [int(x) for x in input().split()]\n",
    "    \n",
    "    for i in range(0, len(n)-1):\n",
    "        for j in range(i+1, len(n)):\n",
    "            tmp = n[i]\n",
    "            if i % 2 == 0:\n",
    "                \n",
    "                if n[i] < n[j]:\n",
    "                    n[i] = n[j]\n",
    "                    n[j] = tmp\n",
    "            else:\n",
    "                if n[j] < n[i]:\n",
    "                    n[i] = n[j]\n",
    "                    n[j] = tmp\n",
    "                    \n",
    "    print('#' + str(test_case), end=' ')\n",
    "    for i in n[:10]:\n",
    "        print(i, end = ' ')\n",
    "    print(sep='\\n')"
   ]
  },
  {
   "cell_type": "code",
   "execution_count": null,
   "metadata": {},
   "outputs": [],
   "source": []
  }
 ],
 "metadata": {
  "kernelspec": {
   "display_name": "Python 3",
   "language": "python",
   "name": "python3"
  },
  "language_info": {
   "codemirror_mode": {
    "name": "ipython",
    "version": 3
   },
   "file_extension": ".py",
   "mimetype": "text/x-python",
   "name": "python",
   "nbconvert_exporter": "python",
   "pygments_lexer": "ipython3",
   "version": "3.7.3"
  }
 },
 "nbformat": 4,
 "nbformat_minor": 4
}
