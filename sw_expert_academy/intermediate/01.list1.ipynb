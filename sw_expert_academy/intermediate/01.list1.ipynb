{
 "cells": [
  {
   "cell_type": "markdown",
   "metadata": {},
   "source": [
    "## List1\n",
    "\n",
    "### https://swexpertacademy.com/main/learn/course/subjectDetail.do?courseId=AVuPDN86AAXw5UW6&subjectId=AWOVFCzaqeUDFAWg"
   ]
  },
  {
   "cell_type": "markdown",
   "metadata": {},
   "source": [
    "#### 1. min max"
   ]
  },
  {
   "cell_type": "code",
   "execution_count": 1,
   "metadata": {},
   "outputs": [
    {
     "name": "stdin",
     "output_type": "stream",
     "text": [
      " 3\n",
      " 2\n",
      " 32 322\n"
     ]
    },
    {
     "name": "stdout",
     "output_type": "stream",
     "text": [
      "#1 290\n"
     ]
    },
    {
     "name": "stdin",
     "output_type": "stream",
     "text": [
      " 4\n",
      " 32 22 69 100\n"
     ]
    },
    {
     "name": "stdout",
     "output_type": "stream",
     "text": [
      "#2 78\n"
     ]
    },
    {
     "name": "stdin",
     "output_type": "stream",
     "text": [
      " 3\n",
      " 111 234234 211232\n"
     ]
    },
    {
     "name": "stdout",
     "output_type": "stream",
     "text": [
      "#3 234123\n"
     ]
    }
   ],
   "source": [
    "num = int(input())\n",
    "for i in range(num):\n",
    "    inte = int(input())\n",
    "    blist = [int(x) for x in input().split()]\n",
    "    print(str('#') + str(i+1), str(max(blist) - min(blist)))"
   ]
  },
  {
   "cell_type": "markdown",
   "metadata": {},
   "source": [
    "#### 2. 전기 버스"
   ]
  },
  {
   "cell_type": "code",
   "execution_count": 14,
   "metadata": {},
   "outputs": [
    {
     "name": "stdin",
     "output_type": "stream",
     "text": [
      " 3\n",
      " 3 10 5\n",
      " 1 3 5 7 9\n"
     ]
    },
    {
     "name": "stdout",
     "output_type": "stream",
     "text": [
      "#1 3\n"
     ]
    },
    {
     "name": "stdin",
     "output_type": "stream",
     "text": [
      " 3 10 5\n",
      " 1 3 7 8 9\n"
     ]
    },
    {
     "name": "stdout",
     "output_type": "stream",
     "text": [
      "#2 0\n"
     ]
    },
    {
     "name": "stdin",
     "output_type": "stream",
     "text": [
      " 5 20 5\n",
      " 4 7 9 14 17\n"
     ]
    },
    {
     "name": "stdout",
     "output_type": "stream",
     "text": [
      "#3 4\n"
     ]
    }
   ],
   "source": [
    "T = int(input())\n",
    "\n",
    "for t in range(1, T+1):\n",
    "    k, n, m = map(int, input().split())\n",
    "    charge = [int(x) for x in input().split()]\n",
    "    \n",
    "    bs = [0] * n\n",
    "    for c in charge:\n",
    "        bs[c] = 1\n",
    "    \n",
    "    cnt = 0\n",
    "    loc = k\n",
    "    while (n > loc):\n",
    "        if loc < 0:\n",
    "            break\n",
    "        else:\n",
    "            if bs[loc] == 1:\n",
    "                bs[loc] = 0\n",
    "                loc += k\n",
    "                cnt += 1\n",
    "            else:\n",
    "                loc -= 1\n",
    "    if loc < 0:\n",
    "        print('#' + str(t), str(0))\n",
    "    else:\n",
    "        print('#' + str(t), str(cnt))"
   ]
  },
  {
   "cell_type": "markdown",
   "metadata": {},
   "source": [
    "#### 3. 숫자 카드"
   ]
  },
  {
   "cell_type": "code",
   "execution_count": 12,
   "metadata": {},
   "outputs": [
    {
     "name": "stdin",
     "output_type": "stream",
     "text": [
      " 3\n",
      " 5\n",
      " 49679\n"
     ]
    },
    {
     "name": "stdout",
     "output_type": "stream",
     "text": [
      "#1 9 2\n"
     ]
    },
    {
     "name": "stdin",
     "output_type": "stream",
     "text": [
      " 5\n",
      " 08271\n"
     ]
    },
    {
     "name": "stdout",
     "output_type": "stream",
     "text": [
      "#2 8 1\n"
     ]
    },
    {
     "name": "stdin",
     "output_type": "stream",
     "text": [
      " 10\n",
      " 7797946543\n"
     ]
    },
    {
     "name": "stdout",
     "output_type": "stream",
     "text": [
      "#3 7 3\n"
     ]
    }
   ],
   "source": [
    "T = int(input())\n",
    "for test_case in range(1, T+1):\n",
    "    num = int(input())\n",
    "    card = sorted([int(x) for x in input()])\n",
    "    cntlist = [card.count(x) for x in card]\n",
    "    \n",
    "    idx = 0\n",
    "    for i in range(len(card)-1):\n",
    "        j = i + 1\n",
    "        if cntlist[j] >= cntlist[idx]:\n",
    "            idx = j\n",
    "            \n",
    "    print('#' + str(test_case), str(card[idx]), str(cntlist[idx]))"
   ]
  },
  {
   "cell_type": "markdown",
   "metadata": {},
   "source": [
    "#### 4. 구간합"
   ]
  },
  {
   "cell_type": "code",
   "execution_count": 24,
   "metadata": {},
   "outputs": [
    {
     "name": "stdin",
     "output_type": "stream",
     "text": [
      " 1\n",
      " 10 5\n",
      " 6262 6004 1801 7660 7919 1280 525 9798 5134 1821\n"
     ]
    },
    {
     "name": "stdout",
     "output_type": "stream",
     "text": [
      "0 29646 29646 29646\n",
      "1 54310 29646 54310\n",
      "2 73495 29646 73495\n",
      "3 100677 29646 100677\n",
      "4 125333 29646 125333\n",
      "#1 95687\n"
     ]
    }
   ],
   "source": [
    "T = int(input())\n",
    "for test_case in range(1, T+1):\n",
    "    num, ran = map(int, input().split())\n",
    "    card = [int(x) for x in input().split()]\n",
    "    mxsum, mnsum, isum = 0, 0, 0\n",
    "    for i in range(num-ran):\n",
    "        for j in range(i, i+ran):\n",
    "            isum += card[j]\n",
    "        if i == 0:\n",
    "            mnsum = isum\n",
    "            mxsum = isum\n",
    "        else:\n",
    "            if isum > mxsum:\n",
    "                mxsum = isum\n",
    "            if isum < mnsum:\n",
    "                mnsum = isum\n",
    "        print(i, mxsum, mnsum, isum)\n",
    "    print('#' + str(test_case), str(mxsum - mnsum))"
   ]
  },
  {
   "cell_type": "code",
   "execution_count": null,
   "metadata": {},
   "outputs": [],
   "source": []
  },
  {
   "cell_type": "code",
   "execution_count": null,
   "metadata": {},
   "outputs": [],
   "source": []
  }
 ],
 "metadata": {
  "kernelspec": {
   "display_name": "Python 3",
   "language": "python",
   "name": "python3"
  },
  "language_info": {
   "codemirror_mode": {
    "name": "ipython",
    "version": 3
   },
   "file_extension": ".py",
   "mimetype": "text/x-python",
   "name": "python",
   "nbconvert_exporter": "python",
   "pygments_lexer": "ipython3",
   "version": "3.7.3"
  }
 },
 "nbformat": 4,
 "nbformat_minor": 4
}
