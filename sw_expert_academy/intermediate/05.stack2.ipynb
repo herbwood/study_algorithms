{
 "cells": [
  {
   "cell_type": "markdown",
   "metadata": {},
   "source": [
    "Stack2\n",
    "====\n",
    "\n",
    "### https://swexpertacademy.com/main/learn/course/subjectDetail.do?courseId=AVuPDN86AAXw5UW6&subjectId=AWOVIc7KqfQDFAWg#"
   ]
  },
  {
   "cell_type": "markdown",
   "metadata": {},
   "source": [
    "#### 1. Forth"
   ]
  },
  {
   "cell_type": "code",
   "execution_count": 4,
   "metadata": {},
   "outputs": [
    {
     "name": "stdin",
     "output_type": "stream",
     "text": [
      " 1\n",
      " 1 5 8 10 3 4 + + 3 + * 2 + + + .\n"
     ]
    },
    {
     "name": "stdout",
     "output_type": "stream",
     "text": [
      "#1 168\n"
     ]
    }
   ],
   "source": [
    "def operators(op, num1, num2):\n",
    "    if op == '+':\n",
    "        return num1 + num2\n",
    "    elif op == '-':\n",
    "        return num1 - num2\n",
    "    elif op == '*':\n",
    "        return num1 * num2\n",
    "    elif op == '/':\n",
    "        return num1 / num2\n",
    "\n",
    "T = int(input())\n",
    "\n",
    "for test_case in range(1, T+1):\n",
    "    blist = [x for x in input().split()]\n",
    "    stack = []\n",
    "    error = 0\n",
    "    \n",
    "    for b in blist[:-1]:\n",
    "        if b.isnumeric():\n",
    "            stack.append(int(b))\n",
    "        else:\n",
    "            try:\n",
    "                num2= stack.pop()\n",
    "                num1 = stack.pop()\n",
    "                stack.append(int((operators(b, num1, num2))))\n",
    "            except:\n",
    "                error += 1\n",
    "    if error == 0 and len(stack) == 1:\n",
    "        result = str(stack[0])\n",
    "    elif error != 0 or len(stack) > 1:\n",
    "        result = 'error'\n",
    "        \n",
    "    print('#%d %s' %(test_case, result))"
   ]
  },
  {
   "cell_type": "markdown",
   "metadata": {},
   "source": [
    "#### 2. 미로"
   ]
  },
  {
   "cell_type": "code",
   "execution_count": 48,
   "metadata": {},
   "outputs": [
    {
     "name": "stdin",
     "output_type": "stream",
     "text": [
      " 1\n",
      " 5\n",
      " 13101\n",
      " 10101\n",
      " 10101\n",
      " 10101\n",
      " 10021\n"
     ]
    },
    {
     "name": "stdout",
     "output_type": "stream",
     "text": [
      "#1 1\n"
     ]
    }
   ],
   "source": [
    "def okey(y, x):\n",
    "    return (0<=y<n) and (0<=x<n) and (maze[y][x] == 0 or maze[y][x] == 3)\n",
    "\n",
    "def path(y, x):\n",
    "    global result\n",
    "    if maze[y][x] == 3:\n",
    "        result = 1\n",
    "        return \n",
    "    \n",
    "    visited.append((y, x))\n",
    "    \n",
    "    for i in range(4):\n",
    "        new_y = y + dy[i]\n",
    "        new_x = x + dx[i]\n",
    "        if okey(new_y, new_x) and (new_y, new_x) not in visited:\n",
    "            path(new_y, new_x)\n",
    "\n",
    "T = int(input())\n",
    "for test_case in range(1, T+1):\n",
    "    n = int(input())\n",
    "    maze = [list(map(int, input())) for _ in range(n)]\n",
    "\n",
    "    for i in range(n):\n",
    "        for j in range(n):\n",
    "            if maze[i][j] == 2:\n",
    "                y, x = i, j\n",
    "\n",
    "    #상, 하, 좌, 우\n",
    "    dy = [-1, 1, 0, 0]\n",
    "    dx = [0, 0, -1, 1]\n",
    "\n",
    "    visited = []\n",
    "    result = 0\n",
    "    path(y, x)\n",
    "    print('#%d %d'%(test_case, result))"
   ]
  },
  {
   "cell_type": "code",
   "execution_count": null,
   "metadata": {},
   "outputs": [],
   "source": []
  }
 ],
 "metadata": {
  "kernelspec": {
   "display_name": "Python 3",
   "language": "python",
   "name": "python3"
  },
  "language_info": {
   "codemirror_mode": {
    "name": "ipython",
    "version": 3
   },
   "file_extension": ".py",
   "mimetype": "text/x-python",
   "name": "python",
   "nbconvert_exporter": "python",
   "pygments_lexer": "ipython3",
   "version": "3.7.3"
  }
 },
 "nbformat": 4,
 "nbformat_minor": 4
}
