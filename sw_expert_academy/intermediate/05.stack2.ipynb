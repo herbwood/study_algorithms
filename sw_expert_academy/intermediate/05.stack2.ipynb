{
 "cells": [
  {
   "cell_type": "markdown",
   "metadata": {},
   "source": [
    "Stack2\n",
    "====\n",
    "\n",
    "### https://swexpertacademy.com/main/learn/course/subjectDetail.do?courseId=AVuPDN86AAXw5UW6&subjectId=AWOVIc7KqfQDFAWg#"
   ]
  },
  {
   "cell_type": "markdown",
   "metadata": {},
   "source": [
    "#### 1. Forth"
   ]
  },
  {
   "cell_type": "code",
   "execution_count": 4,
   "metadata": {},
   "outputs": [
    {
     "name": "stdin",
     "output_type": "stream",
     "text": [
      " 1\n",
      " 1 5 8 10 3 4 + + 3 + * 2 + + + .\n"
     ]
    },
    {
     "name": "stdout",
     "output_type": "stream",
     "text": [
      "#1 168\n"
     ]
    }
   ],
   "source": [
    "def operators(op, num1, num2):\n",
    "    if op == '+':\n",
    "        return num1 + num2\n",
    "    elif op == '-':\n",
    "        return num1 - num2\n",
    "    elif op == '*':\n",
    "        return num1 * num2\n",
    "    elif op == '/':\n",
    "        return num1 / num2\n",
    "\n",
    "T = int(input())\n",
    "\n",
    "for test_case in range(1, T+1):\n",
    "    blist = [x for x in input().split()]\n",
    "    stack = []\n",
    "    error = 0\n",
    "    \n",
    "    for b in blist[:-1]:\n",
    "        if b.isnumeric():\n",
    "            stack.append(int(b))\n",
    "        else:\n",
    "            try:\n",
    "                num2= stack.pop()\n",
    "                num1 = stack.pop()\n",
    "                stack.append(int((operators(b, num1, num2))))\n",
    "            except:\n",
    "                error += 1\n",
    "    if error == 0 and len(stack) == 1:\n",
    "        result = str(stack[0])\n",
    "    elif error != 0 or len(stack) > 1:\n",
    "        result = 'error'\n",
    "        \n",
    "    print('#%d %s' %(test_case, result))"
   ]
  },
  {
   "cell_type": "markdown",
   "metadata": {},
   "source": [
    "#### 2. 미로"
   ]
  },
  {
   "cell_type": "code",
   "execution_count": 15,
   "metadata": {},
   "outputs": [
    {
     "name": "stdin",
     "output_type": "stream",
     "text": [
      " 1\n",
      " 1\n",
      " 24234234234\n"
     ]
    },
    {
     "name": "stdout",
     "output_type": "stream",
     "text": [
      "[[2, 4, 2, 3, 4, 2, 3, 4, 2, 3, 4]]\n"
     ]
    }
   ],
   "source": [
    "def start(clist, n):\n",
    "    for i in range(n):\n",
    "        for j in range(n):\n",
    "            if clist[i][j] == 2:\n",
    "                return i, j\n",
    "    \n",
    "\n",
    "def path(x,y,n,maze,stack):\n",
    "    left, right, up, down = (x,y-1), (x, y+1), (x-1, y), (x+1, y)    \n",
    "    child = [left, right, up, down]\n",
    "    \n",
    "    for (a, b) in child:\n",
    "        if (a >= 0 and a < n) and (b >= 0 and b < n):\n",
    "            if maze[a][b] == 3:\n",
    "                return 1\n",
    "            elif maze[a][b] == 0:\n",
    "                stack.append((a,b))    \n",
    "    return stack + path(x,y,n,maze,stack)\n",
    "\n",
    "T = int(input())\n",
    "\n",
    "for test_case in range(1, T+1):\n",
    "    n = int(input())\n",
    "    stack = []\n",
    "    maze = []\n",
    "    for i in range(n):\n",
    "        str1 = input()\n",
    "        maze.append([int(str1[i]) for i in range(len(str1))])\n",
    "    \n",
    "    x, y = start(maze, n)\n",
    "    \n",
    "    \n",
    "maze = [[1, 0, 3],\n",
    "        [0, 1, 0],\n",
    "        [2, 0, 0]]\n",
    "\n",
    "'''n = 3\n",
    "x, y = start(maze, 3)\n",
    "stack = []\n",
    "stack.append((x, y))\n",
    "for i in range(10):\n",
    "    for p in path(x,y,n,maze):\n",
    "        if p not in stack:\n",
    "            stack.append(p)\n",
    "    x, y = stack[-1]\n",
    "\n",
    "    if len(path(x,y,n,maze)) == 0:\n",
    "        stack.pop()\n",
    "        x,y = stack[-1]\n",
    "    else:\n",
    "        for p in path(x,y,n,maze):\n",
    "            if p not in stack:\n",
    "                stack.append(p)\n",
    "        x,y = stack[-1]\n",
    "    print(stack)'''"
   ]
  },
  {
   "cell_type": "code",
   "execution_count": null,
   "metadata": {},
   "outputs": [],
   "source": []
  }
 ],
 "metadata": {
  "kernelspec": {
   "display_name": "Python 3",
   "language": "python",
   "name": "python3"
  },
  "language_info": {
   "codemirror_mode": {
    "name": "ipython",
    "version": 3
   },
   "file_extension": ".py",
   "mimetype": "text/x-python",
   "name": "python",
   "nbconvert_exporter": "python",
   "pygments_lexer": "ipython3",
   "version": "3.7.3"
  }
 },
 "nbformat": 4,
 "nbformat_minor": 4
}
