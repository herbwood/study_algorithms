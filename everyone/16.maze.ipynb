{
 "cells": [
  {
   "cell_type": "markdown",
   "metadata": {},
   "source": [
    "미로 찾기 알고리즘\n",
    "============"
   ]
  },
  {
   "cell_type": "markdown",
   "metadata": {},
   "source": [
    "문제 분석과 모델링\n",
    "-----------"
   ]
  },
  {
   "cell_type": "markdown",
   "metadata": {},
   "source": [
    "모델링이란 주어진 현실의 문제를 정형화하거나 단순화하여  \n",
    "수학이나 컴퓨터 프로그램으로 쉽게 설명할 수 있도록 다시 표현하는 것  \n"
   ]
  },
  {
   "cell_type": "markdown",
   "metadata": {},
   "source": [
    "미로를 분해하여 출발점 a에서 시작하여 벽으로 막히지 않은 위치로  \n",
    "차례로 이동하여 도착점 p에 이르는 가장 짧은 경로를 구하고, 그 과정에서  \n",
    "지나간 위치의 이름을 출력해 보세요   \n",
    "**그래프 문제**"
   ]
  },
  {
   "cell_type": "markdown",
   "metadata": {},
   "source": [
    "미로 찾기 알고리즘\n",
    "---------------------------------------"
   ]
  },
  {
   "cell_type": "code",
   "execution_count": 2,
   "metadata": {},
   "outputs": [
    {
     "name": "stdout",
     "output_type": "stream",
     "text": [
      "aeimnjfghlp\n"
     ]
    }
   ],
   "source": [
    "# 미로 찾기 프로그램(그래프 탐색)\n",
    "# 입력 : 미로 정보 g, 출발점 start, 도착점 end\n",
    "# 출력 : 미로를 나가기 위한 이동 경로는 문자열, 나갈 수 없는 미로면 물음표(\"?\")\n",
    "\n",
    "def solve_maze(g, start, end):\n",
    "    qu = []  # 기억장소1 : 앞으로 처리해야 할 이동 경로를 큐에 저장\n",
    "    done = set()  # 기억장소2 : 이미 큐에 추가한 꼭짓점들을 집합에 기록(중복 방지)\n",
    "    \n",
    "    qu.append(start)  # 출발점을 큐에 넣고 시작\n",
    "    done.add(start)  # 집합에도 추가\n",
    "    \n",
    "    while qu:  # 큐에 처리할 경로가 남아 있으면\n",
    "        p = qu.pop(0)  # 큐에서 처리 대상을 꺼냄\n",
    "        v = p[-1]  # 큐에 저장된 이동 경로의 마지막 문자가 현재 처리해야 할 꼭짓점\n",
    "        if v == end:  # 처리해야 할 꼭짓점이 도착점이면(목적지 도착)\n",
    "            return p  # 지금까지의 전체 이동 경로를 돌려주고 종료\n",
    "        for x in g[v]:  # 대상 꼭짓점에 연결된 꼭짓점 중에\n",
    "            if x not in done:  # 아직 큐에 추가된 적이 없는 꼭짓점을\n",
    "                qu.append(p + x)  # 이동 경로에 새 꼭짓점으로 추가하여 큐에 저장하고\n",
    "                done.add(x)  # 집합에도 추가\n",
    "                \n",
    "    # 탐색을 마칠 때까지 도착점이 나오지 않으면 나갈 수 없는 미로임\n",
    "    return \"?\"\n",
    "\n",
    "# 미로 정보\n",
    "# 미로의 각 위치에 알파벳으로 이름을 지정\n",
    "# 각 위치에서 한 번에 이동할 수 있는 모든 위치를 선으로 연결하여 그래프로 표현\n",
    "\n",
    "maze = {\n",
    "    'a' : ['e'],\n",
    "    'b' : ['c', 'f'],\n",
    "    'c' : ['b', 'd'],\n",
    "    'd' : ['c'],\n",
    "    'e' : ['a', 'i'],\n",
    "    'f' : ['b', 'g', 'j'],\n",
    "    'g' : ['f', 'h'],\n",
    "    'h' : ['g', 'l'],\n",
    "    'i' : ['e', 'm'],\n",
    "    'j' : ['f', 'k', 'n'],\n",
    "    'k' : ['j', 'o'],\n",
    "    'l' : ['h', 'p'],\n",
    "    'm' : ['i', 'n'],\n",
    "    'n' : ['m', 'j'],\n",
    "    'o' : ['k'],\n",
    "    'p' : ['l']\n",
    "}\n",
    "\n",
    "print(solve_maze(maze, 'a', 'p'))"
   ]
  }
 ],
 "metadata": {
  "kernelspec": {
   "display_name": "Python 3",
   "language": "python",
   "name": "python3"
  },
  "language_info": {
   "codemirror_mode": {
    "name": "ipython",
    "version": 3
   },
   "file_extension": ".py",
   "mimetype": "text/x-python",
   "name": "python",
   "nbconvert_exporter": "python",
   "pygments_lexer": "ipython3",
   "version": "3.6.5"
  }
 },
 "nbformat": 4,
 "nbformat_minor": 2
}
