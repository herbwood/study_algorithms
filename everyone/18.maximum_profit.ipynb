{
 "cells": [
  {
   "cell_type": "markdown",
   "metadata": {},
   "source": [
    "최대 수익 알고리즘\n",
    "============"
   ]
  },
  {
   "cell_type": "markdown",
   "metadata": {},
   "source": [
    "최대 수익을 구하는 알고리즘1\n",
    "--------------------"
   ]
  },
  {
   "cell_type": "code",
   "execution_count": 2,
   "metadata": {},
   "outputs": [
    {
     "name": "stdout",
     "output_type": "stream",
     "text": [
      "2400\n"
     ]
    }
   ],
   "source": [
    "def max_profit(prices):\n",
    "    n = len(prices)\n",
    "    max_profit = 0\n",
    "    \n",
    "    for i in range(0, n - 1):\n",
    "        for j in range(i + 1, n):\n",
    "            profit = prices[j] - prices[i]\n",
    "            if profit > max_profit:\n",
    "                max_profit = profit\n",
    "                \n",
    "    return max_profit\n",
    "\n",
    "stock = [10300, 9600, 9800, 8200, 7800, 8300, 9500, 9800, 10200, 9500]\n",
    "print(max_profit(stock))"
   ]
  },
  {
   "cell_type": "markdown",
   "metadata": {},
   "source": [
    "최대 수익을 구하는 알고리즘2\n",
    "-----------------------"
   ]
  },
  {
   "cell_type": "code",
   "execution_count": 8,
   "metadata": {},
   "outputs": [
    {
     "name": "stdout",
     "output_type": "stream",
     "text": [
      "2400\n"
     ]
    }
   ],
   "source": [
    "def max_profit(prices):\n",
    "    n = len(prices)\n",
    "    max_profit = 0\n",
    "    min_price = prices[0]\n",
    "    for i in range(1, n):\n",
    "        profit = prices[i] - min_price\n",
    "        if profit > max_profit:\n",
    "            max_profit = profit\n",
    "        if prices[i] < min_price:\n",
    "            min_price = prices[i]\n",
    "            \n",
    "    return max_profit\n",
    "\n",
    "stock = [10300, 9600, 9800, 8200, 7800, 8300, 9500, 9800, 10200, 9500]\n",
    "print(max_profit(stock))"
   ]
  },
  {
   "cell_type": "markdown",
   "metadata": {},
   "source": [
    "최대 수익을 구하는 두 알고리즘의 계산 속도 비교하기\n",
    "---------------------------------"
   ]
  },
  {
   "cell_type": "code",
   "execution_count": 12,
   "metadata": {},
   "outputs": [
    {
     "name": "stdout",
     "output_type": "stream",
     "text": [
      "100 14623 14623\n",
      "100 0.00193 0.00000 0.00\n",
      "10000 14999 14999\n",
      "10000 10.71842 0.00000 0.00\n"
     ]
    }
   ],
   "source": [
    "import time\n",
    "import random\n",
    "\n",
    "def max_profit_slow(prices):\n",
    "    n = len(prices)\n",
    "    max_profit = 0\n",
    "    \n",
    "    for i in range(0, n - 1):\n",
    "        for j in range(i + 1, n):\n",
    "            profit = prices[j] - prices[i]\n",
    "            if profit > max_profit:\n",
    "                max_profit = profit\n",
    "                \n",
    "    return max_profit\n",
    "\n",
    "def max_profit_fast(prices):\n",
    "    n = len(prices)\n",
    "    max_profit = 0\n",
    "    min_price = prices[0]\n",
    "    for i in range(1, n):\n",
    "        profit = prices[i] - min_price\n",
    "        if profit > max_profit:\n",
    "            max_profit = profit\n",
    "        if prices[i] < min_price:\n",
    "            min_price = prices[i]\n",
    "            \n",
    "    return max_profit\n",
    "\n",
    "\n",
    "def test(n):\n",
    "    a = []\n",
    "    for i in range(0, n):\n",
    "        a.append(random.randint(5000, 20000))\n",
    "        \n",
    "    start = time.time()\n",
    "    mps = max_profit_slow(a)\n",
    "    end = time.time()\n",
    "    time_slow = end - start\n",
    "    \n",
    "    start = time.time()\n",
    "    mpf = max_profit_fast(a)\n",
    "    end = time.time()\n",
    "    time_fast = end - start\n",
    "    \n",
    "    print(n, mps, mpf)\n",
    "    \n",
    "    m = 0\n",
    "    if time_fast > 0:\n",
    "        m = time_slow / time_fast\n",
    "        \n",
    "    print(\"%d %.5f %.5f %.2f\" % (n, time_slow, time_fast, m))\n",
    "    \n",
    "test(100)\n",
    "test(10000)"
   ]
  }
 ],
 "metadata": {
  "kernelspec": {
   "display_name": "Python 3",
   "language": "python",
   "name": "python3"
  },
  "language_info": {
   "codemirror_mode": {
    "name": "ipython",
    "version": 3
   },
   "file_extension": ".py",
   "mimetype": "text/x-python",
   "name": "python",
   "nbconvert_exporter": "python",
   "pygments_lexer": "ipython3",
   "version": "3.6.5"
  }
 },
 "nbformat": 4,
 "nbformat_minor": 2
}
