{
 "cells": [
  {
   "cell_type": "markdown",
   "metadata": {},
   "source": [
    "동명이인 찾기2(딕셔너리)\n",
    "==============="
   ]
  },
  {
   "cell_type": "markdown",
   "metadata": {},
   "source": [
    "딕셔너리를 이용해 동명이인을 찾는 알고리즘\n",
    "----------------------"
   ]
  },
  {
   "cell_type": "code",
   "execution_count": 1,
   "metadata": {},
   "outputs": [
    {
     "name": "stdout",
     "output_type": "stream",
     "text": [
      "{'Tom'}\n"
     ]
    }
   ],
   "source": [
    "# 두 번 이상 나온 이름 찾기\n",
    "# 입력 : 이름이 n개 들어 있는 리스트\n",
    "# 출력 : n개의 이름 중 반복되는 이름의 집합\n",
    "\n",
    "def find_same_name(a):\n",
    "    name_dict = {}\n",
    "    for name in a:\n",
    "        if name in name_dict:\n",
    "            name_dict[name] += 1\n",
    "        else:\n",
    "            name_dict[name] = 1\n",
    "    result = set()\n",
    "    for name in name_dict:\n",
    "        if name_dict[name] >= 2:\n",
    "            result.add(name)\n",
    "            \n",
    "    return result\n",
    "\n",
    "name = ['Tom', 'Jerry', 'Mike', 'Tom']\n",
    "print(find_same_name(name))"
   ]
  },
  {
   "cell_type": "markdown",
   "metadata": {},
   "source": [
    "문제\n",
    "---"
   ]
  },
  {
   "cell_type": "code",
   "execution_count": 2,
   "metadata": {},
   "outputs": [
    {
     "name": "stdout",
     "output_type": "stream",
     "text": [
      "Summer\n"
     ]
    }
   ],
   "source": [
    "def get_name(s_info, find_no):\n",
    "    if find_no in s_info:\n",
    "        return s_info[find_no]\n",
    "    else:\n",
    "        return '?'\n",
    "    \n",
    "sample_info = {\n",
    "    39 : 'Justin',\n",
    "    14 : 'John',\n",
    "    67 : 'Mike',\n",
    "    105 : 'Summer'\n",
    "}\n",
    "\n",
    "print(get_name(sample_info, 105))"
   ]
  }
 ],
 "metadata": {
  "kernelspec": {
   "display_name": "Python 3",
   "language": "python",
   "name": "python3"
  },
  "language_info": {
   "codemirror_mode": {
    "name": "ipython",
    "version": 3
   },
   "file_extension": ".py",
   "mimetype": "text/x-python",
   "name": "python",
   "nbconvert_exporter": "python",
   "pygments_lexer": "ipython3",
   "version": "3.6.5"
  }
 },
 "nbformat": 4,
 "nbformat_minor": 2
}
