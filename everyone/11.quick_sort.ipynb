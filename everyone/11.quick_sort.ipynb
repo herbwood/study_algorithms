{
 "cells": [
  {
   "cell_type": "markdown",
   "metadata": {},
   "source": [
    "퀵 정렬\n",
    "========="
   ]
  },
  {
   "cell_type": "markdown",
   "metadata": {},
   "source": [
    "쉽게 설명한 퀵 정렬 알고리즘\n",
    "-------------"
   ]
  },
  {
   "cell_type": "code",
   "execution_count": 2,
   "metadata": {},
   "outputs": [
    {
     "name": "stdout",
     "output_type": "stream",
     "text": [
      "[1, 2, 3, 4, 5, 6, 7, 8, 9, 10]\n"
     ]
    }
   ],
   "source": [
    "# 쉽게 설명한 퀵 정렬\n",
    "# 입력 : 리스트 a\n",
    "# 출력 : 정렬된 새 리스트\n",
    "\n",
    "def quick_sort(a):\n",
    "    n = len(a)\n",
    "    # 종료 조건 : 정렬할 리스트의 자료 개수가 한 개 이하이면 정렬할 필요가 없음\n",
    "    if n <= 1:\n",
    "        return a\n",
    "    # 기준  값을 정하고 기준에 맞춰 그룹을 나누는 과정\n",
    "    pivot = a[-1]  # 편의상 리스트의 마지막 값을 기준 값으로 정함\n",
    "    g1 = []  # 그룹 1 : 기준 값보다 작은 값을 담을 리스트\n",
    "    g2 = []  # 그룹 2 : 기준 값보다 큰 값을 담을 리스트\n",
    "    for i in range(0, n - 1):  # 마지막 값은 기준 값이므로 제외\n",
    "        if a[i] < pivot:  # 기준 값과 비교\n",
    "            g1.append(a[i])  # 작으면 g1에 추가\n",
    "        else:\n",
    "            g2.append(a[i])  # 크면 g2에 추가\n",
    "            \n",
    "    # 각 그룹에 대해 재귀 호출로 퀵 정렬을 한 후\n",
    "    # 기준 값과 합쳐 하나의 리스트로 결괏값 반환\n",
    "    return quick_sort(g1) + [pivot] + quick_sort(g2)\n",
    "\n",
    "d = [6, 8, 3, 9, 10, 1, 2, 4, 7, 5]\n",
    "print(quick_sort(d))"
   ]
  },
  {
   "cell_type": "markdown",
   "metadata": {},
   "source": [
    "일반적인 퀵 정렬 알고리즘\n",
    "----------------"
   ]
  },
  {
   "cell_type": "code",
   "execution_count": 4,
   "metadata": {},
   "outputs": [
    {
     "name": "stdout",
     "output_type": "stream",
     "text": [
      "[1, 2, 3, 4, 5, 6, 7, 8, 9, 10]\n"
     ]
    }
   ],
   "source": [
    "# 퀵 정렬\n",
    "# 입력 : 리스트 a\n",
    "# 출력 : 없음(입력으로 주어진 a가 정렬됨)\n",
    "# 리스트 a에서 어디부터(start) 어디(end)까지가 정렬 대상인지\n",
    "# 범위를 지정하여 정렬하는 재귀 호출 함수\n",
    "def quick_sort_sub(a, start, end):\n",
    "    # 종료 조건 : 정렬 대상이 한 개 이하이면 정렬할 필요가 없음\n",
    "    if end - start <= 0:\n",
    "        return\n",
    "    # 기준 값을 정하고 기준 값에 맞춰 리스트 안에서 각 자료의 위치를 맞춤\n",
    "    # [기준 값보다 작은 값들, 기준 값, 기준 값보다 큰 값들]\n",
    "    pivot = a[end]  # 편의상 리스트의 마지막 값을 기준 값으로 정함\n",
    "    i = start\n",
    "    for j in range(start, end):\n",
    "        if a[j] <= pivot:\n",
    "            a[i], a[j] = a[j], a[i]\n",
    "            i += 1\n",
    "    a[i], a[end] = a[end], a[i]\n",
    "    # 재귀 호출 부분\n",
    "    quick_sort_sub(a, start, i - 1)  # 기준 값보다 작은 그룹을 재귀 호출로 다시 정렬\n",
    "    quick_sort_sub(a, i + 1, end)  # 기준 값보다 큰 그룹을 재귀 호출로 다시 정렬\n",
    "    \n",
    "# 리스트 전체(0~len(a) - 1)를 대상으로 재귀 호출 함수 호출\n",
    "def quick_sort(a):\n",
    "    quick_sort_sub(a, 0, len(a) - 1)\n",
    "    \n",
    "d = [6, 8, 3, 9, 10, 1, 2, 4, 7, 5]\n",
    "quick_sort(d)\n",
    "print(d)"
   ]
  },
  {
   "cell_type": "markdown",
   "metadata": {},
   "source": [
    "거품 정렬\n",
    "=========="
   ]
  },
  {
   "cell_type": "code",
   "execution_count": 5,
   "metadata": {},
   "outputs": [
    {
     "name": "stdout",
     "output_type": "stream",
     "text": [
      "[2, 4, 5, 1, 3]\n",
      "[2, 4, 1, 5, 3]\n",
      "[2, 4, 1, 3, 5]\n",
      "[2, 1, 4, 3, 5]\n",
      "[2, 1, 3, 4, 5]\n",
      "[1, 2, 3, 4, 5]\n"
     ]
    }
   ],
   "source": [
    "# 거품 정렬\n",
    "# 입력 : 리스트 a\n",
    "# 출력 : 없음(입력으로 주어진 a가 정렬됨)\n",
    "\n",
    "def bubble_sort(a):\n",
    "    n = len(a)\n",
    "    while True:  # 정렬이 완료될 때까지 계속 수행\n",
    "        changed = False  # 자료를 앞뒤로 바꾸었는지 여부\n",
    "        # 자료를 흝어보면서 뒤집힌 자료가 있으면 바꾸고 바뀌었다고 표시\n",
    "        for i in range(0, n - 1):\n",
    "            if a[i] > a[i + 1]:  # 앞이 뒤보다 크면\n",
    "                print(a)  # 정렬 과정 출력\n",
    "                a[i], a[i + 1] = a[i + 1], a[i] # 두 자료의 위치를 맞바꿈\n",
    "                changed = True  # 자료가 앞뒤로 바뀌었음을 기록\n",
    "        # 자료를 한 번 흝어보는 동안 바뀐 적이 없다면 정렬이 완성된 것이므로 종료\n",
    "        # 바뀐 적이 있다면 다시 앞에서부터 비교 반복\n",
    "        if changed == False:\n",
    "            return \n",
    "        \n",
    "d = [2, 4, 5, 1, 3]\n",
    "bubble_sort(d)\n",
    "print(d)"
   ]
  }
 ],
 "metadata": {
  "kernelspec": {
   "display_name": "Python 3",
   "language": "python",
   "name": "python3"
  },
  "language_info": {
   "codemirror_mode": {
    "name": "ipython",
    "version": 3
   },
   "file_extension": ".py",
   "mimetype": "text/x-python",
   "name": "python",
   "nbconvert_exporter": "python",
   "pygments_lexer": "ipython3",
   "version": "3.6.5"
  }
 },
 "nbformat": 4,
 "nbformat_minor": 2
}
