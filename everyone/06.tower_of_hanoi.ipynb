{
 "cells": [
  {
   "cell_type": "markdown",
   "metadata": {},
   "source": [
    "하노의의 탑 옮기기\n",
    "=========="
   ]
  },
  {
   "cell_type": "markdown",
   "metadata": {},
   "source": [
    "하노이의 탑 알고리즘\n",
    "------------"
   ]
  },
  {
   "cell_type": "markdown",
   "metadata": {},
   "source": [
    "**O(2 square)**"
   ]
  },
  {
   "cell_type": "code",
   "execution_count": 3,
   "metadata": {},
   "outputs": [
    {
     "name": "stdout",
     "output_type": "stream",
     "text": [
      "n = 1\n",
      "1 -> 3\n",
      "n = 2\n",
      "1 -> 2\n",
      "1 -> 3\n",
      "2 -> 3\n",
      "n = 3\n",
      "1 -> 3\n",
      "1 -> 2\n",
      "3 -> 2\n",
      "1 -> 3\n",
      "2 -> 1\n",
      "2 -> 3\n",
      "1 -> 3\n"
     ]
    }
   ],
   "source": [
    "# 입력 : 옮기려는 원반의 개수 n \n",
    "#        옮길 원반이 현재 있는 출발점 기둥 from_pos\n",
    "#        원반을 옮길 도착점 기둥 to_pos\n",
    "#        옮기는 과정에서 사용할 보조 기둥 aux_pos\n",
    "# 출력 : 원반을 옮기는 순서\n",
    "\n",
    "def hanoi(n, from_pos, to_pos, aux_pos):\n",
    "    if n == 1:                          # 원반 한 개를 옮기는 문제면 그냥 옮기면 됨\n",
    "        print(from_pos, '->', to_pos)\n",
    "        return \n",
    "    \n",
    "    # 원반 n - 1개를 aux_pos로 이동(to_pos를 보조 기둥으로)\n",
    "    hanoi(n - 1, from_pos, aux_pos, to_pos)\n",
    "    # 가장 큰 원반을 목적지로 이동\n",
    "    print(from_pos, '->', to_pos)\n",
    "    # aux_pos에 있는 원반 n - 1를 목적지로 이동(from_pos를 보조 기둥으로)\n",
    "    hanoi(n - 1, aux_pos, to_pos, from_pos)\n",
    "    \n",
    "print('n = 1')\n",
    "hanoi(1, 1, 3, 2)\n",
    "\n",
    "print('n = 2')\n",
    "hanoi(2, 1, 3, 2)\n",
    "\n",
    "print('n = 3')\n",
    "hanoi(3, 1, 3, 2)"
   ]
  },
  {
   "cell_type": "markdown",
   "metadata": {},
   "source": [
    "문제\n",
    "---"
   ]
  },
  {
   "cell_type": "markdown",
   "metadata": {},
   "source": [
    "사각 나선을 그리는 프로그램\n",
    "------------"
   ]
  },
  {
   "cell_type": "code",
   "execution_count": 4,
   "metadata": {},
   "outputs": [],
   "source": [
    "import turtle as t\n",
    "\n",
    "def spiral(sp_len):\n",
    "    if sp_len <= 5:\n",
    "        return\n",
    "    t.forward(sp_len)\n",
    "    t.right(90)\n",
    "    spiral(sp_len - 5)\n",
    "    \n",
    "t.speed(0)\n",
    "spiral(200)\n",
    "t.hideturtle()\n",
    "t.done()"
   ]
  },
  {
   "cell_type": "markdown",
   "metadata": {},
   "source": [
    "시에르핀스키의 삼각형을 그리는 프로그램\n",
    "-----------"
   ]
  },
  {
   "cell_type": "code",
   "execution_count": 1,
   "metadata": {},
   "outputs": [
    {
     "data": {
      "text/plain": [
       "<function turtle.mainloop()>"
      ]
     },
     "execution_count": 1,
     "metadata": {},
     "output_type": "execute_result"
    }
   ],
   "source": [
    "import turtle as t\n",
    "\n",
    "def tri(tri_len):\n",
    "    if tri_len <= 10:\n",
    "        for i in range(0, 3):\n",
    "            t.forward(tri_len)\n",
    "            t.left(120)\n",
    "        return\n",
    "    new_len = tri_len / 2\n",
    "    tri(new_len)\n",
    "    t.forward(new_len)\n",
    "    tri(new_len)\n",
    "    t.backward(new_len)\n",
    "    t.left(60)\n",
    "    t.forward(new_len)\n",
    "    t.right(60)\n",
    "    tri(new_len)\n",
    "    t.left(60)\n",
    "    t.backward(new_len)\n",
    "    t.right(60)    \n",
    "    \n",
    "t.speed(0)\n",
    "tri(10)\n",
    "t.hideturtle()\n",
    "t.done"
   ]
  },
  {
   "cell_type": "markdown",
   "metadata": {},
   "source": [
    "나무를 그리는 프로그램\n",
    "--------"
   ]
  },
  {
   "cell_type": "code",
   "execution_count": 1,
   "metadata": {},
   "outputs": [],
   "source": [
    "import turtle as t\n",
    "\n",
    "def tree(br_len):\n",
    "    if br_len <= 5:\n",
    "        return\n",
    "    new_len = br_len * 0.7\n",
    "    t.forward(br_len)\n",
    "    t.right(20)\n",
    "    tree(new_len)\n",
    "    t.left(40)\n",
    "    tree(new_len)\n",
    "    t.right(20)\n",
    "    t.backward(br_len)\n",
    "    \n",
    "t.speed(0)\n",
    "t.left(90)\n",
    "tree(70)\n",
    "t.hideturtle()\n",
    "t.done()"
   ]
  },
  {
   "cell_type": "markdown",
   "metadata": {},
   "source": [
    "눈꽃 그리는 프로그램\n",
    "-----------"
   ]
  },
  {
   "cell_type": "code",
   "execution_count": 4,
   "metadata": {},
   "outputs": [],
   "source": [
    "import turtle as t\n",
    "\n",
    "def snow_line(snow_len):\n",
    "    if snow_len <= 10:\n",
    "        t.forward(snow_len)\n",
    "        return\n",
    "    new_len = snow_len / 3\n",
    "    snow_line(new_len)\n",
    "    t.left(60)\n",
    "    snow_line(new_len)\n",
    "    t.right(120)\n",
    "    snow_line(new_len)\n",
    "    t.left(60)\n",
    "    snow_line(new_len)\n",
    "    \n",
    "t.speed(0)\n",
    "snow_line(150)\n",
    "t.right(120)\n",
    "snow_line(150)\n",
    "t.right(120)\n",
    "snow_line(150)\n",
    "t.hideturtle()\n",
    "t.done()"
   ]
  }
 ],
 "metadata": {
  "kernelspec": {
   "display_name": "Python 3",
   "language": "python",
   "name": "python3"
  },
  "language_info": {
   "codemirror_mode": {
    "name": "ipython",
    "version": 3
   },
   "file_extension": ".py",
   "mimetype": "text/x-python",
   "name": "python",
   "nbconvert_exporter": "python",
   "pygments_lexer": "ipython3",
   "version": "3.6.5"
  }
 },
 "nbformat": 4,
 "nbformat_minor": 2
}
