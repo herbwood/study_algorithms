{
 "cells": [
  {
   "cell_type": "markdown",
   "metadata": {},
   "source": [
    "팩토리얼 구하기\n",
    "========"
   ]
  },
  {
   "cell_type": "markdown",
   "metadata": {},
   "source": [
    "팩토리얼 구하는 알고리즘\n",
    "-------------"
   ]
  },
  {
   "cell_type": "markdown",
   "metadata": {},
   "source": [
    "**O(n)**"
   ]
  },
  {
   "cell_type": "code",
   "execution_count": 6,
   "metadata": {},
   "outputs": [
    {
     "name": "stdout",
     "output_type": "stream",
     "text": [
      "1\n",
      "1\n",
      "3628800\n"
     ]
    }
   ],
   "source": [
    "# 반복문을 이용한 팩토리얼 알고리즘\n",
    "def fact(n):\n",
    "    f = 1\n",
    "    for i in range(1, n + 1):\n",
    "        f *= i\n",
    "    return f\n",
    "\n",
    "print(fact(1))\n",
    "print(fact(0))\n",
    "print(fact(10))"
   ]
  },
  {
   "cell_type": "markdown",
   "metadata": {},
   "source": [
    "**재귀 호출 프로그램이 정상적으로 작동하려면 '종료 조건'이 필요하다.**  \n",
    "**즉 특정 조건이 되면 더는 자신을 호출하지 않고 멈추도록 설계되어야만 한다.**  \n",
    "**그렇지 않으면 계속 반복하다가 재귀 에러(RecursionError)가 나 버린다.**  "
   ]
  },
  {
   "cell_type": "markdown",
   "metadata": {},
   "source": [
    "팩토리얼을 구하는 알고리즘2\n",
    "---------"
   ]
  },
  {
   "cell_type": "markdown",
   "metadata": {},
   "source": [
    "**O(n)** (n - 1)번 계산"
   ]
  },
  {
   "cell_type": "code",
   "execution_count": 7,
   "metadata": {},
   "outputs": [
    {
     "name": "stdout",
     "output_type": "stream",
     "text": [
      "1\n",
      "120\n",
      "3628800\n"
     ]
    }
   ],
   "source": [
    "# 재귀 호출을 이용한 팩토리얼 알고리즘\n",
    "def fact(n):\n",
    "    if n <= 1:                        # 종료 조건\n",
    "        return 1\n",
    "    return n * fact(n - 1)            # 더 작은 값으로 자기 자신을 호출\n",
    "\n",
    "print(fact(1))\n",
    "print(fact(5))\n",
    "print(fact(10))"
   ]
  },
  {
   "cell_type": "markdown",
   "metadata": {},
   "source": [
    "문제\n",
    "--------"
   ]
  },
  {
   "cell_type": "code",
   "execution_count": 8,
   "metadata": {},
   "outputs": [
    {
     "name": "stdout",
     "output_type": "stream",
     "text": [
      "15\n"
     ]
    }
   ],
   "source": [
    "def fact_sum(n):\n",
    "    if n <= 1:\n",
    "        return 1\n",
    "    return n + fact_sum(n - 1)\n",
    "\n",
    "print(fact_sum(5))"
   ]
  },
  {
   "cell_type": "code",
   "execution_count": 9,
   "metadata": {},
   "outputs": [
    {
     "name": "stdout",
     "output_type": "stream",
     "text": [
      "92\n"
     ]
    }
   ],
   "source": [
    "def find_max(a, n):\n",
    "    if n == 1:\n",
    "        return a[0]\n",
    "    max_n_1 = find_max(a, n - 1)\n",
    "    if max_n_1 > a[n - 1]:\n",
    "        return max_n_1\n",
    "    else:\n",
    "        return a[n - 1]\n",
    "    \n",
    "v = [17, 92, 18, 33, 58, 7, 33, 42]\n",
    "print(find_max(v, len(v)))"
   ]
  }
 ],
 "metadata": {
  "kernelspec": {
   "display_name": "Python 3",
   "language": "python",
   "name": "python3"
  },
  "language_info": {
   "codemirror_mode": {
    "name": "ipython",
    "version": 3
   },
   "file_extension": ".py",
   "mimetype": "text/x-python",
   "name": "python",
   "nbconvert_exporter": "python",
   "pygments_lexer": "ipython3",
   "version": "3.6.5"
  }
 },
 "nbformat": 4,
 "nbformat_minor": 2
}
