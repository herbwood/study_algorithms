{
 "cells": [
  {
   "cell_type": "markdown",
   "metadata": {},
   "source": [
    "순차 탐색\n",
    "====="
   ]
  },
  {
   "cell_type": "markdown",
   "metadata": {},
   "source": [
    "순차 탐색 알고리즘\n",
    "-------------"
   ]
  },
  {
   "cell_type": "code",
   "execution_count": 1,
   "metadata": {},
   "outputs": [
    {
     "name": "stdout",
     "output_type": "stream",
     "text": [
      "2\n"
     ]
    }
   ],
   "source": [
    "def search_list(a, x):\n",
    "    n = len(a)\n",
    "    for i in range(0, n):\n",
    "        if x == a[i]:\n",
    "            return i\n",
    "        \n",
    "    return -1\n",
    "\n",
    "v = [17, 92, 18, 33, 58, 7, 33, 42, 18]\n",
    "print(search_list(v, 18))"
   ]
  },
  {
   "cell_type": "markdown",
   "metadata": {},
   "source": [
    "문제\n",
    "---"
   ]
  },
  {
   "cell_type": "code",
   "execution_count": 2,
   "metadata": {},
   "outputs": [
    {
     "name": "stdout",
     "output_type": "stream",
     "text": [
      "[2, 8]\n"
     ]
    }
   ],
   "source": [
    "def search_list(a, x):\n",
    "    blist = []\n",
    "    n = len(a)\n",
    "    for i in range(0, n):\n",
    "        if x == a[i]:\n",
    "            blist.append(i)\n",
    "            \n",
    "    return blist\n",
    "\n",
    "v = [17, 92, 18, 33, 58, 7, 33, 42, 18]\n",
    "print(search_list(v, 18))"
   ]
  },
  {
   "cell_type": "code",
   "execution_count": 5,
   "metadata": {},
   "outputs": [
    {
     "name": "stdout",
     "output_type": "stream",
     "text": [
      "?\n",
      "Justin\n"
     ]
    }
   ],
   "source": [
    "def find_stu_name(a, v1, v2):\n",
    "    n = len(v1)\n",
    "    for i in range(n):\n",
    "        if a == v1[i]:\n",
    "            return v2[i]\n",
    "    return '?'\n",
    "\n",
    "stu_no = [39, 14, 67, 105]\n",
    "stu_name = ['Justin', 'John', 'Mike', 'Summer']\n",
    "print(find_stu_name(1, stu_no, stu_name))   \n",
    "print(find_stu_name(39, stu_no, stu_name))"
   ]
  }
 ],
 "metadata": {
  "kernelspec": {
   "display_name": "Python 3",
   "language": "python",
   "name": "python3"
  },
  "language_info": {
   "codemirror_mode": {
    "name": "ipython",
    "version": 3
   },
   "file_extension": ".py",
   "mimetype": "text/x-python",
   "name": "python",
   "nbconvert_exporter": "python",
   "pygments_lexer": "ipython3",
   "version": "3.6.5"
  }
 },
 "nbformat": 4,
 "nbformat_minor": 2
}
